{
 "cells": [
  {
   "cell_type": "markdown",
   "metadata": {
    "id": "_TigCAhQJGC2"
   },
   "source": [
    "#**AI voice phishing prevention system using STT API for the elderly and the weak**\n",
    "######Edit data : 2021-09-18\n",
    "######*2021 Probono Project*"
   ]
  },
  {
   "cell_type": "markdown",
   "metadata": {
    "id": "TkF30sehZqWE"
   },
   "source": [
    "### 할 것\n",
    "1. 필요없는 코드들 전부 주석처리 하거나 삭제 \n",
    "2. Git에 Upload \n",
    "3. 머신러닝 엔진 (에포크, 페이션스 등 성능 가장 좋은 모델 찾기) \n",
    "4. train, val 데이터 비슷하게 나눠지는 코드 찾아서 넣기"
   ]
  },
  {
   "cell_type": "markdown",
   "metadata": {
    "id": "1sNZcvL-JUm1"
   },
   "source": [
    "#**0. Requirement (import)**"
   ]
  },
  {
   "cell_type": "code",
   "execution_count": 1,
   "metadata": {
    "colab": {
     "base_uri": "https://localhost:8080/"
    },
    "id": "RdKZdIhlI_Pn",
    "outputId": "ef24e1ac-8a13-43f0-d1e8-9609ce18009d"
   },
   "outputs": [
    {
     "name": "stderr",
     "output_type": "stream",
     "text": [
      "[nltk_data] Downloading package punkt to\n",
      "[nltk_data]     C:\\Users\\Bell\\AppData\\Roaming\\nltk_data...\n",
      "[nltk_data]   Package punkt is already up-to-date!\n"
     ]
    },
    {
     "data": {
      "text/plain": [
       "True"
      ]
     },
     "execution_count": 1,
     "metadata": {},
     "output_type": "execute_result"
    }
   ],
   "source": [
    "# !apt-get update\n",
    "# !apt-get install g++ openjdk-8-jdk python-dev python3-dev\n",
    "# !pip3 install JPype1-py3\n",
    "# !pip3 install konlpy\n",
    "# !JAVA_HOME=\"C:\\Program Files\\Java\\jdk-16.0.1\"\n",
    "import import_ipynb\n",
    "from STTpreprocessing import *\n",
    "from konlpy.tag import Okt\n",
    "okt = Okt()\n",
    "\n",
    "import numpy as np\n",
    "import pandas as pd\n",
    "from tensorflow import keras\n",
    "from tensorflow.keras.preprocessing.text import Tokenizer\n",
    "from tensorflow.keras.utils import to_categorical\n",
    "from tensorflow.keras.preprocessing.sequence import pad_sequences\n",
    "from random import *\n",
    "from sklearn.datasets import load_digits\n",
    "import nltk\n",
    "from tqdm.notebook import tqdm            # show progress-bar\n",
    "nltk.download('punkt')"
   ]
  },
  {
   "cell_type": "markdown",
   "metadata": {
    "id": "ef-47y-WJWkV"
   },
   "source": [
    "#**1. KOR_EDA.py 모듈, yes,not 증량**"
   ]
  },
  {
   "cell_type": "code",
   "execution_count": 4,
   "metadata": {
    "id": "TkhziWdTJbXv"
   },
   "outputs": [],
   "source": [
    "import sys\n",
    "sys.path.append('C:/Users/Bell/2021-Probono-Project-main/KOREDA_SPAM.ipynb')\n",
    "sys.path.append('C:/Users/Bell/2021-Probono-Project-main/KOREDA_normal.ipynb')"
   ]
  },
  {
   "cell_type": "code",
   "execution_count": 5,
   "metadata": {
    "id": "zhDEIe0FJfYs",
    "scrolled": true
   },
   "outputs": [
    {
     "name": "stdout",
     "output_type": "stream",
     "text": [
      "importing Jupyter notebook from KOREDA_SPAM.ipynb\n",
      "importing Jupyter notebook from KOREDA_normal.ipynb\n"
     ]
    }
   ],
   "source": [
    "import KOREDA_SPAM as KEDA_1\n",
    "import KOREDA_normal as KEDA_0"
   ]
  },
  {
   "cell_type": "code",
   "execution_count": 9,
   "metadata": {},
   "outputs": [],
   "source": [
    "path=\"C:/Users/Bell/KOREN/vpdataset_scam.csv\""
   ]
  },
  {
   "cell_type": "code",
   "execution_count": 70,
   "metadata": {
    "id": "8ty3MuRlJhER"
   },
   "outputs": [],
   "source": [
    "def spamdata_EDA(path):\n",
    "    yesvpDataSet = pd.read_csv(\"C:/Users/Bell/KOREN/vpdataset_scam.csv\" ,encoding='cp949')\n",
    "    yesvpTextData = yesvpDataSet['content'].to_numpy()\n",
    "    yesvpTargetData = yesvpDataSet['label'].to_numpy()\n",
    "    yesDataBody=[]\n",
    "    print(\"data set count : \",end='')\n",
    "    for sample in yesvpTextData:\n",
    "        for n in KEDA_1.KOR_EDA(sample):\n",
    "            yesDataBody.append(n)\n",
    "    yesvpTargetData_new = np.ones(len(yesDataBody))\n",
    "    #yesvpTargetData_new = np.yesvpTargetData_new([:], dtype='i')\n",
    "    print(len(yesDataBody))\n",
    "    print(yesDataBody[0:2])\n",
    "    print(type(yesDataBody))\n",
    "    return yesDataBody, yesvpTargetData_new"
   ]
  },
  {
   "cell_type": "code",
   "execution_count": 57,
   "metadata": {},
   "outputs": [
    {
     "name": "stdout",
     "output_type": "stream",
     "text": [
      "data set count : "
     ]
    }
   ],
   "source": [
    "yesvpDataSet = pd.read_csv(\"C:/Users/Bell/KOREN/vpdataset_scam.csv\" ,encoding='cp949')\n",
    "yesvpTextData = yesvpDataSet['content'].to_numpy()\n",
    "yesvpTargetData = yesvpDataSet['label'].to_numpy()\n",
    "yesDataBody=[]\n",
    "print(\"data set count : \",end='')\n",
    "for sample in yesvpTextData:\n",
    "    for n in KEDA_1.KOR_EDA(sample):\n",
    "        yesDataBody.append(n)"
   ]
  },
  {
   "cell_type": "code",
   "execution_count": 58,
   "metadata": {},
   "outputs": [],
   "source": [
    "yesvpTargetData_new = np.ones(len(yesDataBody))"
   ]
  },
  {
   "cell_type": "code",
   "execution_count": 65,
   "metadata": {},
   "outputs": [
    {
     "data": {
      "text/plain": [
       "array([1., 1., 1., ..., 1., 1., 1.])"
      ]
     },
     "execution_count": 65,
     "metadata": {},
     "output_type": "execute_result"
    }
   ],
   "source": [
    "yesvpTargetData_new"
   ]
  },
  {
   "cell_type": "code",
   "execution_count": 62,
   "metadata": {},
   "outputs": [
    {
     "ename": "SyntaxError",
     "evalue": "invalid syntax (4236660891.py, line 1)",
     "output_type": "error",
     "traceback": [
      "\u001b[1;36m  Input \u001b[1;32mIn [62]\u001b[1;36m\u001b[0m\n\u001b[1;33m    yesvpTargetData_new = np.yesvpTargetData_new([:], dtype='i8')\u001b[0m\n\u001b[1;37m                                                  ^\u001b[0m\n\u001b[1;31mSyntaxError\u001b[0m\u001b[1;31m:\u001b[0m invalid syntax\n"
     ]
    }
   ],
   "source": [
    "yesvpTargetData_new = np.yesvpTargetData_new([:], dtype='i8')"
   ]
  },
  {
   "cell_type": "code",
   "execution_count": 71,
   "metadata": {},
   "outputs": [
    {
     "name": "stdout",
     "output_type": "stream",
     "text": [
      "data set count : 4935\n",
      "['제가 문자 오면 이유가 안열어보거든요 진술을 그럼 스팸메일 이런거 클릭해보신적 없으세요? 네 그거는 거의 안열어보거든요 웬만한거는 저희가 지금 전화를 드린 이상한건 김영민이가 지금 불법 도박사이트를 필리핀에서 운영하던 했어요 네 구매했다고 진술한 그걸 보면 전국의 약 이백오십여명한테 통장을 이놈이 아 놈이에요 구매했다고 네 어이가 없네요 지금 웃을 상황은 아니시고요', '제가 문자 오면 이상한건 안열어보거든요 아 그럼 스팸메일 이런거 클릭해보신적 없으세요? 네 그거는 거의 안열어보거든요 웬만한거는 저희가 지금 전화를 드린 이유가 김영민이가 지금 불법 도박사이트를 필리핀에서 운영하던 놈이에요 네 이놈이 진술한 그걸 보면 전국의 약 이백오십여명한테 통장을 구매했다고 진술을 했어요 구매했다고 네 어이가 없네요 지금 웃을 상황은 아니시고요']\n",
      "<class 'list'>\n"
     ]
    }
   ],
   "source": [
    "text, target = spamdata_EDA(\"C:/Users/Bell/KOREN/vpdataset_scam.csv\")"
   ]
  },
  {
   "cell_type": "code",
   "execution_count": 72,
   "metadata": {},
   "outputs": [
    {
     "name": "stdout",
     "output_type": "stream",
     "text": [
      "4935\n"
     ]
    }
   ],
   "source": [
    "print(len(target))"
   ]
  },
  {
   "cell_type": "code",
   "execution_count": 73,
   "metadata": {},
   "outputs": [
    {
     "data": {
      "text/plain": [
       "array([1., 1., 1., ..., 1., 1., 1.])"
      ]
     },
     "execution_count": 73,
     "metadata": {},
     "output_type": "execute_result"
    }
   ],
   "source": [
    "target"
   ]
  },
  {
   "cell_type": "code",
   "execution_count": 26,
   "metadata": {
    "colab": {
     "base_uri": "https://localhost:8080/"
    },
    "collapsed": true,
    "id": "UrqWJeTpJpkQ",
    "outputId": "db6a6783-3a0e-4488-8026-e705fb676444"
   },
   "outputs": [
    {
     "name": "stdout",
     "output_type": "stream",
     "text": [
      "data set count : "
     ]
    },
    {
     "ename": "NameError",
     "evalue": "name 'yesvpTextData' is not defined",
     "output_type": "error",
     "traceback": [
      "\u001b[1;31m---------------------------------------------------------------------------\u001b[0m",
      "\u001b[1;31mNameError\u001b[0m                                 Traceback (most recent call last)",
      "Input \u001b[1;32mIn [26]\u001b[0m, in \u001b[0;36m<cell line: 5>\u001b[1;34m()\u001b[0m\n\u001b[0;32m      1\u001b[0m yesDataBody\u001b[38;5;241m=\u001b[39m[]\n\u001b[0;32m      3\u001b[0m \u001b[38;5;28mprint\u001b[39m(\u001b[38;5;124m\"\u001b[39m\u001b[38;5;124mdata set count : \u001b[39m\u001b[38;5;124m\"\u001b[39m,end\u001b[38;5;241m=\u001b[39m\u001b[38;5;124m'\u001b[39m\u001b[38;5;124m'\u001b[39m)\n\u001b[1;32m----> 5\u001b[0m \u001b[38;5;28;01mfor\u001b[39;00m sample \u001b[38;5;129;01min\u001b[39;00m \u001b[43myesvpTextData\u001b[49m:\n\u001b[0;32m      6\u001b[0m     \u001b[38;5;28;01mfor\u001b[39;00m n \u001b[38;5;129;01min\u001b[39;00m KEDA_1\u001b[38;5;241m.\u001b[39mKOR_EDA(sample):\n\u001b[0;32m      7\u001b[0m         yesDataBody\u001b[38;5;241m.\u001b[39mappend(n)\n",
      "\u001b[1;31mNameError\u001b[0m: name 'yesvpTextData' is not defined"
     ]
    }
   ],
   "source": [
    "# yesDataBody=[]\n",
    "# print(\"data set count : \",end='')\n",
    "# for sample in yesvpTextData:\n",
    "#     for n in KEDA_1.KOR_EDA(sample):\n",
    "#         yesDataBody.append(n)\n",
    "# print(len(yesDataBody))\n",
    "# print(yesDataBody[0:2])\n",
    "# #num=705->11280"
   ]
  },
  {
   "cell_type": "code",
   "execution_count": null,
   "metadata": {},
   "outputs": [],
   "source": []
  },
  {
   "cell_type": "code",
   "execution_count": 9,
   "metadata": {
    "colab": {
     "base_uri": "https://localhost:8080/"
    },
    "id": "q1bNxZifJhBh",
    "outputId": "b81273f4-e650-42d3-c27a-2f915daf7cf6"
   },
   "outputs": [],
   "source": [
    "      #not Aug\n",
    "notvpDataSet = pd.read_csv('C:/Users/Bell/KOREN/vpdataset_normal.csv', encoding='cp949')\n",
    "notvpTextData = notvpDataSet['content'].to_numpy()\n",
    "notvpTargetData = notvpDataSet['label'].to_numpy()\n",
    "# #데이터셋개수줄이기\n",
    "# num = 0\n",
    "# notvpTextDataRed = []\n",
    "# for k in range(1112):\n",
    "#   a = ''\n",
    "#   num += 50\n",
    "#   for i in range(num-50, num):\n",
    "#     sentence = notvpTextData[i]\n",
    "#     a = a + sentence\n",
    "#   notvpTextDataRed.append(a)\n",
    "\n",
    "# notvpTextDataRed=np.array(notvpTextDataRed) #list to array (now, body=numpy)\n",
    "# print(len(notvpTextData),\"->\",len(notvpTextDataRed))"
   ]
  },
  {
   "cell_type": "code",
   "execution_count": 10,
   "metadata": {},
   "outputs": [
    {
     "name": "stdout",
     "output_type": "stream",
     "text": [
      "705\n"
     ]
    }
   ],
   "source": [
    "print(len(notvpTextData))"
   ]
  },
  {
   "cell_type": "code",
   "execution_count": 11,
   "metadata": {
    "colab": {
     "base_uri": "https://localhost:8080/"
    },
    "id": "2HhG5gjDJg-4",
    "outputId": "f94e4fa5-f62a-421f-b164-2856ec5421d8"
   },
   "outputs": [
    {
     "name": "stdout",
     "output_type": "stream",
     "text": [
      "data set count : "
     ]
    },
    {
     "data": {
      "application/vnd.jupyter.widget-view+json": {
       "model_id": "6ff1f7128de44b1ba3026531be9bba4b",
       "version_major": 2,
       "version_minor": 0
      },
      "text/plain": [
       "  0%|          | 0/705 [00:00<?, ?it/s]"
      ]
     },
     "metadata": {},
     "output_type": "display_data"
    },
    {
     "name": "stdout",
     "output_type": "stream",
     "text": [
      "4935\n",
      "['네, 이거 확인을 해봤는데 이게 지금 이전에 데이터 자체를 초기화를 시킨 거라서 이 일 년도는 어 네, 확인이 어려우세요. 아 네, 알겠습니다. 네, 감사합니다. 네, 감사합니다.', '네, 이 확인을 해봤는데 이게 지금 이전에 데이터 자체를 초기화를 시킨 거라서 이거 일 년도는 네, 네, 확인이 어려우세요. 아 네, 알겠습니다. 네, 감사합니다. 어 감사합니다.', '네, 이거 확인을 해봤는데 이게 지금 이전에 데이터 자체를 초기화를 시킨 거라서 이 일 년도는 어 네, 확인이 어려우세요. 아 네, 알겠습니다. 네, 감사합니다. 네, 감사합니다.']\n"
     ]
    }
   ],
   "source": [
    "notDataBody=[]\n",
    "\n",
    "print(\"data set count : \",end='')\n",
    "\n",
    "for sample in tqdm(notvpTextData):\n",
    "    for n in KEDA_1.KOR_EDA(sample):\n",
    "        notDataBody.append(n)\n",
    "        \n",
    "print(len(notDataBody))\n",
    "print(notDataBody[0:3])\n",
    "\n",
    "#num=705->11280"
   ]
  },
  {
   "cell_type": "markdown",
   "metadata": {
    "id": "1y52Ddr9RuPt"
   },
   "source": [
    "#**2. yesvp + notvp 데이터셋 만들기**"
   ]
  },
  {
   "cell_type": "code",
   "execution_count": 12,
   "metadata": {
    "id": "LNYFr4B3R9IF"
   },
   "outputs": [],
   "source": [
    "yesvpTextDataNew=yesDataBody\n",
    "notvpTextDataNew=notDataBody"
   ]
  },
  {
   "cell_type": "code",
   "execution_count": 13,
   "metadata": {
    "colab": {
     "base_uri": "https://localhost:8080/"
    },
    "id": "s3ic1mhKJg5k",
    "outputId": "9ba5624e-7611-4a27-be82-1affba8a5061"
   },
   "outputs": [
    {
     "name": "stdout",
     "output_type": "stream",
     "text": [
      "9870\n"
     ]
    }
   ],
   "source": [
    "allTextData=np.append(yesvpTextDataNew,notvpTextDataNew)\n",
    "print(len(allTextData))"
   ]
  },
  {
   "cell_type": "code",
   "execution_count": 14,
   "metadata": {
    "colab": {
     "base_uri": "https://localhost:8080/"
    },
    "id": "GAxLs8oXSRSV",
    "outputId": "c71415af-c10e-44a1-8412-d62c47cadabf",
    "scrolled": true
   },
   "outputs": [
    {
     "name": "stdout",
     "output_type": "stream",
     "text": [
      "['제가 문자 오면 이상한건 안열어보거든요 아 그럼 스팸메일 이런거 클릭해보신적 없으세요? 네 그거는 거의 안열어보거든요 웬만한거는 저희가 지금 전화를 김영민이가 지금 불법 도박사이트를 필리핀에서 운영하던 놈이에요 이놈이 진술한 그걸 보면 전국의 약 통장을 구매했다고 진술을 했어요 구매했다고 네 어이가 없네요 지금 웃을 아니시고요'\n",
      " '통장을 지금 오면 이상한건 안열어보거든요 아 그럼 스팸메일 이런거 클릭해보신적 없으세요? 네 그거는 거의 안열어보거든요 웬만한거는 저희가 문자 전화를 드린 이유가 김영민이가 지금 불법 도박사이트를 필리핀에서 운영하던 놈이에요 네 이놈이 진술한 그걸 보면 전국의 구매했다고 이백오십여명한테 제가 약 네 했어요 구매했다고 진술을 어이가 없네요 지금 웃을 상황은 아니시고요'\n",
      " '제가 문자 오면 이상한건 안열어보거든요 아 그럼 스팸메일 이런거 클릭해보신적 없으세요? 네 그거는 거의 안열어보거든요 웬만한거는 저희가 지금 전화를 드린 이유가 김영민이가 지금 불법 도박사이트를 필리핀에서 운영하던 놈이에요 네 이놈이 진술한 그걸 보면 전국의 약 이백오십여명한테 통장을 구매했다고 진술을 했어요 구매했다고 네 어이가 없네요 지금 웃을 상황은 아니시고요'\n",
      " ...\n",
      " '아 네, 어제까지 이 예, 일단 저희가 네.네, 회원님 환불 원하시는 건가요? 이거 네, 일단 취소를 하고.어제 결제한 거 취소하고 저희가.다시 결제를 해야 되고 왜냐면 이거 교재권을 같이 사야될지 결정도 해야 되고 해가지구.일단 취소를 먼저 부탁드릴게요. 아이디요? 잠시만요.아이디가 뭐지 얘가.아 네, 잠시만요.아 네, 네, 네, 네, 요거 카드 전체 취소 원하시는 거 맞으실까요?네, 다시 구매할 건데. 어 인증을 또 새로 받아야 되는 건 아니죠? 그걸 모르겠어요. 왜냐면 이게 풀릴 수도 있거든요. 에, 수험표 어 인증 다시 받으셔야 될 수도 있거든요. 만약에 그 인.아 지금 해주시는 분이 어떻게 인증을 그냥 그대로 일 놔두실 수는 없는 거죠? 왜냐하면 저희가 인증 끝나면 삭제가 돼요. 그 정보 자체가. 이 저희가 계속 가지고 있는 게 아니기 때문에 그래서. 건 아 그렇죠. 네, 이것도 인증이 너무. 아 만약에 그게 인증하기로 뜨면 구매하기로 그 그대로 뜨면 그냥 결제하시.아 그거는 취소하면은 그냥 구매하시면 돼요. 그 교재 캐시 있는 걸로 그건 상관없어요. 어머니 선택이라서. 작년에 너무 많이 그 사는 거예요.일 년 동안 스무 세 권 구매하면서.그게 아니라 책은 년 그냥 됐다 하더라고 이제.음 그럼 베이직 년 구매하셔도 되죠. 굳이. 그래서 게 그 그 제가. 아이를 사 놓는 게.시스템 달라졌어요 인제 못 쓰셨던 것만 환불을 해드리면 되는 거예요. 까 차감할 게 그 없죠. 한마디로.그렇지 일 아니지. 아 저희가 소멸시킨다고요.소멸시킨다 구요. 아 일단 요것만 취소를 해주시고 그건 인제 제가.진행해드리도록 할 거구요. 저희 사이트 내에서 한 시간 안쪽으로 접수될 그 거예요. 다만 게 이게 당일 결제가 아니라서 카드가. 그 일 카드사는 왜 뭐 어느 일 곳을 가나. 알림 확인하시면 되겠습니다. 네, 감사합니다.'\n",
      " '아 네, 어제까지 이 예, 군 저희가 네.네, 회원님 환불 원하시는 건가요? 이거 네, 군 취소를 하고.어제 결제한 거 취소하고 저희가.다시 결제를 해야 되고 왜냐면 이거 교재권을 같이 사야될지 결정도 해야 되고 해가지구.일단 취소를 먼저 부탁드릴게요. 아이디요? 잠시만요.아이디가 뭐지 얘가.아 네, 잠시만요.아 네, 네, 네, 네, 요거 카드 체 취소 원하시는 거 맞으실까요?네, 다시 구매할 건데. 어 인증을 또 새로 받아야 되는 화 아니죠? 그걸 모르겠어요. 왜냐면 이게 풀릴 수 있거든요. 에, 수험표 인증 다시 받으셔야 될 수 있거든요. 만약에 람 인.아 지금 해주시는 분이 어떻게 인증을 그냥 그대로 놔두실 수는 없는 거죠? 왜냐하면 저희가 인증 끝나면 삭제가 돼요. 람 정보 자체가. 저희가 지 가지고 있는 게 아니기 때문에 그래서. 아 그렇죠. 네, 이것도 인증이 너무. 아 만약에 그게 인증하기로 뜨면 구매하기로 그대로 뜨면 그냥 결제하시.아 그거는 취소하면은 그냥 구매하시면 돼요. 람 교재 캐시 있는 걸로 그건 상관없어요. 니 선택이라서. 작년에 너무 많이 사는 거예요.일 년 안 스무 세 권 구매하면서.그게 아니라 책은 그냥 됐다 하더라고 이제.음 그럼 베이직 구매하셔도 되죠. 굳이. 그래서 람 제가. 아이를 사 놓는 게.시스템 달라졌어요 인제 못 쓰셨던 것만 환불을 해드리면 되는 거예요. 까 차감할 게 없죠. 한마디로.그렇지 아니지. 아 저희가 소멸시킨다고요.소멸시킨다 구요. 아 군 요것만 취소를 해주시고 그건 인제 제가.진행해드리도록 할 거구요. 저희 사이트 내에서 한 성 안쪽으로 접수될 거예요. 다만 이게 당일 결제가 아니라서 카드가. 람 카드사는 왜 뭐 어느 곳을 가나. 알림 확인하시면 되겠습니다. 네, 감사합니다.'\n",
      " ' 아 네, 어제까지 이 예, 일단 저희가 네.네, 회원님 환불 원하시는 건가요?   이거 네, 일단 취소를 하고.어제 결제한 거 취소하고 저희가.다시 결제를 해야 되고 왜냐면 이거 교재권을 같이 사야될지 결정도 해야 되고 해가지구.일단 취소를 먼저 부탁드릴게요.   아이디요?     잠시만요.아이디가 뭐지   얘가.아 네, 잠시만요.아 네, 네, 네, 네, 요거 카드 전체 취소 원하시는 거 맞으실까요?네, 다시 구매할 건데.   어 인증을 또 새로 받아야 되는 건 아니죠?   그걸 모르겠어요.     왜냐면 이게 풀릴 수도 있거든요.     에, 수험표 인증 다시 받으셔야 될 수도 있거든요.   만약에 그 인.아 지금 해주시는 분이 어떻게 인증을 그냥 그대로 놔두실 수는 없는 거죠?   왜냐하면 저희가 인증 끝나면 삭제가 돼요.   그 정보 자체가.  저희가 계속 가지고 있는 게 아니기 때문에 그래서.   아 그렇죠.   네, 이것도 인증이 너무.  아 만약에 그게 인증하기로 뜨면 구매하기로 그대로 뜨면 그냥 결제하시.아 그거는 취소하면은 그냥 구매하시면 돼요.   그 교재 캐시 있는 걸로 그건 상관없어요.   어머니 선택이라서.   작년에 너무 많이 사는 거예요.일 년 동안 스무 세 권 구매하면서.그게 아니라 책은 그냥 됐다 하더라고   이제.음 그럼 베이직 구매하셔도 되죠.   굳이.  그래서 그 제가.  아이를 사 놓는 게.시스템 달라졌어요   인제 못 쓰셨던 것만 환불을 해드리면 되는 거예요.   까 차감할 게 없죠.   한마디로.그렇지 아니지.   아 저희가 소멸시킨다고요.소멸시킨다   구요.  아 일단 요것만 취소를 해주시고 그건 인제 제가.진행해드리도록 할 거구요.   저희 사이트 내에서 한 시간 안쪽으로 접수될 거예요.     다만 이게 당일 결제가 아니라서 카드가.  그 카드사는 왜 뭐 어느 곳을 가나.     알림   확인하시면 되겠습니다.   네, 감사합니다.  ']\n"
     ]
    }
   ],
   "source": [
    "print(allTextData[:])"
   ]
  },
  {
   "cell_type": "markdown",
   "metadata": {
    "id": "BHFR4BN6kIY1"
   },
   "source": [
    "#**3. (ALL) Target Data**"
   ]
  },
  {
   "cell_type": "code",
   "execution_count": 15,
   "metadata": {
    "colab": {
     "base_uri": "https://localhost:8080/"
    },
    "id": "h8sTmJuakVMN",
    "outputId": "d9d3205b-6db7-43e2-f0bd-1386b2ba298a"
   },
   "outputs": [
    {
     "name": "stdout",
     "output_type": "stream",
     "text": [
      "705\n",
      "4935\n",
      "705\n"
     ]
    }
   ],
   "source": [
    "print(len(yesvpTextData))\n",
    "print(len(yesvpTextDataNew))\n",
    "print(len(yesvpTargetData))\n",
    "#필요없는 부분 삭제요망 "
   ]
  },
  {
   "cell_type": "code",
   "execution_count": 16,
   "metadata": {
    "colab": {
     "base_uri": "https://localhost:8080/"
    },
    "id": "nkBhWc7amRKB",
    "outputId": "d42d9cf7-f614-45cb-d7bc-f6de7ab2206e"
   },
   "outputs": [
    {
     "name": "stdout",
     "output_type": "stream",
     "text": [
      "705\n",
      "<class 'numpy.ndarray'>\n",
      "['scam' 'scam' 'scam' 'scam' 'scam' 'scam' 'scam' 'scam' 'scam' 'scam'\n",
      " 'scam' 'scam' 'scam' 'scam' 'scam' 'scam' 'scam' 'scam' 'scam' 'scam'\n",
      " 'scam' 'scam' 'scam' 'scam' 'scam' 'scam' 'scam' 'scam' 'scam' 'scam'\n",
      " 'scam' 'scam' 'scam' 'scam' 'scam' 'scam' 'scam' 'scam' 'scam' 'scam'\n",
      " 'scam' 'scam' 'scam' 'scam' 'scam' 'scam' 'scam' 'scam' 'scam' 'scam'\n",
      " 'scam' 'scam' 'scam' 'scam' 'scam' 'scam' 'scam' 'scam' 'scam' 'scam'\n",
      " 'scam' 'scam' 'scam' 'scam' 'scam' 'scam' 'scam' 'scam' 'scam' 'scam'\n",
      " 'scam' 'scam' 'scam' 'scam' 'scam' 'scam' 'scam' 'scam' 'scam' 'scam'\n",
      " 'scam' 'scam' 'scam' 'scam' 'scam' 'scam' 'scam' 'scam' 'scam' 'scam'\n",
      " 'scam' 'scam' 'scam' 'scam' 'scam' 'scam' 'scam' 'scam' 'scam' 'scam'\n",
      " 'scam' 'scam' 'scam' 'scam' 'scam' 'scam' 'scam' 'scam' 'scam' 'scam'\n",
      " 'scam' 'scam' 'scam' 'scam' 'scam' 'scam' 'scam' 'scam' 'scam' 'scam'\n",
      " 'scam' 'scam' 'scam' 'scam' 'scam' 'scam' 'scam' 'scam' 'scam' 'scam'\n",
      " 'scam' 'scam' 'scam' 'scam' 'scam' 'scam' 'scam' 'scam' 'scam' 'scam'\n",
      " 'scam' 'scam' 'scam' 'scam' 'scam' 'scam' 'scam' 'scam' 'scam' 'scam'\n",
      " 'scam' 'scam' 'scam' 'scam' 'scam' 'scam' 'scam' 'scam' 'scam' 'scam'\n",
      " 'scam' 'scam' 'scam' 'scam' 'scam' 'scam' 'scam' 'scam' 'scam' 'scam'\n",
      " 'scam' 'scam' 'scam' 'scam' 'scam' 'scam' 'scam' 'scam' 'scam' 'scam'\n",
      " 'scam' 'scam' 'scam' 'scam' 'scam' 'scam' 'scam' 'scam' 'scam' 'scam'\n",
      " 'scam' 'scam' 'scam' 'scam' 'scam' 'scam' 'scam' 'scam' 'scam' 'scam'\n",
      " 'scam' 'scam' 'scam' 'scam' 'scam' 'scam' 'scam' 'scam' 'scam' 'scam'\n",
      " 'scam' 'scam' 'scam' 'scam' 'scam' 'scam' 'scam' 'scam' 'scam' 'scam'\n",
      " 'scam' 'scam' 'scam' 'scam' 'scam' 'scam' 'scam' 'scam' 'scam' 'scam'\n",
      " 'scam' 'scam' 'scam' 'scam' 'scam' 'scam' 'scam' 'scam' 'scam' 'scam'\n",
      " 'scam' 'scam' 'scam' 'scam' 'scam' 'scam' 'scam' 'scam' 'scam' 'scam'\n",
      " 'scam' 'scam' 'scam' 'scam' 'scam' 'scam' 'scam' 'scam' 'scam' 'scam'\n",
      " 'scam' 'scam' 'scam' 'scam' 'scam' 'scam' 'scam' 'scam' 'scam' 'scam'\n",
      " 'scam' 'scam' 'scam' 'scam' 'scam' 'scam' 'scam' 'scam' 'scam' 'scam'\n",
      " 'scam' 'scam' 'scam' 'scam' 'scam' 'scam' 'scam' 'scam' 'scam' 'scam'\n",
      " 'scam' 'scam' 'scam' 'scam' 'scam' 'scam' 'scam' 'scam' 'scam' 'scam'\n",
      " 'scam' 'scam' 'scam' 'scam' 'scam' 'scam' 'scam' 'scam' 'scam' 'scam'\n",
      " 'scam' 'scam' 'scam' 'scam' 'scam' 'scam' 'scam' 'scam' 'scam' 'scam'\n",
      " 'scam' 'scam' 'scam' 'scam' 'scam' 'scam' 'scam' 'scam' 'scam' 'scam'\n",
      " 'scam' 'scam' 'scam' 'scam' 'scam' 'scam' 'scam' 'scam' 'scam' 'scam'\n",
      " 'scam' 'scam' 'scam' 'scam' 'scam' 'scam' 'scam' 'scam' 'scam' 'scam'\n",
      " 'scam' 'scam' 'scam' 'scam' 'scam' 'scam' 'scam' 'scam' 'scam' 'scam'\n",
      " 'scam' 'scam' 'scam' 'scam' 'scam' 'scam' 'scam' 'scam' 'scam' 'scam'\n",
      " 'scam' 'scam' 'scam' 'scam' 'scam' 'scam' 'scam' 'scam' 'scam' 'scam'\n",
      " 'scam' 'scam' 'scam' 'scam' 'scam' 'scam' 'scam' 'scam' 'scam' 'scam'\n",
      " 'scam' 'scam' 'scam' 'scam' 'scam' 'scam' 'scam' 'scam' 'scam' 'scam'\n",
      " 'scam' 'scam' 'scam' 'scam' 'scam' 'scam' 'scam' 'scam' 'scam' 'scam'\n",
      " 'scam' 'scam' 'scam' 'scam' 'scam' 'scam' 'scam' 'scam' 'scam' 'scam'\n",
      " 'scam' 'scam' 'scam' 'scam' 'scam' 'scam' 'scam' 'scam' 'scam' 'scam'\n",
      " 'scam' 'scam' 'scam' 'scam' 'scam' 'scam' 'scam' 'scam' 'scam' 'scam'\n",
      " 'scam' 'scam' 'scam' 'scam' 'scam' 'scam' 'scam' 'scam' 'scam' 'scam'\n",
      " 'scam' 'scam' 'scam' 'scam' 'scam' 'scam' 'scam' 'scam' 'scam' 'scam'\n",
      " 'scam' 'scam' 'scam' 'scam' 'scam' 'scam' 'scam' 'scam' 'scam' 'scam'\n",
      " 'scam' 'scam' 'scam' 'scam' 'scam' 'scam' 'scam' 'scam' 'scam' 'scam'\n",
      " 'scam' 'scam' 'scam' 'scam' 'scam' 'scam' 'scam' 'scam' 'scam' 'scam'\n",
      " 'scam' 'scam' 'scam' 'scam' 'scam' 'scam' 'scam' 'scam' 'scam' 'scam'\n",
      " 'scam' 'scam' 'scam' 'scam' 'scam' 'scam' 'scam' 'scam' 'scam' 'scam'\n",
      " 'scam' 'scam' 'scam' 'scam' 'scam' 'scam' 'scam' 'scam' 'scam' 'scam'\n",
      " 'scam' 'scam' 'scam' 'scam' 'scam' 'scam' 'scam' 'scam' 'scam' 'scam'\n",
      " 'scam' 'scam' 'scam' 'scam' 'scam' 'scam' 'scam' 'scam' 'scam' 'scam'\n",
      " 'scam' 'scam' 'scam' 'scam' 'scam' 'scam' 'scam' 'scam' 'scam' 'scam'\n",
      " 'scam' 'scam' 'scam' 'scam' 'scam' 'scam' 'scam' 'scam' 'scam' 'scam'\n",
      " 'scam' 'scam' 'scam' 'scam' 'scam' 'scam' 'scam' 'scam' 'scam' 'scam'\n",
      " 'scam' 'scam' 'scam' 'scam' 'scam' 'scam' 'scam' 'scam' 'scam' 'scam'\n",
      " 'scam' 'scam' 'scam' 'scam' 'scam' 'scam' 'scam' 'scam' 'scam' 'scam'\n",
      " 'scam' 'scam' 'scam' 'scam' 'scam' 'scam' 'scam' 'scam' 'scam' 'scam'\n",
      " 'scam' 'scam' 'scam' 'scam' 'scam' 'scam' 'scam' 'scam' 'scam' 'scam'\n",
      " 'scam' 'scam' 'scam' 'scam' 'scam' 'scam' 'scam' 'scam' 'scam' 'scam'\n",
      " 'scam' 'scam' 'scam' 'scam' 'scam' 'scam' 'scam' 'scam' 'scam' 'scam'\n",
      " 'scam' 'scam' 'scam' 'scam' 'scam' 'scam' 'scam' 'scam' 'scam' 'scam'\n",
      " 'scam' 'scam' 'scam' 'scam' 'scam' 'scam' 'scam' 'scam' 'scam' 'scam'\n",
      " 'scam' 'scam' 'scam' 'scam' 'scam' 'scam' 'scam' 'scam' 'scam' 'scam'\n",
      " 'scam' 'scam' 'scam' 'scam' 'scam' 'scam' 'scam' 'scam' 'scam' 'scam'\n",
      " 'scam' 'scam' 'scam' 'scam' 'scam' 'scam' 'scam' 'scam' 'scam' 'scam'\n",
      " 'scam' 'scam' 'scam' 'scam' 'scam' 'scam' 'scam' 'scam' 'scam' 'scam'\n",
      " 'scam' 'scam' 'scam' 'scam' 'scam' 'scam' 'scam' 'scam' 'scam' 'scam'\n",
      " 'scam' 'scam' 'scam' 'scam' 'scam']\n",
      "4935\n",
      "<class 'numpy.ndarray'>\n",
      "[1. 1. 1. ... 1. 1. 1.]\n"
     ]
    }
   ],
   "source": [
    "#yes 데이터 라벨값 증량 개발\n",
    "\n",
    "print(len(yesvpTargetData))\n",
    "print(type(yesvpTargetData))\n",
    "print(yesvpTargetData)\n",
    "\n",
    "yesvpTargetDataNew=np.ones(4935)\n",
    "\n",
    "print(len(yesvpTargetDataNew))\n",
    "print(type(yesvpTargetDataNew))\n",
    "print(yesvpTargetDataNew)\n"
   ]
  },
  {
   "cell_type": "code",
   "execution_count": 17,
   "metadata": {
    "colab": {
     "base_uri": "https://localhost:8080/"
    },
    "id": "2g0BDp74kVKa",
    "outputId": "5b78a832-d1b1-4109-99b9-6809b1902615"
   },
   "outputs": [
    {
     "name": "stdout",
     "output_type": "stream",
     "text": [
      "705\n",
      "4935\n"
     ]
    }
   ],
   "source": [
    "print(len(notvpTextData))\n",
    "print(len(notvpTextDataNew))"
   ]
  },
  {
   "cell_type": "code",
   "execution_count": 18,
   "metadata": {
    "colab": {
     "base_uri": "https://localhost:8080/"
    },
    "id": "yflx-e4Gd8HU",
    "outputId": "8b0f32ae-b0f1-4924-e0eb-e251bfcd5ca1"
   },
   "outputs": [
    {
     "name": "stdout",
     "output_type": "stream",
     "text": [
      "[0. 0. 0. ... 0. 0. 0.]\n",
      "4935\n",
      "<class 'numpy.ndarray'>\n"
     ]
    }
   ],
   "source": [
    "#라벨링 이거 이렇게 하는거 맞나? (5번에 있는거)\n",
    "notvpTargetDataNew=np.zeros(4935)\n",
    "print(notvpTargetDataNew)\n",
    "print(len(notvpTargetDataNew))\n",
    "print(type(notvpTargetDataNew))"
   ]
  },
  {
   "cell_type": "code",
   "execution_count": 19,
   "metadata": {
    "colab": {
     "base_uri": "https://localhost:8080/"
    },
    "id": "z0RqrCeJesxb",
    "outputId": "d6602c36-5b60-4202-9b20-5d434d5cfd89"
   },
   "outputs": [
    {
     "name": "stdout",
     "output_type": "stream",
     "text": [
      "9870\n"
     ]
    }
   ],
   "source": [
    "allTargetData=np.append(yesvpTargetDataNew,notvpTargetDataNew) \n",
    "print(len(allTargetData))"
   ]
  },
  {
   "cell_type": "code",
   "execution_count": 20,
   "metadata": {
    "colab": {
     "base_uri": "https://localhost:8080/"
    },
    "id": "j6MG3tqml2dM",
    "outputId": "0f0c449b-633d-4ab1-e8fc-80f0b409fdc7"
   },
   "outputs": [
    {
     "name": "stdout",
     "output_type": "stream",
     "text": [
      "9870\n",
      "9870\n"
     ]
    }
   ],
   "source": [
    "print(len(allTextData))\n",
    "print(len(allTargetData))"
   ]
  },
  {
   "cell_type": "markdown",
   "metadata": {
    "id": "6peReb653MIp"
   },
   "source": [
    "#**4. 전처리(Preprocessing)**"
   ]
  },
  {
   "cell_type": "code",
   "execution_count": 21,
   "metadata": {
    "colab": {
     "base_uri": "https://localhost:8080/"
    },
    "id": "SRrk62keE_UL",
    "outputId": "1a8065a4-b247-42f6-adb0-2d9c11c099ca"
   },
   "outputs": [
    {
     "name": "stdout",
     "output_type": "stream",
     "text": [
      "1000 / 9870 -> 10.005111455917358\n",
      "2000 / 9870 -> 24.148074626922607\n",
      "3000 / 9870 -> 82.74171876907349\n",
      "4000 / 9870 -> 111.97403478622437\n",
      "5000 / 9870 -> 120.59477543830872\n",
      "6000 / 9870 -> 148.31438612937927\n",
      "7000 / 9870 -> 181.50597190856934\n",
      "8000 / 9870 -> 201.38753151893616\n",
      "9000 / 9870 -> 230.39638495445251\n",
      "9870 / 9870 -> 250.43608283996582\n"
     ]
    }
   ],
   "source": [
    "import time\n",
    "start = time.time()\n",
    "\n",
    "#allTextData 토큰화\n",
    "tokenize = []\n",
    "num=0\n",
    "for text in allTextData:\n",
    "    \n",
    "    num+=1\n",
    "    tokenSet = okt.morphs(text)\n",
    "    tokenize.append(tokenSet)\n",
    "    if num%1000==0:\n",
    "        print(num,\"/\",len(allTextData),\"->\",time.time()-start)\n",
    "print(num,\"/\",len(allTextData),\"->\",time.time()-start)"
   ]
  },
  {
   "cell_type": "code",
   "execution_count": 22,
   "metadata": {
    "id": "oYwLVZD538mm"
   },
   "outputs": [],
   "source": [
    "stop_words = pd.read_csv('stopword.csv', encoding='cp949')\n",
    "stop_data = np.array(stop_words['words']).tolist()"
   ]
  },
  {
   "cell_type": "code",
   "execution_count": 23,
   "metadata": {},
   "outputs": [
    {
     "data": {
      "text/plain": [
       "['않다',\n",
       " '되어다',\n",
       " '되다',\n",
       " '하다',\n",
       " '어떻다',\n",
       " '이렇다',\n",
       " '이다',\n",
       " '어제',\n",
       " '매일',\n",
       " '아',\n",
       " '휴',\n",
       " '아이구',\n",
       " '아이쿠',\n",
       " '아이고',\n",
       " '어',\n",
       " '나',\n",
       " '우리',\n",
       " '저희',\n",
       " '따라',\n",
       " '의해',\n",
       " '을',\n",
       " '를',\n",
       " '에',\n",
       " '의',\n",
       " '가',\n",
       " '으로',\n",
       " '로',\n",
       " '에게',\n",
       " '뿐이다',\n",
       " '의거하여',\n",
       " '근거하여',\n",
       " '입각하여',\n",
       " '기준으로',\n",
       " '예하면',\n",
       " '예를 들면',\n",
       " '예를 들자면',\n",
       " '저',\n",
       " '소인',\n",
       " '소생',\n",
       " '저희',\n",
       " '지말고',\n",
       " '하지마',\n",
       " '하지마라',\n",
       " '다른',\n",
       " '물론',\n",
       " '또한',\n",
       " '그리고',\n",
       " '비길수 없다',\n",
       " '해서는 안된다',\n",
       " '뿐만 아니라',\n",
       " '만이 아니다',\n",
       " '만은 아니다',\n",
       " '막론하고',\n",
       " '관계없이',\n",
       " '그치지 않다',\n",
       " '그러나',\n",
       " '그런데',\n",
       " '하지만',\n",
       " '든간에',\n",
       " '논하지 않다',\n",
       " '따지지 않다',\n",
       " '설사',\n",
       " '비록',\n",
       " '더라도',\n",
       " '아니면',\n",
       " '만 못하다',\n",
       " '하는 편이 낫다',\n",
       " '불문하고',\n",
       " '향하여',\n",
       " '향해서',\n",
       " '향하다',\n",
       " '쪽으로',\n",
       " '틈타',\n",
       " '이용하여',\n",
       " '타다',\n",
       " '오르다',\n",
       " '제외하고',\n",
       " '이 외에',\n",
       " '이 밖에',\n",
       " '하여야',\n",
       " '비로소',\n",
       " '한다면 몰라도',\n",
       " '외에도',\n",
       " '이곳',\n",
       " '여기',\n",
       " '부터',\n",
       " '기점으로',\n",
       " '따라서',\n",
       " '할 생각이다',\n",
       " '하려고하다',\n",
       " '이리하여',\n",
       " '그리하여',\n",
       " '그렇게 함으로써',\n",
       " '하지만',\n",
       " '일때',\n",
       " '할때',\n",
       " '앞에서',\n",
       " '중에서',\n",
       " '보는데서',\n",
       " '으로써',\n",
       " '로써',\n",
       " '까지',\n",
       " '해야한다',\n",
       " '일것이다',\n",
       " '반드시',\n",
       " '할줄알다',\n",
       " '할수있다',\n",
       " '할수있어',\n",
       " '임에 틀림없다',\n",
       " '한다면',\n",
       " '등',\n",
       " '등등',\n",
       " '제',\n",
       " '겨우',\n",
       " '단지',\n",
       " '다만',\n",
       " '할뿐',\n",
       " '딩동',\n",
       " '댕그',\n",
       " '대해서',\n",
       " '대하여',\n",
       " '대하면',\n",
       " '훨씬',\n",
       " '얼마나',\n",
       " '얼마만큼',\n",
       " '얼마큼',\n",
       " '남짓',\n",
       " '여',\n",
       " '얼마간',\n",
       " '약간',\n",
       " '다소',\n",
       " '좀',\n",
       " '조금',\n",
       " '다수',\n",
       " '몇',\n",
       " '얼마',\n",
       " '지만',\n",
       " '하물며',\n",
       " '또한',\n",
       " '그러나',\n",
       " '그렇지만',\n",
       " '하지만',\n",
       " '이외에도',\n",
       " '대해 말하자면',\n",
       " '뿐이다',\n",
       " '다음에',\n",
       " '반대로',\n",
       " '반대로 말하자면',\n",
       " '이와 반대로',\n",
       " '바꾸어서 말하면',\n",
       " '바꾸어서 한다면',\n",
       " '만약',\n",
       " '그렇지않으면',\n",
       " '까악',\n",
       " '툭',\n",
       " '딱',\n",
       " '삐걱거리다',\n",
       " '보드득',\n",
       " '비걱거리다',\n",
       " '꽈당',\n",
       " '응당',\n",
       " '해야한다',\n",
       " '에 가서',\n",
       " '각',\n",
       " '각각',\n",
       " '여러분',\n",
       " '각종',\n",
       " '각자',\n",
       " '제각기',\n",
       " '하도록하다',\n",
       " '와',\n",
       " '과',\n",
       " '그러므로',\n",
       " '그래서',\n",
       " '고로',\n",
       " '한 까닭에',\n",
       " '하기 때문에',\n",
       " '거니와',\n",
       " '이지만',\n",
       " '대하여',\n",
       " '관하여',\n",
       " '관한',\n",
       " '과연',\n",
       " '실로',\n",
       " '아니나다를가',\n",
       " '생각한대로',\n",
       " '진짜로',\n",
       " '한적이있다',\n",
       " '하곤하였다',\n",
       " '하',\n",
       " '하하',\n",
       " '허허',\n",
       " '아하',\n",
       " '거바',\n",
       " '와',\n",
       " '오',\n",
       " '왜',\n",
       " '어째서',\n",
       " '무엇때문에',\n",
       " '어찌',\n",
       " '하겠는가',\n",
       " '무슨',\n",
       " '어디',\n",
       " '어느곳',\n",
       " '더군다나',\n",
       " '하물며',\n",
       " '더욱이는',\n",
       " '어느때',\n",
       " '언제',\n",
       " '야',\n",
       " '이봐',\n",
       " '어이',\n",
       " '여보시오',\n",
       " '흐흐',\n",
       " '흥',\n",
       " '휴',\n",
       " '헉헉',\n",
       " '헐떡헐떡',\n",
       " '영차',\n",
       " '여차',\n",
       " '어기여차',\n",
       " '끙끙',\n",
       " '아야',\n",
       " '앗',\n",
       " '아야',\n",
       " '콸콸',\n",
       " '졸졸',\n",
       " '좍좍',\n",
       " '뚝뚝',\n",
       " '주룩주룩',\n",
       " '솨',\n",
       " '우르르',\n",
       " '그래도',\n",
       " '또',\n",
       " '그리고',\n",
       " '바꾸어말하면',\n",
       " '바꾸어말하자면',\n",
       " '혹은',\n",
       " '혹시',\n",
       " '답다',\n",
       " '및',\n",
       " '그에 따르는',\n",
       " '때가 되어',\n",
       " '즉',\n",
       " '지든지',\n",
       " '설령',\n",
       " '가령',\n",
       " '하더라도',\n",
       " '할지라도',\n",
       " '일지라도',\n",
       " '지든지',\n",
       " '몇',\n",
       " '거의',\n",
       " '하마터면',\n",
       " '인젠',\n",
       " '이젠',\n",
       " '된바에야',\n",
       " '된이상',\n",
       " '만큼\\t어찌됏든',\n",
       " '그위에',\n",
       " '게다가',\n",
       " '점에서 보아',\n",
       " '비추어 보아',\n",
       " '고려하면',\n",
       " '하게될것이다',\n",
       " '일것이다',\n",
       " '비교적',\n",
       " '좀',\n",
       " '보다더',\n",
       " '비하면',\n",
       " '시키다',\n",
       " '하게하다',\n",
       " '할만하다',\n",
       " '의해서',\n",
       " '연이서',\n",
       " '이어서',\n",
       " '잇따라',\n",
       " '뒤따라',\n",
       " '뒤이어',\n",
       " '결국',\n",
       " '의지하여',\n",
       " '기대여',\n",
       " '통하여',\n",
       " '자마자',\n",
       " '더욱더',\n",
       " '불구하고',\n",
       " '얼마든지',\n",
       " '마음대로',\n",
       " '주저하지 않고',\n",
       " '곧',\n",
       " '즉시',\n",
       " '바로',\n",
       " '당장',\n",
       " '하자마자',\n",
       " '밖에 안된다',\n",
       " '하면된다',\n",
       " '그래',\n",
       " '그렇지',\n",
       " '요컨대',\n",
       " '다시 말하자면',\n",
       " '바꿔 말하면',\n",
       " '즉',\n",
       " '구체적으로',\n",
       " '말하자면',\n",
       " '시작하여',\n",
       " '시초에',\n",
       " '이상',\n",
       " '허',\n",
       " '헉',\n",
       " '허걱',\n",
       " '바와같이',\n",
       " '해도좋다',\n",
       " '해도된다',\n",
       " '게다가',\n",
       " '더구나',\n",
       " '하물며',\n",
       " '와르르',\n",
       " '팍',\n",
       " '퍽',\n",
       " '펄렁',\n",
       " '동안',\n",
       " '이래',\n",
       " '하고있었다',\n",
       " '이었다',\n",
       " '에서',\n",
       " '로부터',\n",
       " '까지',\n",
       " '예하면',\n",
       " '했어요',\n",
       " '해요',\n",
       " '함께',\n",
       " '같이',\n",
       " '더불어',\n",
       " '마저',\n",
       " '마저도',\n",
       " '양자',\n",
       " '모두',\n",
       " '습니다',\n",
       " '가까스로',\n",
       " '하려고하다',\n",
       " '즈음하여',\n",
       " '다른',\n",
       " '다른 방면으로',\n",
       " '해봐요',\n",
       " '습니까',\n",
       " '했어요',\n",
       " '말할것도 없고',\n",
       " '무릎쓰고',\n",
       " '개의치않고',\n",
       " '하는것만 못하다',\n",
       " '하는것이 낫다',\n",
       " '매',\n",
       " '매번',\n",
       " '들',\n",
       " '모',\n",
       " '어느것',\n",
       " '어느',\n",
       " '로써',\n",
       " '갖고말하자면',\n",
       " '어디',\n",
       " '어느쪽',\n",
       " '어느것',\n",
       " '어느해',\n",
       " '어느 년도',\n",
       " '라 해도',\n",
       " '언젠가',\n",
       " '어떤것',\n",
       " '어느것',\n",
       " '저기',\n",
       " '저쪽',\n",
       " '저것',\n",
       " '그때',\n",
       " '그럼',\n",
       " '그러면',\n",
       " '요만한걸',\n",
       " '그래',\n",
       " '그때',\n",
       " '저것만큼',\n",
       " '그저',\n",
       " '이르기까지',\n",
       " '할 줄 안다',\n",
       " '할 힘이 있다',\n",
       " '너',\n",
       " '너희',\n",
       " '당신',\n",
       " '어찌',\n",
       " '설마',\n",
       " '차라리',\n",
       " '할지언정',\n",
       " '할지라도',\n",
       " '할망정',\n",
       " '할지언정',\n",
       " '구토하다',\n",
       " '게우다',\n",
       " '토하다',\n",
       " '메쓰겁다',\n",
       " '옆사람',\n",
       " '퉤',\n",
       " '쳇',\n",
       " '의거하여',\n",
       " '근거하여',\n",
       " '의해',\n",
       " '따라',\n",
       " '힘입어',\n",
       " '그',\n",
       " '다음',\n",
       " '버금',\n",
       " '두번째로',\n",
       " '기타',\n",
       " '첫번째로',\n",
       " '나머지는',\n",
       " '그중에서',\n",
       " '견지에서',\n",
       " '형식으로 쓰여',\n",
       " '입장에서',\n",
       " '위해서',\n",
       " '단지',\n",
       " '의해되다',\n",
       " '하도록시키다',\n",
       " '뿐만아니라',\n",
       " '반대로',\n",
       " '전후',\n",
       " '전자',\n",
       " '앞의것',\n",
       " '잠시',\n",
       " '잠깐',\n",
       " '하면서',\n",
       " '그렇지만',\n",
       " '다음에',\n",
       " '그러한즉',\n",
       " '그런즉',\n",
       " '남들',\n",
       " '아무거나',\n",
       " '어찌하든지',\n",
       " '같다',\n",
       " '비슷하다',\n",
       " '예컨대',\n",
       " '이럴정도로',\n",
       " '어떻게',\n",
       " '만약',\n",
       " '만일',\n",
       " '위에서 서술한바와같이',\n",
       " '인 듯하다',\n",
       " '하지 않는다면',\n",
       " '만약에',\n",
       " '무엇',\n",
       " '무슨',\n",
       " '어느',\n",
       " '어떤',\n",
       " '아래윗',\n",
       " '조차',\n",
       " '한데',\n",
       " '그럼에도 불구하고',\n",
       " '여전히',\n",
       " '심지어',\n",
       " '까지도',\n",
       " '조차도',\n",
       " '하지 않도록',\n",
       " '않기 위하여',\n",
       " '때',\n",
       " '시각',\n",
       " '무렵',\n",
       " '시간',\n",
       " '동안',\n",
       " '어때',\n",
       " '어떠한',\n",
       " '하여금',\n",
       " '네',\n",
       " '예',\n",
       " '우선',\n",
       " '누구',\n",
       " '누가 알겠는가',\n",
       " '아무도',\n",
       " '줄은모른다',\n",
       " '줄은 몰랏다',\n",
       " '하는 김에',\n",
       " '겸사겸사',\n",
       " '하는바',\n",
       " '그런 까닭에',\n",
       " '한 이유는',\n",
       " '그러니',\n",
       " '그러니까',\n",
       " '때문에',\n",
       " '그',\n",
       " '너희',\n",
       " '그들',\n",
       " '너희들',\n",
       " '타인',\n",
       " '것',\n",
       " '것들',\n",
       " '너',\n",
       " '위하여',\n",
       " '공동으로',\n",
       " '동시에',\n",
       " '하기 위하여',\n",
       " '어찌하여',\n",
       " '무엇때문에',\n",
       " '붕붕',\n",
       " '윙윙',\n",
       " '나',\n",
       " '우리',\n",
       " '엉엉',\n",
       " '휘익',\n",
       " '윙윙',\n",
       " '오호',\n",
       " '아하',\n",
       " '어쨋든',\n",
       " '만 못하다\\t하기보다는',\n",
       " '차라리',\n",
       " '하는 편이 낫다',\n",
       " '흐흐',\n",
       " '놀라다',\n",
       " '상대적으로 말하자면',\n",
       " '마치',\n",
       " '아니라면',\n",
       " '쉿',\n",
       " '그렇지 않으면',\n",
       " '그렇지 않다면',\n",
       " '안 그러면',\n",
       " '아니었다면',\n",
       " '하든지',\n",
       " '아니면',\n",
       " '이라면',\n",
       " '좋아',\n",
       " '알았어',\n",
       " '하는것도',\n",
       " '그만이다',\n",
       " '어쩔수 없다',\n",
       " '하나',\n",
       " '일',\n",
       " '일반적으로',\n",
       " '일단',\n",
       " '한켠으로는',\n",
       " '오자마자',\n",
       " '이렇게되면',\n",
       " '이와같다면',\n",
       " '전부',\n",
       " '한마디',\n",
       " '한항목',\n",
       " '근거로',\n",
       " '하기에',\n",
       " '아울러',\n",
       " '하지 않도록',\n",
       " '않기 위해서',\n",
       " '이르기까지',\n",
       " '이 되다',\n",
       " '로 인하여',\n",
       " '까닭으로',\n",
       " '이유만으로',\n",
       " '이로 인하여',\n",
       " '그래서',\n",
       " '이 때문에',\n",
       " '그러므로',\n",
       " '그런 까닭에',\n",
       " '알 수 있다',\n",
       " '결론을 낼 수 있다',\n",
       " '으로 인하여',\n",
       " '있다',\n",
       " '어떤것',\n",
       " '관계가 있다',\n",
       " '관련이 있다',\n",
       " '연관되다',\n",
       " '어떤것들',\n",
       " '에 대해',\n",
       " '이리하여',\n",
       " '그리하여',\n",
       " '여부',\n",
       " '하기보다는',\n",
       " '하느니',\n",
       " '하면 할수록',\n",
       " '운운',\n",
       " '이러이러하다',\n",
       " '하구나',\n",
       " '하도다',\n",
       " '다시말하면',\n",
       " '다음으로',\n",
       " '에 있다',\n",
       " '에 달려 있다',\n",
       " '우리',\n",
       " '우리들',\n",
       " '오히려',\n",
       " '하기는한데',\n",
       " '어떻게',\n",
       " '어떻해',\n",
       " '어찌됏어',\n",
       " '어때',\n",
       " '어째서',\n",
       " '본대로',\n",
       " '자',\n",
       " '이',\n",
       " '이쪽',\n",
       " '여기',\n",
       " '이것',\n",
       " '이번',\n",
       " '이렇게말하자면',\n",
       " '이런',\n",
       " '이러한',\n",
       " '이와 같은',\n",
       " '요만큼',\n",
       " '요만한 것',\n",
       " '얼마 안 되는 것',\n",
       " '이만큼',\n",
       " '이 정도의',\n",
       " '이렇게 많은 것',\n",
       " '이와 같다',\n",
       " '이때',\n",
       " '이렇구나',\n",
       " '것과 같이',\n",
       " '끼익',\n",
       " '삐걱',\n",
       " '따위',\n",
       " '와 같은 사람들',\n",
       " '부류의 사람들',\n",
       " '왜냐하면',\n",
       " '중의하나',\n",
       " '오직',\n",
       " '오로지',\n",
       " '에 한하다',\n",
       " '하기만 하면',\n",
       " '도착하다',\n",
       " '까지 미치다',\n",
       " '도달하다',\n",
       " '정도에 이르다',\n",
       " '할 지경이다',\n",
       " '결과에 이르다',\n",
       " '관해서는',\n",
       " '여러분',\n",
       " '하고 있다',\n",
       " '한 후',\n",
       " '혼자',\n",
       " '자기',\n",
       " '자기집',\n",
       " '자신',\n",
       " '우에 종합한것과같이',\n",
       " '총적으로 보면',\n",
       " '총적으로 말하면',\n",
       " '총적으로',\n",
       " '대로 하다',\n",
       " '으로서',\n",
       " '참',\n",
       " '그만이다',\n",
       " '할 따름이다',\n",
       " '쿵',\n",
       " '탕탕',\n",
       " '쾅쾅',\n",
       " '둥둥',\n",
       " '봐',\n",
       " '봐라',\n",
       " '아이야',\n",
       " '아니',\n",
       " '와아',\n",
       " '응',\n",
       " '아이',\n",
       " '참나',\n",
       " '년',\n",
       " '월',\n",
       " '일',\n",
       " '령',\n",
       " '영',\n",
       " '일',\n",
       " '이',\n",
       " '삼',\n",
       " '사',\n",
       " '오',\n",
       " '육',\n",
       " '륙',\n",
       " '칠',\n",
       " '팔',\n",
       " '구',\n",
       " '이천육',\n",
       " '이천칠',\n",
       " '이천팔',\n",
       " '이천구',\n",
       " '하나',\n",
       " '둘',\n",
       " '셋',\n",
       " '넷',\n",
       " '다섯',\n",
       " '여섯',\n",
       " '일곱',\n",
       " '여덟',\n",
       " '아홉',\n",
       " '령',\n",
       " '영',\n",
       " '?',\n",
       " '!',\n",
       " '.']"
      ]
     },
     "execution_count": 23,
     "metadata": {},
     "output_type": "execute_result"
    }
   ],
   "source": [
    "stop_data"
   ]
  },
  {
   "cell_type": "code",
   "execution_count": 23,
   "metadata": {},
   "outputs": [],
   "source": [
    "# stopwords = []\n",
    "# f = open('C:/Users/Bell/2021-Probono-Project-main/stopword.txt', 'rt', encoding='UTF8')\n",
    "# lines = f.readlines()\n",
    "# for line in lines:\n",
    "#     line = line.strip()\n",
    "#     stopwords.append(line)\n",
    "# f.close()\n",
    "\n",
    "# print(stopwords)"
   ]
  },
  {
   "cell_type": "code",
   "execution_count": 30,
   "metadata": {
    "colab": {
     "base_uri": "https://localhost:8080/"
    },
    "id": "USpNqSUf3iX7",
    "outputId": "2a1584f0-82f7-460c-f6d6-6ff29dc75ce7"
   },
   "outputs": [
    {
     "data": {
      "application/vnd.jupyter.widget-view+json": {
       "model_id": "39d93454885e488eb9932706b1c2da8c",
       "version_major": 2,
       "version_minor": 0
      },
      "text/plain": [
       "  0%|          | 0/9870 [00:00<?, ?it/s]"
      ]
     },
     "metadata": {},
     "output_type": "display_data"
    }
   ],
   "source": [
    "# 불용어처리\n",
    "stop_result = []\n",
    "stop_body = []\n",
    "for tokenSet in tqdm(tokenize):\n",
    "    for token in tokenSet:\n",
    "        if token not in stop_data:\n",
    "            stop_result.append(token)\n",
    "    stop_body.append(stop_result)\n",
    "    stop_result=[]\n",
    "\n",
    "# #result엔 뭐가 들어있는거지 -> result는 샘플 하나의 불용어 처리한 결과가, body는 그런 result들이 append되서 만들어짐.\n",
    "# print(\"토큰화 한 샘플(tokenize) = \",tokenize[0]) #토큰화 한 샘플\n",
    "# print(\"불용어 처리 된 샘플(body) = \",stop_body[0]) #불용어 처리 된 샘플\n",
    "# print(len(tokenize[0]))\n",
    "# print(len(stop_body[0]))"
   ]
  },
  {
   "cell_type": "code",
   "execution_count": 31,
   "metadata": {
    "scrolled": true
   },
   "outputs": [
    {
     "name": "stdout",
     "output_type": "stream",
     "text": [
      "토큰화 한 샘플(tokenize) =  ['제', '가', '문자', '오면', '이상한건', '안', '열어', '보거든요', '아', '그럼', '스팸메일', '이런거', '클릭', '해보신', '적', '없으세요', '?', '네', '그거', '는', '거의', '안', '열어', '보거든요', '웬만한거는', '저희', '가', '지금', '전화', '를', '김영민', '이', '가', '지금', '불법', '도박', '사이트', '를', '필리핀', '에서', '운영', '하던', '놈', '이에요', '이', '놈', '이', '진술', '한', '그걸', '보면', '전국', '의', '약', '통장', '을', '구매', '했다고', '진술', '을', '했어요', '구매', '했다고', '네', '어이', '가', '없네요', '지금', '웃', '을', '아니시고요']\n",
      "불용어 처리 된 샘플(body) =  ['문자', '오면', '이상한건', '안', '열어', '보거든요', '스팸메일', '이런거', '클릭', '해보신', '적', '없으세요', '그거', '는', '안', '열어', '보거든요', '웬만한거는', '지금', '전화', '김영민', '지금', '불법', '도박', '사이트', '필리핀', '운영', '하던', '놈', '이에요', '놈', '진술', '한', '그걸', '보면', '전국', '약', '통장', '구매', '했다고', '진술', '구매', '했다고', '없네요', '지금', '웃', '아니시고요']\n"
     ]
    },
    {
     "data": {
      "application/vnd.jupyter.widget-view+json": {
       "model_id": "5b86d456a77549fb97e28b594bfa9e92",
       "version_major": 2,
       "version_minor": 0
      },
      "text/plain": [
       "0it [00:00, ?it/s]"
      ]
     },
     "metadata": {},
     "output_type": "display_data"
    },
    {
     "name": "stdout",
     "output_type": "stream",
     "text": [
      "71\n",
      "47\n"
     ]
    }
   ],
   "source": [
    "print(\"토큰화 한 샘플(tokenize) = \",tokenize[0]) #토큰화 한 샘플\n",
    "tqdm(print(\"불용어 처리 된 샘플(body) = \",stop_body[0])) #불용어 처리 된 샘플\n",
    "print(len(tokenize[0]))\n",
    "print(len(stop_body[0]))"
   ]
  },
  {
   "cell_type": "code",
   "execution_count": 32,
   "metadata": {
    "colab": {
     "base_uri": "https://localhost:8080/"
    },
    "id": "PW7MFiCI5HJn",
    "outputId": "6e12befe-214d-4744-d3d3-61350a72288a"
   },
   "outputs": [
    {
     "data": {
      "application/vnd.jupyter.widget-view+json": {
       "model_id": "1961e9c376a74243902495f4afcecf2b",
       "version_major": 2,
       "version_minor": 0
      },
      "text/plain": [
       "0it [00:00, ?it/s]"
      ]
     },
     "metadata": {},
     "output_type": "display_data"
    },
    {
     "name": "stdout",
     "output_type": "stream",
     "text": [
      "{'거': 1, '요': 2, ',': 3, '지금': 4, '는': 5, '이제': 6, '은': 7, '님': 8, '뭐': 9, '본인': 10, '도': 11, '확인': 12, '안': 13, '수': 14, '고객': 15, '게': 16, '한': 17, '말씀': 18, '만': 19, '고': 20, '하고': 21, '해': 22, '쪽': 23, '다': 24, '부분': 25, '서': 26, '예요': 27, '면': 28, '있는': 29, '때문': 30, '적': 31, '께서': 32, '원': 33, '번': 34, '진행': 35, '해서': 36, '분': 37, '통장': 38, '하는': 39, '계좌': 40, '할': 41, '니까': 42, '전화': 43, '되는': 44, '알겠습니다': 45, '은행': 46, '교재': 47, '감사합니다': 48, '죠': 49, '회원': 50, '이렇게': 51, '드릴': 52, '다시': 53, '근데': 54, '연락': 55, '그거': 56, '처리': 57, '내': 58, '선생님': 59, '강좌': 60, '인': 61, '한번': 62, '금융': 63, '전': 64, '하신': 65, '하시는': 66, '대출': 67, '사용': 68, '된': 69, '구매': 70, '시': 71, '대해': 72, '가지': 73, '경우': 74, '사건': 75, '그냥': 76, '건': 77, '한테': 78, '에는': 79, '두': 80, '수강': 81, '지': 82, '번호': 83, '자금': 84, '될': 85, '잘': 86, '같은': 87, '카드': 88, '정도': 89, '하시면': 90, '걸': 91, '입니다': 92, '하실': 93, '중': 94, '음': 95, '더': 96, '그런': 97, '라고': 98, '신청': 99, '있어요': 100, '명의': 101, '금액': 102, '이십': 103, '결제': 104, '권': 105, '거기': 106, '그렇게': 107, '알': 108, '내용': 109, '이용': 110, '조사': 111, '못': 112, '해야': 113, '네네': 114, '아니요': 115, '돼요': 116, '등록': 117, '에요': 118, '보': 119, '이나': 120, '정보': 121, '하면': 122, '피해자': 123, '십': 124, '통화': 125, '건가': 126, '여보세요': 127, '(': 128, '삐': 129, '2': 130, '-)': 131, '겁니다': 132, '주시': 133, '그게': 134, '서류': 135, '따로': 136, '되세요': 137, '오늘': 138, '개': 139, '말': 140, '농협': 141, '사람': 142, '환급': 143, '애': 144, '있는데': 145, '얘기': 146, '데': 147, '돈': 148, '문의': 149, '보시': 150, '러시': 151, '안내': 152, '하시고': 153, '까요': 154, '상환': 155, '수가': 156, '환불': 157, '접수': 158, '점': 159, '인데': 160, '건데': 161, '차': 162, '대': 163, '랑': 164, '개설': 165, '인제': 166, '...': 167, '개인': 168, '고요': 169, '상': 170, '가요': 171, '관련': 172, '이라고': 173, '현재': 174, '직접': 175, '기간': 176, '씨': 177, '그러면은': 178, '됩니다': 179, '앞': 180, '정': 181, '먼저': 182, '없어요': 183, '드릴게요': 184, '방문': 185, '되면': 186, '담당자': 187, '많이': 188, '기다려': 189, '업무': 190, '이랑': 191, '주': 192, '문제': 193, '세': 194, '되고': 195, '직원': 196, '여쭤': 197, '거고': 198, '기': 199, '수도': 200, '받아': 201, '동': 202, 'ooo': 203, '피해': 204, '자체': 205, '성함': 206, '드린': 207, '전혀': 208, '녹취': 209, '이해': 210, '이신': 211, '진술': 212, '입금': 213, '해당': 214, '생각': 215, '부서': 216, '인지': 217, '방법': 218, '담당': 219, '..': 220, '있습니다': 221, '불법': 222, '발급': 223, '되어': 224, '판매': 225, '아니라': 226, '추가': 227, '하지': 228, '강의': 229, '맞습니다': 230, '어머니': 231, '아이디': 232, '상품': 233, '지원': 234, '했는데': 235, '잖아요': 236, '해주시': 237, '너무': 238, '거래': 239, '하세요': 240, '있고': 241, '상태': 242, '납부': 243, '연결': 244, '아까': 245, '이에요': 246, '되는데': 247, '수사': 248, '하셔서': 249, '받고': 250, '상황': 251, '설명': 252, '가입': 253, '라는': 254, '통해': 255, '신용': 256, '하는데': 257, '해주셔야': 258, '계속': 259, '에서는': 260, '들어': 261, '명': 262, '그니까': 263, '없는': 264, '3000': 265, '해주세요': 266, '있으세요': 267, '사항': 268, '단': 269, '날': 270, '검사': 271, '있어서': 272, '기범': 273, '내일': 274, '볼': 275, '그래요': 276, '핸드폰': 277, '위해': 278, '아니고': 279, '거든요': 280, '임': 281, '거구': 282, '조회': 283, '부': 284, '문자': 285, '그렇죠': 286, '취소': 287, ':': 288, '되나요': 289, '되실': 290, '도용': 291, '인터넷': 292, '있으신': 293, '드리는': 294, '이름': 295, '보험': 296, '하게': 297, '아직': 298, '팀': 299, '보내': 300, '발생': 301, '사실': 302, '감독': 303, '구청': 304, '달': 305, '해가지고': 306, '보고': 307, '조': 308, '처음': 309, '메모': 310, '죄송합니다': 311, '아마': 312, '캐시': 313, '주세요': 314, '본': 315, '이라는': 316, '입출금': 317, '자녀': 318, '입증': 319, '측': 320, '같은데': 321, '과목': 322, '하셔야': 323, '전산': 324, '드리겠습니다': 325, '학교': 326, '사관': 327, '주소': 328, '1': 329, '거고요': 330, '있습니까': 331, '사이트': 332, '분들': 333, '후': 334, '받을': 335, '하기': 336, '지급': 337, '3': 338, '이만': 339, '상담': 340, '되시는': 341, '이고': 342, '공': 343, '보안': 344, '신': 345, '금리': 346, '제출': 347, '서울': 348, '돼': 349, '발견': 350, '이세': 351, '관리': 352, '검거': 353, '같': 354, '이기': 355, '요청': 356, '지역': 357, '과정': 358, '아니에요': 359, '있나요': 360, '있잖아요': 361, '밖에': 362, '프로': 363, '텐데요': 364, '장': 365, '곳': 366, '갖고': 367, '국민': 368, '원래': 369, '유출': 370, '자료': 371, '검': 372, '확': 373, '금': 374, '돼서': 375, '범죄': 376, '삼십': 377, '신고': 378, '식': 379, '있거든요': 380, '라': 381, '있을': 382, '센터': 383, '질문': 384, '지점': 385, '없다': 386, '되신': 387, '같아요': 388, '홈페이지': 389, '기술': 390, '하겠습니다': 391, '있을까요': 392, '변경': 393, '있으십니까': 394, '결과': 395, '자산': 396, '입력': 397, '현장': 398, '해주시면': 399, '서는': 400, '관': 401, '창원': 402, '수능': 403, '학년': 404, '일반': 405, '역': 406, '밑': 407, '한도': 408, '선택': 409, '일이': 410, '모의고사': 411, '께': 412, '기기': 413, '처럼': 414, '백': 415, '승인': 416, '텐데': 417, '정상': 418, '람': 419, '전달': 420, '총': 421, '집': 422, '이라': 423, '가능하세요': 424, '대한': 425, '비': 426, '그건': 427, '신분증': 428, '출금': 429, '주신': 430, '문': 431, '추적': 432, '오십': 433, '재': 434, '심사': 435, '휴대폰': 436, '드리고': 437, '연': 438, '있기': 439, '귀사': 440, '수고': 441, '에도': 442, '이후': 443, '되면은': 444, '받으신': 445, '현금': 446, '은행권': 447, '현': 448, '개월': 449, '주시겠습니까': 450, '이천': 451, '완료': 452, '학생': 453, '안녕하세요': 454, '클릭': 455, '이유': 456, '있는데요': 457, '압수': 458, '대로': 459, '반': 460, '대리': 461, '그걸': 462, '그것': 463, '나중': 464, '성': 465, '쯤': 466, '공문': 467, '발송': 468, '어차피': 469, '국민은행': 470, '아시': 471, '가능한': 472, '빨리': 473, '되고요': 474, '나서': 475, '패스': 476, '필요': 477, '해도': 478, '라서': 479, '마다': 480, '보실': 481, '해드릴': 482, '있는지': 483, '맞아요': 484, '기다려주세요': 485, '회사': 486, '하셔도': 487, '없습니다': 488, '인가요': 489, '배송': 490, '동결': 491, '비용': 492, '왜냐면': 493, '되시면': 494, '부탁': 495, '보는': 496, '설정': 497, '오후': 498, '개발': 499, '회': 500, '적금': 501, '보증': 502, '서비스': 503, '그렇기': 504, '증명서': 505, '절차': 506, '날짜': 507, '없이': 508, '시청': 509, '예정': 510, '조건': 511, '책': 512, '위': 513, '동의': 514, '이자': 515, '종료': 516, '모든': 517, '된다는': 518, '민원': 519, '좋은': 520, '에서도': 521, '포함': 522, '화': 523, '해주신': 524, '입': 525, '수업': 526, '하시면은': 527, '정확하게': 528, '연락처': 529, '거세': 530, '까지는': 531, '에다가': 532, '되실까': 533, '있다고': 534, '조치': 535, '형': 536, '도움': 537, '아예': 538, '기준': 539, '된다고': 540, '냐': 541, '보면': 542, '이전': 543, '주셔야': 544, '말고': 545, '여권': 546, '사업': 547, '되지': 548, '최근': 549, '기존': 550, '로그인': 551, '캐피탈': 552, '컴퓨터': 553, '했을': 554, '없고': 555, '계': 556, '아시겠죠': 557, '외': 558, '오전': 559, '하면은': 560, '의사': 561, '달라': 562, '된다': 563, '중앙': 564, '신한': 565, '하루': 566, '테': 567, '할게요': 568, '보통': 569, '뒤': 570, '들을': 571, '월요일': 572, '그다음': 573, '않습니까': 574, '쵸': 575, '부탁드리겠습니다': 576, '이체': 577, '작성': 578, '줄': 579, '기록': 580, '씩': 581, '대학': 582, '합니다': 583, '중이': 584, '체크': 585, '페이지': 586, '있으면': 587, '이실': 588, '환': 589, '건지': 590, '자리': 591, '공사': 592, '기업': 593, '코드': 594, '들어서': 595, '시작': 596, '보신': 597, '막': 598, '차단': 599, '검찰': 600, '께서는': 601, '용도': 602, '걱정': 603, '준비': 604, '듣고': 605, '창원시': 606, '그대로': 607, '주셔서': 608, '마지막': 609, '했던': 610, '있죠': 611, '마이너스': 612, '이동': 613, '없으신': 614, '받은': 615, '연체': 616, '생': 617, '될까': 618, '제외': 619, '되': 620, '열': 621, '소': 622, '패키지': 623, '라도': 624, '되십니까': 625, '가격': 626, '생년': 627, '작년': 628, '사이': 629, '증거': 630, '설치': 631, '전화번호': 632, '맞으시죠': 633, '그러시면은': 634, '꼭': 635, '장바구니': 636, '들어가서': 637, '차량': 638, '최대한': 639, '실례': 640, '되기': 641, '계시는': 642, '화면': 643, '검찰청': 644, '하셨어요': 645, '근무': 646, '기억': 647, '시켜': 648, '안전': 649, '론': 650, '없으세요': 651, '한국': 652, '아니고요': 653, '가서': 654, '으로는': 655, '차이': 656, '칠십': 657, '용': 658, '받는': 659, '드리면': 660, '별로': 661, '참고': 662, '위치': 663, '입장': 664, '있고요': 665, '모바일': 666, '에이': 667, '계획': 668, '한다고': 669, '합격': 670, '방': 671, '하셔가지고': 672, '이요': 673, '경': 674, '하셨던': 675, '양도': 676, '수수료': 677, '경기도': 678, '분실': 679, '주시겠어요': 680, '이미': 681, '계시': 682, '창': 683, '학원': 684, '가능하신': 685, '하려고': 686, '미리': 687, '여러': 688, '공증': 689, '전체': 690, '간단하게': 691, '마시고': 692, '있다는': 693, '이내': 694, '모르겠다': 695, '까': 696, '정확히': 697, '같습니다': 698, '풀': 699, '사십': 700, '정확한': 701, '이시고': 702, '해지': 703, '부탁드릴게요': 704, '맞으십니까': 705, '받으실': 706, '주민': 707, '버튼': 708, '당': 709, '가능하실까': 710, '대학교': 711, '받아서': 712, '직장': 713, '송금': 714, '또는': 715, '시구': 716, '유': 717, '내신': 718, '겁': 719, '기관': 720, '년도': 721, '기재': 722, '요금': 723, '대상': 724, '볼게요': 725, '사진': 726, '없는데': 727, '그러세요': 728, '그렇습니까': 729, '되죠': 730, '개인정보': 731, '모르는': 732, '당연히': 733, '삭제': 734, '업체': 735, '할인': 736, '강': 737, '하시게': 738, '있으니까': 739, '간': 740, '최대': 741, '되시는데': 742, '학습': 743, '친구': 744, '상관': 745, '정리': 746, '하셨는데': 747, '되거든요': 748, '일당': 749, '탭': 750, '계신': 751, '할려고': 752, '자동차': 753, '드렸어요': 754, '계세': 755, '드려도': 756, '통': 757, '군데': 758, '혐의': 759, '호': 760, '이라서': 761, '거나': 762, '되시고요': 763, '대포': 764, '가능하십니까': 765, '있지': 766, '드렸는데': 767, '수령': 768, '6': 769, '올해': 770, '없다는': 771, '잘못': 772, '대략': 773, '기본': 774, '국가': 775, '신청서': 776, '무': 777, '인증': 778, '없으시고요': 779, '이라든지': 780, '해드릴게요': 781, '대신': 782, '별도': 783, '되시고': 784, '드려': 785, '스마트': 786, '정지': 787, '번째': 788, '컨설팅': 789, '자동': 790, '접속': 791, '법': 792, '연결해': 793, '말씀드린': 794, '남아': 795, '뱅킹': 796, '물어': 797, '연루': 798, '맞습니까': 799, '가족': 800, '맞으세요': 801, '상담사': 802, '필요한': 803, '아무': 804, '사만': 805, '하는데요': 806, '소요': 807, '중간': 808, '소환장': 809, '급': 810, '나머지': 811, '일부': 812, '이면': 813, '하나은행': 814, '자택': 815, '이건': 816, '평점': 817, '관계': 818, '하시고요': 819, '미만': 820, '했는데요': 821, '오래': 822, '주문': 823, '청약': 824, '하십니까': 825, '옆': 826, '드': 827, '남성': 828, '판단': 829, '얘': 830, '들어가': 831, '라든지': 832, '다름이': 833, '사기': 834, '있으실까': 835, '과장': 836, '카카오': 837, '마감': 838, '받으시는': 839, '저축은행': 840, '되시구요': 841, '원하시는': 842, '금전': 843, '인해서': 844, '물건': 845, '요즘': 846, '데이터': 847, '정부': 848, '진짜': 849, '통합': 850, '학': 851, '하십니다': 852, '협조': 853, '어디서': 854, '있으시면': 855, '국어': 856, '있어': 857, '운': 858, '해외': 859, '되는데요': 860, '약': 861, '로는': 862, '대포통장': 863, '산': 864, '무료': 865, '정말': 866, '진': 867, '되요': 868, '입시': 869, '사유': 870, '넣어': 871, '되잖아요': 872, '해드리는': 873, '되는지': 874, '아무래도': 875, '해결': 876, '라면': 877, '제일': 878, '이구': 879, '중인': 880, '살': 881, '완납': 882, '태블릿': 883, '하셨죠': 884, '아니면은': 885, '백만원': 886, '궁금하신': 887, '가능': 888, '등록증': 889, '피씨': 890, '되니까': 891, '시도': 892, '월일': 893, '엔': 894, '기다려주셔서': 895, '메일': 896, '답변': 897, '하고요': 898, '교육': 899, '이라도': 900, '방금': 901, '작업': 902, '죄송한데': 903, '했거든요': 904, '운영': 905, '부산': 906, '어쨌든': 907, '법원': 908, '첫': 909, '재산': 910, '신분': 911, '프로그램': 912, '경찰서': 913, '맞죠': 914, '육십': 915, '안녕하십니까': 916, '감사': 917, '고등학교': 918, '수강신청': 919, '드렸는데요': 920, '수학': 921, '등급': 922, '하도록': 923, '보시면은': 924, '당일': 925, '갈': 926, '에스': 927, '하시는데': 928, '했습니다': 929, '거주': 930, '마산': 931, '봤을': 932, '끊지': 933, '해주실': 934, '선': 935, '니': 936, '실제': 937, '있도록': 938, '방식': 939, '다운': 940, '장학금': 941, '인가': 942, '최종': 943, '예약': 944, '리': 945, '지정': 946, '시험': 947, '인강': 948, '재발': 949, '제작': 950, '출고': 951, '어르신': 952, '마무리': 953, '증': 954, '뭘': 955, '지인': 956, '군': 957, '해드리고': 958, '우리은행': 959, '없다고': 960, '반송': 961, '영업': 962, '보호': 963, '네이버': 964, '금요일': 965, '하니까': 966, '글': 967, '제공': 968, '늘': 969, '고맙습니다': 970, '되구요': 971, '과로': 972, '오른쪽': 973, '요런': 974, '드렸습니다': 975, '아닌': 976, '하시면서': 977, '검색': 978, '굉장히': 979, '추후': 980, '주시고요': 981, '4': 982, '하라': 983, '채무': 984, '수출': 985, '매출': 986, '나오는': 987, '순': 988, '꺼': 989, '알려': 990, '솔직히': 991, '교': 992, '신용카드': 993, '당하신': 994, '신지': 995, '층': 996, '부담': 997, '참여': 998, '어머님': 999, '되시면은': 1000, '영어': 1001, '보면은': 1002, '진해': 1003, '않고': 1004, '유선': 1005, '절대': 1006, '뭔가': 1007, '따른': 1008, '보겠습니다': 1009, '공부': 1010, '환경': 1011, '나와': 1012, '고소': 1013, '철': 1014, '모르겠어요': 1015, '드려야': 1016, '저축': 1017, '와이파이': 1018, '짜리': 1019, '부모님': 1020, '본사': 1021, '있구요': 1022, '걸까': 1023, '계십니까': 1024, '수정': 1025, '복구': 1026, '없잖아요': 1027, '법인': 1028, '이하': 1029, '원금': 1030, '채권': 1031, '이야기': 1032, '까지만': 1033, '신한은행': 1034, '실': 1035, '광명시': 1036, '부결': 1037, '없으시고': 1038, '성적': 1039, '분석': 1040, '품목': 1041, '계정': 1042, '받지': 1043, '속': 1044, '해볼게요': 1045, '들어가는': 1046, '해제': 1047, '생활': 1048, '맞으신': 1049, '맨': 1050, '새로': 1051, '하시거나': 1052, '해보고': 1053, '하셨습니까': 1054, '쓰고': 1055, '노트북': 1056, '돼가지고': 1057, '인력': 1058, '울': 1059, '불러': 1060, '크게': 1061, '나온': 1062, '시점': 1063, '되어서': 1064, '천': 1065, '배정': 1066, '계약': 1067, '이십만': 1068, '예금': 1069, '아닙니다': 1070, '사무실': 1071, '한다는': 1072, '되게': 1073, '받으셔야': 1074, '보다': 1075, '되시죠': 1076, '있어야': 1077, '담': 1078, '아닙니까': 1079, '대가': 1080, '했고': 1081, '저번': 1082, '시기': 1083, '이니까': 1084, '첨단': 1085, '받으시고': 1086, '큰': 1087, '주변': 1088, '드렸고요': 1089, '업': 1090, '출신': 1091, '일정': 1092, '상속': 1093, '라든가': 1094, '병원': 1095, '스케줄': 1096, '가야': 1097, '연관': 1098, '하나요': 1099, '해볼': 1100, '적은': 1101, '거지': 1102, '하신다고': 1103, '없어서': 1104, '나이': 1105, '베이직': 1106, '삼만': 1107, '연구소': 1108, '법적': 1109, '처': 1110, '많은': 1111, '하여': 1112, '어려우세요': 1113, '해주시겠어요': 1114, '보이시': 1115, '받아야': 1116, '강수': 1117, '마': 1118, '광주': 1119, '류': 1120, '소득': 1121, '해달라고': 1122, '가면': 1123, '대기': 1124, '아이피': 1125, '드렸거든요': 1126, '쿠폰': 1127, '그러다': 1128, '라던가': 1129, '드리도록': 1130, '중요한': 1131, '바랍니다': 1132, '평가': 1133, '전용': 1134, '입학': 1135, '목소리': 1136, '변동': 1137, '맞으실까': 1138, '가장': 1139, '있으': 1140, '있게': 1141, '유지': 1142, '됩니까': 1143, '지방': 1144, '그렇구나': 1145, '대량': 1146, '대표': 1147, '하수': 1148, '도로': 1149, '당시': 1150, '가시': 1151, '구입': 1152, '아니죠': 1153, '올': 1154, '같은데요': 1155, '도착': 1156, '해서는': 1157, '된다면': 1158, '발행': 1159, '합법': 1160, '파일': 1161, '팔십': 1162, '프리미엄': 1163, '주소지': 1164, '이란': 1165, '다운로드': 1166, '바': 1167, '충전': 1168, '별': 1169, '금융감독원': 1170, '모르시는': 1171, '적용': 1172, '파악': 1173, '3년': 1174, '들어갈': 1175, '발부': 1176, '하는지': 1177, '니깐': 1178, '고발': 1179, '가능하시고요': 1180, '굳이': 1181, '없기': 1182, '오류': 1183, '왼쪽': 1184, '난': 1185, '가는': 1186, '일주일': 1187, '온라인': 1188, '액': 1189, '있다면': 1190, '보상': 1191, '러신': 1192, '증서': 1193, '카톡': 1194, '전반': 1195, '아니시면': 1196, '신데요': 1197, '출석': 1198, '가능하신데': 1199, '버전': 1200, '능력': 1201, '주시구요': 1202, '읽어': 1203, '훈련': 1204, '이력': 1205, '한다': 1206, '해보니까': 1207, '싶은데': 1208, '피': 1209, '모르겠는데': 1210, '했다고': 1211, '째': 1212, '이든': 1213, '가능합니다': 1214, '드리고요': 1215, '역량': 1216, '광고': 1217, '물': 1218, '심': 1219, '빠르게': 1220, '필요하신': 1221, '사과': 1222, '콜센터': 1223, '아파트': 1224, '금감원': 1225, '알림': 1226, '계약서': 1227, '동일하게': 1228, '하고자': 1229, '저녁': 1230, '싶어서': 1231, '돌려': 1232, '시간대': 1233, '대상자': 1234, '오만': 1235, '쉽게': 1236, '오시': 1237, '주택': 1238, '않은': 1239, '아들': 1240, '체험': 1241, '기다려주시겠습니까': 1242, '아니잖아요': 1243, '되었습니다': 1244, '세금': 1245, '지는': 1246, '번만': 1247, '들어가시면': 1248, '불편': 1249, '롯데': 1250, '허가': 1251, '예전': 1252, '봐야': 1253, '구만': 1254, '일차': 1255, '무조건': 1256, '해주시고': 1257, '없나요': 1258, '업로드': 1259, '채점': 1260, '콘텐츠': 1261, '전액': 1262, '기단': 1263, '이벤트': 1264, '만들어': 1265, '있으실': 1266, '동물병원': 1267, '래': 1268, '결': 1269, '전라도': 1270, '않아요': 1271, '몰라요': 1272, '봐요': 1273, '해서요': 1274, '아줌마': 1275, '가해자': 1276, '가능성': 1277, '국': 1278, '서명': 1279, '나와서': 1280, '창구': 1281, '괜찮으실까': 1282, '차감': 1283, '주의': 1284, '책임': 1285, '뭔': 1286, '도장': 1287, '되시나요': 1288, '보세요': 1289, '공문서': 1290, '보기': 1291, '맞는': 1292, '되십니다': 1293, '사본': 1294, '끝': 1295, '대비': 1296, '발설': 1297, '국내': 1298, '서민': 1299, '수원': 1300, '돼야': 1301, '드리': 1302, '삼천': 1303, '문의사항': 1304, '결정': 1305, '삼백': 1306, '아니기': 1307, '되어있는': 1308, '해봐야': 1309, '강제': 1310, '등록금': 1311, '받으시면': 1312, '범': 1313, '5': 1314, '중도': 1315, '될지': 1316, '투자': 1317, '돼있는': 1318, '마찬가지': 1319, '김': 1320, '양': 1321, '료': 1322, '주실': 1323, '미': 1324, '남편': 1325, '없고요': 1326, 'xxx': 1327, '동영상': 1328, '취하': 1329, '비밀번호': 1330, '이메일': 1331, '회수': 1332, '되셨고요': 1333, '원상': 1334, '동물': 1335, '경찰': 1336, '종결': 1337, '2017년': 1338, '십만': 1339, '하신다는': 1340, '없죠': 1341, '녹': 1342, '자꾸': 1343, '변제': 1344, '합': 1345, '나와있는': 1346, '예상': 1347, '버스': 1348, '배송지': 1349, '생산': 1350, '하셨나요': 1351, '재학': 1352, '전국': 1353, '예치': 1354, '가능하십니다': 1355, '여기는': 1356, '됐어요': 1357, '뭐라고요': 1358, '왔다': 1359, '공간': 1360, '방안': 1361, '그래가지고': 1362, '어플': 1363, '그렇습니다': 1364, '실질': 1365, '되셔서': 1366, '받으면': 1367, '기계': 1368, '고지서': 1369, '해보세요': 1370, '충족': 1371, '담보': 1372, '과학': 1373, '점심시간': 1374, '몰라서': 1375, '나오셔서': 1376, '나면': 1377, '빠른': 1378, '혜택': 1379, '부채': 1380, '평일': 1381, '든': 1382, '상하': 1383, '나라': 1384, '신다고': 1385, '죄송하지만': 1386, '됐다고': 1387, '안건': 1388, '연장': 1389, '인감': 1390, '소속': 1391, '올려': 1392, '희망': 1393, '사장': 1394, '드렸던': 1395, '출': 1396, '행사': 1397, '숫자': 1398, '집행': 1399, '발': 1400, '고지': 1401, '장님': 1402, '사례': 1403, '법무': 1404, '한해': 1405, '지리': 1406, '면접': 1407, '검토': 1408, '뿐': 1409, '물품': 1410, '손': 1411, '와서': 1412, '변호사': 1413, '물이': 1414, '다가': 1415, '맞나요': 1416, '앱': 1417, '갔다': 1418, '요구': 1419, '인증서': 1420, '든지': 1421, '되셨어요': 1422, '피싱': 1423, '가까운': 1424, '들어가면': 1425, '하단': 1426, '쭉': 1427, '근처': 1428, '으로만': 1429, '가실': 1430, '같고': 1431, '강의실': 1432, '만큼': 1433, '팩스': 1434, '바탕': 1435, '왔는데': 1436, '분류': 1437, '증권': 1438, '했는지': 1439, '하셨을': 1440, '삼성': 1441, '페이': 1442, '듣는': 1443, '짜': 1444, '중고나라': 1445, '1억': 1446, '그럴': 1447, '누르시면': 1448, '김태환': 1449, '직': 1450, '주무관': 1451, '월달': 1452, '나올': 1453, '범위': 1454, '활용': 1455, '서도': 1456, '톡': 1457, '상호': 1458, '온': 1459, '하셔': 1460, '초': 1461, '싸인': 1462, '부탁드립니다': 1463, '가상': 1464, '잡아': 1465, '으로도': 1466, '점수': 1467, '하잖아요': 1468, '궁금한': 1469, '반영': 1470, '가방': 1471, 'l': 1472, '시설': 1473, '계산': 1474, '뜻': 1475, '없을': 1476, '있다가': 1477, '요렇게': 1478, '외부': 1479, '직통': 1480, '상단': 1481, '기는': 1482, '주차': 1483, '나가시': 1484, '현대': 1485, '퍼센트': 1486, '아닌가요': 1487, '뱅크': 1488, '협의': 1489, '합포': 1490, '증명': 1491, '알겠어요': 1492, '할까': 1493, '화요일': 1494, '에만': 1495, '누가': 1496, '택배': 1497, '정책': 1498, '내년': 1499, '지역구': 1500, '확실히': 1501, '하셨잖아요': 1502, '…': 1503, '정시': 1504, '보다는': 1505, '모집': 1506, '영상': 1507, '분야': 1508, '약식': 1509, '원하는': 1510, '의심': 1511, '되셨구요': 1512, '만요': 1513, 'oooooo': 1514, '이루어': 1515, '됐는데': 1516, '없으시죠': 1517, '로만': 1518, '있었는데': 1519, '경험': 1520, '촬영': 1521, '쇼': 1522, '하더라고요': 1523, '사회': 1524, '하셨고': 1525, '받게': 1526, '아님': 1527, '위임': 1528, '나가는': 1529, '들려요': 1530, '투': 1531, '모양': 1532, '서울시': 1533, '드리려고': 1534, '삼자': 1535, '공동': 1536, '기획': 1537, '재생': 1538, '대조': 1539, '똑같이': 1540, '없으십니까': 1541, '하시기': 1542, '만기': 1543, '찍어서': 1544, '오는': 1545, '제한': 1546, '봤는데': 1547, '융통': 1548, '보이세요': 1549, '2017': 1550, '연구원': 1551, '쓸': 1552, '햇살': 1553, '갑자기': 1554, '충분히': 1555, '구십': 1556, '플러스': 1557, '보이스': 1558, '신규': 1559, '같아서': 1560, '행': 1561, '안전하게': 1562, '눌러': 1563, '보내고': 1564, '란': 1565, '일본': 1566, '않습니다': 1567, '아침': 1568, '학력평가': 1569, '풀어': 1570, '그러는데': 1571, '애가': 1572, '사고': 1573, '시스템': 1574, '공공': 1575, '했다': 1576, '이외': 1577, '쓰시': 1578, '있으시고': 1579, '박스': 1580, '위탁': 1581, '맞춰서': 1582, '아니시고': 1583, '동시': 1584, '오픈': 1585, '보내세요': 1586, '그러고': 1587, '케이': 1588, '가셔서': 1589, '안되고': 1590, '력': 1591, '방향': 1592, '상관없이': 1593, '이지': 1594, '비밀': 1595, '싶은': 1596, '사백': 1597, '학기': 1598, '크롬': 1599, '동일한': 1600, '들어가실': 1601, '만든': 1602, '공장': 1603, '게시판': 1604, '상의': 1605, '해주시고요': 1606, '습': 1607, '처벌': 1608, '우': 1609, '주는': 1610, '영수증': 1611, '수납': 1612, '있나': 1613, '옛날': 1614, '이케': 1615, '엄마': 1616, '없으니까': 1617, '초과': 1618, '재료': 1619, '토대': 1620, '가지고요': 1621, '42': 1622, '받았는데': 1623, '며칠': 1624, '되겠습니다': 1625, '일시': 1626, '칩': 1627, '단속': 1628, '가게': 1629, '학부모': 1630, '파이널': 1631, '아래쪽': 1632, '규제': 1633, '없는데요': 1634, '치': 1635, '금일': 1636, '계신가요': 1637, '의미': 1638, '에다': 1639, '드려요': 1640, '가능하시구요': 1641, '밤': 1642, '기출': 1643, '수시': 1644, '엔씨': 1645, '방해': 1646, '보니': 1647, '지갑': 1648, '되거나': 1649, '믿고': 1650, '많으십니다': 1651, '싶어서요': 1652, '주요': 1653, '가시는': 1654, '통신': 1655, '가능하다고': 1656, '있던': 1657, '드렸잖아요': 1658, '함': 1659, '의견': 1660, '소환': 1661, '하시나요': 1662, '확정': 1663, '기사': 1664, '전기': 1665, '개념': 1666, '자의': 1667, '되시는데요': 1668, '경로': 1669, '공인': 1670, '죄': 1671, '나갈': 1672, '적도': 1673, '분도': 1674, '사는': 1675, '않는': 1676, '모니터링': 1677, '급여': 1678, '보이': 1679, '드릴려고': 1680, '열람': 1681, '가능하신데요': 1682, '1,000만원': 1683, '공지': 1684, '패드': 1685, '안되요': 1686, '초기': 1687, '있으시죠': 1688, '상향': 1689, '어려운': 1690, '되시거든요': 1691, '똑같은': 1692, '한국사': 1693, '장비': 1694, '집중': 1695, '가능해요': 1696, '내려': 1697, '정해져': 1698, '해본': 1699, '목적': 1700, '녹음': 1701, '아니세요': 1702, '등기': 1703, '아는': 1704, '상세': 1705, '디자인': 1706, '남': 1707, '아니신': 1708, '체크카드': 1709, '항': 1710, '채택': 1711, '뭐라고': 1712, '공무원': 1713, '요게': 1714, '아닌데': 1715, '가고': 1716, '소리': 1717, '단독': 1718, '질': 1719, '간략하게': 1720, '던지': 1721, '형식': 1722, '아버님': 1723, '차가': 1724, '교통': 1725, '환급금': 1726, '아이패드': 1727, '하려면': 1728, '타': 1729, '차후': 1730, '가능하시고': 1731, '어려우신': 1732, '당사자': 1733, '근': 1734, '되겠습니까': 1735, '주로': 1736, '년생': 1737, '드릴거구요': 1738, '씨티': 1739, '새로운': 1740, '마이': 1741, '사원': 1742, '아래': 1743, '포장': 1744, '받기': 1745, '됐다': 1746, '인계': 1747, '재판': 1748, '5시': 1749, '실행': 1750, '알바': 1751, '공유': 1752, '주위': 1753, '있': 1754, '쫌': 1755, '많아요': 1756, '맞는지': 1757, '들고': 1758, '나와요': 1759, '빼고': 1760, '괜찮으세요': 1761, '없으시면': 1762, '있어가지고': 1763, '알아서': 1764, '가능한지': 1765, '휴학': 1766, '잔고': 1767, '관광': 1768, '모르고': 1769, '표시': 1770, '않아서': 1771, '하죠': 1772, '토지': 1773, '잔액': 1774, '있으시고요': 1775, '말씀드리는': 1776, '얼': 1777, '3월': 1778, '납': 1779, '양해': 1780, '드립니다': 1781, '응답': 1782, '마시구요': 1783, '드려서': 1784, '관리자': 1785, '아아': 1786, '우려': 1787, '없거든요': 1788, '맞으시고요': 1789, '교환': 1790, '지고': 1791, '오백': 1792, '없어': 1793, '무혐의': 1794, '완성': 1795, '차이는': 1796, '취업': 1797, '건축': 1798, '포': 1799, '버': 1800, '드리면은': 1801, '나오는데': 1802, '보고서': 1803, '가정': 1804, '플레이어': 1805, '출근': 1806, '일로': 1807, '하시구요': 1808, '드리기': 1809, '스스로': 1810, '할부': 1811, '까여': 1812, '되서': 1813, '앞서': 1814, '새': 1815, '그렇다면': 1816, '않을': 1817, '이백': 1818, '청': 1819, '있으시잖아요': 1820, '퇴근': 1821, '써': 1822, '정류장': 1823, '있긴': 1824, '인한': 1825, '나오실': 1826, '은닉': 1827, '기금': 1828, '내고': 1829, '전문': 1830, '인사': 1831, '배': 1832, '애기': 1833, '위주': 1834, '전공': 1835, '그러니깐': 1836, '지난주': 1837, '송': 1838, '무관': 1839, '않도록': 1840, '드리구요': 1841, '저장': 1842, '같으세요': 1843, '보시겠어요': 1844, '세부': 1845, '축제': 1846, '길': 1847, '200': 1848, '되었고요': 1849, '한글': 1850, '두시': 1851, '그러면요': 1852, '김준우': 1853, '바다': 1854, '용지': 1855, '건물': 1856, '자격증': 1857, '해주시는': 1858, '금방': 1859, '모의': 1860, '하시니까': 1861, '주민등록': 1862, '마세요': 1863, '되는거에요': 1864, '했기': 1865, '아니구요': 1866, '찾아': 1867, '됐던': 1868, '간주': 1869, '실적': 1870, '아셨습니까': 1871, '주고': 1872, '하셨구요': 1873, '괜찮으신': 1874, '의료': 1875, '되셔야': 1876, '아니다': 1877, '분명히': 1878, '맞': 1879, '만점': 1880, 'xx': 1881, '도입': 1882, '부족': 1883, '임의': 1884, '침해': 1885, '모르': 1886, '같구요': 1887, '부여': 1888, '높은': 1889, '없습니까': 1890, '대요': 1891, '주시면은': 1892, 'ㅇㅇ': 1893, '나시': 1894, '칠백': 1895, '있었어요': 1896, '마케팅': 1897, '아이폰': 1898, '응시': 1899, '쪼금': 1900, '그렇다고': 1901, '그런거': 1902, '하든': 1903, '됐을': 1904, '청구': 1905, '벌금': 1906, '대부': 1907, '추천': 1908, '확실하게': 1909, '갖다가': 1910, '구성': 1911, '김용식': 1912, '마음': 1913, '친': 1914, '부과': 1915, '아십니까': 1916, '출력': 1917, '해드리면': 1918, '하시': 1919, '들어가셔서': 1920, '처분': 1921, '죄송해요': 1922, '카': 1923, '오만원': 1924, '해봤는데': 1925, '보내주시면': 1926, '감': 1927, '소중한': 1928, '고거': 1929, '하셨다': 1930, '장소': 1931, '신다는': 1932, '대면': 1933, '제도': 1934, '나오신': 1935, '범죄자': 1936, '괜찮을까요': 1937, '휴먼': 1938, '이따가': 1939, '뉴스': 1940, '날인': 1941, '죄송합니다만': 1942, '종사': 1943, '있거나': 1944, '주말': 1945, '공판': 1946, '편법': 1947, '미국': 1948, '받았어요': 1949, '내어': 1950, '고런': 1951, '되셨나요': 1952, '해야지': 1953, '없다면': 1954, '세람': 1955, '도박': 1956, '항상': 1957, '모르는데요': 1958, '해명': 1959, '에서만': 1960, '드린다고': 1961, '나오세요': 1962, '하시는데요': 1963, '해드리겠습니다': 1964, '받으': 1965, '하는게': 1966, '사업자': 1967, '랑은': 1968, '산업': 1969, '학과': 1970, '4월': 1971, '약속': 1972, '바꿔': 1973, '여성': 1974, '~': 1975, '소지': 1976, '구비': 1977, '얼굴': 1978, '칸': 1979, '끝나고': 1980, '근까': 1981, '변화': 1982, '누수': 1983, '제대로': 1984, '왔어요': 1985, '게임': 1986, '여서': 1987, '해드려야': 1988, '십만원': 1989, '예외': 1990, '미성년': 1991, '출판사': 1992, '대답': 1993, '해약': 1994, '신뢰': 1995, '매주': 1996, '되겠죠': 1997, '되나': 1998, '용이': 1999, '지연': 2000, '거리': 2001, '칠만': 2002, '교과서': 2003, '범죄수사': 2004, '해킹': 2005, '들어와': 2006, 'kb': 2007, '복지': 2008, '들으실': 2009, '행복': 2010, '해보시고': 2011, '육만': 2012, '됐는지': 2013, '오백만원': 2014, '확답': 2015, '인하': 2016, '뭐라': 2017, '볼려고': 2018, '앤': 2019, '가능할까': 2020, '종합': 2021, '흘려': 2022, '뒷': 2023, '됐고': 2024, '걸릴': 2025, '음성': 2026, '5년': 2027, '거짓': 2028, '100만원': 2029, '전과': 2030, '만원': 2031, '웹': 2032, '실수': 2033, '가능하시거든요': 2034, '찾을': 2035, '없을까요': 2036, '등본': 2037, '했다는': 2038, '코': 2039, '국고': 2040, '부터는': 2041, '새마을': 2042, '한다거나': 2043, '않으세요': 2044, '전환': 2045, '매달': 2046, '하시는게': 2047, '땜': 2048, '낼': 2049, '폐기': 2050, '문화': 2051, '한꺼': 2052, '특별': 2053, '입고': 2054, '카페': 2055, '차이점': 2056, '메인': 2057, '해보겠습니다': 2058, '배관': 2059, '공무': 2060, '잡음': 2061, '들이': 2062, '하시지': 2063, 'oo': 2064, '연동': 2065, '어쩔': 2066, '간다': 2067, '들면': 2068, '있어서요': 2069, '긍까': 2070, '분할': 2071, '하십시오': 2072, '하고는': 2073, '없으면': 2074, '스': 2075, '한가지': 2076, '점심': 2077, '오천': 2078, '패': 2079, '달러': 2080, '체납': 2081, '배상': 2082, '유도': 2083, '직업': 2084, '삼천만원': 2085, '들어가야': 2086, '대응': 2087, '끊고': 2088, '주차장': 2089, '체': 2090, '고가': 2091, '하다가': 2092, '신다고요': 2093, '폰': 2094, '갱신': 2095, '핵심': 2096, '있었거든요': 2097, '간단한': 2098, '저가': 2099, '판': 2100, '해드릴까': 2101, '종': 2102, '같고요': 2103, '준': 2104, '머니': 2105, '먹고': 2106, '좋을': 2107, '있네요': 2108, '없구요': 2109, '보낸': 2110, '주거': 2111, '자가': 2112, '공단': 2113, '철산동': 2114, '수요일': 2115, '내야': 2116, '했잖아요': 2117, '1년': 2118, '이의': 2119, '아니라고': 2120, '보이스피싱': 2121, '됐습니다': 2122, '아시겠지만': 2123, '단위': 2124, '가능하실': 2125, '가능한가요': 2126, '채': 2127, '지시': 2128, '제품': 2129, '성적표': 2130, '시즌': 2131, '하시겠어요': 2132, 'cma': 2133, '100만': 2134, '포털': 2135, '최': 2136, '쓰는': 2137, '연합': 2138, '동생': 2139, '첨': 2140, '이틀': 2141, '남겨': 2142, '했었는데': 2143, '괜히': 2144, '가량': 2145, '해보시면': 2146, '조심': 2147, '크': 2148, '분과': 2149, '우편': 2150, '드리는데': 2151, '사무국': 2152, '말씀드리면': 2153, '놓고': 2154, '문학': 2155, '괜찮아요': 2156, '순차': 2157, '경남': 2158, '민': 2159, '봐도': 2160, '영역': 2161, '환수': 2162, '편': 2163, '압류': 2164, '취득': 2165, '파': 2166, '하러': 2167, '보셔야': 2168, '불': 2169, '4시': 2170, '빼': 2171, '하신다면': 2172, '다음주': 2173, '들은': 2174, '고생': 2175, '앞전': 2176, '으': 2177, '앞쪽': 2178, '다르기': 2179, '귀하': 2180, '편집': 2181, '명령': 2182, '하신다': 2183, '당한': 2184, '하셨습니다': 2185, '에선': 2186, '가능하시겠습니까': 2187, '들었어요': 2188, '되겠네요': 2189, '팔백': 2190, '나오시는': 2191, '없었어요': 2192, '어려울': 2193, '형태': 2194, '했더니': 2195, ']': 2196, '도주': 2197, '제목': 2198, '수표': 2199, '배송비': 2200, '톱니바퀴': 2201, '제풀이': 2202, '이런거': 2203, '첨부': 2204, '했죠': 2205, '주셨는데': 2206, '있단': 2207, '판결': 2208, '들어가고': 2209, '실시': 2210, '파견': 2211, '회복': 2212, '했다가': 2213, '법정': 2214, '해보셔야': 2215, '증정': 2216, '성과': 2217, '이혼': 2218, '열어': 2219, '있지만': 2220, '천만원': 2221, '해주셔서': 2222, '천천히': 2223, '되셨고': 2224, '권한': 2225, '로서': 2226, '시티': 2227, '해줄': 2228, '들어간': 2229, '법무사': 2230, '받았다': 2231, '같거든요': 2232, '밖': 2233, '주소창': 2234, '다를': 2235, '대구': 2236, '원자': 2237, '품': 2238, '구속': 2239, '안되는': 2240, '여유': 2241, '들어가시는': 2242, '우회': 2243, '언': 2244, '묘지': 2245, '하수도': 2246, '-': 2247, '전화해서': 2248, '보려고': 2249, '본점': 2250, '이상한': 2251, '신원': 2252, '자세하게': 2253, '채용': 2254, '건설': 2255, '북': 2256, '했고요': 2257, '1월': 2258, '조용한': 2259, '10시': 2260, '원리금': 2261, '인수': 2262, '중순': 2263, '박': 2264, '보지': 2265, '하겠다': 2266, '누르면': 2267, '거주지': 2268, '행동': 2269, '되어야': 2270, '형제': 2271, '유산': 2272, '연결하겠습니다': 2273, '알려주세요': 2274, '됐기': 2275, '종이': 2276, '그렇다': 2277, '마시고요': 2278, '자유': 2279, '하구요': 2280, '60': 2281, '통신사': 2282, '사용자': 2283, '하셨다고': 2284, '모른다고': 2285, '않으신': 2286, '늦게': 2287, '있게끔': 2288, '되는거죠': 2289, 'ㅇㅇㅇ': 2290, '노트': 2291, '이네': 2292, '기입': 2293, '자유롭게': 2294, '남은': 2295, '동료': 2296, '공원': 2297, '시발': 2298, '국외': 2299, '효력': 2300, '수원시': 2301, '도난': 2302, '하시죠': 2303, '그럼요': 2304, '원만': 2305, '메시지': 2306, '원칙': 2307, '말씀드릴': 2308, '으로부터': 2309, '서로': 2310, '벌써': 2311, '자주': 2312, '가운데': 2313, '들었는데': 2314, '아뇨': 2315, '없': 2316, '해놓고': 2317, '끝나는': 2318, '치고': 2319, '하여튼': 2320, '끊어': 2321, '다르게': 2322, '휴면': 2323, '계열': 2324, '세계': 2325, '일자리': 2326, '관내': 2327, '스마트폰': 2328, '모릅니다': 2329, '소음': 2330, '받으세요': 2331, '5027': 2332, '2년': 2333, '통보': 2334, '향후': 2335, '만나서': 2336, '했으니까': 2337, '알겠': 2338, '알았습니다': 2339, '담아': 2340, '눌렀어요': 2341, '학생증': 2342, '통과': 2343, '있기는': 2344, '취업률': 2345, '고용': 2346, '공범': 2347, '형성': 2348, '말씀드렸죠': 2349, '하시다가': 2350, '문장': 2351, '장이': 2352, '들어오는': 2353, ';': 2354, '발표': 2355, '필수': 2356, '해설': 2357, '사야': 2358, '대부분': 2359, '최초': 2360, '있더라고요': 2361, '되었어요': 2362, '제거': 2363, '나오면': 2364, '복귀': 2365, '명칭': 2366, '되시길': 2367, '재산세': 2368, '조금씩': 2369, '궁금해서': 2370, '혼인': 2371, '맞춰': 2372, '30분': 2373, '내는': 2374, '드렸을': 2375, '5월': 2376, '워낙': 2377, '넘': 2378, '우체국': 2379, '봐서': 2380, '업종': 2381, '되네요': 2382, '요기': 2383, '2015년': 2384, '알아보고': 2385, '하던데': 2386, '들으면': 2387, '관할': 2388, '눌러주시고': 2389, '거부': 2390, '그러십니까': 2391, '오해': 2392, '비교': 2393, '구요': 2394, '....': 2395, '눌러주시면': 2396, '긍정': 2397, '했으면': 2398, '게요': 2399, '평균': 2400, '면서': 2401, '하기가': 2402, '하셨으면': 2403, '했었거든요': 2404, '하셨을까요': 2405, '않아도': 2406, '예산': 2407, '있으시거든요': 2408, '금고': 2409, '나왔어요': 2410, '모르겠는데요': 2411, '최소': 2412, '실명': 2413, '말씀드릴게요': 2414, '말고는': 2415, 'otp': 2416, '담긴': 2417, '자세한': 2418, '하시거든요': 2419, '스트레스': 2420, 'a': 2421, '신데': 2422, '있으시면은': 2423, '궁금해서요': 2424, '해드린': 2425, '보관': 2426, '지도': 2427, '아니시면은': 2428, '드렸듯이': 2429, '어려워요': 2430, '주관': 2431, '히': 2432, '시행': 2433, '학생회': 2434, '인상': 2435, '육천': 2436, '카테고리': 2437, '페퍼': 2438, '수강생': 2439, '전략': 2440, '미적분': 2441, '연도': 2442, '예비': 2443, '상수도': 2444, '한적': 2445, '되었기': 2446, '내사': 2447, '존재': 2448, '무고': 2449, '이율': 2450, '오실': 2451, '동일': 2452, '나가실': 2453, '신다': 2454, '시키는': 2455, '기다리고': 2456, '부동산': 2457, '없으실': 2458, '인자': 2459, '않나요': 2460, '맞는데': 2461, '복': 2462, '규정': 2463, '배우자': 2464, '긴': 2465, '깡통': 2466, '해보시겠어요': 2467, '익스플로러': 2468, '비중': 2469, '현수막': 2470, '된거': 2471, '펀드': 2472, '없는지': 2473, '되었고': 2474, '보험사': 2475, '위조': 2476, '살짝': 2477, '십분': 2478, '없으시구요': 2479, '나와있어요': 2480, '기분': 2481, '내장': 2482, '이사': 2483, '위임장': 2484, '수급': 2485, '값': 2486, '되면서': 2487, '모르게': 2488, '반복': 2489, '할께요': 2490, '그러': 2491, '이며': 2492, '확장': 2493, '되십시오': 2494, '삭': 2495, '소개': 2496, '반려동물': 2497, '일자': 2498, '10만': 2499, '2시': 2500, '중앙회': 2501, '아니시구요': 2502, '300만원': 2503, '갚고': 2504, '엘지': 2505, '힘': 2506, '있는가': 2507, '받았거든요': 2508, '가능하다는': 2509, '번은': 2510, '재수': 2511, '없으실까': 2512, '복수': 2513, '불구': 2514, '드렸구요': 2515, '설': 2516, '직장인': 2517, '되셨는데': 2518, '불러주세요': 2519, '강압': 2520, '인해': 2521, '있을거에요': 2522, '합의': 2523, '인거': 2524, '되가지고': 2525, '된단': 2526, '손해': 2527, '어렵습니다': 2528, '특성': 2529, '지하': 2530, '할려': 2531, '바꿔주세요': 2532, '워': 2533, '요강': 2534, '연간': 2535, '됐다는': 2536, '하시잖아요': 2537, '보여': 2538, '가담': 2539, '괜찮습니다': 2540, '선임': 2541, '삼백만': 2542, '하셨는데요': 2543, '들어와서': 2544, '육성': 2545, '평': 2546, '어떻': 2547, '내지': 2548, '오고': 2549, '아무리': 2550, '불이익': 2551, '깁니다': 2552, '사대': 2553, '부재': 2554, '해주셨는데': 2555, '묻는': 2556, '소비자': 2557, '부탁드리고요': 2558, '아드님': 2559, '17일': 2560, '받았습니다': 2561, '봤어요': 2562, '구체': 2563, '어려워서': 2564, '진도': 2565, '어렵고요': 2566, '죄송하게도': 2567, '차주': 2568, '트': 2569, '취한': 2570, '상관없어요': 2571, '분이십니까': 2572, '운행': 2573, '오셔서': 2574, '시오': 2575, '부정': 2576, '대체': 2577, '넣고': 2578, '해주는': 2579, '알아요': 2580, '안된다고': 2581, '해주셔도': 2582, '한시': 2583, '하는거': 2584, '일만': 2585, '하시더라고요': 2586, '찍어': 2587, '특수': 2588, '영장': 2589, '행복한': 2590, '과를': 2591, '쪼끔': 2592, '수립': 2593, '알아야': 2594, '릴': 2595, '2016년': 2596, '승': 2597, '갚아': 2598, '전화해': 2599, '하셨다가': 2600, '정기': 2601, '매입': 2602, '만에': 2603, '포인트': 2604, '설문조사': 2605, '엄청': 2606, '변': 2607, '안되시는': 2608, '연말': 2609, '반환': 2610, '증액': 2611, '합동': 2612, '수단': 2613, '국세청': 2614, '피의자': 2615, '되는건': 2616, '어려움': 2617, '컴': 2618, '해야되': 2619, '있는거': 2620, '4%': 2621, '같으면': 2622, '받으셔가지고': 2623, '되셨다고': 2624, '일치': 2625, '균등': 2626, '애초': 2627, '대한민국': 2628, '십년': 2629, '들어왔는데': 2630, '기말고사': 2631, '지식': 2632, '오토바이': 2633, '본인께서도': 2634, '아는데': 2635, '올려놓고': 2636, '김민수': 2637, '천만': 2638, '하시려는': 2639, '90만원': 2640, '백만': 2641, '전화기': 2642, '하시더라도': 2643, '오신': 2644, '미래에셋': 2645, '울산': 2646, '만나': 2647, '목요일': 2648, '토토': 2649, '9시': 2650, '나갔다': 2651, '오백만': 2652, '지난번': 2653, '링크': 2654, '칠천': 2655, '내부': 2656, '사정': 2657, '되시기': 2658, '인도': 2659, '특급': 2660, '비회': 2661, '어머님께': 2662, '주일': 2663, '일요일': 2664, '10월': 2665, '목록': 2666, '공고': 2667, '일까': 2668, '참을': 2669, '혁신': 2670, '선도': 2671, '명시': 2672, '모르는데': 2673, '가능한데요': 2674, '드렸죠': 2675, '임대': 2676, '재직': 2677, '문희경': 2678, '않으셔도': 2679, '필요해서': 2680, '알았어요': 2681, '퇴사': 2682, '많으신': 2683, '대고': 2684, '프': 2685, '정해진': 2686, '인원': 2687, '걸쳐': 2688, '표현': 2689, '과는': 2690, '있던데': 2691, '10만원': 2692, '봅니다': 2693, '직급': 2694, '아내': 2695, '불편하시겠지만': 2696, '해놓은': 2697, '40': 2698, '아세요': 2699, '되었다고': 2700, '되셨기': 2701, '드린다는': 2702, '여자': 2703, '말씀드리겠습니다': 2704, '되시니까': 2705, '지원이': 2706, '가능하시니까': 2707, '받으셨어요': 2708, 'ok': 2709, '하시겠다': 2710, '해드려요': 2711, '5만원': 2712, '반납': 2713, '제삼자': 2714, '까진': 2715, '찾고': 2716, '되었구요': 2717, '들어가지': 2718, '파란색': 2719, '나오고': 2720, '진동': 2721, '기숙': 2722, '수영장': 2723, '근로': 2724, '금은': 2725, '루': 2726, '택시': 2727, '날로': 2728, '좌': 2729, '성립': 2730, '원격': 2731, '신랑': 2732, '나뉘어져': 2733, '농업': 2734, '사망': 2735, '늦어도': 2736, '유효': 2737, '위원회': 2738, '보도': 2739, '소식': 2740, '양성': 2741, '북면': 2742, '조직': 2743, '사랑': 2744, '작': 2745, '취': 2746, '대화': 2747, '대리인': 2748, '오면': 2749, '생길': 2750, '들어있는': 2751, '되었는데': 2752, '있으십니다': 2753, '신상': 2754, '증빙': 2755, '체포': 2756, '가능하시면': 2757, '그러는': 2758, '신가': 2759, '전화하면': 2760, '봉투': 2761, '전화하셔가지고': 2762, '휴대': 2763, '받아요': 2764, '하셨거든요': 2765, '맞잖아요': 2766, '아유': 2767, '되면요': 2768, '10분': 2769, '키': 2770, '중계': 2771, '안정': 2772, '가도': 2773, '과제': 2774, '경제': 2775, '대학생': 2776, '그러는데요': 2777, '사관학교': 2778, '하려고요': 2779, '태': 2780, '오십만': 2781, '올라가는': 2782, '목': 2783, '8월': 2784, '철산': 2785, '고등': 2786, '눌러주세요': 2787, '아무런': 2788, '스물': 2789, '주셨을': 2790, '와요': 2791, '하시겠습니까': 2792, '가로': 2793, '솔직하게': 2794, '하실지': 2795, '써야': 2796, '되셔가지고': 2797, '해준다고': 2798, '버리면': 2799, '보내는': 2800, '없으': 2801, '들어갔는데': 2802, '괜찮으시겠어요': 2803, '하는건': 2804, '할지': 2805, '새롭게': 2806, '제기': 2807, '받으셨던': 2808, '하시려면': 2809, '드렸다시피': 2810, '끔': 2811, '그러면서': 2812, '불량': 2813, '딱히': 2814, '드렸고': 2815, '긴급': 2816, '티': 2817, '김명철': 2818, '갈게요': 2819, '김혜선': 2820, '기다려주시겠어요': 2821, '장학': 2822, '좋다': 2823, '옵션': 2824, '짐': 2825, '화상': 2826, '파손': 2827, '스트리밍': 2828, '의창구': 2829, '실시간': 2830, '아까도': 2831, '의지': 2832, '오차': 2833, '김성호': 2834, '절': 2835, '대금': 2836, '래야': 2837, '그랬는데': 2838, '지워': 2839, '하시는거죠': 2840, '하셨다는': 2841, '보셨어요': 2842, '저하': 2843, '그러셨어요': 2844, '지불': 2845, '산이': 2846, '대충': 2847, '밥': 2848, '맞다': 2849, '횟수': 2850, '넘어': 2851, '오십만원': 2852, '되겠어요': 2853, '있었던': 2854, '몰라': 2855, '하셔가지고요': 2856, '하시는지': 2857, '이어폰': 2858, '자세히': 2859, '보게': 2860, '같아': 2861, '찾는': 2862, '우측': 2863, '정확하게는': 2864, '봤더니': 2865, '상상': 2866, '가능하고요': 2867, '직무': 2868, '재구매': 2869, '흙탕물': 2870, '같은거': 2871, '유의': 2872, '세트': 2873, '모르세요': 2874, '받았던': 2875, '아시는지': 2876, '외국': 2877, '있어서는': 2878, '5분': 2879, '없어서요': 2880, '수준': 2881, '함부로': 2882, '조정': 2883, '위반': 2884, '개강': 2885, '재고': 2886, '가까이': 2887, '놓은': 2888, '술': 2889, '주장': 2890, '이를': 2891, '가능하신가요': 2892, '원인': 2893, 'o': 2894, '선정': 2895, '상식': 2896, '말씀드렸던': 2897, '기초': 2898, '자신감': 2899, '모르겠고': 2900, '반대': 2901, '주셔도': 2902, '날씨': 2903, '랩핑': 2904, '싶어': 2905, '쓰레기': 2906, '시장': 2907, '분이세요': 2908, '부장': 2909, '다달이': 2910, '100': 2911, '소유': 2912, '않고요': 2913, '개요': 2914, '듣기': 2915, '보내야': 2916, '했지만': 2917, '해봤는데요': 2918, '파산': 2919, '그런게': 2920, '않았는데': 2921, '지난': 2922, '하던데요': 2923, '받으려고': 2924, '애로': 2925, '이상은': 2926, '친애': 2927, '일일이': 2928, '연대': 2929, '테스트': 2930, '두번째': 2931, '자필': 2932, '바람': 2933, '가능한데': 2934, '해주시면은': 2935, '리볼빙': 2936, '요령': 2937, '받으시게': 2938, '시중': 2939, '문은정': 2940, '급수': 2941, '나도': 2942, '이었어요': 2943, '기능': 2944, '승용차': 2945, '전형': 2946, '클래스': 2947, '학부': 2948, '방산': 2949, '중학교': 2950, '장난감': 2951, '하셨는지': 2952, '50만': 2953, '원하시면': 2954, '형법': 2955, '입출': 2956, '운전': 2957, '주신다고': 2958, '받': 2959, '그러기': 2960, '다라': 2961, '디지털': 2962, '가능하고': 2963, '인척': 2964, '어렵게': 2965, '되는거': 2966, '개는': 2967, '걸려요': 2968, '어려우실': 2969, '되셨죠': 2970, '나오셨어요': 2971, '드리지': 2972, '받을려고': 2973, '어떡해요': 2974, '안되': 2975, '안되면': 2976, '중복': 2977, '30만원': 2978, '와이프': 2979, '머': 2980, '절대로': 2981, '리가': 2982, '있으셔서': 2983, '르': 2984, '옷': 2985, '했는데도': 2986, '보내주시고': 2987, '잡고': 2988, '인지세': 2989, '되시': 2990, '들어가신': 2991, '특히': 2992, '그렇군요': 2993, '아직도': 2994, '싶다고': 2995, '셔': 2996, '주실래요': 2997, '되더라고요': 2998, '출시': 2999, '저렴하게': 3000, '아니지만': 3001, '않기': 3002, '번지': 3003, '10': 3004, '켜': 3005, '7': 3006, '책정': 3007, '달이': 3008, '위쪽': 3009, '적어': 3010, '출구': 3011, '상사': 3012, '학평': 3013, '감사해요': 3014, '수능완성': 3015, '논술': 3016, '적응': 3017, '그래픽': 3018, '좌회전': 3019, '뚜껑': 3020, '나가': 3021, '찾으시는': 3022, '누적': 3023, '윈도우': 3024, '계량기': 3025, '계셨습니까': 3026, '시키고': 3027, '없는거': 3028, '걸어': 3029, '나오시면': 3030, '죄송한데요': 3031, '기업은행': 3032, '상당히': 3033, 'atm': 3034, '나오셨는데': 3035, '하셨고요': 3036, '말고요': 3037, '7월': 3038, '완전히': 3039, '민감한': 3040, '미달': 3041, '잠적': 3042, '어떡합니까': 3043, '연봉': 3044, '다행': 3045, '최고': 3046, '그네': 3047, '안된다': 3048, '드리자면': 3049, '올라갈': 3050, '팔천': 3051, '일찍': 3052, '감안': 3053, '있으면은': 3054, '않는다': 3055, '최선': 3056, '되셔': 3057, '아니라서': 3058, '기한': 3059, '몇개': 3060, '없음': 3061, '끝나면': 3062, '과거': 3063, '쓰면': 3064, '계장': 3065, '정차': 3066, '빨간색': 3067, '서점': 3068, '개선': 3069, '차지': 3070, '고양이': 3071, '반품': 3072, '무연': 3073, '구분': 3074, '감기': 3075, '비율': 3076, '없으시다': 3077, '있으시다': 3078, '8': 3079, '의거': 3080, '좋은데': 3081, '출을': 3082, '복사': 3083, '좋으실': 3084, '네시': 3085, '들리세요': 3086, '사천': 3087, '소액': 3088, '나면은': 3089, '삼십만': 3090, '보시고요': 3091, '끌': 3092, '치면': 3093, '보시면요': 3094, '커피빈': 3095, '김기훈': 3096, '하시면요': 3097, '만료': 3098, '반응': 3099, '종류': 3100, '들으려고': 3101, '시내버스': 3102, '여명': 3103, '수입': 3104, '육백': 3105, '보여요': 3106, '량': 3107, '하니': 3108, '열한': 3109, '이렇게만': 3110, '색깔': 3111, '보이시나요': 3112, '자연': 3113, '의자': 3114, '50만원': 3115, '방지': 3116, '아버지': 3117, '표정': 3118, '만들': 3119, '식사': 3120, '따': 3121, '리드': 3122, '방송': 3123, '태도': 3124, '재수강': 3125, '동기': 3126, '해보신': 3127, '만들어서': 3128, '되시는지': 3129, '사람과': 3130, '봤던': 3131, '2천만': 3132, '나오지': 3133, '김인수라고': 3134, '나오잖아요': 3135, '아시겠어요': 3136, '걸리세요': 3137, '일반인': 3138, '비자': 3139, '용의자': 3140, '역시': 3141, '말씀드려도': 3142, '경찰청': 3143, '나오게': 3144, '해드릴려고': 3145, '테이프': 3146, '보자': 3147, '외근': 3148, '들어왔어요': 3149, '칠백만': 3150, '해드렸는데': 3151, '호수': 3152, '넣으면': 3153, '해달라는': 3154, '아저씨': 3155, '주셨던': 3156, '말씀드리고': 3157, '다른데': 3158, '했지': 3159, '이상하게': 3160, '봤거든요': 3161, '200만원': 3162, '보증금': 3163, '나오나요': 3164, '신다면': 3165, '논': 3166, '였어요': 3167, '비도': 3168, '부로': 3169, '아픈': 3170, '지역번호': 3171, '지폐': 3172, '산부인과': 3173, '후반': 3174, '프린트': 3175, '자정': 3176, '강사': 3177, '개별': 3178, '커리큘럼': 3179, '진해구': 3180, '합포구': 3181, '세븐': 3182, '더블유': 3183, '고아원': 3184, '거짓말': 3185, '참석': 3186, '매체': 3187, '할게': 3188, '새마을금고': 3189, '말씀드렸다시피': 3190, '2천': 3191, '토탈': 3192, '와가지고': 3193, '문구': 3194, '없도록': 3195, '남자': 3196, '결론': 3197, '그렇잖아요': 3198, '상자': 3199, '9': 3200, 'lg': 3201, '안되는데': 3202, '신건': 3203, '10일': 3204, '는걸': 3205, '누군가': 3206, '있으셔가지고': 3207, '열기': 3208, '해드려': 3209, '받으셨다가': 3210, '02': 3211, '오케이': 3212, '하셔야지': 3213, '위험': 3214, '나쁜': 3215, '가어': 3216, '그러냐': 3217, '간혹': 3218, '들어갔어요': 3219, '한참': 3220, '이었는데': 3221, '됐구요': 3222, '이분': 3223, '모르니까': 3224, '올라와': 3225, '하실려고': 3226, '부득이': 3227, '니요': 3228, '이직': 3229, '되셨던': 3230, '드렸었는데': 3231, '우리나라': 3232, '긴데': 3233, '인데요': 3234, '뜨는데': 3235, '그렇고': 3236, '올린': 3237, '들어가세요': 3238, '나오거든요': 3239, '김영석': 3240, '김희철': 3241, '매우': 3242, '엘': 3243, '하반기': 3244, '아빠': 3245, '5290': 3246, '했었던': 3247, '원서': 3248, '은행원': 3249, '겹': 3250, '신호': 3251, '눌러서': 3252, '재수생': 3253, '어렵구요': 3254, '되지가': 3255, '멀티미디어': 3256, '추진': 3257, '과태료': 3258, '성산구': 3259, '원부': 3260, '블록': 3261, '정해': 3262, '없으셔서': 3263, '옥션': 3264, '시라': 3265, '재산권': 3266, '되는게': 3267, '아실': 3268, '많을': 3269, '돼있어요': 3270, '고정': 3271, '하신거': 3272, '받으시면은': 3273, '아까는': 3274, '약정': 3275, '안쪽': 3276, '도중': 3277, '확실한': 3278, '많다': 3279, '되진': 3280, '버리면은': 3281, '여의도': 3282, '콜': 3283, '되냐면': 3284, '현금화': 3285, '그리고요': 3286, '캔슬': 3287, '있겠죠': 3288, '괜찮을': 3289, '던데': 3290, '외환': 3291, '바쁘신': 3292, '넘는': 3293, '아주': 3294, '성인': 3295, '얼른': 3296, '커피숍': 3297, '길이': 3298, '많습니다': 3299, '몰라가지고': 3300, '부의': 3301, '수생': 3302, '원님': 3303, '엑스': 3304, '해보니': 3305, '인용': 3306, '차선': 3307, '맨홀': 3308, '지방세': 3309, '그런건': 3310, '가기': 3311, '중심': 3312, '3분': 3313, '7일': 3314, '됬어요': 3315, '겠죠': 3316, '이중': 3317, '세탁': 3318, '보유': 3319, '정서': 3320, '중개': 3321, '잔': 3322, '이긴': 3323, '넉넉히': 3324, '이야': 3325, '교체': 3326, '괜찮으시고요': 3327, '환전': 3328, '사시': 3329, '그러시면요': 3330, '그러시구나': 3331, '1000만원': 3332, '대리점': 3333, '경기': 3334, '연금': 3335, '적혀': 3336, '비타민': 3337, '딸': 3338, '기부': 3339, '인식': 3340, '모색': 3341, '않으면': 3342, '장기': 3343, '믄': 3344, '면은': 3345, '산출': 3346, '수신': 3347, '여행': 3348, '나오셨고': 3349, '터미널': 3350, '의회': 3351, '보내주셔야': 3352, '써서': 3353, '화가': 3354, '행정': 3355, '환승': 3356, '땅': 3357, '없네요': 3358, '상대로': 3359, '사건번호': 3360, '낮은': 3361, '누르시고': 3362, '동이': 3363, '앞서서': 3364, '힘들': 3365, '모르십니까': 3366, '말씀드렸잖아요': 3367, '특정': 3368, '드리게': 3369, '눈': 3370, '평소': 3371, '없지': 3372, '했': 3373, '나왔을': 3374, '해드렸던': 3375, '아닌데요': 3376, '원본': 3377, '되긴': 3378, '되었다는': 3379, '시라구요': 3380, '된게': 3381, '맞다고': 3382, '가가': 3383, '흔적': 3384, '만이': 3385, '보내주세요': 3386, '눌러주시고요': 3387, '직종': 3388, '나와있는데': 3389, '드리거든요': 3390, '하긴': 3391, '빠져나가는': 3392, '아무튼': 3393, '섭외': 3394, '안될까': 3395, '갔어요': 3396, '걸고': 3397, '들어가면은': 3398, '계시는데': 3399, '석': 3400, '누': 3401, '혹': 3402, '따로따로': 3403, '주식': 3404, '비슷한': 3405, '넘겨': 3406, '시킨': 3407, '싶다': 3408, '경비실': 3409, '기를': 3410, '채무자': 3411, '필요하신지': 3412, '졸업': 3413, '매매': 3414, '서요': 3415, '캡처': 3416, '드리긴': 3417, '보조': 3418, '들으': 3419, '보내신': 3420, 'cctv': 3421, '하기로': 3422, '데이': 3423, '참해': 3424, '이었던': 3425, '성재': 3426, '맞고': 3427, '납품': 3428, '메뉴': 3429, '요것': 3430, '브라우저': 3431, '자책': 3432, '도시': 3433, '아가씨': 3434, '산단': 3435, '외국어': 3436, '않을까요': 3437, '되어있어요': 3438, '2월': 3439, '드린거에요': 3440, '하신거죠': 3441, '빠르면': 3442, '팔달구': 3443, '하도': 3444, '맡고': 3445, '20%': 3446, '300만': 3447, '어딘데': 3448, '대동': 3449, '알아보시고': 3450, '에스크로': 3451, '가시면은': 3452, '신용등급': 3453, '없게끔': 3454, '모르겠지만': 3455, '주면': 3456, '의뢰': 3457, '3일': 3458, '2일': 3459, '보셨던': 3460, '1시간': 3461, '해드리고요': 3462, '순위': 3463, '해주신다고': 3464, '손님': 3465, '하시던': 3466, '왔거든요': 3467, '해주': 3468, '셨': 3469, '볼까': 3470, '해주셔': 3471, '작은': 3472, '로그': 3473, '기회': 3474, '거치': 3475, '보셨을': 3476, '이냐': 3477, '이백만원': 3478, '일산': 3479, '기다려야': 3480, '타고': 3481, '똑같아요': 3482, '려고': 3483, '가끔': 3484, '들으신': 3485, '말씀드려야': 3486, '역서': 3487, '한장': 3488, '그만큼': 3489, '맞게': 3490, '누군지': 3491, '지나고': 3492, '나와야': 3493, '이거든요': 3494, '소진': 3495, '딴': 3496, '월말': 3497, '그러거든요': 3498, '나눠져': 3499, '오프라인': 3500, '십일': 3501, '신경': 3502, '의도': 3503, '어쨌거': 3504, '하진': 3505, '시켜야': 3506, '영향': 3507, '복잡한': 3508, '해주셨고': 3509, '블로그': 3510, '않는다고': 3511, '계설': 3512, '고등학생': 3513, 'http': 3514, '네모': 3515, '요지': 3516, '갤럭시': 3517, '팔만': 3518, '거여': 3519, '탁금': 3520, '안양': 3521, '335만원': 3522, '중고': 3523, '않으시고요': 3524, '가급적': 3525, '말본': 3526, '들어야': 3527, '답지': 3528, '표기': 3529, '실무': 3530, '생태': 3531, '번호판': 3532, '강소': 3533, '강일': 3534, '지구과학': 3535, '품절': 3536, '규격': 3537, '선불': 3538, '아니니까': 3539, '면허증': 3540, '월급': 3541, '500만': 3542, '복제': 3543, '3천만': 3544, '있으시니까': 3545, '지가': 3546, '했구요': 3547, '의향': 3548, '편한': 3549, '들어온': 3550, '마포': 3551, '어렵다': 3552, '되셨습니다': 3553, '된다면은': 3554, '개입': 3555, '고발장': 3556, '아니지': 3557, '맞으시고': 3558, '말로': 3559, '여섯시': 3560, '넣어서': 3561, '이천만원': 3562, '보면서': 3563, 'oooo': 3564, '장난': 3565, '말씀드리': 3566, '같으신': 3567, '？': 3568, 'nh': 3569, '받아가지고': 3570, '계실까': 3571, '주셨는데요': 3572, '까지가': 3573, '해주면': 3574, '어떤거': 3575, '맞은편': 3576, '모르겠습니다': 3577, '할라': 3578, '삼차': 3579, '계실': 3580, '주인': 3581, '터치': 3582, '뜨거든요': 3583, '보셨나요': 3584, '혹여': 3585, '다니고': 3586, '준다': 3587, '적어주세요': 3588, '같긴': 3589, '강호': 3590, '일수': 3591, '서네': 3592, '글씨': 3593, 'x': 3594, '익스': 3595, '인재': 3596, '설비': 3597, '불확실': 3598, '텐': 3599, '보조금': 3600, '이과': 3601, '아니시고요': 3602, '모르겠네': 3603, '취해': 3604, '담겨져': 3605, '편하게': 3606, '련': 3607, '요건': 3608, '인정': 3609, '쌓아': 3610, '나온다는': 3611, 'sc': 3612, '설계': 3613, '업데이트': 3614, '받는다고': 3615, '같아서요': 3616, '거가': 3617, '그러셔서': 3618, '낸': 3619, '두고': 3620, '나왔는데': 3621, '단계': 3622, '모르시고': 3623, '바이러스': 3624, '커피': 3625, '8517': 3626, '디': 3627, '아우': 3628, '되어있는데': 3629, '화살표': 3630, '플로': 3631, '감정': 3632, '탑승': 3633, '언어': 3634, '또다시': 3635, '무제한': 3636, '하냐': 3637, '그랬죠': 3638, '주간': 3639, '확신': 3640, '유아': 3641, '올려주신': 3642, '에아': 3643, '관찰': 3644, '주행': 3645, '위증죄': 3646, '친척': 3647, '사촌': 3648, '끼': 3649, '이행': 3650, '공제': 3651, '복습': 3652, '확보': 3653, '일련': 3654, '록': 3655, '주사': 3656, '면제': 3657, '대전': 3658, '지구': 3659, '변형': 3660, '19일': 3661, '드렸지만': 3662, '사가': 3663, '않았다는': 3664, '1500만': 3665, '대검찰청': 3666, '차원': 3667, '도대체': 3668, '받으셔도': 3669, '회선': 3670, '나가고': 3671, '악용': 3672, '잖습니까': 3673, '알겠고요': 3674, '오늘이': 3675, '이력서': 3676, '추정': 3677, '사칭': 3678, '회피': 3679, '명목': 3680, '알겠죠': 3681, '많아서': 3682, '수익': 3683, '꽤': 3684, '힐': 3685, '힘들다': 3686, '하는거죠': 3687, '큰일': 3688, 'ars': 3689, '된다거나': 3690, '안되잖아요': 3691, '이었습니다': 3692, '될거': 3693, '나오는지': 3694, '사십분': 3695, '하겠죠': 3696, '모델': 3697, '삼일': 3698, '보셔도': 3699, '하는거에요': 3700, '사도': 3701, '나요': 3702, '는데요': 3703, '했겠죠': 3704, '배터리': 3705, '만드신': 3706, '주셨어요': 3707, '볼라': 3708, '넘어가는': 3709, '되있는': 3710, '오천만': 3711, '지속': 3712, '안되죠': 3713, '이럴': 3714, '중요한게': 3715, '끄고': 3716, '어렵다고': 3717, '1000만': 3718, '떠요': 3719, '끊는': 3720, '되셨': 3721, '150만': 3722, '들어간다고': 3723, '150': 3724, '도구': 3725, '했었어요': 3726, '다양하게': 3727, '내릴': 3728, '지나': 3729, '시험지': 3730, '합격자': 3731, '하늘색': 3732, '호환성': 3733, '인턴': 3734, '출발': 3735, '적합': 3736, '다양한': 3737, '전문성': 3738, '로터리': 3739, '자동차세': 3740, '차로': 3741, '없어도': 3742, '박사': 3743, '연구개발': 3744, '엣지': 3745, '추석': 3746, '주유소': 3747, '스피드': 3748, '하던': 3749, '단순': 3750, '안됩니다': 3751, '영등포구': 3752, '여러가지': 3753, '동봉': 3754, '되어있어서': 3755, '해봤을': 3756, '별다른': 3757, '500만원': 3758, '자나요': 3759, '괜찮으십니까': 3760, '께선': 3761, '아시잖아요': 3762, 'ip': 3763, '수집': 3764, '들어가요': 3765, '600만': 3766, '김영철': 3767, '스럽게': 3768, '데리': 3769, '하겠습니까': 3770, '형사': 3771, '모습': 3772, '길게': 3773, '사인': 3774, '지난달': 3775, '드리면서': 3776, '빌려': 3777, '하더라구요': 3778, '6월': 3779, '있었습니까': 3780, '지능': 3781, '에가': 3782, '계시구요': 3783, '김영숙': 3784, '떨어진': 3785, '건만': 3786, '이따': 3787, '100%': 3788, '보낼': 3789, '빼서': 3790, '완전': 3791, '되시잖아요': 3792, '숙지': 3793, '인천': 3794, '아니시죠': 3795, '쯤에': 3796, '런가': 3797, '비는': 3798, '나고': 3799, '송달': 3800, '아닌가': 3801, '백오십만원': 3802, '당부': 3803, '되니깐': 3804, '무었': 3805, '천원': 3806, '분안': 3807, '수시로': 3808, '튼': 3809, '바뀐': 3810, '프로요': 3811, '삼백만원': 3812, '보시겠습니까': 3813, '들어오면': 3814, '하자': 3815, '해가지고요': 3816, '거만': 3817, '무시': 3818, '이티': 3819, '그러더라고요': 3820, '며': 3821, '최소한': 3822, '들으시고': 3823, '단순하게': 3824, '줘야': 3825, '받으라고': 3826, '급하게': 3827, '좋게': 3828, '전이': 3829, '있냐고': 3830, '필요하다': 3831, '일방': 3832, '나와가지고': 3833, '대입': 3834, '그러네요': 3835, '규모': 3836, '안되나요': 3837, '반갑습니다': 3838, '그날': 3839, '떠': 3840, '가진': 3841, '있었고': 3842, '계시잖아요': 3843, '사부': 3844, '됐': 3845, '금주': 3846, '잃어버린': 3847, '이하나': 3848, '1588': 3849, '몸': 3850, '되었다': 3851, '지에스': 3852, '공란': 3853, '온다': 3854, '전송': 3855, '계신데': 3856, '자유적금': 3857, '효과': 3858, '달라질': 3859, '내리시면': 3860, '않구요': 3861, '되는가': 3862, '정비': 3863, '지나서': 3864, '찾아보고': 3865, '고마워요': 3866, '방치': 3867, '핸': 3868, '콜러스': 3869, '희망근로': 3870, '드라마': 3871, '납기': 3872, '목련': 3873, '범행': 3874, '김호철': 3875, '공이': 3876, '넣어야': 3877, '드는': 3878, '11월': 3879, '하시냐': 3880, '보상금': 3881, '시라고요': 3882, '판정': 3883, '실장': 3884, '이니': 3885, '있었습니다': 3886, '없으시기': 3887, '할수': 3888, '허위': 3889, '하시라고': 3890, '뽑아': 3891, '합쳐서': 3892, '자격': 3893, '어디가': 3894, '안해': 3895, '해주셨잖아요': 3896, '당사': 3897, '비엔': 3898, '건의': 3899, '아시다시피': 3900, '보장': 3901, '틱': 3902, '근거': 3903, '과의': 3904, '체결': 3905, '공개': 3906, 'ooooo': 3907, '해드려도': 3908, '받아도': 3909, '여기다가': 3910, '각서': 3911, '물어보고': 3912, '소송': 3913, '잠': 3914, '해드리면은': 3915, '없어가지고': 3916, '할려면': 3917, '보내주신': 3918, '도에': 3919, '아닌지': 3920, '정태준': 3921, '광명': 3922, '여가': 3923, '알집': 3924, '되니': 3925, '2114': 3926, '건내': 3927, '상당': 3928, '부품': 3929, '별개': 3930, '이현주': 3931, '파트': 3932, '습량': 3933, '피디': 3934, '아카데미': 3935, '사무': 3936, '등기부': 3937, '몬': 3938, '소재': 3939, '대기업': 3940, '연결할': 3941, '불편하셨을': 3942, '간단히': 3943, '답': 3944, '12일': 3945, '시켰어요': 3946, '해보도록': 3947, '되었는데요': 3948, '부를': 3949, '차례': 3950, '나신': 3951, '깔끔하게': 3952, '최저': 3953, '되도록': 3954, '설득': 3955, '쓰셨던': 3956, '되느냐': 3957, '2013년': 3958, '에어': 3959, '하실까': 3960, '해주셨는데요': 3961, '단말기': 3962, '개좌': 3963, '서술': 3964, '구백': 3965, '보셨을까요': 3966, '경영': 3967, '어려우실까': 3968, '연령': 3969, '봉': 3970, '인건비': 3971, '본부장': 3972, '월초': 3973, '낮': 3974, '권유': 3975, '필요할': 3976, '거야': 3977, '페': 3978, '활동': 3979, '검수': 3980, '결혼': 3981, '원리': 3982, '추': 3983, '케': 3984, '충': 3985, '뿔': 3986, '건강': 3987, '상가': 3988, '놈': 3989, '무리': 3990, '센': 3991, '이월': 3992, '공구': 3993, '시일': 3994, '안경': 3995, '몇몇': 3996, '문래동': 3997, '십오': 3998, '같은게': 3999, '오랫동안': 4000, '입으신': 4001, '받으셨고': 4002, '있으니깐': 4003, '이런게': 4004, '나눠서': 4005, '사금융': 4006, '넘게': 4007, '외출': 4008, '19': 4009, '어렵기': 4010, '자율': 4011, '알았는데': 4012, '들어가게': 4013, '중지': 4014, '상관없는': 4015, '많으니까': 4016, '납득': 4017, '받으셨죠': 4018, '눈치': 4019, '강남': 4020, '보류': 4021, '그렇게만': 4022, '없으시면은': 4023, '있지요': 4024, '출입국': 4025, '우편물': 4026, '받으셔서': 4027, '불편하신': 4028, '어떤게': 4029, '친절하게': 4030, '법률': 4031, '드릴테니까': 4032, '래서': 4033, '드릴거에요': 4034, '있는게': 4035, '엄': 4036, '으로나': 4037, '만드는': 4038, '받는데': 4039, '육안': 4040, '자로': 4041, '간격': 4042, '어저께': 4043, '보죠': 4044, '다른거': 4045, '눌러주시구요': 4046, '받았을': 4047, '당했다': 4048, '안되시구요': 4049, '오세요': 4050, '보이는데': 4051, '많으세요': 4052, '50': 4053, '천오백만원': 4054, '8시': 4055, '불안해가지고': 4056, '사천만원': 4057, '많게는': 4058, '6시': 4059, '해달라': 4060, '칠백만원': 4061, '중요한거는': 4062, '빌라': 4063, '그러게요': 4064, '분명': 4065, '가능하니까': 4066, '받으려면': 4067, '어딘가': 4068, '보셔서': 4069, '나간다고': 4070, '해주고': 4071, '있어도': 4072, '합산': 4073, '되셨을': 4074, '홍보': 4075, '해놨는데': 4076, '댁': 4077, '해드리는데': 4078, '우량': 4079, '마련': 4080, '여쭈어': 4081, '조합': 4082, '이거는요': 4083, '해야지만': 4084, '미납': 4085, '올려야': 4086, '주시거나': 4087, '신애': 4088, '힘드시겠지만': 4089, '뜨세요': 4090, '뜨는데요': 4091, '문서': 4092, '많은데': 4093, '바뀌는': 4094, '필요없이': 4095, '착각': 4096, '오셔가지고': 4097, '이러면': 4098, '라니까': 4099, '편의': 4100, '받았잖아요': 4101, '계기': 4102, '주셨잖아요': 4103, '쓰셔야': 4104, '마디': 4105, '번의': 4106, '물어보니까': 4107, '감면': 4108, '들어가지고': 4109, '위증': 4110, '싸게': 4111, '아니라는': 4112, '보시거나': 4113, '잃어': 4114, '동행': 4115, '\\\\': 4116, '없으셨고': 4117, '해드렸어요': 4118, '고유': 4119, '하네요': 4120, '구월': 4121, '모를': 4122, '귀': 4123, '보셨죠': 4124, '칠월': 4125, '되더라도': 4126, '되었던': 4127, '20만': 4128, '누르신': 4129, '보이는': 4130, '하였습니다': 4131, '손가락': 4132, '있겠네요': 4133, '놓으신': 4134, '말씀드리기': 4135, '쓴': 4136, '상위': 4137, '받거나': 4138, '어려': 4139, '율': 4140, '없더라고요': 4141, '모르겠어서': 4142, '출생': 4143, '부처': 4144, '교육비': 4145, '누르고': 4146, '동그라미': 4147, '채널': 4148, '열심히': 4149, '기반': 4150, '그래프': 4151, '친화력': 4152, '디자이너': 4153, '티비': 4154, '조경': 4155, '엘피': 4156, '교차': 4157, '마트': 4158, '솔': 4159, '렌스': 4160, '물류': 4161, '특구': 4162, '열처리': 4163, '냉': 4164, '않아서요': 4165, '모르겠어': 4166, '프리': 4167, '해수욕장': 4168, '대림': 4169, '지번': 4170, '사게': 4171, '보건소': 4172, '선발': 4173, '바다로': 4174, '찾으십니까': 4175, '보도블록': 4176, '하세여': 4177, '송전탑': 4178, '영주권자': 4179, '타트': 4180, '미션': 4181, '코로': 4182, '김영민': 4183, '겠네요': 4184, '가능하시죠': 4185, '떄문': 4186, '진행중': 4187, '하신게': 4188, '척': 4189, '부업': 4190, '말씀드렸듯이': 4191, '모레': 4192, '되셨는지': 4193, '26': 4194, '관해': 4195, '위로': 4196, '재단': 4197, '조성': 4198, '38': 4199, '남부': 4200, '시킬': 4201, '대하': 4202, '묻지': 4203, '90만': 4204, '생겼어요': 4205, '막혀': 4206, '싶어요': 4207, '포기': 4208, '강상호': 4209, '유포': 4210, '넘긴': 4211, '쓰지': 4212, '사무소': 4213, '400': 4214, '스포츠': 4215, '보내주면': 4216, '나오셨구요': 4217, '계셔서': 4218, '안나': 4219, '찍은': 4220, '메세지': 4221, '김명식': 4222, '이점': 4223, '공모자': 4224, '아니시기': 4225, '매월': 4226, '빨간': 4227, '되셨잖아요': 4228, '가능하시다고': 4229, '뜨는': 4230, '여신': 4231, '뜬': 4232, '무턱': 4233, '알려주시겠어요': 4234, '여기저기': 4235, '나을': 4236, '백오십': 4237, '그랬거든요': 4238, '내면': 4239, '하기는': 4240, '해주셨기': 4241, '알아봐': 4242, '들어가시기': 4243, '해드린다고': 4244, '좋겠어요': 4245, '들어가신다고': 4246, '하겠다는': 4247, '불러주시겠어요': 4248, '드리면요': 4249, '취급': 4250, '움': 4251, '해드리기': 4252, '들으시는': 4253, '괜찮은데': 4254, '남바': 4255, '클레': 4256, '나가신': 4257, '어떡하죠': 4258, '삼십분': 4259, '올게요': 4260, '계시면은': 4261, '않았을': 4262, '부가세': 4263, '보내준': 4264, '외환은행': 4265, '정이': 4266, '뽑을': 4267, '한지': 4268, '에나': 4269, '결재': 4270, '였거든요': 4271, '나간': 4272, '받았다가': 4273, '아시나요': 4274, '나온다고요': 4275, '들어가니까': 4276, '생계': 4277, '맞출': 4278, '단순히': 4279, '하셔야지만': 4280, '사를': 4281, '과세': 4282, '고걸': 4283, '받았다고': 4284, '돼있으니까': 4285, '될지는': 4286, '번인': 4287, '저렴한': 4288, '찾아서': 4289, '않게': 4290, '계약금': 4291, '캡쳐': 4292, '어서': 4293, '구글': 4294, '아닐까': 4295, '드실': 4296, '수리': 4297, '나와있습니다': 4298, '가신': 4299, '확률': 4300, '있을까': 4301, '에스케이': 4302, '쓰면은': 4303, '그렇': 4304, '바깥': 4305, '는요': 4306, '진술서': 4307, '하이픈': 4308, '안도': 4309, '아르바이트': 4310, '문항': 4311, '37': 4312, '김명섭': 4313, '도청': 4314, '하며': 4315, '소통': 4316, '출제': 4317, '들어가시면은': 4318, '실전': 4319, '정정': 4320, '답안': 4321, '맞을까요': 4322, '반수': 4323, '교과': 4324, '같네요': 4325, '수능특강': 4326, '화학': 4327, '풀이': 4328, '교제': 4329, '사서': 4330, '해봐': 4331, '하는가': 4332, '나왔던': 4333, '고민': 4334, '삼포': 4335, '다리': 4336, '웅천': 4337, '예아': 4338, '맨날': 4339, '대졸': 4340, '전담': 4341, '내주셔서': 4342, '인버터': 4343, '배달': 4344, '똑같': 4345, '토요일': 4346, '후원': 4347, '살려고': 4348, '흰색': 4349, '출과': 4350, '담임': 4351, '뉴런': 4352, '드릴건데': 4353, '하겠어요': 4354, '대안': 4355, '걸려': 4356, '성의': 4357, '페이스북': 4358, '터': 4359, '말씀드렸어요': 4360, '되시면요': 4361, '당황': 4362, '3시': 4363, '형님': 4364, '일도': 4365, '않으셨어요': 4366, '있으시다면': 4367, '안되세요': 4368, '되어서요': 4369, '경위': 4370, '진위': 4371, '되셨습니까': 4372, '그렇게는': 4373, '600만원': 4374, '보라': 4375, '시켜서': 4376, '드리겠어요': 4377, '잠실': 4378, '됐든': 4379, '회의': 4380, '깐요': 4381, '첫째': 4382, '특': 4383, '초본': 4384, '넉': 4385, '하던지': 4386, '되지만': 4387, '한계': 4388, '열두': 4389, '괜찮으시겠습니까': 4390, '용량': 4391, '창업': 4392, '어어': 4393, '하기를': 4394, '되있는데': 4395, '12월': 4396, '회색': 4397, '받으시거나': 4398, '만들었는데': 4399, '돼있습니다': 4400, '들어가기': 4401, '사이버': 4402, '구나': 4403, '50%': 4404, '재부팅': 4405, '투명': 4406, '알약': 4407, '하십': 4408, '안된': 4409, '명세서': 4410, '가능하면': 4411, '서어': 4412, '학자금': 4413, '싶으신': 4414, '불가능한': 4415, '없나': 4416, '가이드': 4417, '삼이': 4418, '이아': 4419, '에프': 4420, '목표': 4421, '진로': 4422, '결여': 4423, '였던': 4424, '귀중한': 4425, '프레임': 4426, '저수지': 4427, '상인': 4428, '계곡': 4429, '명강': 4430, '노': 4431, '은폐': 4432, '습득': 4433, '나셔서': 4434, '5천만': 4435, '계시기': 4436, '화장실': 4437, 'ooooooo': 4438, '가능하셔서': 4439, '그러셨구나': 4440, '사채': 4441, '리기': 4442, '활': 4443, '부족하다고': 4444, '한적한': 4445, '목동': 4446, '장애인': 4447, '불후': 4448, '말고도': 4449, '족': 4450, '금지': 4451, '칠십만원': 4452, '머리': 4453, '단어': 4454, '가치': 4455, '작품': 4456, '의원': 4457, '비서실': 4458, '공매': 4459, '접': 4460, '70': 4461, '쓰': 4462, '반려': 4463, '보건': 4464, '탁': 4465, '전력': 4466, '단수': 4467, '없으시다고': 4468, '나오는데요': 4469, '시켰습니다': 4470, '기다리면': 4471, '기다리시면': 4472, '어딘': 4473, '할거에요': 4474, '십이월': 4475, '같더라고요': 4476, '휴무': 4477, '받게끔': 4478, '했습니까': 4479, '항목': 4480, '됐으면': 4481, '의적': 4482, '조사해': 4483, '납입': 4484, '있었는지': 4485, '점도': 4486, '받는다': 4487, '답장': 4488, '이러': 4489, '드리지만': 4490, '16일': 4491, '않으시면': 4492, '받으시고요': 4493, '올라가서': 4494, '의무': 4495, '한다고요': 4496, '다섯시': 4497, '들었을': 4498, '집단': 4499, '않는데요': 4500, '대형': 4501, '없었기': 4502, '들어가시는데': 4503, '회생': 4504, '갚아야': 4505, '계시고요': 4506, '9일': 4507, '징역': 4508, '편이': 4509, '취조': 4510, '치가': 4511, 'skt': 4512, '20만원': 4513, '들립니다': 4514, '해드립니다': 4515, '봐야죠': 4516, '받으면은': 4517, '450': 4518, '10%': 4519, '많아가지고': 4520, '에다가는': 4521, '꾸준히': 4522, '목돈': 4523, '800': 4524, '걸리는': 4525, '전화하니까': 4526, '2000만원': 4527, '있는지는': 4528, '나기': 4529, '일일': 4530, '변재': 4531, '남겨주시면': 4532, '가능하시니깐': 4533, '해줘야': 4534, '이동해': 4535, '이자나': 4536, '아까전에': 4537, '보는데': 4538, '아니냐': 4539, '였습니다': 4540, '보내시면': 4541, '들어오시면은': 4542, '팔백만원': 4543, '맞으시면': 4544, '가는거에요': 4545, '안되니까': 4546, '아니시거든요': 4547, '되겠다': 4548, '그러죠': 4549, '구천': 4550, '되셨으면은': 4551, '아무나': 4552, '아니시잖아요': 4553, '오지': 4554, '현찰': 4555, '가세': 4556, '집은': 4557, '좋고': 4558, '없이는': 4559, '누락': 4560, '있으셔서요': 4561, '많으셨습니다': 4562, '차액': 4563, '이래서': 4564, '이런데': 4565, '이십오': 4566, '되셨네요': 4567, '했나요': 4568, '에게는': 4569, '힘든': 4570, '해보시는': 4571, '통틀어': 4572, '거절': 4573, '나가야': 4574, '나실': 4575, '동네': 4576, '갖다': 4577, '오를': 4578, '볼께요': 4579, '하시든지': 4580, '할라고': 4581, '버리고': 4582, '들어갔다': 4583, '1600': 4584, '20분': 4585, '하면서요': 4586, '녹취되': 4587, '끊으신': 4588, '해주셔야지': 4589, '필요한지': 4590, '놔서': 4591, '많잖아요': 4592, '세상': 4593, '그리': 4594, '2012년': 4595, '바라겠습니다': 4596, '3천': 4597, '생기': 4598, '기도': 4599, '는데': 4600, '계시나요': 4601, '해봐서': 4602, '서초동': 4603, '이차': 4604, '있지는': 4605, '17': 4606, '적어야': 4607, '비공개': 4608, '이렇': 4609, '예의': 4610, '받았는지': 4611, '케이티': 4612, '들어갔을': 4613, '갠': 4614, '번복': 4615, '흘러': 4616, '들어가는지': 4617, '성공': 4618, '짓고': 4619, '의정부': 4620, '쫙': 4621, '안된다는': 4622, '그랬던': 4623, '어머': 4624, '이랑은': 4625, '실비': 4626, '4년': 4627, '힘들어요': 4628, '가질': 4629, '수술': 4630, '착': 4631, '장단점': 4632, '입구': 4633, '편이세요': 4634, '남았어요': 4635, '게시': 4636, '해서도': 4637, '수색': 4638, '바뀌면서': 4639, '필기': 4640, 'spo': 4641, 'cc': 4642, '용어': 4643, '극장': 4644, '상관없고요': 4645, '되어있는지': 4646, '김강': 4647, '요약': 4648, '사체': 4649, '낙찰': 4650, '쳤는데': 4651, '결격': 4652, '했나': 4653, '정답': 4654, '화법': 4655, '작문': 4656, '배너': 4657, '눌렀더니': 4658, '하셨': 4659, '써도': 4660, '에러': 4661, '였는데': 4662, '재원': 4663, '내리시다': 4664, '싶거든요': 4665, '공통': 4666, '다니는데': 4667, '특강': 4668, '지문': 4669, '맛보기': 4670, '안될': 4671, '탐구': 4672, '닫기': 4673, '유튜브': 4674, '입사': 4675, '프로파일': 4676, '의사결정': 4677, '옮겨': 4678, '나온다던데': 4679, '예술': 4680, '했다는데': 4681, '이륜차': 4682, '수인': 4683, '양도인': 4684, '포차': 4685, '벽산': 4686, '어데': 4687, '카는데': 4688, '눌려': 4689, '어려우시고요': 4690, '나으실': 4691, '송해': 4692, '개관': 4693, '챙겨': 4694, '주무': 4695, '경기장': 4696, '물어볼려고': 4697, '타워': 4698, '위택스': 4699, '치는': 4700, '취상': 4701, '증거물': 4702, '가셔도': 4703, '되시거나': 4704, '괜찮으시면': 4705, '되었을': 4706, '놓을게요': 4707, '에부터': 4708, '전화하는': 4709, '공조': 4710, '영등포': 4711, '태생': 4712, '33': 4713, '싼': 4714, 'kt': 4715, '중단': 4716, '하시라는': 4717, '나가시는데': 4718, '두세': 4719, '물어보는': 4720, '아시겠습니까': 4721, '오라': 4722, '지구대': 4723, '나시면은': 4724, '있었으면': 4725, '권리': 4726, '30만': 4727, '이십사': 4728, '녹화': 4729, '재녹취': 4730, '지방검찰청': 4731, '나오네요': 4732, '말씀드렸습니다': 4733, '왔다고': 4734, '되었거든요': 4735, '같은건': 4736, '올리고': 4737, '안되구요': 4738, '질의': 4739, '선상': 4740, '많기': 4741, '부탁드리고': 4742, '심증': 4743, '다이렉트': 4744, '해줘요': 4745, '보완': 4746, '들으세요': 4747, '짧게는': 4748, '나가면': 4749, '감수': 4750, '나가기': 4751, '7시': 4752, '부가': 4753, '강화': 4754, '드리라고': 4755, '에이치': 4756, '들어오신': 4757, '오빠': 4758, '발권': 4759, '힘드시다': 4760, '받았으면': 4761, '정식': 4762, '사기꾼': 4763, '급한': 4764, '암튼': 4765, '해주셨으면': 4766, '있는거죠': 4767, '만을': 4768, '아홉시': 4769, '할려면은': 4770, '해드릴거구요': 4771, '덜': 4772, '협회': 4773, '편하세요': 4774, '끊으면': 4775, '보단': 4776, '남으셨어요': 4777, '놓으면': 4778, '그럴까': 4779, '통상': 4780, '필요없고': 4781, '잔금': 4782, '강승규': 4783, '괜찮으시다면': 4784, '대납': 4785, '진급': 4786, '그러시고요': 4787, '그러던데': 4788, '있을거': 4789, '다중': 4790, '있으시다고': 4791, '아니십니까': 4792, '하시려고': 4793, '넘어서': 4794, '정신': 4795, '지장': 4796, '받나요': 4797, '야간': 4798, '양쪽': 4799, '알았죠': 4800, '해준': 4801, '명동': 4802, '됐죠': 4803, '할라고요': 4804, '찰': 4805, '맘': 4806, '상대방': 4807, '맞거든요': 4808, '보니까는': 4809, '900': 4810, '2500': 4811, '보냈는데': 4812, '사모님': 4813, '미래': 4814, '썼어요': 4815, '시냐': 4816, '짜증': 4817, '주셨다고': 4818, '오나요': 4819, '도부터': 4820, '사전': 4821, '모르시면': 4822, '있겠습니다': 4823, '집이요': 4824, '김명희': 4825, '들렸어요': 4826, '같다고': 4827, '있더라도': 4828, '가슴': 4829, '단돈': 4830, '제어': 4831, '나오면은': 4832, '승급': 4833, 'kbb': 4834, '만나게': 4835, '싸': 4836, '실물': 4837, '노출': 4838, '모른다': 4839, '시민': 4840, '누르시면은': 4841, '갔는데': 4842, '제이': 4843, '살갑': 4844, '됐습니까': 4845, '해주셨던': 4846, '부근': 4847, '짚어': 4848, '비산동': 4849, '열릴': 4850, '측면': 4851, '부착': 4852, '않았기': 4853, '300': 4854, '보도록': 4855, '계셨던': 4856, '공연': 4857, '특이': 4858, '해주시거나': 4859, '주셨나요': 4860, '지를': 4861, '똑같나요': 4862, '다니시는': 4863, '되어있고요': 4864, '단원': 4865, '칭찬': 4866, '강점': 4867, '관심': 4868, '보수': 4869, '존중': 4870, '뗄': 4871, '줌': 4872, '구현': 4873, '고려': 4874, '개장': 4875, '보네요': 4876, '어려워서요': 4877, '하신단': 4878, '봉인': 4879, '이음': 4880, '가능하구요': 4881, '대통령': 4882, '교대': 4883, '지적': 4884, '카운트': 4885, '번거로우시겠지만': 4886, '눌러주신': 4887, '래핑': 4888, '가을': 4889, '중학생': 4890, '도서관': 4891, '뜨면': 4892, '배수지': 4893, '호스': 4894, '적립': 4895, '드린건데': 4896, '그러실': 4897, '해봤더니': 4898, '내시': 4899, '필요한데요': 4900, '있어야지': 4901, '하지만은': 4902, '주신다': 4903, '아니야': 4904, '있겠지만': 4905, '130': 4906, '이대로': 4907, '아니시라고': 4908, '해주시겠습니까': 4909, '하셨단': 4910, '들어가는데': 4911, '2300만원': 4912, '백원': 4913, '욕': 4914, '가능하신지': 4915, '필요하세요': 4916, '붕': 4917, '손실': 4918, '버리': 4919, '유임': 4920, '해준다': 4921, '하는지를': 4922, '지나면': 4923, '편하실': 4924, '거란': 4925, '맛있게': 4926, '다는': 4927, '할건데': 4928, '구제': 4929, '나온다': 4930, '이개': 4931, '방침': 4932, '아니거든요': 4933, '직책': 4934, '해주셨어요': 4935, '부족한': 4936, '아니잖습니까': 4937, '찾아야': 4938, '하겠다고': 4939, '생긴': 4940, '만이라도': 4941, '단체': 4942, '모르잖아요': 4943, '들어올': 4944, '맞춰가지고': 4945, '서초구': 4946, '일체': 4947, '돼서요': 4948, '출국': 4949, '해주시는데': 4950, '퇴직금': 4951, '해놓을': 4952, '필요하다는': 4953, '갔더니': 4954, '보냈어요': 4955, '고렇': 4956, '1301': 4957, '구를': 4958, '김형석': 4959, '눌렀는데': 4960, '끝난': 4961, '같던데': 4962, '정가': 4963, '해보실': 4964, '요일': 4965, '리스트': 4966, '캠퍼스': 4967, '에너지': 4968, '어려우시구요': 4969, '책상': 4970, '장애': 4971, '양수': 4972, '고장': 4973, '조심해서': 4974, '하더라고': 4975, '가능하기': 4976, '네트워크': 4977, '천이': 4978, '요양보호사': 4979, '오션': 4980, '빌': 4981, '곡동': 4982, '취득세': 4983, '센치': 4984, '솔루션': 4985, '바꿀': 4986, '억울한': 4987, '부탁드려요': 4988, '벌': 4989, '되는지를': 4990, '걱': 4991, '틀린': 4992, '남는': 4993, '이십만원': 4994, '붙이시고': 4995, '표': 4996, '매물': 4997, '동일하신': 4998, '인문': 4999, '누른': 5000, '이익': 5001, '차고': 5002, '오네': 5003, '부지': 5004, '민세': 5005, '들어가셔': 5006, '막아': 5007, '하락': 5008, '떠가지고': 5009, '상대': 5010, '괜찮은': 5011, '축소': 5012, '부인': 5013, '나가거든요': 5014, '대장': 5015, '온천': 5016, '반도체': 5017, '순간': 5018, '돌': 5019, '파란': 5020, '득': 5021, '미터': 5022, '볼펜': 5023, '펜': 5024, '잡지': 5025, '고향': 5026, '깔': 5027, '크기': 5028, '시켰다는': 5029, '오신다고': 5030, '필': 5031, '팔고': 5032, '0668': 5033, '웬만하면': 5034, '일절': 5035, '해야죠': 5036, '해보면': 5037, '152조': 5038, '않았고요': 5039, '운전면허증': 5040, '없으시다는': 5041, '알아봤는데': 5042, '%': 5043, '2016': 5044, '분이요': 5045, '짐작': 5046, '분인데요': 5047, '싫다': 5048, '하지는': 5049, '위험성': 5050, '왔습니다': 5051, '겹치': 5052, '삼천만': 5053, '필요하다고': 5054, '말씀드렸는데': 5055, '없애': 5056, '없어진': 5057, '오셔야': 5058, '않는다는': 5059, '몰랐고': 5060, '배제': 5061, '계셨다가': 5062, '되셨으니까': 5063, '과장하고': 5064, '알아볼': 5065, '돼도': 5066, '감사한데요': 5067, '360': 5068, '해드리잖아요': 5069, '도저히': 5070, '일부러': 5071, '모아': 5072, '알다시피': 5073, '갤': 5074, '최동': 5075, '와의': 5076, '있어가지고요': 5077, '하신다라고': 5078, '유념': 5079, '궁금한게': 5080, '계셔야': 5081, '있으시면요': 5082, '안나는데': 5083, '압수수색': 5084, '벌금형': 5085, '들어왔거든요': 5086, '폐': 5087, '180': 5088, '계십니다': 5089, '할만': 5090, '공모': 5091, '취기': 5092, '하시는거에요': 5093, '출하': 5094, '설하신': 5095, '들어가겠습니다': 5096, '14일': 5097, '현실': 5098, '섞이게': 5099, '5.5%': 5100, '추심': 5101, '해주실래요': 5102, '29일': 5103, '아닌거': 5104, '넣는거': 5105, '안되네요': 5106, '600': 5107, '드림': 5108, '있으시기': 5109, '하셨으면은': 5110, '눌러주시면은': 5111, '계양': 5112, '웰컴': 5113, '가능하게끔': 5114, '시키시고': 5115, '사마': 5116, '좋으신': 5117, '나가셨다고': 5118, '나왔고': 5119, '갈수': 5120, '들어오나요': 5121, '안되시나요': 5122, '맞으시잖아요': 5123, '됐으니까': 5124, '보내기': 5125, '안되기': 5126, '깔고': 5127, '단기': 5128, '그래야지': 5129, '50분': 5130, '20~30%': 5131, '가까워요': 5132, '아니더라도': 5133, '싫다고': 5134, '믿음': 5135, '고서': 5136, '드리려': 5137, '넘어갈': 5138, '해봤어요': 5139, ')': 5140, '들으셨죠': 5141, '맞으시구요': 5142, '신다면은': 5143, '걸리시는': 5144, '해놨어요': 5145, '알아가지고': 5146, '물어보면': 5147, '하면요': 5148, '하나카드': 5149, '육개': 5150, '갚으면': 5151, '칠원': 5152, '봐주시면': 5153, '나오더라고요': 5154, '임플란트': 5155, '있었잖아요': 5156, '활성화': 5157, '버린': 5158, '낫': 5159, '필요한게': 5160, '실만': 5161, '비싼': 5162, '받는게': 5163, '하시는거': 5164, '나게': 5165, '협박': 5166, '아니네요': 5167, '좋겠는데': 5168, '본다고': 5169, '드리고자': 5170, '이삼천': 5171, '세시': 5172, '계시는데요': 5173, '낮게': 5174, '되시네요': 5175, '십삼만': 5176, '명함': 5177, '모르시니까': 5178, '있냐': 5179, '까지라고': 5180, '시공': 5181, '그러진': 5182, '됬다': 5183, '그러던데요': 5184, '올릴': 5185, '드시는': 5186, '적어도': 5187, '서랑': 5188, '알고요': 5189, '불가능하세요': 5190, '나오시는데': 5191, '유동': 5192, '덮어': 5193, '나가셔야': 5194, '까지에': 5195, '들께서': 5196, '부족하다': 5197, '아쉬운': 5198, '어렵다는': 5199, '나이스': 5200, '한다면은': 5201, '떠버리': 5202, '찾아보니까': 5203, '도록': 5204, '십사': 5205, '뽑고': 5206, '으음': 5207, '오프': 5208, '삼십만원': 5209, '있진': 5210, '친추': 5211, '번거롭게': 5212, '죄송한': 5213, '나가지고': 5214, '드리니까': 5215, '기다려주시면': 5216, '끊는다': 5217, '보내줄': 5218, '그러셔도': 5219, '임시': 5220, '8일': 5221, '나오셔가지고': 5222, '그러지': 5223, '오기': 5224, '떨어지면': 5225, '맞지': 5226, '돌릴': 5227, '멀리': 5228, '그렇구요': 5229, '할려고요': 5230, '순서': 5231, '영업일': 5232, '가셔야': 5233, '들어가시는데요': 5234, '필요없어요': 5235, '받잖아요': 5236, '뭡': 5237, '돈세탁': 5238, '애매한': 5239, '주셨고': 5240, '함구': 5241, '있을게요': 5242, '제시': 5243, '만들고': 5244, '물어봐야': 5245, '쓰실': 5246, '타사': 5247, '생기신': 5248, '창고': 5249, '천안': 5250, '있을까봐': 5251, '전직': 5252, '돼있는데': 5253, '맞다면': 5254, '않았을까': 5255, '앞선': 5256, '사십세': 5257, '아신다': 5258, '됐거든요': 5259, '왔다는': 5260, '만들었어요': 5261, '떴어요': 5262, '010': 5263, '든가': 5264, '뜨': 5265, '써있고': 5266, '안되시거나': 5267, '명확하게': 5268, '없으시네요': 5269, '고어': 5270, '어릴': 5271, '방조': 5272, '일명': 5273, '대검': 5274, '하지도': 5275, '받기로': 5276, '취할': 5277, '해주시기': 5278, '바라고요': 5279, '하신데': 5280, '안드로이드': 5281, '십팔일': 5282, '바꿨는데': 5283, '넘으면': 5284, '보낸다': 5285, '바뀌면': 5286, '주신다는': 5287, '넘어가고': 5288, '안되더라고요': 5289, '있느냐': 5290, '받으시려면': 5291, '유연하게': 5292, '힘드니까': 5293, '하겠는데': 5294, '들려서': 5295, '만나고': 5296, '좌측': 5297, '있었다': 5298, '당해서': 5299, '만들었던': 5300, '800만': 5301, '씨엠': 5302, '바꿨습니다': 5303, '씨디': 5304, '보네': 5305, '흐': 5306, '않았나요': 5307, '경력': 5308, '상이': 5309, '김찬': 5310, '당연한': 5311, '서버': 5312, '쳐': 5313, '해놓으면': 5314, '받으러': 5315, '작게': 5316, '내려오셔가지고': 5317, '쌍': 5318, '서에': 5319, '16년': 5320, '15년': 5321, '않은데': 5322, '돼있어서': 5323, '돼있나요': 5324, '안양시': 5325, '통제': 5326, '있구나': 5327, '최성우': 5328, '800분': 5329, '가까우신': 5330, '거꾸로': 5331, '하셨다면': 5332, '녀': 5333, '조윤석': 5334, '원활한': 5335, '있으셨습니까': 5336, '서부': 5337, '어려운데': 5338, '건지는': 5339, '이경호': 5340, '움직일': 5341, '260': 5342, '쏴': 5343, '90': 5344, '담배': 5345, '도를': 5346, '턱': 5347, '강인': 5348, '확대': 5349, '럼': 5350, '걔': 5351, '자퇴': 5352, '필요하실': 5353, '까는': 5354, '생활기록부': 5355, '패턴': 5356, '에그': 5357, '젠': 5358, '끝나서': 5359, '재결': 5360, '주시겠': 5361, '저걸': 5362, '전화했는데요': 5363, '골': 5364, '있구여': 5365, '끊으려고': 5366, '있다는데': 5367, '듣': 5368, '아이콘': 5369, '즐겨': 5370, '부탁드리겠': 5371, '끊었는데': 5372, '남았다고': 5373, '분리': 5374, '올려주시면': 5375, '스크롤': 5376, '않았고': 5377, '경쟁률': 5378, '지나면은': 5379, '격리': 5380, '뜨시는': 5381, '들어오셔서': 5382, '도계': 5383, '신소재': 5384, '소방': 5385, '몰라가지고요': 5386, '즐거운': 5387, '샀거든요': 5388, '수행': 5389, '우수': 5390, '성향': 5391, '보는지': 5392, '특유': 5393, '완벽': 5394, '받으셨을까요': 5395, '가능해서': 5396, '일러스트': 5397, '진입': 5398, '분하고': 5399, '소가': 5400, '있거든': 5401, '구간': 5402, '의창': 5403, '뒤쪽': 5404, '요새': 5405, '홈피': 5406, '읍': 5407, '동읍': 5408, '집값': 5409, '모르겠네요': 5410, '드라이버': 5411, '자주포': 5412, '소바': 5413, '수처리': 5414, '부시장': 5415, '의정': 5416, '시장님': 5417, '했거든': 5418, '동장': 5419, '되지는': 5420, '하신다면은': 5421, '오래된': 5422, '떠서': 5423, '바로바로': 5424, '있더라구요': 5425, '물리학': 5426, '착지': 5427, '입고가': 5428, '이감': 5429, '안되실': 5430, '가능하시구여': 5431, '로봇': 5432, '랜드': 5433, '박물관': 5434, '수질검사': 5435, '달천': 5436, '갈려고': 5437, '당첨': 5438, '재밌게': 5439, '복지관': 5440, '다자': 5441, '증설': 5442, '파서': 5443, '굴착': 5444, '유기동물': 5445, '살아있는': 5446, '인식표': 5447, '반려견': 5448, '호남로': 5449, '진북': 5450, '뗄려고': 5451, '한국인': 5452, '파랑색': 5453, '담아서': 5454, '들으려면': 5455, '불로': 5456, '남겨주신': 5457, '는아': 5458, '부탁드려도': 5459, '은행가': 5460, '되있어요': 5461, '가야되': 5462, '억울하신': 5463, '나오시면은': 5464, '2015': 5465, '심하게': 5466, '증거인멸죄': 5467, '차명계좌': 5468, '늦으면': 5469, '지마켓': 5470, '탐': 5471, '문래': 5472, '만큼은': 5473, '구심': 5474, '전라남도': 5475, '하였는데': 5476, '벽': 5477, '2500만': 5478, '살의': 5479, '없으시니까': 5480, '가셨어요': 5481, '나오시고': 5482, '누구세요': 5483, '마시라는': 5484, '지어': 5485, '와야': 5486, '41': 5487, '설한': 5488, '이루어진': 5489, '참고인': 5490, '않다는': 5491, '통한': 5492, '12시': 5493, '빌려서': 5494, '기자': 5495, '되며': 5496, '1800': 5497, '2시간': 5498, '의하면': 5499, '되셨다는': 5500, '됐고요': 5501, '만나셔서': 5502, '아셨어요': 5503, '이루어지는': 5504, '언론': 5505, '발언': 5506, '두부': 5507, '4일': 5508, '줬어요': 5509, '좋을거': 5510, '하고있어요': 5511, '전화했는데': 5512, '드렸다가': 5513, '바꿔서': 5514, '많으면': 5515, '주머니': 5516, '막상': 5517, '고모': 5518, '유리하실': 5519, '가능하시겠어요': 5520, '일억': 5521, '갚으시는': 5522, '음악': 5523, '수도권': 5524, '면담': 5525, '해드리거든요': 5526, '나가서': 5527, '조항': 5528, '보시구요': 5529, '없게': 5530, '주시는데요': 5531, '되야': 5532, '글자': 5533, '돼있으세요': 5534, '육천원': 5535, '되든': 5536, '세요': 5537, '있는건': 5538, '백프로': 5539, '해준다는': 5540, '없으시거든요': 5541, '걸리실': 5542, '하신건': 5543, '꺼야': 5544, '케이스': 5545, '없으시다면': 5546, '안심': 5547, '어떡하지': 5548, '그랬잖아요': 5549, '수기': 5550, '들어가셔야': 5551, '뜰': 5552, '가람': 5553, '십이': 5554, '미팅': 5555, '타임': 5556, '정산': 5557, '넘어가면은': 5558, '놔야': 5559, '끊어야': 5560, '반면': 5561, '잖아': 5562, '환하실': 5563, '혼선': 5564, '해주시구요': 5565, '똑같으세요': 5566, '플': 5567, '왔는데요': 5568, '그러면어': 5569, '어렵거든요': 5570, '2000': 5571, '착오': 5572, '해주셨거든요': 5573, '15분': 5574, '받았고': 5575, '이상하다': 5576, '5000만': 5577, '하기도': 5578, '않았어요': 5579, '정말로': 5580, '뭐꼬': 5581, '인터': 5582, '정규직': 5583, '싶습니다': 5584, '한태수': 5585, '많지': 5586, '일거에요': 5587, '최민경': 5588, '보내지': 5589, '해드렸고': 5590, '기소': 5591, '사안': 5592, '받았다는': 5593, '끊을게요': 5594, '매수': 5595, '삼월': 5596, '되었는지': 5597, '가신다고': 5598, '진흥': 5599, '써있는': 5600, '켜져': 5601, '보호자': 5602, '출처': 5603, '다닐': 5604, '명품': 5605, '만들기': 5606, '껏': 5607, 'sns': 5608, '한다던가': 5609, '로간': 5610, '모드': 5611, '생겨서': 5612, '있었을': 5613, '마십': 5614, '바꿔야': 5615, '끝내고': 5616, '들으면서': 5617, '찾은': 5618, '알겠고': 5619, '김두현': 5620, '놨어': 5621, '만나야': 5622, '하신지': 5623, '나왔거든요': 5624, '신거고': 5625, '공업': 5626, '은어': 5627, '짧은': 5628, '쓰셨죠': 5629, '선배': 5630, '인들': 5631, '봤다고': 5632, '가능하면은': 5633, '전문가': 5634, '가능하다': 5635, '비슷하게': 5636, '성해서': 5637, '모르면': 5638, '들어오시면': 5639, '쓰게': 5640, '쓰세요': 5641, '나는데': 5642, '들어와가지고': 5643, '다니는': 5644, '갔다가': 5645, '싶으면': 5646, '소장': 5647, '없었죠': 5648, '200만': 5649, '250만원': 5650, '주시는데': 5651, '돼있죠': 5652, '어렵지만': 5653, '보내주실': 5654, '김성우': 5655, '명단': 5656, '출장': 5657, '끊어서': 5658, '부천': 5659, '주셔': 5660, '끝나면은': 5661, '나누': 5662, '가구': 5663, '일어나고': 5664, '분만': 5665, '공정': 5666, '해주셨을까요': 5667, '되어있거든요': 5668, '주가': 5669, '달라지는': 5670, '객관': 5671, '그니': 5672, '찍어야': 5673, '긴가요': 5674, '어렵고': 5675, '스쿨': 5676, '달인': 5677, '보강': 5678, '통지서': 5679, '좋아요': 5680, '시나': 5681, '볼려': 5682, '보시면네': 5683, '난이도': 5684, '푸실': 5685, '초반': 5686, '풀어야': 5687, '좋지': 5688, '는어': 5689, '친절': 5690, '동사무소': 5691, '그린': 5692, '웹사이트': 5693, '줘서': 5694, '보충': 5695, '시외버스': 5696, '보험금': 5697, '합성동': 5698, '되네': 5699, '자전거': 5700, '배차': 5701, '고저': 5702, '멘토': 5703, '따졌을': 5704, '나인': 5705, '산실': 5706, '청문회': 5707, '베트남': 5708, '죽어': 5709, '됐나요': 5710, '생명과학': 5711, '어시장': 5712, '늦어지고': 5713, '드세요': 5714, '오는데': 5715, '바닷물': 5716, '고아': 5717, '강아지': 5718, '말티즈': 5719, '계동': 5720, '근로장려금': 5721, '했어': 5722, '담아주시면': 5723, '올라와있는': 5724, '일문': 5725, '도표': 5726, '매스': 5727, '끊은': 5728, '참하시고': 5729, '하셨으니까': 5730, '드렸다고': 5731, '건네': 5732, '3000만원': 5733, '강력': 5734, '불가능하시고요': 5735, '분실하거나': 5736, '같으니까': 5737, '캐': 5738, '시켰는데': 5739, '받은거': 5740, '계셨어요': 5741, '오시면은': 5742, '했냐': 5743, '27일': 5744, '느낌': 5745, '보내지는': 5746, '올리면': 5747, '기아': 5748, '이득': 5749, '사라': 5750, '높히는': 5751, '끝나니까': 5752, '신문': 5753, '되어있기': 5754, '싶으시면은': 5755, '하시든': 5756, '모듈': 5757, '갑니다': 5758, '가르쳐': 5759, '필요해요': 5760, '보겠다': 5761, '끊으세요': 5762, '하시냐고': 5763, '있는거에요': 5764, '나눔': 5765, '아니시니까': 5766, '드리는데요': 5767, '격': 5768, '해봐도': 5769, '들어간다': 5770, '만든거라서': 5771, '사백만': 5772, '월세': 5773, '부담스러워서': 5774, '까지나': 5775, '버리는': 5776, '공휴일': 5777, '아니시란': 5778, '중요': 5779, '몰랐어요': 5780, '정치': 5781, '말씀드리고요': 5782, '오랜': 5783, '삼시': 5784, '잔량': 5785, '있다면은': 5786, '하지요': 5787, '놨는데': 5788, '골목': 5789, '27조': 5790, '19조': 5791, '끝났어요': 5792, '병': 5793, '않았습니다': 5794, '스터디': 5795, '본다': 5796, '밝히는지': 5797, '여행사': 5798, '어려운데요': 5799, '우린': 5800, '이어가지고': 5801, '이어': 5802, '나오시는데요': 5803, '골프': 5804, '않으시고': 5805, '김인수라는': 5806, '그러니까는': 5807, '고속도로': 5808, '35': 5809, '희': 5810, '다르세요': 5811, '들리실까': 5812, '아니어서': 5813, '할머니': 5814, '삼억': 5815, '호적': 5816, '돌려주시겠어요': 5817, '깐': 5818, '들어도': 5819, '첨부파일': 5820, '재활용': 5821, '서동': 5822, '되십': 5823, '뜨더라고요': 5824, '문과': 5825, '싶으시다': 5826, '신게': 5827, '찾아볼게요': 5828, '핫': 5829, '3.4': 5830, '카지노': 5831, '유형': 5832, '범용': 5833, '이용자': 5834, '서식': 5835, '일괄': 5836, '유익한가': 5837, '놔': 5838, '과도': 5839, '도과': 5840, '무게': 5841, '가결': 5842, '생명': 5843, '양식': 5844, '연구': 5845, '정수': 5846, '단조': 5847, '철거': 5848, '갑': 5849, '유사': 5850, '존': 5851, '탕': 5852, '세로': 5853, '쉬': 5854, '런': 5855, '구두': 5856, '멈': 5857, '커': 5858, '심리': 5859, '이리': 5860, '뿌': 5861, '특허': 5862, '마우스': 5863, '보거든요': 5864, '살이': 5865, '없다라고': 5866, '해드릴거에요': 5867, '말씀드렸지만': 5868, '알리': 5869, '않으시는': 5870, '하신거고': 5871, '02-530': 5872, '3114': 5873, '되어있고': 5874, '기다릴게요': 5875, '생각나시는': 5876, '다량': 5877, '발신': 5878, '계셨나요': 5879, '군인': 5880, '한건데': 5881, '하셔야죠': 5882, '자사': 5883, '걸리니까': 5884, '1천만': 5885, '김태현': 5886, '없다니까': 5887, '아신': 5888, '해봤습니다': 5889, '포털사이트': 5890, '이루어졌는지': 5891, '있으시냐': 5892, '5천': 5893, '필요한데': 5894, '38만': 5895, '소멸': 5896, '드린다': 5897, '60만': 5898, '서서': 5899, '받거든요': 5900, '예고': 5901, '독': 5902, '이루어질': 5903, '않게끔': 5904, '바쁘세요': 5905, '등재': 5906, '건수': 5907, '퍼': 5908, '48%': 5909, '개인정보보호법': 5910, '갚으셔야': 5911, '보내주지': 5912, '김동철': 5913, '안전한': 5914, '옮기는': 5915, '은멸': 5916, '외가': 5917, '되셨다가': 5918, '나갑니다': 5919, '풀려면': 5920, '구십만': 5921, '묶여': 5922, '보내라고요': 5923, '이서': 5924, '푸는': 5925, '주어진': 5926, '감사한데': 5927, '빌린': 5928, '순번': 5929, '갖고는': 5930, '전세': 5931, '나들목': 5932, '하셨었나요': 5933, '지우는': 5934, '말입': 5935, '상관없습니다': 5936, '김승재': 5937, '0': 5938, '없지만': 5939, '그러한': 5940, '까지고요': 5941, 'sk': 5942, '바라고': 5943, '이시구요': 5944, '준다고': 5945, '되냐': 5946, '시지': 5947, '이하의': 5948, '안되시고': 5949, '사이십': 5950, '오셨다고': 5951, '해주셔야죠': 5952, '놓': 5953, '그러시다면': 5954, '급정지': 5955, '2014년': 5956, '오셨어요': 5957, '가능한건': 5958, '1분': 5959, '드렸': 5960, '걸릴까': 5961, '되셨으면': 5962, '찾으': 5963, '밝히기': 5964, '아시는게': 5965, '드린거구요': 5966, '하고있는': 5967, '당하': 5968, '맞고요': 5969, '이모': 5970, '우리금융': 5971, '볼텐데': 5972, '알고계신': 5973, '구별': 5974, '되실거에요': 5975, '가능하게': 5976, '성명': 5977, '특별한': 5978, '요점': 5979, '김용채': 5980, '도와줄': 5981, '한에서': 5982, '궁금하시거나': 5983, '인정이': 5984, '나오죠': 5985, '받습니다': 5986, '보냈거든요': 5987, '걸리고': 5988, '왔네요': 5989, '남구': 5990, '이상하네요': 5991, '드리잖아요': 5992, '안되시면': 5993, '다른사람': 5994, '해놨거든요': 5995, '제이원': 5996, '400만원': 5997, '1500만원': 5998, '나오시죠': 5999, '내리시면은': 6000, '열었어요': 6001, '9800': 6002, '하셨지만': 6003, '부족하신': 6004, '한단': 6005, '드린게': 6006, '당했다고': 6007, '주진': 6008, '나오니까': 6009, '나오려면': 6010, '끊었는데요': 6011, '들어왔구요': 6012, '감사하겠습니다': 6013, '하시던데': 6014, '전화했을': 6015, '매장': 6016, '보내면': 6017, '대행': 6018, '단말': 6019, '홍길동': 6020, '보낸다고': 6021, '세번': 6022, '무통': 6023, '제비': 6024, '넣어주셔야': 6025, '올게': 6026, '드리는게': 6027, '수당': 6028, '가능하거든요': 6029, '5일': 6030, '야합니다': 6031, '싶지': 6032, '라고요': 6033, '언제나': 6034, '불안해서': 6035, '났네': 6036, '자원': 6037, '없는거죠': 6038, '책임감': 6039, '잡': 6040, '이던': 6041, '전화하셔서': 6042, '해드리구요': 6043, '신거잖아요': 6044, '물어보라고요': 6045, '바쁜': 6046, '알려줄': 6047, '달라고요': 6048, '받으실려고': 6049, '물어보진': 6050, '가시는데': 6051, '하실게요': 6052, '이잖아요': 6053, '대책': 6054, '갚은': 6055, '팔천만': 6056, '보실려고': 6057, '주셨구요': 6058, '가르': 6059, '가잖아요': 6060, '점구': 6061, '해주신다': 6062, '들어왔다': 6063, '왔다가': 6064, '넣었다가': 6065, '올라간': 6066, '가다가': 6067, '상관없는데': 6068, '퀵': 6069, '시대': 6070, '돼있다': 6071, '피하': 6072, '그렇더라고요': 6073, '가봐요': 6074, '깔아야': 6075, '버렸는데': 6076, '있어야죠': 6077, '넘어가요': 6078, '로고': 6079, '중요한건': 6080, '기다렸다가': 6081, '만으로': 6082, '들어가십니다': 6083, '대출받는': 6084, '맞으면': 6085, '끝나게': 6086, '올린다': 6087, '엄청나게': 6088, '1,000만': 6089, '이의제기': 6090, '일원': 6091, '빠짐': 6092, '군대': 6093, '남기지': 6094, '안되지': 6095, '그랬지': 6096, '되는거고': 6097, '직전': 6098, '나가게': 6099, '개정': 6100, '올라가게': 6101, '고액': 6102, '산다': 6103, '받으셨습니까': 6104, '보신다고': 6105, '적게는': 6106, '수월하게': 6107, '들어온다는': 6108, '해보시면은': 6109, '빠져나가게': 6110, '원하세요': 6111, '가져가시면': 6112, '주셨어야': 6113, '전화하신': 6114, '해주셨을': 6115, '알아보려고요': 6116, '그랬어요': 6117, '않는데': 6118, '철회': 6119, '많다고': 6120, '걸리실까': 6121, '방면': 6122, '맞으': 6123, '없던': 6124, '주셔야지만': 6125, '중요한거니까': 6126, '많으셨고요': 6127, '한다던데': 6128, '구십팔만': 6129, '돌아': 6130, '가네': 6131, '복잡하고': 6132, '높아서': 6133, '쓸려고': 6134, '안된데요': 6135, '나오셨나요': 6136, '주셨으면': 6137, '드렸으니까': 6138, '믿을': 6139, '장담': 6140, '긴지': 6141, '공철': 6142, '않으셔서': 6143, '해주시길': 6144, '힘드실': 6145, '줬을': 6146, '가져': 6147, '2만원': 6148, '보험료': 6149, '돼있으신': 6150, '끼리': 6151, '되게끔': 6152, '난다': 6153, '그치': 6154, '천이백만': 6155, '되시지': 6156, '안녕히': 6157, '되있기': 6158, '삼십일': 6159, '이러니까': 6160, '나은': 6161, '지났잖아요': 6162, '주셨기': 6163, '팔일': 6164, '나오시': 6165, '홀씨': 6166, '잇': 6167, '떨어지는': 6168, '세무': 6169, '잔뜩': 6170, '몇번': 6171, '싶으시면': 6172, '나서요': 6173, '하려는': 6174, '쓰시던': 6175, '밖에는': 6176, '무형': 6177, '가셨을': 6178, '드리거나': 6179, '주셔야지': 6180, '이래저래': 6181, '코프': 6182, '보셨습니까': 6183, '알지도': 6184, '드렸지': 6185, '없어지는': 6186, '에라도': 6187, '보일': 6188, '이상만': 6189, '크다': 6190, '고대로': 6191, '시키면': 6192, '막기': 6193, '나가니까': 6194, '매니저': 6195, '나옵니다': 6196, '하시겠다는': 6197, '바꾸시는': 6198, '발뺌': 6199, '얼핏': 6200, '전화해가지고': 6201, '다른데요': 6202, '태강': 6203, '하셨어야': 6204, '잊어': 6205, '분납': 6206, '푸시': 6207, '복잡해요': 6208, '시금': 6209, '시불': 6210, '평생': 6211, '나오시니까': 6212, '원활하게': 6213, '틀려요': 6214, '많으셔서': 6215, 'ibk': 6216, '빌딩': 6217, '적혀있으니까': 6218, '갈까': 6219, '장치': 6220, '끊으시면': 6221, '무작위': 6222, '똑같네요': 6223, '어려우시고': 6224, '46만': 6225, '없겠지만': 6226, '61일': 6227, '3회': 6228, '했듯이': 6229, '송부': 6230, '333,333원': 6231, '집사람': 6232, '2000만': 6233, '하느냐': 6234, '들어와야': 6235, '날라와': 6236, '443833': 6237, '주체': 6238, '처가': 6239, '주시거든요': 6240, '94만': 6241, '김연우': 6242, '소화': 6243, '돌리는': 6244, '외적': 6245, '코인': 6246, '넘기시는': 6247, '제재': 6248, '11시': 6249, '오셨는데': 6250, '생기시는': 6251, '21억': 6252, '뽑아서': 6253, '주면서': 6254, '넘지': 6255, '드셨어요': 6256, '버려': 6257, '찾기': 6258, '있잖아': 6259, '티티': 6260, '영문': 6261, '뭐라구요': 6262, '되는지도': 6263, '간단': 6264, '드리겠': 6265, '감액': 6266, '액수': 6267, '코드명': 6268, '남잖아요': 6269, '측정': 6270, '전화한': 6271, '가중': 6272, '있으시다는': 6273, '본적': 6274, '크지': 6275, '관주': 6276, '계시겠지만': 6277, '됐는데요': 6278, '확실하시고': 6279, '판다': 6280, '되시게': 6281, '샀다': 6282, '지라': 6283, '갯수': 6284, '섞여': 6285, '김현수': 6286, '개면': 6287, '정우': 6288, '항고': 6289, '마라': 6290, '띄어': 6291, '39': 6292, '받겠다는': 6293, '여지': 6294, '편차': 6295, '이여': 6296, '띠': 6297, '하시던지': 6298, '나오던데': 6299, '하시나': 6300, '사중': 6301, '건방지게': 6302, '사람인': 6303, '까지의': 6304, '끊을려고': 6305, '받을라고': 6306, '있더라고': 6307, '지출': 6308, '들리시나요': 6309, '들었거든요': 6310, '상탠': 6311, '들이세요': 6312, '만들면': 6313, '받는거는': 6314, '멈춰': 6315, '빠져나간': 6316, '찾지': 6317, '빼갈': 6318, '멈췄다': 6319, '드리겠는데': 6320, '아니게': 6321, '시킨다고': 6322, '만나시게': 6323, '나왔다': 6324, '으론': 6325, '합시다': 6326, '아마도': 6327, '있으셨어요': 6328, '하시겠습니다': 6329, '여상': 6330, '들어가라고요': 6331, '들어가시고': 6332, '쓴다고': 6333, '80': 6334, '들었네요': 6335, '나와있죠': 6336, '이러는': 6337, '힘들거든요': 6338, '바꾸실': 6339, '마당': 6340, '싶은건': 6341, '6,000만원': 6342, '넣으라고요': 6343, '앉아서': 6344, '한다는데': 6345, '원측': 6346, '많았어요': 6347, '기다려서': 6348, '김민준': 6349, '보내고요': 6350, '교회': 6351, '들도': 6352, '시키겠습니다': 6353, '쓰는데': 6354, '보내냐': 6355, '엉': 6356, '비씨카드': 6357, '좋습니다': 6358, '데요': 6359, '찍혀': 6360, '9만원': 6361, '들어와있는': 6362, '범인': 6363, '독서실': 6364, '계신다고': 6365, '기다리세요': 6366, '나오셨죠': 6367, '바깥쪽': 6368, '읽었습니다': 6369, '필요없구요': 6370, '해봤지만': 6371, '양덕': 6372, '박상욱': 6373, '불가능하신': 6374, '어딜': 6375, '복도': 6376, '일인데요': 6377, '시켜도': 6378, '일칠': 6379, '나오면서': 6380, '애플사': 6381, '종종': 6382, '하시다': 6383, '차만': 6384, '공용': 6385, '않을까': 6386, '적으시면': 6387, '원증': 6388, '명패': 6389, '바뀌게': 6390, '적혀있는': 6391, '찾아도': 6392, '직인': 6393, '중립': 6394, '일십삼만': 6395, '필요하면': 6396, '동원': 6397, '가능하잖아요': 6398, '있지만은': 6399, '전원': 6400, '말씀드리려고': 6401, '정확하진': 6402, '불가능': 6403, '만은': 6404, '태국': 6405, '받을게요': 6406, '하셨었는데': 6407, '편의점': 6408, '그이': 6409, '장사': 6410, '한정': 6411, '승용': 6412, '40만': 6413, '많지는': 6414, '후자': 6415, '40만원': 6416, '광범위한': 6417, '들리는': 6418, '사가정': 6419, '있었나요': 6420, '동일하고': 6421, '되셨다': 6422, '켜야': 6423, '보시기': 6424, '발언권': 6425, '총장': 6426, '들렸다': 6427, '됬다는': 6428, '들이요': 6429, '있겠어요': 6430, '남자친구': 6431, '8200만': 6432, '해논': 6433, '완벽하게': 6434, '가는데': 6435, '그런지': 6436, '나지': 6437, '4만원': 6438, '원도': 6439, '않았습니까': 6440, '청주': 6441, '하셨다던지': 6442, '했네요': 6443, '고합': 6444, '6412': 6445, '해주시면요': 6446, '인걸': 6447, '들리십니까': 6448, '거도': 6449, '호에': 6450, '김강우': 6451, '서영일': 6452, '안되신': 6453, '않았는데요': 6454, '구로': 6455, '이종수': 6456, '차장': 6457, '끝날': 6458, '있다거나': 6459, '받았으니까': 6460, '주시나요': 6461, '어려워': 6462, '올라가는지': 6463, '공공기관': 6464, '대게': 6465, '금강': 6466, '김용수': 6467, '하였던': 6468, '남철': 6469, '경매': 6470, '모시': 6471, '민지원': 6472, '전자제품': 6473, '하시길': 6474, '안되시고요': 6475, '이라던지': 6476, '돌린다고': 6477, '일대일': 6478, '정재호': 6479, '맞지만': 6480, '장점': 6481, '스무': 6482, '테로': 6483, '불금': 6484, '살라': 6485, '해져': 6486, '엄만데': 6487, '국가장학금': 6488, '땐': 6489, '되어있지': 6490, '다르다는': 6491, '안보': 6492, '이까': 6493, '오는지': 6494, '알기': 6495, '풀어서': 6496, '적성검사': 6497, '이용문': 6498, '물어본': 6499, '간이': 6500, '됐었는데': 6501, '하는데네': 6502, '하겠': 6503, '궁금하시면': 6504, '입문': 6505, '볼려고요': 6506, '패스워드': 6507, '모르겠다고': 6508, '들었었거든요': 6509, '뜨나요': 6510, '기다리게': 6511, '이비에스': 6512, '잉': 6513, '없는가': 6514, '싶으면은': 6515, '서울대학교': 6516, '일요': 6517, '축하': 6518, '도아': 6519, '떼면': 6520, '나서도': 6521, '들었던': 6522, '그림': 6523, '안되시는데': 6524, '알아보니까': 6525, '로어': 6526, '계시거든요': 6527, '되는구나': 6528, '있는데이': 6529, '아니어도': 6530, '뜬다고': 6531, '니다': 6532, '가능하': 6533, '방제': 6534, '필요하고': 6535, '아니었나요': 6536, '남아있는': 6537, '완강': 6538, '된다구요': 6539, '연습': 6540, '각형': 6541, '했는가': 6542, '내리실': 6543, '우수한': 6544, '성장': 6545, '시너지': 6546, '컨디션': 6547, '추구': 6548, '세팅': 6549, '과자': 6550, '팅': 6551, '선호': 6552, '동성': 6553, '기세': 6554, '아쉬웠던': 6555, '한데요': 6556, '꼼꼼한': 6557, '했었고': 6558, '예습': 6559, '퍼블리셔': 6560, '세입': 6561, '브이': 6562, '캐릭터': 6563, '맞네요': 6564, '이수': 6565, '전파': 6566, '그러시군요': 6567, '상장': 6568, '수료증': 6569, '지로': 6570, '남겨주시면은': 6571, '타셔야': 6572, '건너편': 6573, '놓겠습니다': 6574, '운동장': 6575, '비치': 6576, '오피스텔': 6577, '구역': 6578, '낀데': 6579, '천자': 6580, '상남동': 6581, '화물': 6582, '되었다면': 6583, '웅천동': 6584, '꼭지': 6585, '우신가요': 6586, '건너': 6587, '거든': 6588, '해가지고아': 6589, '녹수': 6590, '올까': 6591, '어우': 6592, '있으나': 6593, '같아가지고': 6594, '받았거든': 6595, '생산품': 6596, '이십억': 6597, '전자부품': 6598, '국산': 6599, '엠앤': 6600, '입선': 6601, '다변': 6602, '드가': 6603, '제어기': 6604, '였죠': 6605, '케이블': 6606, '들러리': 6607, '않': 6608, '거래처': 6609, '이억': 6610, '제조': 6611, '크레인': 6612, '노면': 6613, '문산': 6614, '부속': 6615, '듣지': 6616, '죽': 6617, '했는': 6618, '바뀔': 6619, '넘어가지를': 6620, '검은색': 6621, '마이크로': 6622, '보드': 6623, '쉬프트': 6624, '허용': 6625, '받아주시면': 6626, '팝업': 6627, '하기에서': 6628, '될지도': 6629, '종일': 6630, '됐었거든요': 6631, '해드렸고요': 6632, '스토어': 6633, '회원정보': 6634, '안되어': 6635, '관람': 6636, '국화축제': 6637, '해가': 6638, '드림파크': 6639, '누리': 6640, '그러셨습니까': 6641, '옮겨라': 6642, '지자체': 6643, '준다는': 6644, '나오진': 6645, '의료인': 6646, '배출': 6647, '테레비': 6648, '여름': 6649, '덥지': 6650, '아이돌': 6651, '보미': 6652, '예보': 6653, '장마': 6654, '사설': 6655, '시술': 6656, '수도관': 6657, '바닥': 6658, '도세': 6659, '정확하십니다': 6660, '길가': 6661, '지하수': 6662, '원룸': 6663, '고물상': 6664, '도그': 6665, '홈플러스': 6666, '하셨는데도': 6667, '스팸함': 6668, '별관': 6669, '산호동': 6670, '장군': 6671, '평안동': 6672, '센텀': 6673, '안녕하세여': 6674, '기지국': 6675, '해서만': 6676, '똑같고': 6677, '듣는다': 6678, '같지는': 6679, '해볼까': 6680, '보다가': 6681, '완자': 6682, '한문': 6683, '되세': 6684, '통계': 6685, '구슬': 6686, '뜨면은': 6687, '테두리': 6688, '알려주신': 6689, '킬링': 6690, '캠프': 6691, '되자마자': 6692, '담겨': 6693, '시냅스': 6694, '감시': 6695, '조용히': 6696, '저렇게': 6697, '시켰거든요': 6698, '3800만원': 6699, '있었다는': 6700, '판사': 6701, '대학로': 6702, '받았죠': 6703, '안되어있는': 6704, '12년': 6705, '하셨거나': 6706, '인터파크': 6707, '검이고요': 6708, '드린다고요': 6709, '5.4%': 6710, '들으니까': 6711, '나오셨지': 6712, '120만': 6713, '그래서요': 6714, '봤냐': 6715, '재차': 6716, '가능하시기': 6717, '1일': 6718, '불가능합니다': 6719, '어떠세요': 6720, '됨으로써': 6721, '에게도': 6722, '하냐면은': 6723, '경찰관': 6724, '열시': 6725, '뵙고': 6726, '이상원': 6727, '당하고': 6728, '보시는데': 6729, '드리겠다고': 6730, '그랬으면': 6731, '없으시잖아요': 6732, '있으니': 6733, '정황': 6734, '갚으셔도': 6735, '개당': 6736, '임대료': 6737, '어려우셔서': 6738, '드렸기': 6739, '받는거에요': 6740, '무직': 6741, '3천만원': 6742, '억': 6743, '김재환': 6744, '됐나': 6745, 'id': 6746, '끝나실': 6747, '하고도': 6748, '있었다면': 6749, '되었거나': 6750, '할거구요': 6751, '되었다는게': 6752, '하셨던지': 6753, '되시겠죠': 6754, '만으로도': 6755, '됐네요': 6756, '보이지': 6757, '해주지': 6758, 'apk': 6759, '천이백만원': 6760, '들께': 6761, '갚을': 6762, '이시잖아요': 6763, '신차': 6764, '많고': 6765, '딜러': 6766, '말소': 6767, '할거다': 6768, '끌어': 6769, '걸리거든요': 6770, '도와주시는': 6771, '대는': 6772, '힘들어서': 6773, '험': 6774, '나가는데': 6775, '일전': 6776, '퀵서비스': 6777, '신설': 6778, '신한카드': 6779, '경에': 6780, '물어볼': 6781, '하는거다': 6782, '어떻게요': 6783, 'bnk': 6784, '이렇게요': 6785, '높혀서': 6786, '있냐면': 6787, '기다릴': 6788, '폐지': 6789, '출이': 6790, '적게': 6791, '있을텐데': 6792, '놓을': 6793, '꽉': 6794, '보내주시겠어요': 6795, '요가': 6796, '연속': 6797, '녹취된': 6798, '얻기': 6799, '얻을': 6800, '변환': 6801, '도와주실': 6802, '있겠습니까': 6803, '드리죠': 6804, '이랬는데': 6805, '넉넉하게': 6806, '해달라고요': 6807, '랜덤': 6808, '단가': 6809, '들어왔다가': 6810, '유실': 6811, '오천만원': 6812, '하시긴': 6813, '단점': 6814, '사일': 6815, '알려주시면': 6816, '역도': 6817, '있으셔야': 6818, '특별히': 6819, '차등': 6820, '성남시': 6821, '십일일': 6822, '이미지': 6823, '두건': 6824, '노력': 6825, '해드릴텐데': 6826, '해드렸잖아요': 6827, '옵니다': 6828, '유리한': 6829, '됬다고': 6830, '해드렸으니까': 6831, '십팔': 6832, '이십분': 6833, '머니를': 6834, '드리겠죠': 6835, '이민용': 6836, '대립': 6837, '받으라는': 6838, '자가세요': 6839, '꼼꼼히': 6840, '말씀드려요': 6841, 'dti': 6842, '받으면서': 6843, '맞게끔': 6844, '지칭': 6845, '올려서': 6846, '싶은데요': 6847, '전화하시는': 6848, '모르죠': 6849, '내려온': 6850, '될게': 6851, '기만': 6852, '나세요': 6853, '중요합니까': 6854, '하실려면': 6855, '빌리든지': 6856, '하시라고요': 6857, '쉬운': 6858, '사나': 6859, '다르긴': 6860, '알고있어요': 6861, '안되십니다': 6862, '돼있다고': 6863, '신다거나': 6864, '하는건데': 6865, '지네': 6866, '없으셨어요': 6867, '왔었는데': 6868, '계시는지': 6869, '나오시잖아요': 6870, '순이익': 6871, '되있고요': 6872, '나오시거든요': 6873, '나오시게': 6874, '30일': 6875, '90일': 6876, '현지': 6877, '썼는데': 6878, '막말': 6879, '메신저': 6880, '최현': 6881, '물어봐도': 6882, '배움': 6883, '신인철': 6884, '빼고는': 6885, '수중': 6886, '대처': 6887, '알려주고': 6888, '나쁘게': 6889, '받으시는데': 6890, '들어갑니다': 6891, '이예': 6892, '아시겠지만은': 6893, '갔는지': 6894, '들어가셔가지고': 6895, '2018년': 6896, '1600만원': 6897, '써있어요': 6898, '끄면은': 6899, '무서워요': 6900, '맞구요': 6901, '신중하게': 6902, '있었죠': 6903, '됬을': 6904, '받으셨으면': 6905, '발전': 6906, '서른': 6907, '들리면': 6908, '재량': 6909, '받던지': 6910, '조용한데': 6911, '아니오': 6912, '벌고': 6913, '나와있으니까': 6914, '넘어갔다고': 6915, '저만': 6916, '없는지를': 6917, '버려서': 6918, '부족해서': 6919, '현황': 6920, '바꾸세요': 6921, '되잖아': 6922, '높이': 6923, '힘내요': 6924, '내라고요': 6925, '목교': 6926, '가져갈': 6927, '이천원': 6928, '만나면': 6929, '배부': 6930, '수동': 6931, '깔려': 6932, '집어': 6933, '배경': 6934, '하이': 6935, '갔을': 6936, '담아야': 6937, '됐다면은': 6938, '위험한': 6939, '장수': 6940, '유알': 6941, '?.': 6942, '닷': 6943, '언급': 6944, '내리는': 6945, 'sb': 6946, '해드리려고': 6947, '국적': 6948, '청원': 6949, '해외여행': 6950, '보실게요': 6951, '믿겠어요': 6952, '그러다가': 6953, '98000원': 6954, '1009': 6955, '57': 6956, '없단': 6957, '퇴직': 6958, '가입자': 6959, '중대': 6960, '어리신': 6961, '암호': 6962, '노란색': 6963, 'tv': 6964, '김광호': 6965, '스탠다드': 6966, '클럽': 6967, '나오기': 6968, '맞나': 6969, '받으셨을': 6970, '그러셔': 6971, '착용': 6972, '접촉': 6973, '국제': 6974, '필요하십니다': 6975, '떼': 6976, '수험표': 6977, '평가원': 6978, '재연': 6979, '해주시면아': 6980, '했었는데요': 6981, '기다려주': 6982, '있고네': 6983, '않아': 6984, '굵은': 6985, '주정': 6986, '뜨고': 6987, '넘어간': 6988, '되어있으세요': 6989, '원대': 6990, '말씀드리면은': 6991, '들어주시면': 6992, '들으셔도': 6993, '쌍둥이': 6994, '누르면은': 6995, '가능하다면': 6996, '하나로': 6997, '드릴께요': 6998, '보이도록': 6999, '말씀드리긴': 7000, '가지구': 7001, '데스크탑': 7002, '서울대': 7003, '로그아웃': 7004, '지나게': 7005, '되거든': 7006, '눌러주시겠어요': 7007, '학력': 7008, '일학년': 7009, '예측': 7010, '공학': 7011, '기다려주세': 7012, '구조': 7013, '필요하고요': 7014, '심화': 7015, '선생': 7016, '세지': 7017, '무상': 7018, '되셔서요': 7019, '안정감': 7020, '느리다라고': 7021, '코로나': 7022, '배우고': 7023, '느리고': 7024, '적합한': 7025, '따뜻한': 7026, '사소한': 7027, '빠르고': 7028, '필요하시면': 7029, '편성': 7030, '설문': 7031, '들으셨을까요': 7032, '정확합니다': 7033, '최적화': 7034, '듣게': 7035, '사는데': 7036, '제작자': 7037, '숲': 7038, '종로': 7039, '집계': 7040, '해주십시오': 7041, '노선': 7042, '바꾸려고': 7043, '받습니까': 7044, '되길': 7045, '전화하라': 7046, '로타리': 7047, '요망': 7048, '다니거든요': 7049, '되겠네': 7050, '지동': 7051, '물어볼라고': 7052, '도자기': 7053, '게뭐': 7054, '부탁드릴까': 7055, '억이': 7056, '기밀': 7057, '복잡': 7058, '모티브': 7059, '애매하네': 7060, '돌려주이소': 7061, '번입': 7062, '진주': 7063, '져': 7064, '오물': 7065, '언니': 7066, '늦어질': 7067, '네요': 7068, '뭐더': 7069, '디바이스': 7070, '앱스토어': 7071, '암': 7072, '매립지': 7073, '물어보려고': 7074, '될지를': 7075, '국시원': 7076, '샘': 7077, '보되': 7078, '추모': 7079, '유치원': 7080, '새는': 7081, '상수': 7082, '가스': 7083, '냄새': 7084, '선수': 7085, '더라고요': 7086, '노점상': 7087, '미니': 7088, '원하신다는': 7089, '돌아가시면': 7090, '웃긴': 7091, '리도': 7092, '되는데여': 7093, '증인': 7094, '불가한': 7095, '부록': 7096, '즉각': 7097, '담아놓으신': 7098, '듣습니까': 7099, '들으시면': 7100, '똑같으신': 7101, '보너스': 7102, '혼합': 7103, '왔을': 7104, '사면': 7105, '저렴': 7106, '청소년증': 7107, '찢어져서': 7108, '해드리도록': 7109, '알겠지만': 7110, '열한시': 7111, '적은요': 7112, '없으셨습니까': 7113, '하는지도': 7114, '채면': 7115, '아는데요': 7116, '난리': 7117, '상승': 7118, '이라고요': 7119, '있으시구요': 7120, '있는지도': 7121, '20': 7122, '중고차': 7123, '3시간': 7124, '가능하시다': 7125, '돌려주셔야': 7126, '부대': 7127, '제안': 7128, '주시면요': 7129, '램': 7130, '빈': 7131, '삼분': 7132, '맛': 7133, '생기거나': 7134, '림': 7135, '오천원': 7136, '만족': 7137, '당한거': 7138, '됬습니다': 7139, '이정호': 7140, '구십팔만원': 7141, '징': 7142, '사십팔': 7143, '아쉽게': 7144, '해드려서': 7145, '편하신': 7146, '열두시': 7147, '힘들게': 7148, '약관': 7149, '살아가면서': 7150, '이삼일': 7151, '500': 7152, '1200만원': 7153, '치기': 7154, '많아': 7155, '2,000만원': 7156, '다라면은': 7157, '어떤지': 7158, '십원': 7159, '있었다고': 7160, '자고': 7161, '힘들어': 7162, '찾았어요': 7163, '오면은': 7164, '할거니까': 7165, '말일': 7166, '않죠': 7167, '귀가': 7168, '많으면은': 7169, '영화': 7170, '뜨실': 7171, '같기는': 7172, '인계동': 7173, '경이': 7174, '전주': 7175, '않지만': 7176, '이러지': 7177, '구속영장': 7178, '유주': 7179, '하느냐에': 7180, '독서': 7181, '다르고': 7182, '컨설팅이': 7183, '포토샵': 7184, '서예': 7185, '돼가': 7186, '시내': 7187, '상용': 7188, '모터': 7189, '새끼': 7190, '죽고': 7191, '위패': 7192, '가능하시': 7193, '나오시나요': 7194, '필요해서요': 7195, '광장': 7196, '증여': 7197, '산문': 7198, '칠일': 7199, '성실하게': 7200, '조작': 7201, '공중': 7202, '이고요': 7203, '안되시니까': 7204, '운동화': 7205, '힘드신': 7206, '접근': 7207, '인간': 7208, '틀': 7209, '자식': 7210, '럴': 7211, '백화점': 7212, '라디오': 7213, '일과': 7214, '서아': 7215, '고기': 7216, '인근': 7217, '붙여': 7218, '강암': 7219, '산호': 7220, '모서리': 7221, '획': 7222, '슈': 7223, '칼': 7224, '탈': 7225, '비트': 7226, '구축': 7227, '편도': 7228, '고시': 7229, '도심': 7230, '특약': 7231, '극': 7232, '꼴': 7233, '속인': 7234, '괄호': 7235, '혼': 7236, '마을': 7237, '택': 7238, '괴': 7239, '러': 7240, '규': 7241, '대중': 7242, '짓': 7243, '엠': 7244, '증가': 7245, '육교': 7246, '밝혀진': 7247, '몰랐을': 7248, '몰랐습니다': 7249, '당하셨건': 7250, '폐쇄': 7251, '따지시고': 7252, '되실거고요': 7253, '생기는': 7254, '생기시면': 7255, '갈거에요': 7256, '되어있나요': 7257, '되어있네요': 7258, '어떤건데': 7259, '놨다': 7260, '11일': 7261, '더욱': 7262, '시끄러운': 7263, '나와있거든요': 7264, '두셔야': 7265, '강원도': 7266, '고성': 7267, '계신거고': 7268, '받으셨는데': 7269, '되셔야지만': 7270, '들리게': 7271, '155조': 7272, '132조': 7273, '걸리는데': 7274, '분입': 7275, '했다거나': 7276, '섞일': 7277, '처럼만': 7278, '있으시네요': 7279, '의정부지방검찰청': 7280, '하였는데요': 7281, '여건': 7282, '해드린다고요': 7283, '마포구': 7284, '있으셨나요': 7285, '서른한': 7286, '나가죠': 7287, '틀립니다': 7288, '까지요': 7289, '천삼백': 7290, '적당해요': 7291, '10년': 7292, '이십사만': 7293, '낸다고': 7294, '없네': 7295, '높여': 7296, '않으셨지': 7297, '주셨다거나': 7298, '목포': 7299, '아는지': 7300, '전화하세요': 7301, '불가능하기': 7302, '인지도': 7303, '없었는지': 7304, '휴대전화': 7305, '하시고도': 7306, '보셨다': 7307, '90%': 7308, '써주시는': 7309, '3등': 7310, '급까지': 7311, '적발': 7312, '걸리시고요': 7313, '공백': 7314, '필요한가요': 7315, '필요하시다고': 7316, '하고서': 7317, '불안하시지': 7318, '가능하다면은': 7319, '빠져나가면': 7320, 'cd': 7321, '명확하지': 7322, '막아놨다는': 7323, '불응': 7324, '구서': 7325, '물어보시지': 7326, '올라오신다고': 7327, '뒤늦게': 7328, '내려오셨고요': 7329, '서두르시면': 7330, '구자춘': 7331, '꼬였는데': 7332, '걸렸고요': 7333, '찾아보려고': 7334, '객': 7335, '괜찮다': 7336, '그랬기': 7337, '된다고는': 7338, '빌렸거든요': 7339, '푸셔야만': 7340, '뺄': 7341, '걸리잖아요': 7342, '커요': 7343, '지체': 7344, '물어보실': 7345, '보셨잖아요': 7346, '들어요': 7347, '샀다고': 7348, '모르신': 7349, '가셔야지만': 7350, '무마': 7351, '황당할': 7352, '필요하니까': 7353, '당하는': 7354, '보신다면': 7355, '28일': 7356, '없었는데': 7357, '필요성': 7358, '수백': 7359, '만들어져서': 7360, '관실': 7361, '몰랐는데': 7362, '상관관계': 7363, '변호': 7364, '78%': 7365, '하냐고': 7366, '보이시면은': 7367, '1800만원': 7368, '서는요': 7369, '2000원': 7370, '15일': 7371, '받은게': 7372, '2010년': 7373, '45': 7374, '따르면': 7375, '스미싱': 7376, '가능하겠습니까': 7377, '계셨고': 7378, '이상한거': 7379, '놓으시고': 7380, '사기혐의': 7381, '출석요구서': 7382, '악': 7383, '당했다는': 7384, '했거나': 7385, '만들어진': 7386, '소환조사': 7387, '열려': 7388, '출입': 7389, '되시니깐': 7390, '하였기': 7391, '불편하시면': 7392, '현직': 7393, '냐고': 7394, '용건': 7395, '받으실수': 7396, '혼란': 7397, '들리시면': 7398, '불리한': 7399, '만난': 7400, '23일': 7401, '당하셨던지': 7402, '시켰구요': 7403, '된건데': 7404, '간단하시긴': 7405, '해주나요': 7406, '만하': 7407, '받아야지만': 7408, '오식': 7409, '되어있었어요': 7410, '주기': 7411, '하시니깐': 7412, '적있어요': 7413, '될만': 7414, '2,300만': 7415, '유입': 7416, '조일': 7417, '물어보는게': 7418, '수화기': 7419, '만으로는': 7420, '나셨을': 7421, '다짜고짜': 7422, '해야겠네': 7423, '안되고요': 7424, '찍으면': 7425, '찍어도': 7426, '되냐고요': 7427, '올라가시는': 7428, '넣는': 7429, '같기도': 7430, '아니겠지만': 7431, '넣어라': 7432, '넣지': 7433, '좋으세요': 7434, '망': 7435, '450만원': 7436, '쓰시는': 7437, '알수': 7438, '드린거고': 7439, '좋네요': 7440, 'rl': 7441, '7.3%': 7442, '휴직': 7443, '나으시겠습니까': 7444, '맞는거': 7445, '얻고': 7446, '되셨구': 7447, '황': 7448, '들의': 7449, '인적': 7450, '간호사': 7451, '2800': 7452, '대출받으': 7453, '해보셨어요': 7454, '하향': 7455, '합니다만': 7456, '기다리셔야': 7457, '여태': 7458, '쓰지는': 7459, '30': 7460, '들어가시게': 7461, '넣으시고': 7462, '뒤에': 7463, '나가셨는데': 7464, '당해서요': 7465, '당하셨어요': 7466, '따야': 7467, '한다더라구요': 7468, '건네줬어요': 7469, '안나구요': 7470, '그만두셨는데': 7471, '말씀드리는게': 7472, '드린거거는요': 7473, '시켜놨거든요': 7474, '대죠': 7475, '보자고': 7476, '준거잖아요': 7477, '기다리라고': 7478, '간거거든요': 7479, '끊기던데': 7480, '해놓고서는': 7481, '안되던데요': 7482, '주셨더라구요': 7483, '하신다구요': 7484, '이주일': 7485, '나온게': 7486, '됐더라면': 7487, '나오셨다': 7488, '나온건데': 7489, '나오셨기': 7490, '어떤게요': 7491, '산와측': 7492, '들어와있기': 7493, '지워도': 7494, '할수가': 7495, '지우게': 7496, '갈거': 7497, '안되더라도': 7498, '호로': 7499, '찾아주시면': 7500, '했던거': 7501, '나서부터': 7502, '들어가실거에요': 7503, '보내요': 7504, '영업소': 7505, '오시는데': 7506, '바이어': 7507, '걸리게': 7508, '없는게': 7509, '교대역': 7510, '나름': 7511, '1.5%': 7512, '60만원': 7513, '저녁때': 7514, '헤매세요': 7515, '하시는거는': 7516, '초등학교': 7517, '해보셨던': 7518, '나오셨는데요': 7519, '20일': 7520, '야하는거에요': 7521, '그랬다가': 7522, 'mpa': 7523, '도망가는': 7524, '내달': 7525, '테이': 7526, '있잖습니까': 7527, '악의': 7528, '질서': 7529, '받기가': 7530, '힘들죠': 7531, '그런데요': 7532, '댄다는': 7533, '나간다': 7534, '붙이': 7535, '많으실': 7536, '아싸': 7537, '기전': 7538, '믿는': 7539, '믿으시면': 7540, '있는건데': 7541, '그쳐': 7542, '되는거예요': 7543, '해주셔가지고': 7544, '보내시고요': 7545, '고개': 7546, '대겠네요': 7547, '시반': 7548, '69년': 7549, '많거든요': 7550, '따라주시면': 7551, '넣었어요': 7552, '적당히': 7553, '뺀': 7554, '놓으시면': 7555, 'hk': 7556, '들으셨어요': 7557, '자세히는': 7558, '해드리는게': 7559, '드릴수가': 7560, '필요하셔서': 7561, '시뮬레이션': 7562, '괜찮고': 7563, '필요하시거나': 7564, '쓰시는거': 7565, '이해경': 7566, '받았는데요': 7567, '1시': 7568, '볼텐데요': 7569, '필요하신데요': 7570, '않겠죠': 7571, '보내는거다': 7572, '김진아': 7573, '교본': 7574, '정도요': 7575, '들어가시': 7576, '늦었어요': 7577, '적으셨나요': 7578, '0311': 7579, '해주면은': 7580, '빨': 7581, '받으시는게': 7582, '좋으실거': 7583, '2770만원': 7584, '내려가는': 7585, '왜그': 7586, '팔천원': 7587, '해놓을까요': 7588, '받으셨는지': 7589, 'ooooooooo': 7590, '부탁드리면': 7591, '들어오고': 7592, '실사': 7593, '볼일': 7594, '나오셨네요': 7595, '오분': 7596, '쉽구요': 7597, '하셨지': 7598, '높잖아요': 7599, '내잖아요': 7600, '드렸나': 7601, '알아봐야': 7602, '이구나': 7603, '다해': 7604, '지역별': 7605, '사이즈': 7606, '넣으시거나': 7607, '책자': 7608, '줘요': 7609, '죽겠네': 7610, '일이구': 7611, '답답합니다': 7612, '되어있': 7613, '피하셨어요': 7614, '들을려고': 7615, '보겠어요': 7616, '사백만원': 7617, '넘어가': 7618, '나시나요': 7619, '그떄': 7620, '보내셨다': 7621, '이상해': 7622, '조이': 7623, '지실': 7624, '전화하셔도': 7625, '나가시기': 7626, '하는지는': 7627, '쟤': 7628, '점잖케': 7629, '조율': 7630, '이구일구': 7631, '일육': 7632, '육구일구': 7633, '선다고': 7634, '안남': 7635, '왔기': 7636, '지면': 7637, '책임지겠습니다': 7638, '남아있는데': 7639, '동명이인': 7640, '외적인': 7641, '찝찝해가지고': 7642, '드릴까': 7643, '이러면서': 7644, '밟는': 7645, '나오셨다고': 7646, '깜짝': 7647, '놀래': 7648, '이상해서': 7649, '들어오세요': 7650, '여유롭게': 7651, '메뉴얼': 7652, '넣어주세요': 7653, '이진욱': 7654, '구백만': 7655, '삼백구십': 7656, '체중': 7657, '있으셨나': 7658, '나가시면은': 7659, '가산': 7660, '괜찮네': 7661, '들어가야지만': 7662, '나셨는데': 7663, '오정태': 7664, '3000일': 7665, '올려줄': 7666, '있다든지': 7667, '아니까': 7668, '받아야죠': 7669, '하실려는': 7670, '드린거': 7671, '달라지기': 7672, '달라지고': 7673, '들어오실': 7674, '가거나': 7675, '그러는게': 7676, '세건': 7677, '잡아서': 7678, '관여': 7679, '들어왔잖아요': 7680, '적으실': 7681, '가시나요': 7682, '모르겠지만은': 7683, '힘드시잖아요': 7684, '넣어가지고': 7685, '걸리시는데': 7686, '받자고': 7687, '내주신다는': 7688, '기다리실': 7689, '드렸다': 7690, '빼가는': 7691, '빨라요': 7692, '됬네요': 7693, '겨': 7694, '야한다고': 7695, '찾았다가': 7696, '알고계시잖아요': 7697, '이백만': 7698, '넘어왔어요': 7699, '와중': 7700, '없었던': 7701, '있냐고요': 7702, '내세': 7703, '돼야지': 7704, '당연하죠': 7705, '많으시잖아요': 7706, '업자': 7707, '백팔십': 7708, '드리겠고요': 7709, '체크박스': 7710, '면책': 7711, '일개': 7712, '영점': 7713, '분당구': 7714, '2011년': 7715, '바라겠구요': 7716, '진단': 7717, '싶어가지고요': 7718, '감봉': 7719, '천백만원': 7720, '내려가서': 7721, '기점': 7722, '김고은': 7723, '늦은': 7724, '19시': 7725, '20시': 7726, '까지세요': 7727, '나오던데요': 7728, '보이셔야': 7729, '구십팔': 7730, '이만원': 7731, '받으셨기': 7732, '원활': 7733, '나오셨거든요': 7734, ',,': 7735, '나온건': 7736, '줄어': 7737, '밀린': 7738, '안되는거에요': 7739, '생길수도': 7740, '해볼려고': 7741, '받았기': 7742, '들려가지고': 7743, '높아가지고': 7744, '팔천이백이': 7745, '잡히신': 7746, '이천이': 7747, '17.9': 7748, '않으시겠어요': 7749, '해드리지만': 7750, '끝났으니까': 7751, '올라온': 7752, '붙습니다': 7753, '가능하시며': 7754, '긴게': 7755, '없으시겠지만': 7756, '행성': 7757, '오락': 7758, '바카라': 7759, '업계': 7760, '벌어': 7761, '갔습니다': 7762, '남지': 7763, '생기면은': 7764, '해주실거': 7765, '돌아가는': 7766, '빠져나가도': 7767, '가지러': 7768, '잡아야': 7769, '하셔서요': 7770, '맞춰주셔야': 7771, '마비': 7772, '안되는지': 7773, '가능하도록': 7774, '하시며': 7775, '데도': 7776, '윗': 7777, '주셔가지고': 7778, '왔고요': 7779, '였고': 7780, '회계': 7781, '나오실지': 7782, '하려': 7783, '하시겠다고': 7784, '기다려주셔야': 7785, '움직여': 7786, '떠는': 7787, '똑똑하게': 7788, '울면': 7789, '해치': 7790, '말라': 7791, '오점': 7792, '올리려면': 7793, '해드린다는': 7794, '갚으시면': 7795, '되시겠네요': 7796, '넣으신': 7797, '제휴': 7798, '십일월': 7799, '지기': 7800, '하실까봐': 7801, '열세': 7802, '나와계시거든요': 7803, '해온': 7804, '나셔야': 7805, '지시는데요': 7806, '받았구요': 7807, '들어와있어요': 7808, '잡기': 7809, '그땐': 7810, '본가': 7811, '생기실': 7812, '우신데': 7813, '전화하시면': 7814, '그러는지': 7815, '궁금하고요': 7816, '하시고서': 7817, '공식': 7818, '들어가거나': 7819, '성격': 7820, '하셨음에도': 7821, '괜찮으시죠': 7822, '받으시잖아요': 7823, '백십만원': 7824, '오십분': 7825, '십구': 7826, '나셨구요': 7827, '이권': 7828, '주면은': 7829, '아니겠습니까': 7830, '버리니까': 7831, '하겠는데요': 7832, '분이잖아요': 7833, '끝났다고': 7834, '들리는데요': 7835, '걸쳐서': 7836, '넘기는': 7837, '맡긴': 7838, '간다거나': 7839, '돌려요': 7840, '허락': 7841, '알았으면': 7842, '안가는데': 7843, '나오긴': 7844, '올리는': 7845, '겉': 7846, '쓸모': 7847, '왔고': 7848, '그렇긴': 7849, '버리잖아요': 7850, '논다': 7851, '절반': 7852, '끄세요': 7853, '빌릴데': 7854, '빌리고': 7855, '이정은': 7856, '하겠고': 7857, '먼': 7858, '에서라도': 7859, '위촉': 7860, '모르시네': 7861, '말씀드린대로': 7862, '막으라고': 7863, '1200': 7864, '막고': 7865, '해드린게': 7866, '버리게': 7867, '들어가신다': 7868, '불만': 7869, '어떨까': 7870, '있으셨을': 7871, '걸리겠죠': 7872, '옮기게': 7873, '하셨기': 7874, '본다거나': 7875, '생기시면은': 7876, '스톱': 7877, '제의': 7878, '한거잖아요': 7879, '세는': 7880, '많다는': 7881, '그랬더니': 7882, '에서의': 7883, '부탁드리구요': 7884, '-).': 7885, '돼있': 7886, '가셔가지고': 7887, '찍고': 7888, '오로라': 7889, '올라오실': 7890, '괜찮나요': 7891, '없었다': 7892, '불편하셨으면': 7893, '눌러주셔서': 7894, '했단': 7895, '중구': 7896, '걸었던': 7897, '하시지만': 7898, '없으셔야': 7899, '자에': 7900, '서고': 7901, '수진': 7902, '높기': 7903, '따서': 7904, '되시더라고요': 7905, '이시고요': 7906, '4.2%': 7907, '해주셨나요': 7908, '모르겠거든요': 7909, '만드시면': 7910, '본데': 7911, '자꾸만': 7912, '3000만': 7913, '할라면': 7914, '뻔': 7915, '자구': 7916, '돌려줄': 7917, '7000': 7918, '일건데': 7919, '5523': 7920, '6년': 7921, '나눠': 7922, '취지': 7923, '만드실': 7924, '받으시라고': 7925, '계층': 7926, '하시는거고': 7927, '져요': 7928, '13': 7929, '유진': 7930, '동우': 7931, '가지는': 7932, '찾으시면': 7933, '됬기': 7934, '7.5%': 7935, '하겠다는게': 7936, '나나': 7937, '하냐면': 7938, '궁금증': 7939, '하신다고요': 7940, '넘기시던가': 7941, '환치': 7942, '그래야만': 7943, '받았다던가': 7944, '마중': 7945, '짜리가': 7946, '떨어지면은': 7947, '나은가요': 7948, '들어가면요': 7949, '비만': 7950, '정당한': 7951, '소명': 7952, '아니냐고': 7953, '않지': 7954, '마주': 7955, '비워': 7956, '가다': 7957, '이나현': 7958, '해드려야죠': 7959, '많잖아': 7960, '그렇네': 7961, '지우고': 7962, '지우시고': 7963, '넘어가면': 7964, '중요하기': 7965, '갚는': 7966, '전화하면서': 7967, '하는거잖아요': 7968, '들어가죠': 7969, '해드리면서': 7970, '계해': 7971, '요인': 7972, '되시냐고': 7973, '해드리자면': 7974, '정밀': 7975, '넘어가기': 7976, '무기': 7977, '쓰다': 7978, '끝나셨거든요': 7979, '저건': 7980, '들어가잖아요': 7981, '연대보증': 7982, '자도': 7983, '재계약': 7984, '들어가시면서': 7985, '가는게': 7986, '생겨': 7987, '현명': 7988, '끝내': 7989, '받으시': 7990, '힘드시고요': 7991, '확실하지': 7992, '나가든': 7993, '남겨놓을게요': 7994, '틀리잖아요': 7995, '알려줘야': 7996, '나갔을': 7997, '남죠': 7998, '부족하지': 7999, '남겨놓고': 8000, '높게': 8001, '85년': 8002, '쪼까': 8003, '김성오': 8004, '유월': 8005, '삼십칠': 8006, '보십니까': 8007, '드리냐면': 8008, '년안': 8009, '14년': 8010, '받겠는데': 8011, '것입': 8012, '합쳐져': 8013, '받느라': 8014, '태어난': 8015, '천장': 8016, '사실관계': 8017, '않으니까': 8018, '서야': 8019, '신협': 8020, '들어갔습니다': 8021, '돼있고': 8022, '민증': 8023, '들려오면': 8024, '잃을': 8025, '최첨단': 8026, '괜찮아': 8027, '무작정': 8028, '검찰관': 8029, '그런데도': 8030, '됬는데': 8031, '수익금': 8032, '힘들다는': 8033, '필요하다면은': 8034, '촉진법': 8035, '18조': 8036, '불가능하시죠': 8037, '하신다던': 8038, '스피커': 8039, '괜찮습니까': 8040, '해서어': 8041, 'www': 8042, '빈칸': 8043, '찍으시고': 8044, '46': 8045, '197': 8046, '켜서': 8047, '법령': 8048, '153조': 8049, '받겠습니다': 8050, '시월': 8051, '여기서도': 8052, '18,399,667원': 8053, '없었잖아요': 8054, '신변': 8055, '지키': 8056, '원숭이': 8057, '받으셨나요': 8058, '십칠일': 8059, '특사': 8060, '모르셨다': 8061, '안산': 8062, '심각한': 8063, '그런건데': 8064, '줍니다': 8065, '되겠고': 8066, '소란': 8067, '만드시고': 8068, '164.162': 8069, '써있어가지고': 8070, '되시면서': 8071, '무책임하게': 8072, '필히': 8073, '맡는': 8074, '무서워서': 8075, '많긴': 8076, '반포대로': 8077, '158': 8078, '내뱉는': 8079, '드리겠지만': 8080, '지키고': 8081, '거시': 8082, '남게': 8083, '끝나기': 8084, '티켓': 8085, '국비': 8086, '만든게': 8087, '둔': 8088, '있었구요': 8089, '정치인': 8090, '음질': 8091, '웨이': 8092, '보셨으면': 8093, '어린': 8094, '치자': 8095, '없다면은': 8096, '심각': 8097, '보시려면': 8098, '만나실': 8099, '가져가실': 8100, '판명': 8101, '하였고': 8102, '걸러': 8103, '병무청': 8104, '셀룰러': 8105, '키시': 8106, '들리시거든요': 8107, '20년': 8108, '검가한': 8109, '빠져': 8110, '칠십이': 8111, '됐다거나': 8112, '초인': 8113, '바꿔야지': 8114, '경향': 8115, '나갈려고': 8116, '빠져나갔다거나': 8117, '하다는': 8118, '36.234': 8119, '160.191': 8120, '없으면은': 8121, '어떠시겠어요': 8122, '홈': 8123, '출두': 8124, '됬나요': 8125, '해라': 8126, '안되다': 8127, '다니면서': 8128, '있었어': 8129, '나서는': 8130, '괜찮다는': 8131, '열거': 8132, '윈도우즈': 8133, '충돌': 8134, '나오신다고요': 8135, '썼다': 8136, '갚았는데': 8137, '였는지': 8138, '조희': 8139, '나왔습니다': 8140, '가능하느냐': 8141, '2천만원': 8142, '푸셔': 8143, '관도': 8144, '무섭죠': 8145, '수상한': 8146, '찾으셨어요': 8147, '볼수': 8148, '사거리': 8149, '먼데': 8150, 'cbs': 8151, '들리네요': 8152, '신속하게': 8153, '갈건데': 8154, '만나시면은': 8155, '써져': 8156, '본거에요': 8157, '만나러': 8158, '힘드시니까': 8159, '나누시면': 8160, '분홍색': 8161, '드는거': 8162, '만나야죠': 8163, '살려': 8164, '알았으니까': 8165, '섞인': 8166, '5,000만': 8167, '칠천만원': 8168, '기다리는': 8169, '고맙고요': 8170, '가는거죠': 8171, '써요': 8172, '끝내야': 8173, '듣거든요': 8174, '그만두고': 8175, '찍히는데': 8176, '모르거든요': 8177, '구이': 8178, '않거든요': 8179, '같으면은': 8180, '나잖아요': 8181, '가능하시겠죠': 8182, '티에스': 8183, '는지': 8184, '나왔다고': 8185, '댈': 8186, '지우시고요': 8187, '백이십': 8188, '어요': 8189, '걸리': 8190, '그요': 8191, '오셔': 8192, '보는데요': 8193, '다르잖아요': 8194, '되도': 8195, '졌다는': 8196, '물량': 8197, '라다': 8198, '최악': 8199, '부자': 8200, '보내셨다고': 8201, '보내셨나요': 8202, '편안하게': 8203, '불가능하고': 8204, '최별': 8205, '개방': 8206, '남기신': 8207, '커서': 8208, '맞춤': 8209, '뽑으셨다는': 8210, '받으셨다고': 8211, '상관없': 8212, '해줘': 8213, '번거로': 8214, '나쁘진': 8215, '챙기시고': 8216, '끊지말고요': 8217, '호주머니': 8218, '멀지': 8219, '금도': 8220, '받았냐': 8221, '버리시면': 8222, '정보보호': 8223, '집니다': 8224, '넘어가시면': 8225, '비슷': 8226, '이었거든요': 8227, '연기': 8228, '위장': 8229, '받도록': 8230, '섞인다': 8231, '다거나': 8232, '돼있습니까': 8233, '불편하시면은': 8234, '갔는데요': 8235, '모르셨나요': 8236, '들리실': 8237, '본의': 8238, '넣다': 8239, '쓰신': 8240, '잡혀있다': 8241, '오팔': 8242, '받으시나요': 8243, '질병': 8244, '있는지까지': 8245, '비롯': 8246, '이백오십만원': 8247, '해본다는': 8248, '왔던': 8249, '간만': 8250, '만큼만': 8251, '더블': 8252, '보이는데요': 8253, '보신다는': 8254, '브': 8255, '가라': 8256, '도어': 8257, '드렸었어요': 8258, '시가': 8259, '해놓으시고': 8260, '바꿔주시고': 8261, '자리는': 8262, '스펠링': 8263, '한쪽': 8264, '남겨주세요': 8265, '일십만': 8266, '먹다': 8267, '비적': 8268, '해가지고는': 8269, '다니시면': 8270, '보진': 8271, '가능하냐면': 8272, '예방': 8273, '있어서도': 8274, '내린': 8275, '버린다는': 8276, '보더': 8277, '해놓는': 8278, '치우지': 8279, '발자국': 8280, '대표자': 8281, '말씀드렸으니까': 8282, '인세': 8283, '돌아가신': 8284, '사범': 8285, '십억': 8286, '꺼내주세요': 8287, '1281만': 8288, '그러셨던': 8289, '됐는데도': 8290, '무단': 8291, '출의': 8292, '차근차근': 8293, '달에': 8294, '받는다는': 8295, '대출받을': 8296, '면요': 8297, '끝나고요': 8298, '헐': 8299, '가져갔을': 8300, '지명': 8301, '싱': 8302, '말투': 8303, '한다든지': 8304, '내줬다든지': 8305, '본을': 8306, '올려놓구요': 8307, '당했는데': 8308, '9월': 8309, '보여주기만': 8310, '올려놨는데': 8311, '나왔는데요': 8312, '모르시죠': 8313, '일천오백육십팔만': 8314, '13시': 8315, '맡기는': 8316, '기계로': 8317, '믿겠다는': 8318, '불가합니다': 8319, '불가능하다고': 8320, '다친': 8321, '까지를': 8322, '재무': 8323, '역정': 8324, '모른다는': 8325, '조용한데로': 8326, '양덕동': 8327, '오래되서': 8328, '2만': 8329, '가능하죠': 8330, '받으셔야겠죠': 8331, '되어야만': 8332, '61': 8333, '189': 8334, '똑같습니다': 8335, '나와있구요': 8336, '140만': 8337, '연고': 8338, '가능하시는': 8339, '넣으시면': 8340, '되셨는데요': 8341, '계시다고': 8342, '없었겠죠': 8343, '나주': 8344, '없겠죠': 8345, '분당': 8346, '돌리긴': 8347, '만든거': 8348, '자본': 8349, '있었기': 8350, '900만원': 8351, '51': 8352, '혁': 8353, '한전': 8354, '회부': 8355, '확산': 8356, '무거운': 8357, '충격': 8358, '175280': 8359, '오신다는': 8360, '감지': 8361, '어려워가지고': 8362, '80억': 8363, '해보니깐': 8364, '자란': 8365, '부모': 8366, '언행': 8367, '징역형': 8368, '내게': 8369, '불가능하실': 8370, '괜찮지': 8371, '애매하네요': 8372, '같다는': 8373, '하셨다던가': 8374, '상부': 8375, '올렸는데': 8376, '빼가죠': 8377, '고소장': 8378, '하시겠네요': 8379, '가능하긴': 8380, '우기': 8381, '줬다': 8382, '만날': 8383, '걸어놓긴': 8384, '연결해서': 8385, '시켰다고': 8386, '안되셨어요': 8387, '호칭': 8388, '이뤄질': 8389, '8천원': 8390, '방이': 8391, '구해': 8392, '9002': 8393, '로테이션': 8394, '떼실': 8395, '만드셨다': 8396, '않으셨고': 8397, '되어있다': 8398, '8천': 8399, '6시간': 8400, '22분': 8401, '옮겼는데': 8402, '드릴거거든요': 8403, '1001': 8404, '되어계신': 8405, '밴드': 8406, '바뀌어있었고': 8407, '들었습니다': 8408, '데이트': 8409, '담았고요': 8410, '국민카드': 8411, '상반기': 8412, '쉬는': 8413, '서초': 8414, '드린거고요': 8415, '살아요': 8416, '그러셔가지고': 8417, '아니시라는': 8418, '않는다고요': 8419, '맞으실': 8420, '계셨는지': 8421, '계셨습니다': 8422, '넘겨도': 8423, '간접': 8424, '호씨': 8425, '드시고': 8426, '돼가지고요': 8427, '이었고': 8428, '수천': 8429, '방음': 8430, '모르셨다는': 8431, '해보셨고': 8432, '해야하는건': 8433, '이준석': 8434, '많으시더라고요': 8435, '금품': 8436, '부탁드리는': 8437, '개라고요': 8438, '되있어야': 8439, '되어있어야': 8440, '일상생활': 8441, '7분': 8442, '갓길': 8443, '넣어주시겠어요': 8444, '힘들고': 8445, '되어있으면': 8446, '까놓고': 8447, '줄일려고': 8448, '잡힐': 8449, '개좌로': 8450, '대여': 8451, '돼고요': 8452, '딱딱하게': 8453, '올라가세요': 8454, '빚': 8455, '졌거나': 8456, '생겼을': 8457, '월권': 8458, '올라': 8459, '되셔야지': 8460, '들어가는게': 8461, '걸린': 8462, '김철민': 8463, '금수': 8464, '띠시': 8465, '있겠는데요': 8466, '환자': 8467, '쇼핑몰': 8468, '비슷한데': 8469, '김재호': 8470, '송치': 8471, '개열': 8472, '돌아가셔서': 8473, '가성': 8474, '시끄럽게': 8475, '김정은': 8476, '가능하실거든요': 8477, '된다고요': 8478, '페퍼같': 8479, '봤자': 8480, '에까지는': 8481, '있겠지': 8482, '느': 8483, '중국': 8484, '김창옥': 8485, '자만': 8486, '않으': 8487, '열어서': 8488, '아무렇게나': 8489, '안전하다고': 8490, '33만': 8491, '자력': 8492, '주셨고요': 8493, '금사': 8494, '치사': 8495, '어쩌': 8496, '도나': 8497, '해줍니다': 8498, '부족하기': 8499, '갚으려면': 8500, '김동일': 8501, '했었습니다': 8502, '개수': 8503, '무한': 8504, '하나라': 8505, '상관없잖아요': 8506, '줄이려고': 8507, '진출': 8508, '대원': 8509, '얼추': 8510, '되시겠습니까': 8511, '싶고요': 8512, '수분': 8513, '빠졌고': 8514, '교직': 8515, '주검': 8516, '제로': 8517, '봤으면': 8518, '올렸거든요': 8519, '올려주셔': 8520, '넣어주시면': 8521, '들었고요': 8522, '라그': 8523, '들어온다고': 8524, '삼이었고': 8525, '들어오는지': 8526, '가져가': 8527, '들었으면': 8528, '다니실': 8529, '는고': 8530, '들어왔던': 8531, '아쉬움': 8532, '리다': 8533, '들어갔어': 8534, '부는': 8535, '써있나': 8536, '되질': 8537, '돼있나': 8538, '된아': 8539, '수업료': 8540, '된다는데': 8541, '세우기나': 8542, '안되어있으신': 8543, '하는데아': 8544, '넣어도': 8545, '둘째': 8546, '고삼': 8547, '받으셨으면아': 8548, '제약': 8549, '동일하고요': 8550, '묶인': 8551, '싸지는': 8552, '재구': 8553, '제하': 8554, '사은': 8555, '학사': 8556, '보여서요': 8557, '게이': 8558, '해주셨고요': 8559, '학적': 8560, '샀던': 8561, '다니시고': 8562, '수반': 8563, '안되시거든요': 8564, '그러길래': 8565, '게그': 8566, '라인': 8567, '살게요': 8568, '공군': 8569, '에서부터': 8570, '있었나': 8571, '인까': 8572, '들어와서요': 8573, '걸리기': 8574, '이는': 8575, '비상': 8576, '목차': 8577, '순서대로': 8578, '청강': 8579, '올라올': 8580, '들어가서요': 8581, '청록색': 8582, '년치': 8583, '말이잖아요': 8584, '팔기': 8585, '겨울': 8586, '가지신': 8587, '보시면서': 8588, '궁금했어요': 8589, '달라져요': 8590, '단무지': 8591, '되어있으신': 8592, '늦': 8593, '같은데아': 8594, '안내받으실': 8595, '듣다가': 8596, '수강량': 8597, '미정': 8598, '이신가': 8599, '기려': 8600, '버렸거든요': 8601, '오셨을': 8602, 'r': 8603, '기타로': 8604, '생일': 8605, '했더니만': 8606, '채워주시고요': 8607, '냈어요': 8608, '적혀있어서': 8609, '인했습니다': 8610, '산정': 8611, '쭉쭉': 8612, '올리실': 8613, '구성원': 8614, '블러': 8615, '회로': 8616, '근깐': 8617, '올리시면': 8618, '후기': 8619, '담아놓은': 8620, '돌아가서': 8621, '보인다는': 8622, '폐강': 8623, '내려간': 8624, '이라고는': 8625, '건국대': 8626, '입대': 8627, '엇': 8628, '눌러도': 8629, '누를': 8630, '들어가지는': 8631, '고고': 8632, '껐다': 8633, '참조': 8634, '찾겠어요': 8635, '봐가지고': 8636, '이어도': 8637, '예매': 8638, '되어있을': 8639, '넣을': 8640, '찾아봐도': 8641, '버렸어요': 8642, '가보': 8643, '나제': 8644, '어때요': 8645, '마름모': 8646, '되어있으실까': 8647, '글로벌': 8648, '융합': 8649, '광': 8650, '강원대학교': 8651, '멀티': 8652, '디자인학': 8653, '생약': 8654, '위생': 8655, '죄송하고': 8656, '해야겠다': 8657, '필요하진': 8658, '빨갛게': 8659, '해드리': 8660, '화해서': 8661, '예외처리': 8662, '보내주는': 8663, '가능한가': 8664, '주셨을까요': 8665, '해서네': 8666, '남겨주실': 8667, '듣던': 8668, '공짜': 8669, '남겨놓겠습니다': 8670, '기절': 8671, '가지구요': 8672, '말씀드릴까': 8673, '그러셔야': 8674, '컨설턴트': 8675, '노동자': 8676, '해석': 8677, '자극': 8678, '모험': 8679, '떨어졌다가': 8680, '유사한가': 8681, '하느라고': 8682, '나오고요': 8683, '변명': 8684, '겸손': 8685, '자만하는으로': 8686, '복합': 8687, '나오셨던': 8688, '많거나': 8689, '대인관계': 8690, '나오셨을': 8691, '하더라': 8692, '훌륭한': 8693, '베스트': 8694, '좋았어요': 8695, '친절함': 8696, '편지': 8697, '아쉬웠어요': 8698, '긍': 8699, '않으실': 8700, '컨설': 8701, '주중': 8702, '캠': 8703, '편하실까': 8704, '배워야': 8705, '아트': 8706, '애니메이션': 8707, '일기예보': 8708, '리뷰': 8709, '함양': 8710, '코딩': 8711, '합성': 8712, '충분한': 8713, '해줘서': 8714, '편입': 8715, '상품화': 8716, '아이티': 8717, '음향': 8718, '갖춘': 8719, '높네요': 8720, '맞을': 8721, '있다니': 8722, '쓰리': 8723, '원화': 8724, '있는지가': 8725, '까지인': 8726, '했다던데': 8727, '미디어': 8728, '즐겁게': 8729, '연출': 8730, '협력': 8731, '주도': 8732, '필요하신가요': 8733, '올라오기': 8734, '수료': 8735, '동향': 8736, '자비': 8737, '갔네요': 8738, '찾으시나요': 8739, '내리셔야': 8740, '좋겠는데요': 8741, '들잖아요': 8742, '빠지고': 8743, '받는데요': 8744, '조심하십시오': 8745, '당직': 8746, '공영': 8747, '경과': 8748, '타이어': 8749, '공기': 8750, '대형차': 8751, '가게끔': 8752, '내리니까': 8753, '주황색': 8754, '찾으셔서': 8755, '파는': 8756, '거예': 8757, '하래': 8758, '항의': 8759, '끄': 8760, '사예': 8761, '부산시': 8762, '소로': 8763, '주셨습니까': 8764, '포구': 8765, '고마': 8766, '주택가': 8767, '당기고': 8768, '올릴라': 8769, '빠를까': 8770, '그러는데아': 8771, '베': 8772, '운송': 8773, '놔가지고': 8774, '켜가지고': 8775, '배치': 8776, '나사': 8777, '가능하시겠습니다': 8778, '서면': 8779, '아니라도': 8780, '불친절하게': 8781, '불친절': 8782, '원동': 8783, '자재': 8784, '의사소통': 8785, '입지': 8786, '철강': 8787, '에로': 8788, '국책': 8789, '티젠': 8790, '페리': 8791, '부트': 8792, '엑스레이': 8793, '가져가고': 8794, '드리겠구요': 8795, '원시': 8796, '들어가던지': 8797, '회도': 8798, '어떻고': 8799, '드렸더니': 8800, '불편하시다면': 8801, '코리아': 8802, '그렇고아': 8803, '서일본': 8804, '입찰': 8805, '왔더라고요': 8806, '칫다': 8807, '이었나요': 8808, '학대': 8809, '보소': 8810, '도지사': 8811, '이었는지': 8812, '바쁜데': 8813, '넘어서까지': 8814, '찔금': 8815, '해운': 8816, '보내십시오': 8817, '그랬는데요': 8818, '빌면': 8819, '어빈': 8820, '깨끗한': 8821, '꼈다고': 8822, '백업': 8823, '받으려': 8824, '부탁드릴': 8825, '되어져': 8826, '주시면서': 8827, '있으셨는데': 8828, '해면은': 8829, '원할': 8830, '깔아야지만': 8831, '떠가지고요': 8832, '껐다가': 8833, '썼던': 8834, '달라서요': 8835, '보여지는': 8836, '북마크': 8837, '별표': 8838, '그리고서': 8839, '알파벳': 8840, '아까처럼': 8841, '복원': 8842, '뜨네요': 8843, '런처': 8844, '다니셨던': 8845, '플레이': 8846, '그랬구나': 8847, '넘어가야': 8848, '되는가요': 8849, '풀어주시면': 8850, '급한데': 8851, '나오신다는': 8852, '업데': 8853, '여긴': 8854, '이상하네': 8855, '거일': 8856, '시긴': 8857, '해주겠어요': 8858, '모르겠': 8859, '되기까지': 8860, '화이트': 8861, '로다': 8862, '올려주시는': 8863, '매직': 8864, '새로고침': 8865, '환경설정': 8866, '소량': 8867, '업그레이드': 8868, '아니셔': 8869, '되는지는': 8870, '파주': 8871, '하고네': 8872, '지났는데': 8873, '도로명': 8874, '입고되': 8875, '큐앤': 8876, '해고': 8877, '필요하시다면': 8878, '잊어버렸는데': 8879, '되는데아': 8880, '기다려주십시오': 8881, '해보라고': 8882, '됐어': 8883, '재난': 8884, '오그리고': 8885, '어려우십니까': 8886, '치맥': 8887, '수산시장': 8888, '나오시는지': 8889, '해양': 8890, '탐방': 8891, '시립': 8892, '싶고': 8893, '가능할': 8894, '전야제': 8895, '문관': 8896, '지나지': 8897, '고제': 8898, '분꺼': 8899, '드리려고요': 8900, '싶기도': 8901, '예정일': 8902, '안되셔': 8903, '이기도': 8904, '매가': 8905, '딸아이': 8906, '되어지는': 8907, '성산': 8908, '뒤편': 8909, '있대': 8910, '들어선다는': 8911, '푯말': 8912, '세워져': 8913, '보려고요': 8914, '보내려고': 8915, '감계': 8916, '한의원': 8917, '돌아온다고': 8918, '청사': 8919, '붙어': 8920, '상습': 8921, '북원': 8922, '친형': 8923, '드시구요': 8924, '밀크': 8925, '같에요': 8926, '돌봄이': 8927, '표지판': 8928, '보내셨어요': 8929, '그러네': 8930, '계절': 8931, '닫아': 8932, '커지기': 8933, '기온': 8934, '봤습니다': 8935, '물어봐': 8936, '가셨나': 8937, '받아주셔야': 8938, '계신다면': 8939, '라거': 8940, '파열': 8941, '뚤': 8942, '벗는데': 8943, '이빠이': 8944, '가설': 8945, '물바다': 8946, '파출소': 8947, '출산': 8948, '수관': 8949, '내려가고': 8950, '남겨주시겠습니까': 8951, '삼거리': 8952, '떨어져': 8953, '물어볼게요': 8954, '약하게': 8955, '투척': 8956, '원하시더라고요': 8957, '재건축': 8958, '하시고자': 8959, '훼손': 8960, '논의': 8961, '추첨': 8962, '정확하실': 8963, '저저': 8964, '놓고도': 8965, '블럭': 8966, '상아': 8967, '명신': 8968, '장형': 8969, '해보려고요': 8970, '선동': 8971, '해주시긴': 8972, '카데': 8973, '계란': 8974, '개새끼': 8975, '후회': 8976, '시킨다': 8977, '힘내고': 8978, '미안': 8979, '들어가소': 8980, '하는데여': 8981, '거든여': 8982, '어렵지': 8983, '소득세': 8984, '전자파': 8985, '관리소': 8986, '서여': 8987, '목별': 8988, '공적': 8989, '무과': 8990, '공시': 8991, '할려는': 8992, '징수': 8993, '시로': 8994, '정자': 8995, '끗': 8996, '귀화': 8997, '떴는데': 8998, '미화': 8999, '밟아야': 9000, '손녀': 9001, '정수리': 9002, '폐차': 9003, '필요합니다': 9004, '되어지고': 9005, '그러면아': 9006, '지워요': 9007, '불가능한데': 9008, '돼있었는데': 9009, '됐구나': 9010, '돼세요': 9011, '자제': 9012, '주죠': 9013, '상관없죠': 9014, '뜯으면': 9015, '재판매': 9016, '원하실까': 9017, '들을련': 9018, '들으시면은': 9019, '느리다': 9020, '넘기고': 9021, '틀릴': 9022, '동일하시거든요': 9023, '되아': 9024, '뇌': 9025, '레터': 9026, '국사': 9027, '잰가요': 9028, '담는': 9029, '담으실': 9030, '유효한': 9031, '많으시고': 9032, '강할': 9033, '바뀌거나': 9034, '탈퇴': 9035, '비번': 9036, '출판': 9037, '끊을': 9038, '올인원': 9039, '담으시면': 9040, '차이고요': 9041, '넣어놨는데': 9042, '가능했던': 9043, '해주셨어야': 9044, '숨긴': 9045, '쪼꼼': 9046, '오답': 9047, '자율학습': 9048, '보시면아': 9049, '해주시는지': 9050, '모르겠어가지고': 9051, '샀는데요': 9052, '혼돈': 9053, '만만': 9054, '되는데어': 9055, '남았거든요': 9056, '어쨋': 9057, '진학': 9058, '세계사': 9059, '남음': 9060, '나아요': 9061, '였지': 9062, '중경': 9063, '다독': 9064, '찾으셨을까요': 9065, '되어있습니다': 9066, '캠페인': 9067, '삼은': 9068, '봤나': 9069, '기하': 9070, '들었었는데': 9071, '뭐랄까': 9072, '다기': 9073, '요소': 9074, '애니': 9075, '돌아오셔서요': 9076, '옅은': 9077, '따다닥': 9078, '따닥': 9079, '누르시거나': 9080, '보이는지': 9081, '등부': 9082, '입력기': 9083, '학굔데': 9084, '해주려고': 9085, '바뀌실': 9086, '런칭': 9087, '비싼데': 9088, '많기는': 9089, '아닌거죠': 9090, '달달': 9091, '주셨는지': 9092, '동일합니다': 9093, '의논': 9094, '어젠': 9095, '큐유': 9096, '찢어졌어요': 9097, '죄송하구요': 9098, '두실': 9099, '합칠': 9100, '화작': 9101, '해가지구': 9102, '해드리진': 9103, '필리핀': 9104, '이백오십': 9105, '메스': 9106, '수배': 9107, '지켜주시고요': 9108, '영구': 9109, '기제': 9110, '보이시잖아요': 9111, '걸리시면': 9112, '빛': 9113, '13일': 9114, '22일': 9115, '김기철': 9116, '어딨습니까': 9117, '나왔죠': 9118, '1300': 9119, '왠지': 9120, '무니': 9121, '광역': 9122, '비요': 9123, '끊어질': 9124, '안되거든요': 9125, '나오셔야죠': 9126, 'pc': 9127, '듣고있어요': 9128, '걸린다고': 9129, '빌린다는데': 9130, '필요한다든지': 9131, '보내주셔도': 9132, '받았겠어요': 9133, '붙잡고': 9134, '버려가지고': 9135, '아까운': 9136, '물려': 9137, '좋겠습니까': 9138, '좋겠습니다': 9139, '미비': 9140, '제도로': 9141, '강상': 9142, '호란': 9143, '다름': 9144, '들으시려면': 9145, '잃어버리신': 9146, '1-2': 9147, '자시잖아요': 9148, '없었는데요': 9149, '넘는데': 9150, '열사': 9151, '있으십시오': 9152, '근래': 9153, '분이죠': 9154, '그렇다면은': 9155, '사이버수사대': 9156, '서현': 9157, '빌려주신': 9158, '나오셔야': 9159, '받으시러': 9160, '김순철': 9161, '김용호': 9162, '시급한': 9163, '분이면': 9164, '않았다면': 9165, '이진호': 9166, '확실': 9167, '이랬죠': 9168, '왔나요': 9169, '알아보신': 9170, '내실': 9171, '어플리케이션': 9172, '나셨잖아요': 9173, '4등': 9174, '없다든': 9175, '부요': 9176, '그만두셨어요': 9177, '뭐라세요': 9178, '나오셨더라구요': 9179, '들어가게되': 9180, '되었겠죠': 9181, '지우셔도': 9182, '본게': 9183, '6.2%': 9184, '해주실거에요': 9185, '사들이': 9186, '해줄거에요': 9187, '하셨던거': 9188, '소정': 9189, '오셔야되': 9190, '하는거고': 9191, '강요': 9192, '대서': 9193, '받고요': 9194, '필요하긴': 9195, '말씀드리는건': 9196, '해드릴께요': 9197, '돼여': 9198, '안되시면은': 9199, '어필': 9200, '되어야지': 9201, '사촌동생': 9202, '지켜주셔야': 9203, '물어보겠어요': 9204, '보셨다가': 9205, '나온다고': 9206, '쿠': 9207, '되가지고요': 9208, '불러주시겠습니까': 9209, '냈는데': 9210, '가시면서': 9211, '보낼께요': 9212, '들으시면서': 9213, '필요하시다': 9214, '젤': 9215, '적으': 9216, '해보시고요': 9217, '손상': 9218, '복잡하게': 9219, '칠백이': 9220, '많더라고요': 9221, '말씀드렸구요': 9222, '전화하시면은': 9223, '삼십원': 9224, '십이만': 9225, '들어오면은': 9226, '들어오시는': 9227, '들리거든요': 9228, '지워야': 9229, '치시면': 9230, '가셔': 9231, '떨어': 9232, '드시러': 9233, '해보셔서': 9234, '있는거를': 9235, '있으시니깐': 9236, '효율': 9237, '길면': 9238, '채워': 9239, '움직이는': 9240, '하실게': 9241, '기대': 9242, '장인': 9243, '삼백오십만원': 9244, '없었으니까': 9245, '나오시고요': 9246, '그럴려고': 9247, '풀릴': 9248, '받는걸': 9249, '오윤정': 9250, '싶다는': 9251, '계신다는': 9252, '염려': 9253, '같으시고요': 9254, '되시니': 9255, '되셨을까요': 9256, '꺼져': 9257, '어려우시면은': 9258, '드렸었잖아요': 9259, '적으신': 9260, '하기에는': 9261, '안되셨나': 9262, '분양': 9263, '하는데가': 9264, '된다곤': 9265, '해보고요': 9266, '높아': 9267, '5등': 9268, '사무직': 9269, '봄': 9270, '가면서까지': 9271, '뺏기는': 9272, '해드렸구요': 9273, '출사': 9274, '캠코': 9275, '해야겠네요': 9276, '성도': 9277, '합쳐서요': 9278, '출퇴근': 9279, '숙식': 9280, '드렸었구요': 9281, '없을껄': 9282, '내서': 9283, '괜찮죠': 9284, '났을': 9285, '나가지': 9286, '있으셔도': 9287, '걸리시죠': 9288, '여야': 9289, '줄어드시는': 9290, '내려오셨는데요': 9291, '가득': 9292, '돼있을까요': 9293, '십사일': 9294, '불가능하시구요': 9295, '있는거고': 9296, '끝나지': 9297, '줬다고': 9298, '받으시려고': 9299, '안됬습니까': 9300, '오르겠죠': 9301, '여력': 9302, '써가지고': 9303, 'nhp': 9304, '빌려가지고': 9305, '페널티': 9306, '차이나도': 9307, '맞는데요': 9308, '끝났을': 9309, '모르기': 9310, '꺼만': 9311, '받으셨잖아요': 9312, '윤환': 9313, '있는데도': 9314, '되겠구요': 9315, '경비': 9316, '가시거든요': 9317, '받으니까': 9318, '가계': 9319, '미뤄줄': 9320, '보내라': 9321, '박철웅': 9322, '1577-7700': 9323, '아이핀': 9324, '보실까': 9325, '떨어져서': 9326, '나오십니다': 9327, '3%': 9328, '27000원': 9329, '되시겠어요': 9330, '8년': 9331, '1800만': 9332, '가상한도': 9333, '시든': 9334, '디딤돌': 9335, '시세': 9336, '4000만원': 9337, '있음': 9338, '늦어서': 9339, '보증인': 9340, '생겨가지고요': 9341, '2500만원': 9342, '5000만원': 9343, '들었고': 9344, '됐거나': 9345, '받았': 9346, '게게': 9347, '수탁': 9348, '1500': 9349, '생활비': 9350, '없었거든요': 9351, '햇': 9352, '먹었어요': 9353, '큰데': 9354, '있는거요': 9355, '항공권': 9356, '대시': 9357, '씨게': 9358, '통첩': 9359, '집무': 9360, '8조': 9361, '안되면은': 9362, '사법': 9363, '번가': 9364, '우남': 9365, '그러셨죠': 9366, '있었어가지고': 9367, '전과자': 9368, '억대': 9369, '툭툭': 9370, '놀고': 9371, '누설': 9372, '120만원': 9373, '마약': 9374, '있으셨을까요': 9375, '들리시죠': 9376, '이슈': 9377, '돼있는지': 9378, '같은거를': 9379, '대단히': 9380, '루트': 9381, '왼': 9382, '나왔으면': 9383, '해드리지': 9384, '끊었다': 9385, '걸리진': 9386, '계신건': 9387, '사분': 9388, '걷고': 9389, '높다는': 9390, '소상': 9391, '보내실': 9392, '드려가지고': 9393, '없건': 9394, '보낸다는': 9395, 'sp': 9396, '정확하지': 9397, '권장': 9398, '나와있는지': 9399, '전화하십': 9400, '끊어도': 9401, '찾으면': 9402, '웃기': 9403, '힘냅시다': 9404, '같단': 9405, '4천만원': 9406, '넣던지': 9407, '끝났습니다': 9408, '외우고': 9409, '힘들더라도': 9410, '힘내서': 9411, '빠져나갈': 9412, '바꿔주고': 9413, '뵈러': 9414, '입수': 9415, '290': 9416, '새벽': 9417, '공일': 9418, '120': 9419, '들으셨잖아요': 9420, '일보': 9421, '가시거나': 9422, '하신거에요': 9423, '다르니까': 9424, '로스': 9425, '됐다면': 9426, '안됩니까': 9427, '하시되': 9428, '점검': 9429, '챙기신': 9430, '가려고요': 9431, '들어는': 9432, '예제': 9433, '찾으실': 9434, '받으라': 9435, '찾': 9436, '보낸다든지': 9437, '찾냐': 9438, '나갔다는': 9439, '계시겠죠': 9440, '찾게': 9441, '시키신': 9442, '해드린단': 9443, '쌍점': 9444, '시켜주시고': 9445, '안되게끔': 9446, '수갑': 9447, '원하시면은': 9448, '들어간다는': 9449, '꺼냈습니다': 9450, '오긴': 9451, '끊었거든요': 9452, '보냈다고': 9453, '다인': 9454, '찍': 9455, '4천만': 9456, '줘': 9457, '1만원': 9458, '쳐서': 9459, '엄청난': 9460, '개죠': 9461, '231': 9462, '알고있는': 9463, '였던거': 9464, '들으셨나요': 9465, '2300만': 9466, '새해': 9467, '행위': 9468, '신다던가': 9469, '하신다거나': 9470, '병행': 9471, '건내주지': 9472, '않았냐': 9473, '있으셨죠': 9474, '어이구': 9475, '집인데요': 9476, '되있었어요': 9477, '웨어': 9478, '열리는': 9479, '구일만': 9480, '불가능하신가요': 9481, '있지도': 9482, '왔으면': 9483, '전화할': 9484, '마찰': 9485, '간단하게만': 9486, '문정숙': 9487, '이상훈': 9488, '하였구요': 9489, '보았을': 9490, '기소권': 9491, '일대': 9492, '브리핑': 9493, '오게': 9494, '힘드세요': 9495, '의경': 9496, '명예': 9497, '기억나는': 9498, '금제': 9499, '나가셔서': 9500, '간의': 9501, '김정호': 9502, '일생': 9503, '그러시구요': 9504, '회비': 9505, '다르': 9506, '달라지게': 9507, '유료': 9508, '분량': 9509, '정돈': 9510, '됐는지는': 9511, '남아있다고': 9512, '냈거든요': 9513, '바뀌거든요': 9514, '미제': 9515, '초가': 9516, '명과': 9517, '가능하시도록': 9518, '늦어지는': 9519, '내외': 9520, '받으셔': 9521, '부탁드릴께요': 9522, '나와있으신': 9523, '원활하지': 9524, '남았잖아요': 9525, '결합': 9526, '명작': 9527, '똥': 9528, '받으셨다는': 9529, '수여': 9530, '하여도': 9531, '이시면은': 9532, '세우기로': 9533, '괜찮나': 9534, '내려주시면': 9535, '기숙사': 9536, '들으시려고': 9537, '들어갈까': 9538, '오래되셔서': 9539, '적혀있는데': 9540, '수험': 9541, '봤는데요': 9542, '뽑는': 9543, '눌러야': 9544, '진자': 9545, '찍기': 9546, '모음': 9547, '받는지': 9548, '삼척': 9549, '보시려고': 9550, '보면요': 9551, '남아있단': 9552, '가능하시잖아요': 9553, '해주셨다고': 9554, '샀어요': 9555, '강했던': 9556, '샀는데': 9557, '뒤집으면': 9558, '나하': 9559, '피드백': 9560, '도전': 9561, '세우실': 9562, '높다고': 9563, '적합하지': 9564, '않은가': 9565, '친절함으로': 9566, '앉아': 9567, '쌓아서': 9568, '후배': 9569, '선행': 9570, '배울': 9571, '프로그래밍': 9572, '창의': 9573, '궁금해요': 9574, '인쇄': 9575, '스토리': 9576, '타겟': 9577, '대도': 9578, '돌아서': 9579, '타느냐': 9580, '보내서': 9581, '내려왔을': 9582, '해주셔야만': 9583, '가봐야': 9584, '않는다면': 9585, '받으셔야만': 9586, '보이소': 9587, '노인': 9588, '시를': 9589, '매도': 9590, '흠': 9591, '인감증명서': 9592, '적어서': 9593, '대산면': 9594, '종점': 9595, '지나가는': 9596, '많죠': 9597, '통행': 9598, '라지': 9599, '과인': 9600, '한화': 9601, '있고아': 9602, '되시아': 9603, '없던데': 9604, '좋죠': 9605, '불필요하다': 9606, '김경수': 9607, '미안합니다': 9608, '찾으니까': 9609, '린': 9610, '앞날': 9611, '하믄': 9612, '전화해야': 9613, '살아야': 9614, '부러': 9615, '누군데': 9616, '갤러리': 9617, '나무': 9618, '픽셀': 9619, '들어가나요': 9620, '쿠키': 9621, '있는지를': 9622, '들어가주셔서': 9623, '경운': 9624, '받네요': 9625, '있는데네': 9626, '되시겠습니다': 9627, '이제강': 9628, '페스티벌': 9629, '돌아다니더라고요': 9630, '묶어서': 9631, '정면': 9632, '선산': 9633, '전화하는데': 9634, '진해여고': 9635, '하신다라는': 9636, '드시지': 9637, '운동': 9638, '비슷하기는': 9639, '화장': 9640, '할라는데': 9641, '들어왔는데요': 9642, '전역': 9643, '데예': 9644, '새는데': 9645, '원하셔서': 9646, '어려우시다면': 9647, '하시지는': 9648, '이북': 9649, '있나여': 9650, '입국': 9651, '상속세': 9652, '사진관': 9653, '나타나': 9654, '받았어': 9655, '영주권': 9656, '친권자': 9657, '준비물': 9658, '해서아': 9659, '중간고사': 9660, '상관없고': 9661, '이래요': 9662, '원하셨던': 9663, '예체능': 9664, '달라진': 9665, '매년': 9666, '하냐의': 9667, '최신': 9668, '시키려고': 9669, '어뜨케': 9670, '그렇진': 9671, '나머': 9672, '들어가느냐': 9673, '들어왔을': 9674, '들어오셔': 9675, '내려갈': 9676, '해주시진': 9677, '애하': 9678, '있으아': 9679, '누르': 9680, '모르겠다는': 9681, '동일하세요': 9682, '줄어든': 9683, '싶긴': 9684, '뜯고': 9685, '연필통': 9686, '뱅': 9687, '만들지도': 9688, '서까지': 9689, '가능하네요': 9690, '쓰시려고요': 9691, '전해': 9692, '의심스러운': 9693, '선지': 9694, '똑같으시구요': 9695, '32': 9696, '이러다': 9697, '확실한건': 9698, '뺀다': 9699, '됐잖아요': 9700, '전화하고': 9701, 'oooooooooooooo': 9702, '내려가지고': 9703, '효': 9704, '박아': 9705, '경리': 9706, '넣으면은': 9707, '오실거에요': 9708, '박경호': 9709, '으로까지': 9710, '봐야지': 9711, '진것도': 9712, '연세': 9713, '하던가요': 9714, '정규': 9715, '났다고': 9716, '자야': 9717, '본이': 9718, '흐름': 9719, '않았다고': 9720, '해자': 9721, '충전기': 9722, '있건': 9723, '알겠습니까': 9724, '그만': 9725, '오이': 9726, '가동': 9727, '라고만': 9728, '리나': 9729, '축': 9730, '내려오셔가지고요': 9731, '하셨다면은': 9732, '1990년': 9733, '숙소': 9734, '내놓고': 9735, '되는거고요': 9736, '장의': 9737, '쓰잖아요': 9738, '벨': 9739, '허다해': 9740, '들린다고요': 9741, '대관': 9742, '어치': 9743, '없으시거나': 9744, '전화했습니다': 9745, '올라가': 9746, '파업': 9747, '즈음': 9748, '올려주셨구요': 9749, '올려주셔도': 9750, '덕': 9751, '풍호동': 9752, '엉망': 9753, '모르네': 9754, '디펜스': 9755, '모타': 9756, '다르거든요': 9757, '드리질': 9758, '귤': 9759, '국화': 9760, '가려고': 9761, '기관지': 9762, '드릴텐데': 9763, '오수': 9764, '중동': 9765, '마소': 9766, '아녀': 9767, '생물': 9768, '되거시나': 9769, '팔월': 9770, '주지': 9771, '혜': 9772, '통신비': 9773, '능': 9774, '김민정': 9775, '휴식': 9776, '대사': 9777, '향': 9778, '위협': 9779, '례': 9780, '구금': 9781, '가짜': 9782, '저작': 9783, '관공서': 9784, '육억': 9785, '불꽃': 9786, '름': 9787, '다발': 9788, '일인': 9789, '달래': 9790, '끼시고': 9791, '도피': 9792, '토': 9793, '정체': 9794, '시멘트': 9795, '공동체': 9796, '즈': 9797, '립': 9798, '수치': 9799, '궁': 9800, '폭': 9801, '레': 9802, '춘': 9803, '완': 9804, '륜': 9805, '셀': 9806, '이상한건': 9807, '스팸메일': 9808, '웬만한거는': 9809, '웃': 9810, '했다고요': 9811, '통수': 9812, '때리면서': 9813, '이십여': 9814, '모르셨다면': 9815, '시킨거에요': 9816, '억울하고': 9817, '떨려가지고': 9818, '억울하시다': 9819, '떨리고': 9820, '억울하다': 9821, '흘러가고': 9822, '자임': 9823, '밝히는': 9824, '전박': 9825, '솔직하게만': 9826, '하셨건': 9827, '알려질': 9828, '알아야하지': 9829, '이랬네': 9830, '저랬네': 9831, '다니시면은': 9832, '밝히려면': 9833, '덮치고': 9834, '이렀네': 9835, '저렀네': 9836, '약도': 9837, '해드릴거고요': 9838, '불문': 9839, '특정한': 9840, '없는데도': 9841, '두절': 9842, '이일형': 9843, '하시기로': 9844, '엄숙히': 9845, '불상': 9846, '이었기': 9847, '청탁': 9848, '물으시거나': 9849, '익산시': 9850, '부송동': 9851, '까치': 9852, '만들었다는': 9853, '자이시': 9854, '됐는가': 9855, '인위': 9856, '황당하시고': 9857, '황당하시겠죠': 9858, '없다면서요': 9859, '있으셔야지': 9860, '편하거든요': 9861, '아니니깐': 9862, '들리셔가지구': 9863, '이정': 9864, '김현미': 9865, '알긴': 9866, '일지': 9867, '790만원': 9868, '하셨든': 9869, '시급히': 9870, '젊으신': 9871, '출도': 9872, '들리시고': 9873, '보실거라': 9874, '차리': 9875, '기억나세요': 9876, '했는지요': 9877, '줬었어요': 9878, '되있을거에요': 9879, '해볼거에요': 9880, '받으셨으니깐': 9881, '남아있으셔야지': 9882, '들어있을': 9883, '크지만': 9884, '나는거': 9885, '불러주시면': 9886, '추우시죠': 9887, '조심해야': 9888, '나오시던가': 9889, '회화': 9890, '힘드시겠어요': 9891, '온르': 9892, '한가하실': 9893, '바빠지죠': 9894, '바쁘시나요': 9895, '받냐고': 9896, '따라왔어요': 9897, '들리거나': 9898, '힘들거': 9899, '1-1': 9900, '넘어가시': 9901, '잊어버린': 9902, '본실': 9903, '당했거나': 9904, '봤습니까': 9905, '김성수': 9906, '없고를': 9907, '이천십육': 9908, '사월': 9909, '이십이일': 9910, '추궁': 9911, '생깁니다': 9912, '만들었다고요': 9913, '사후': 9914, '도화동': 9915, '명분': 9916, '박상호': 9917, '김철중': 9918, '새마': 9919, '김현민': 9920, '나왔다고요': 9921, '틀리다고': 9922, '써주는': 9923, '론도': 9924, '가자': 9925, '내주시면': 9926, '이천구백삼십일': 9927, '5.4': 9928, '천오백만': 9929, '115만': 9930, '111만': 9931, '서주': 9932, '해줬습니다': 9933, '그랬었죠': 9934, '이천오백': 9935, '560원': 9936, '김임수': 9937, '어눌하세요': 9938, '없습니다만': 9939, '보셔': 9940, '들기': 9941, '드시는데': 9942, '믿어주세요': 9943, '믿으시고': 9944, '모종': 9945, '포착': 9946, '않는다면요': 9947, '방화벽': 9948, '나오지만': 9949, '많으시기': 9950, '않잖아요': 9951, '왔다라고': 9952, '조절': 9953, '들어가시지만': 9954, '보신다': 9955, '나가세요': 9956, '7.9%': 9957, 'vip': 9958, '그로': 9959, '하루아침': 9960, '2등': 9961, '필터': 9962, '링': 9963, '걸리지': 9964, '생겨요': 9965, '그나': 9966, '토론': 9967, '들었습니다마는': 9968, '필요하다니': 9969, '센테이지는': 9970, '마라구요': 9971, '과속': 9972, '두시길': 9973, '광주시': 9974, '두셨다고': 9975, '채게끔': 9976, '의연하게': 9977, '201': 9978, '우시면서': 9979, '입힐': 9980, '하셔야겠습니까': 9981, '다름없이요': 9982, '혐': 9983, '충분하게': 9984, '완전하게': 9985, '이정환': 9986, '그러도록': 9987, '경원': 9988, '이선규': 9989, '걸리신': 9990, '잡아주시면': 9991, '났구요': 9992, '알아봐서': 9993, '싫어지는': 9994, '나가든지': 9995, '마십시오': 9996, '맞으셔서': 9997, '버리는데': 9998, '해주잖아요': 9999, '삼백육십이': 10000, '360만원': 10001, '아깝고': 10002, '않나': 10003, '도리': 10004, '빼가시면': 10005, '빼가세요': 10006, '360만': 10007, '넣어주는': 10008, '더래도': 10009, '돌아오시니까': 10010, '식탁': 10011, '어림': 10012, '티아이': 10013, '했냐라고': 10014, '빌려주는': 10015, '일으키셔가지고': 10016, '맞추신': 10017, '드리겠다라는': 10018, '유리하시거든요': 10019, '맞춰주셔야지': 10020, '맞추려고': 10021, '올라가시잖아요': 10022, '올라가지': 10023, '드리기로': 10024, '모아에서': 10025, '단순한': 10026, '이승철': 10027, '말씀드리자면': 10028, '보시겠다면': 10029, '지우는거지요': 10030, '보내냐면': 10031, '알아낸': 10032, '스카이프': 10033, '불러주실': 10034, '찾아가시기': 10035, '나갈건데': 10036, '받아주시고': 10037, '유력한': 10038, '특별하게': 10039, '은익': 10040, '최민영': 10041, '끊으셨습니까': 10042, '끊어졌어요': 10043, '들리고': 10044, '모르셔도': 10045, '해드렸다는': 10046, '남기시는': 10047, '최희': 10048, '김기영': 10049, '들어가도': 10050, '받으셨고요': 10051, '계시거나': 10052, '빌려주라고요': 10053, '하냐고요': 10054, '줬는데': 10055, '두세요': 10056, '만나는': 10057, '사이다': 10058, '싶어도': 10059, '들러': 10060, '상한': 10061, '연이율': 10062, '36만': 10063, '3255원': 10064, '되실거고': 10065, '알아주셔야': 10066, '다는거': 10067, '신용승': 10068, '들어가시는데도': 10069, '들어가실거고': 10070, '가지고계시다': 10071, '달동': 10072, '했을시에': 10073, '들어갈거고': 10074, '용하고': 10075, '용은': 10076, '납입일': 10077, '들어갈거구요': 10078, '사써요': 10079, '가능하겠어요': 10080, '할수있는': 10081, '하실수는있으세요': 10082, '제나': 10083, '상여금': 10084, '02-1670': 10085, '3877': 10086, '줄까': 10087, '시론': 10088, '전화해서요': 10089, '지웅': 10090, '물어보세요': 10091, '8600만원': 10092, '시피': 10093, '사간이': 10094, '필요하니깐': 10095, '현금카드': 10096, '강상우': 10097, '말씀드리지': 10098, '말씀드린건': 10099, '나신다': 10100, '밝히시는': 10101, '심문': 10102, '가실거구요': 10103, '다옥': 10104, '사이에': 10105, '계셨죠': 10106, '시초': 10107, '있으니구요': 10108, '증권사': 10109, '커버': 10110, '오셨거든요': 10111, '모르시': 10112, '원하시고': 10113, '앉으세요': 10114, '해드렸습니다': 10115, '등롱증': 10116, '해드렸다고': 10117, '오신답니다': 10118, '계시다는거': 10119, '하시라구요': 10120, '서대문구': 10121, '통일로': 10122, '97': 10123, '오시는게': 10124, '오시라고요': 10125, '계급': 10126, '경사': 10127, '궁금하십니까': 10128, '된것을': 10129, '하고있지': 10130, '에게서': 10131, '살고있는': 10132, '계셔서요': 10133, '넘기셨는지': 10134, '님께서': 10135, '들어오셨다구요': 10136, '선샹님': 10137, '나왔거든': 10138, '파신': 10139, '이민아': 10140, '240만': 10141, '있으셔야만': 10142, '주시는게': 10143, '쓰시거나': 10144, '많으시면': 10145, '빼시라고': 10146, '밀봉': 10147, '김소연': 10148, '해야하며': 10149, '해야하는지': 10150, '몰라서요': 10151, '당연히을': 10152, '오셔야죠': 10153, '박병호': 10154, '에든': 10155, '인것이': 10156, '섞여있는': 10157, '해드릴테니까': 10158, '김소월': 10159, 's': 10160, '범죄현장': 10161, '이라든': 10162, '되었으면': 10163, '받고있습니다': 10164, '받고있고요': 10165, '받고있는': 10166, '중요한것은': 10167, '보는건': 10168, '재훈': 10169, '이상민': 10170, '받으셔야지만': 10171, '체포영장': 10172, '될수': 10173, '오명철': 10174, '김정실': 10175, '건담': 10176, '3009': 10177, '임기': 10178, '받으셨다는거': 10179, '소립': 10180, '말씀드리는건데': 10181, '홍콩': 10182, '아니시라면': 10183, '하신거란': 10184, '을해': 10185, '처치': 10186, '들이고요': 10187, '노출하게': 10188, '일으킨다는': 10189, '1천만원': 10190, '된다는거': 10191, '녹취과정': 10192, '섞이면은': 10193, '굼겨서': 10194, '당하시거나': 10195, '서라구요': 10196, '드린거지에서': 10197, '뿐더러': 10198, '드릴테니깐': 10199, '외심': 10200, '되서요': 10201, '채는': 10202, '롤': 10203, '맡고계신': 10204, '받으실텐데': 10205, '김태진': 10206, '브로커': 10207, '했더라고요': 10208, '도등': 10209, '바빠서': 10210, '해드릴테니깐': 10211, '2017조': 10212, '8003': 10213, '안에': 10214, '적이있습니까': 10215, '김선정': 10216, '당하지': 10217, '해온게': 10218, '알고계시죠': 10219, '해진': 10220, '될시': 10221, '그리고이': 10222, '측이신': 10223, '드렸다고요': 10224, '이녹취': 10225, '당구': 10226, '26일': 10227, '단국대': 10228, '보인': 10229, '먹거나': 10230, '하게되': 10231, '좀더': 10232, '생길수가있어요': 10233, '되었네요': 10234, '될거에요': 10235, '최영환': 10236, '573035원': 10237, '깄': 10238, '나간다고요': 10239, '찾아와서': 10240, '찾아가는': 10241, '하위': 10242, '변심': 10243, '필요한가': 10244, '해줬는데': 10245, '뭐합': 10246, '보냅니다': 10247, '끊을까요': 10248, '올라가시구요': 10249, '57만': 10250, '3035원': 10251, '같다고요': 10252, '25일': 10253, '나네': 10254, '들어오던데': 10255, '받아면서': 10256, '들어오지': 10257, '있는거지': 10258, '이상한게': 10259, '넣으라는': 10260, '안되셔가지고': 10261, '바빠서요': 10262, '드시니까': 10263, '안되있더라구요': 10264, '안되셨다': 10265, '안되셨다는': 10266, '안되있던데요': 10267, '넘어가는게': 10268, '안되실수도': 10269, '날이였잖아요': 10270, '밀리셔가지고': 10271, '사기치지': 10272, '빼가셨더라고요': 10273, '싸이트': 10274, '하고있어서': 10275, '게임머니': 10276, '해주실수만': 10277, '러시앤캐시': 10278, '주렸던': 10279, '김민기': 10280, '머니로': 10281, '9800만원': 10282, '남아계시잖아요': 10283, '보내주셔야시고요': 10284, '잡히지는': 10285, '없어지실거에요': 10286, '낫네요': 10287, '늦어지셨는데': 10288, '나오셨습니까': 10289, '눌러주십': 10290, '눌러주셨습니까': 10291, '켜실': 10292, '내리시는': 10293, '여셨으면은': 10294, '나왔네요': 10295, '9800만': 10296, '되시지만': 10297, '명란': 10298, '올리도록': 10299, '보겠습니까': 10300, '점일': 10301, '계양구': 10302, '경명대로': 10303, '없으셨죠': 10304, '좀전에': 10305, '드렸네요': 10306, '다를수있고요': 10307, '할수있으면': 10308, '간호조무사': 10309, '2900': 10310, '하시네요': 10311, '되시던가요': 10312, '됐던거': 10313, '받으실려면요': 10314, '받으시는데는': 10315, '받긴': 10316, '오르': 10317, '안되네': 10318, '없으시게': 10319, '받으시다가': 10320, '전화하셨는데요': 10321, '신지도': 10322, '768': 10323, '말귀': 10324, '눌르시고': 10325, '전화할게요': 10326, '되겠는데요': 10327, '6.8%': 10328, '되더라구요': 10329, '드린거잖아요': 10330, '쓰고있던': 10331, '정확히는': 10332, '삼사천': 10333, '되는것': 10334, '머니에서': 10335, '봐주시고': 10336, '알아야하나요': 10337, '해봐야하니까': 10338, '야할거': 10339, '남아있는지도': 10340, '계실텐데요': 10341, '없는거잖아요': 10342, '2800만원': 10343, '들어가셨죠': 10344, '심의': 10345, '빠르실거에요': 10346, '들어가고부터': 10347, '알고있거든요': 10348, '받아가시라고': 10349, '220': 10350, '가시는데까지는': 10351, '상관없으신': 10352, '된다는건': 10353, '전화하시든': 10354, '들어오는거': 10355, '안된다는데': 10356, '무역': 10357, '계신거에요': 10358, '보셨는지': 10359, '보내는데': 10360, '생기는건데': 10361, '뽑아오시라는': 10362, '필요한거구요': 10363, '사오시라고': 10364, '3500~4000만원': 10365, '먹튀': 10366, '난감해지거든요': 10367, '받아오시면': 10368, '해줬어요': 10369, '해주시는거구요': 10370, '보내주시거든요': 10371, '바이오': 10372, '시그널': 10373, '하시는건데': 10374, '쉬워': 10375, '간간히': 10376, '돼고': 10377, '전철역': 10378, '할수도': 10379, '힘드신데': 10380, '하는것보단': 10381, '나을거구요': 10382, '보시는거에요': 10383, '빠져나가는지': 10384, '할수밖에': 10385, '영등포역': 10386, '대쪽': 10387, '픽업': 10388, '1%': 10389, '받으시되': 10390, '갖고계시잖아요': 10391, '쏴주는거는': 10392, '1950': 10393, '있을거라고': 10394, '남은거에서': 10395, '가져가시고': 10396, '넘겨서': 10397, '넣어주시고': 10398, '가져가시는거에요': 10399, '어려운거는': 10400, '헤매요': 10401, '적건': 10402, '많건': 10403, '해주실거면': 10404, '되실거구요': 10405, '9.7%': 10406, '63만': 10407, '2원': 10408, '39만': 10409, '24만': 10410, '정일': 10411, '단위로': 10412, '짜로': 10413, '해드릴거고': 10414, '뜨는거죠': 10415, '나오셨으면': 10416, '나가시는거고': 10417, '가능했는데': 10418, '투맨': 10419, '상급': 10420, '되시는거에요': 10421, '가시는거니까': 10422, '휴대폰번호': 10423, '그러니기': 10424, '맞잖습니까': 10425, '달랑': 10426, '말씀드려서': 10427, '보니니깐': 10428, '치까지': 10429, '붙이시라는': 10430, '구상권': 10431, '초성': 10432, '말씀드리게': 10433, '문어': 10434, '물란': 10435, '말씀드리지마는': 10436, '드리지마는': 10437, '무리하게': 10438, '무지해서': 10439, '얻어먹어요': 10440, '등제': 10441, '대출받으실': 10442, '힘드니깐': 10443, '54': 10444, '55년': 10445, '만치안습니까': 10446, '살아갈': 10447, '많잖습니까': 10448, '이삼백만원': 10449, '연월': 10450, '도와주신다는': 10451, '모으면': 10452, '3~4시간': 10453, '삼천오백만원': 10454, '절때': 10455, '부쳐야': 10456, '불안한것도': 10457, '들고요': 10458, '아까부터': 10459, '날아가면': 10460, '말씀드리는거는': 10461, '대져': 10462, '미친': 10463, '동년': 10464, '그러기에': 10465, '잘려요': 10466, '하는거는': 10467, '압니': 10468, '전화통화': 10469, '담하면서': 10470, '아는대': 10471, '솔직하게요': 10472, '얻어먹습니다': 10473, '날라': 10474, '어려워지니깐': 10475, '대잖아요': 10476, '나가기가': 10477, '가깝다면서요': 10478, '건대': 10479, '고맙다': 10480, '받을수': 10481, '또모': 10482, '보내시구요': 10483, '말씀드렸지요': 10484, '아셨죠': 10485, '체면': 10486, '4~5시': 10487, '나갈거에요': 10488, '말씀드렸지만은': 10489, '넣은': 10490, '생이': 10491, '같은면': 10492, '많은시기': 10493, '고모부': 10494, '뻘': 10495, '대시잖아요': 10496, '할실거': 10497, '막무가내': 10498, '가망': 10499, '클': 10500, '생이시고': 10501, '꼽': 10502, '넣냐구요': 10503, '떨렁': 10504, '건네주면': 10505, '책책': 10506, '공책': 10507, '카달': 10508, '은거': 10509, '찌': 10510, '믿을게요': 10511, '믿지': 10512, '최진': 10513, '믿을세요': 10514, '연배': 10515, '분이시니깐': 10516, '건네주셔야': 10517, '비빌': 10518, '빼셨고요': 10519, '올려놨거든요': 10520, '모르시니깐': 10521, '연결하시고': 10522, '1002': 10523, '아니아니': 10524, '380만원': 10525, '처릴': 10526, '하시는거져': 10527, '좀주세요': 10528, '모라구요': 10529, 'ns': 10530, '연경': 10531, '삥': 10532, '있을것': 10533, '되시는지는': 10534, '편이잖아요': 10535, '쓰시면서': 10536, '찍히시죠': 10537, '하고나시면': 10538, '찍히시구요': 10539, '그러시구': 10540, '내려주셨데요': 10541, '없앴어요': 10542, '하셔가지구요': 10543, '하셔가지구': 10544, '갚으실': 10545, '내어줄': 10546, '아니시구': 10547, '끊으시구요': 10548, '하시는거지': 10549, '부탁드리겟습니다': 10550, '되시는데로': 10551, '물어봐줄테니까': 10552, '환하실거': 10553, '가드': 10554, '아니구': 10555, '드린건': 10556, '선례': 10557, '안내받': 10558, '해가도록': 10559, '보겠구요': 10560, '주신거세요': 10561, '실레': 10562, '끊지말고': 10563, '보자면요': 10564, '상응': 10565, '유작': 10566, '말씀드려': 10567, '부탁드려': 10568, '드릳록': 10569, '말씀드릴게': 10570, '드리는거잖아요': 10571, '안물': 10572, '하는거냐': 10573, '안되는거': 10574, '보내는거라고': 10575, '받으려는': 10576, '파고들': 10577, '안되구': 10578, '두셨다가': 10579, '용우라는': 10580, '물어보게': 10581, '말실수': 10582, '생기잖아요': 10583, '말씀드리는거에요': 10584, '가고있어요': 10585, '않던가요': 10586, '물어본건': 10587, '열었거든요': 10588, '해주신거': 10589, '내려와가지고': 10590, '전화하는게': 10591, '하실건데': 10592, '보내놨거든요': 10593, '관곈데': 10594, '해줄려고': 10595, '뺏기는거라': 10596, '말짱': 10597, '소용': 10598, '되는거거든요': 10599, '허더라도': 10600, '리좀': 10601, '집어넣으면': 10602, '연초': 10603, '정전': 10604, '받아가거든요': 10605, '27,743,377원': 10606, '43000원': 10607, '내주기로': 10608, '건땜': 10609, '하니라고요': 10610, '칠천이': 10611, '해주시잖아요': 10612, '어려우시잖아요': 10613, '비엠케이': 10614, '사오': 10615, '받으셨다': 10616, '갚으셨잖아요': 10617, '만질수가': 10618, '갚으면은': 10619, '나오는건': 10620, '갚으신': 10621, '줘라': 10622, '팔천만원': 10623, '계신게': 10624, '6만천원': 10625, '선납': 10626, '김재성': 10627, '내려놓': 10628, '재상': 10629, '드려놓을게요': 10630, '최용': 10631, '기어': 10632, '돈좀': 10633, '갚을려고': 10634, '그래가지구': 10635, '그럼니다': 10636, '칠십사만': 10637, '가능하신지요': 10638, '뱅이': 10639, '친오빠': 10640, '빌렸다': 10641, '된다든지': 10642, '크레임': 10643, '안되주냐': 10644, '물어보기도': 10645, '들자면': 10646, '찾았다': 10647, '고건': 10648, '말으': 10649, '꼬치꼬치': 10650, '캐물': 10651, '미뤄놓으시면': 10652, '대차': 10653, '발건': 10654, '쩍게': 10655, '나셨기': 10656, '붙이시면': 10657, '쩍': 10658, '팁': 10659, '쓰신다고도': 10660, '없으셔서요': 10661, '쉬우세요': 10662, '받거니': 10663, '된거잖아요': 10664, '들어오긴': 10665, '되구': 10666, '왕성': 10667, '쓰셔서': 10668, '으루': 10669, '넣다가': 10670, '뺐다가': 10671, '좋거든요': 10672, '높히시는': 10673, '내줬어요': 10674, '날려': 10675, '잡힌': 10676, '꼈어요': 10677, '좋냐면': 10678, '않으시고나': 10679, '빌릴': 10680, '마땅치': 10681, '좋구요': 10682, '마침': 10683, '작아도': 10684, '커도': 10685, 'ic': 10686, '가볍지': 10687, '신문지': 10688, '좋쿠': 10689, '채워주시면은': 10690, '채워주시고': 10691, '감아주세요': 10692, '외관': 10693, '잡아야지': 10694, '넣을거거든요': 10695, '으로라도': 10696, '답답해': 10697, '복잡한건': 10698, '편취': 10699, '받을거고': 10700, '개떡': 10701, '돌아가는지': 10702, '수협': 10703, '반대쪽': 10704, '미치겠네': 10705, '황당한': 10706, '하시는것도': 10707, '안되다고': 10708, '장난치세': 10709, '정당하게': 10710, '무고죄': 10711, '보셨': 10712, '말좀': 10713, '기다렸어요': 10714, '빌려주네요': 10715, '천팔만': 10716, '했었으면': 10717, '나가셨을': 10718, '받아가십니까': 10719, '꿀': 10720, '백사십만원': 10721, '괜찮으시다': 10722, '온것도': 10723, '수십': 10724, '넘어가있으니까': 10725, '말슴': 10726, '이태호': 10727, '호자': 10728, '드렸었던': 10729, '안되셨기': 10730, '빠르면은': 10731, '안랩': 10732, '급한건': 10733, '급한거는': 10734, '필요하시기': 10735, '보는건데': 10736, '있으셔야지만': 10737, '누를수': 10738, '바꾸신다고': 10739, '난감한': 10740, '되여': 10741, '해준다는거구요': 10742, '없어졌어요': 10743, '말씀드렸었잖아요': 10744, '끝나시면은': 10745, '떙': 10746, '걸릴거에요': 10747, '받고서는': 10748, '뜨실건데': 10749, '어려우니까': 10750, '계셔가지고': 10751, '할건': 10752, '끊으시면은': 10753, '크레딧': 10754, '했다는거를': 10755, '드릴거고': 10756, '육십육만원': 10757, '약수동': 10758, '있는데에': 10759, '김정훈': 10760, '모르시거나': 10761, '이를테면': 10762, '맺어진': 10763, '이루어지실': 10764, '공탁': 10765, '틀리다라고': 10766, '봐주실': 10767, '천십만': 10768, '꾸미고': 10769, '전화하시거든요': 10770, '다르십니다': 10771, '있답니다': 10772, '형편': 10773, '불안하시면': 10774, '알려주시구요': 10775, '깔끔하실': 10776, '하는데를': 10777, '편하신데요': 10778, '편하니까': 10779, '산데': 10780, '일육이': 10781, '김정우': 10782, '남을수': 10783, '맞는건': 10784, '남는다고': 10785, '그러셨는데요': 10786, '전화왔어': 10787, '오셨다': 10788, '성북': 10789, '반전': 10790, '나셨어요': 10791, '떨어지신': 10792, '확고하게': 10793, '나셨으니까': 10794, '나감과': 10795, '주겠다는': 10796, '가져가셔가지고는': 10797, '떨어지셔야만이': 10798, '날수': 10799, '마니': 10800, '위험부담': 10801, '전적': 10802, '일어나시면': 10803, '쉬쉬': 10804, '주는거지': 10805, '딴사람': 10806, '안되냐': 10807, '처린': 10808, '드릴거니까': 10809, '산데요': 10810, '김미정': 10811, '밀리셔서': 10812, '하곤': 10813, '。': 10814, '달안': 10815, '다녀오신거죠': 10816, '끊어요': 10817, '들리는거': 10818, '필요하십니까': 10819, '3,000만': 10820, '30003,000만원': 10821, '박유진': 10822, '그럴껀데': 10823, '지울수가': 10824, '하시던가요': 10825, '해본다': 10826, '없으셨구요': 10827, '특권': 10828, '든다': 10829, '나가신다고': 10830, '이렇지': 10831, '걱정스러워서': 10832, '잡힌다고': 10833, '늦어지시다': 10834, '물어볼거는': 10835, '찍혀서': 10836, '블라인드': 10837, '들어오신다고요': 10838, '하시다가요': 10839, '잡으셔서': 10840, '해놓자': 10841, '하는말은': 10842, '나으신': 10843, '넣어주면': 10844, '안되나': 10845, '가능하셔야': 10846, '남으': 10847, '신거자': 10848, '생기시도록': 10849, '케어': 10850, '박준호': 10851, '나오셨더라고요': 10852, '부은': 10853, '낮아지거나': 10854, '겠지': 10855, '올라가실': 10856, '정적': 10857, '올라가신다고요': 10858, '올라가게끔': 10859, '올라가시는데': 10860, '되시겠지만': 10861, '나와계시고': 10862, '크시기': 10863, '힘드시더라도': 10864, '건다': 10865, '밟아': 10866, '올리는대로': 10867, '무소': 10868, '내려놓을': 10869, '3.4%': 10870, '해드릴려면': 10871, '줄어들': 10872, '알아보시지': 10873, '헷갈려서': 10874, '놓겠다': 10875, '드리겠다는': 10876, '버리시면은': 10877, '팔만원': 10878, '기번': 10879, '있긴한데': 10880, '유정': 10881, '모르고요': 10882, '답답하게': 10883, '풀었습니다': 10884, '환할거': 10885, '김지현': 10886, '의심스러우면': 10887, '최성진': 10888, '들어와가지고요': 10889, '40분': 10890, '팔백원': 10891, '힘드실까': 10892, '닫히는': 10893, '보여지나요': 10894, '느긋하실': 10895, '그날그날': 10896, '소재지': 10897, '전철': 10898, '해오신': 10899, '해보진': 10900, '분기': 10901, '모자라가지고': 10902, '권리금': 10903, '다양하기': 10904, '2.6': 10905, 'kamco': 10906, '박효신': 10907, '가시려고요': 10908, '지셨고요': 10909, '같으시니까': 10910, '드시긴': 10911, '넣으란': 10912, '묵혀있어야': 10913, '살린': 10914, '걸리시잖아요': 10915, '유치': 10916, '지켜보고': 10917, '오르는': 10918, '올리면은': 10919, '지나야만': 10920, '가능하셔도': 10921, '유동성': 10922, '감가상각': 10923, '떨어지잖아요': 10924, '든다는': 10925, '오르고': 10926, '나게끔': 10927, '해드릴수는': 10928, '타서': 10929, '빠져나가시는': 10930, '짧으면': 10931, '했는지를': 10932, '들어오는데': 10933, '들어오는게': 10934, '남긴다는': 10935, '줬다가': 10936, '걸리지만': 10937, '거칠': 10938, '부세': 10939, '에서처럼': 10940, '느긋하게': 10941, '나오게하기': 10942, '해서있는': 10943, '치거나': 10944, '나가는거고': 10945, '있을수록': 10946, '있으시긴': 10947, '원한다니까': 10948, '원하니까': 10949, '높은데를': 10950, '원하신다는걸': 10951, '들어가려면은': 10952, '크다고': 10953, '크잖아요': 10954, '알아보셔야': 10955, '에이티엠': 10956, '생기는데요': 10957, '빠져나간다고': 10958, '보질': 10959, '힘드시거나': 10960, '잇는건': 10961, '없으셨잖아요': 10962, '풀릴려면은': 10963, '풀으실려면은': 10964, '당하시다': 10965, '오면서': 10966, '그렇겐': 10967, '긴요': 10968, '기다리시면서': 10969, '내시던가': 10970, '적이죠': 10971, '쌓으셨어야': 10972, '온거는요': 10973, '물어봤어야죠': 10974, '태어날': 10975, '풀리실': 10976, '아시고요': 10977, '해보자는': 10978, '그랬었나요': 10979, '전화했냐': 10980, '전화하면은': 10981, '뇨': 10982, '써주는데': 10983, '언성': 10984, '높이면서': 10985, '싸우지': 10986, '완화': 10987, '환하거나': 10988, '이지원': 10989, '처기': 10990, '주셨네요': 10991, '그동안': 10992, '넘었을': 10993, '많으시거나': 10994, '낮으셔도': 10995, '중개업': 10996, '데선': 10997, '이루어지는지': 10998, '지켜보면': 10999, '신거에요': 11000, '가지고와': 11001, '갈테니까': 11002, '하자고': 11003, '할랬는데': 11004, '한다니까': 11005, '갈게': 11006, '끝납시다': 11007, '끝나시는': 11008, '아니시네요': 11009, '불편하시다고': 11010, '당했나': 11011, '당하셨다는': 11012, '아니시냐': 11013, '8.5': 11014, '저당': 11015, '됬고요': 11016, '째시고요': 11017, '센티': 11018, '브로': 11019, '측도': 11020, '되이시고요': 11021, '씨티카드': 11022, '측은': 11023, '해주십니까': 11024, '2.1': 11025, '5600만원': 11026, '하신진': 11027, '참하셔서': 11028, '5600': 11029, '있길': 11030, '시키셨나요': 11031, '안이': 11032, '내려서': 11033, '내릴거에요': 11034, '찾는다고': 11035, '박철민': 11036, '김상훈': 11037, '찾으셨다': 11038, '엎': 11039, '김상도': 11040, '위기': 11041, '중요하신': 11042, '나빠지잖아요': 11043, '당할거에요': 11044, '올라가실려면은': 11045, '딜레': 11046, '시켜놓은': 11047, '받으셔가지고요': 11048, '올라가셨기': 11049, '없으셨던': 11050, '이천칠백': 11051, '나가신다고요': 11052, '힘드셨잖아요': 11053, '잡혀계신': 11054, '이선': 11055, '재작성': 11056, '해보던가': 11057, '딜': 11058, '레이': 11059, '기다리셨어요': 11060, '유플러스': 11061, '사십칠만': 11062, '오천이백십삼': 11063, '점팔': 11064, '동일하시구요': 11065, '오십오만': 11066, '늦어지다': 11067, '불가능하신다고': 11068, '닫혀': 11069, '전화하시면서': 11070, '볼라고요': 11071, '인연': 11072, '않으셨습니까': 11073, '계셨기': 11074, '안되가지고': 11075, '주셔야겠는데': 11076, '김성': 11077, '까다롭지는': 11078, '않다고': 11079, '까다롭지': 11080, '가능하시겠구나': 11081, '하시겠구나': 11082, '주시더라고요': 11083, '갚는거': 11084, '안가네요': 11085, '가능하실거': 11086, '희한하네': 11087, '가능하실것': 11088, '든게': 11089, '좋으셔서': 11090, '안될진': 11091, '모르지만': 11092, '...?': 11093, '알아봐주는': 11094, '낮은거': 11095, '이정원': 11096, '눌렀었는데': 11097, '안될꺼에요': 11098, '다른데도': 11099, '무난': 11100, '급이고': 11101, '9등': 11102, '급이': 11103, '급이면': 11104, '따른건': 11105, '일월': 11106, '높아요': 11107, '나오신다고': 11108, '같으': 11109, '살때': 11110, '지날': 11111, '불가하다': 11112, '가조': 11113, '회때': 11114, '광교': 11115, '강규진': 11116, '에이전시': 11117, '에서야': 11118, '늦어져서': 11119, '십팔만': 11120, '당하셔가지고': 11121, '해보셨으': 11122, '좋을텐데': 11123, '되셨다면은': 11124, '있으셨고': 11125, '받으시지': 11126, '당했구나': 11127, '해달라라고': 11128, '내려갔다고': 11129, '찬가진데': 11130, '그렇지만은': 11131, '아니실': 11132, '있는거가': 11133, '터울': 11134, '쓰셔가지고': 11135, '있으셨기': 11136, '나오는데로': 11137, '갈아타시는': 11138, '갈아타실': 11139, '물어보시지도': 11140, '드린거거든요': 11141, '부라': 11142, '롭': 11143, '유흥': 11144, '불미': 11145, '되시는게': 11146, '이민호': 11147, '삼삼이': 11148, '해보거나': 11149, '알겠는데요': 11150, '하는지만': 11151, '배팅': 11152, '머니만': 11153, '투잡': 11154, '보시다가': 11155, '호출': 11156, '가져가는건': 11157, '일억이': 11158, '많았다': 11159, '바꾸면요': 11160, '되냐면은': 11161, '완충': 11162, '되었으니까': 11163, '움직': 11164, '가져가십니다': 11165, '570만': 11166, '불가능하시니까': 11167, '말씀드리죠': 11168, '오시나요': 11169, '불안하겠죠': 11170, '움직여줘서': 11171, '그럴껄': 11172, '젠진': 11173, '3만원': 11174, '합친': 11175, '나가네요': 11176, '정도선': 11177, '하시던가': 11178, '오시겠다': 11179, '빠듯하': 11180, '두드려': 11181, '알겠네요': 11182, '짊': 11183, '리스크': 11184, '자거든요': 11185, '안오거든요': 11186, '나올려면은': 11187, '내주셔야': 11188, '묶여있는데': 11189, '만들었다': 11190, '년전': 11191, '죽는건': 11192, '않을껄': 11193, '맞추냐': 11194, '해줄라': 11195, '가볼게요': 11196, '팔칠': 11197, '팔칠일일': 11198, '성연': 11199, '갈아타셔서': 11200, '출로': 11201, '보셨고': 11202, '나와있으셔서': 11203, '채우려다보다': 11204, '하신데요': 11205, '하시게끔': 11206, '번거로운': 11207, '하시겠': 11208, '넣었으면': 11209, '껴서': 11210, '2.50': 11211, '말았죠': 11212, '람해': 11213, '건를': 11214, '걸리시면은': 11215, '하셨더라도': 11216, '촉박하니까': 11217, '어떠실까': 11218, '길거리': 11219, '울거나': 11220, '다쳤다는데': 11221, '부리면': 11222, '바꿔주라고요': 11223, '다쳤어요': 11224, '다쳤다고': 11225, '다쳤고': 11226, '코피': 11227, '다쳤다': 11228, '때렸어요': 11229, '때렸으니까': 11230, '바꿔요': 11231, '어떡해': 11232, '죽입니다': 11233, '무사한지는': 11234, '쓰는데요': 11235, '났었': 11236, '해줄건데': 11237, '낮아가지고': 11238, '받으셨으니까': 11239, '갚으셔야죠': 11240, '이민': 11241, '육년': 11242, '들어오십니까': 11243, '삼백오십': 11244, '들어오죠': 11245, '이연수': 11246, '좋겠네요': 11247, '집도': 11248, '계셔도': 11249, '이상진': 11250, '동일하시고요': 11251, '주식회사': 11252, '사비': 11253, '그러냐고': 11254, '죄송하게': 11255, '잘잘못': 11256, '좋기': 11257, '해보면은': 11258, '원정': 11259, '남으셨잖아요': 11260, '나갔으니까': 11261, '하시란': 11262, '말씀드린단': 11263, '금감': 11264, '사내': 11265, '바쁘셨어요': 11266, '누르니까': 11267, '바쁘': 11268, '어느덧': 11269, '나빠': 11270, '없으시던가요': 11271, '빳빳': 11272, '끝내셨나': 11273, '맞으셨던': 11274, '나으시죠': 11275, '번거로우시니까': 11276, '번거로우시지가': 11277, '않으시잖아요': 11278, '늦게까지': 11279, '괜찮은가요': 11280, '사십팔만': 11281, '되셔요': 11282, '비쌉니다': 11283, '그러시는데': 11284, '머니라는': 11285, '있을시': 11286, '죄송하지만은': 11287, '떨어지실': 11288, '왠만하면': 11289, '많있': 11290, '하시느냐고': 11291, '넘겨주는': 11292, '참아': 11293, '됐지만': 11294, '보여줘요': 11295, '천이십오': 11296, '보내는게': 11297, '그럴게': 11298, '떴다': 11299, '찾아보세요': 11300, '라고는': 11301, '아니라니까': 11302, '드린다니까': 11303, '125.230': 11304, '191.94': 11305, '해중': 11306, '낮춰': 11307, '부다': 11308, '구백만원': 11309, '필요없다고': 11310, '붙는': 11311, '갈아타겠': 11312, '맞기': 11313, '신거를': 11314, '칠게요': 11315, '보내놓을': 11316, '뭐라해': 11317, '야하지': 11318, 'dpi': 11319, '떨궈주시면은': 11320, '금융업': 11321, '잡으셔가지고요': 11322, '오일': 11323, '잡히셨구요': 11324, '110만원': 11325, '많에': 11326, '삼십칠분': 11327, '나셨거든요': 11328, '솜금': 11329, '빌리면': 11330, '들어오신다고': 11331, '원하신': 11332, '편하시겠다': 11333, '딴데다': 11334, '여의도동': 11335, '해놨으니까': 11336, '부담스러우셔': 11337, '넘어가있는': 11338, '645': 11339, '753': 11340, '올라갔던': 11341, '내려가': 11342, '그만하고': 11343, '큰데요': 11344, '가있는데': 11345, '했겠어요': 11346, '시키기': 11347, '내려와서': 11348, '코프라': 11349, '받았어도': 11350, '백퍼센트': 11351, '러쉬': 11352, '천이백': 11353, '준대': 11354, '쳤던': 11355, '돌렸다는': 11356, '이랬으면': 11357, '글쎄요': 11358, '이라곤': 11359, '몰랐죠': 11360, '숫자일': 11361, '나눠가지고': 11362, '믿을게': 11363, '채워지면은': 11364, '무서운데': 11365, '면적': 11366, '그러잖아요': 11367, '책임지겠다고': 11368, '만족하실': 11369, '커미션': 11370, '쳤다거나': 11371, '믿겠다고': 11372, '빼돌': 11373, '했을까봐': 11374, '쇠고랑': 11375, '겁나서': 11376, '안든': 11377, '부족하게': 11378, '가는걸': 11379, '아니였으면': 11380, '해드렸을지도': 11381, '이상하세요': 11382, '다르지': 11383, '될라고': 11384, '바라': 11385, '달려': 11386, '민감할': 11387, '모른다면서요': 11388, '했겠습니까': 11389, '올라가가지고': 11390, '내주긴': 11391, '맞추고': 11392, '와라': 11393, '복잡해': 11394, '벌렸지': 11395, '돌려가지고': 11396, '아쉽지만': 11397, '벌려놓은': 11398, '쏟아진': 11399, '주워': 11400, '중요하지': 11401, '중요한거죠': 11402, '서약': 11403, '해보십': 11404, '끝났는데요': 11405, '돈입': 11406, '넘겨놓은': 11407, '난감해요': 11408, '남겨놓으시면': 11409, '상대편': 11410, '이상한거죠': 11411, '왔습니까': 11412, '안됬': 11413, '할거냐고': 11414, '안넘': 11415, '갚아진거': 11416, '드리다가': 11417, '끌어서': 11418, '가시는게': 11419, '하셨겠죠': 11420, '어떡하다': 11421, '24': 11422, '불안하는': 11423, '들어가있는': 11424, '올라간게': 11425, '시켰다가': 11426, '남게요': 11427, '실체': 11428, '받았지만': 11429, '해주는게': 11430, '크지도': 11431, '올랐으니까': 11432, '받고가': 11433, '치인': 11434, '넘냐가': 11435, '막긴데': 11436, '지니까': 11437, '맞추시라고요': 11438, '맞추세요': 11439, '내보내면': 11440, '쓰시던지': 11441, '부족한것도': 11442, '부족한데': 11443, '내한': 11444, '어휴': 11445, '빌리는': 11446, '채우면': 11447, '될줄': 11448, '넘기는게': 11449, '넘겼으니까': 11450, '채우시던': 11451, '채우시든': 11452, '나가게끔': 11453, '받는거': 11454, '하셨어야지': 11455, '벌려놓고서': 11456, '딜레이': 11457, '됬으면은': 11458, '나가가지고': 11459, '들었는지': 11460, '정직': 11461, '보십시오': 11462, '틀리고요': 11463, '몰라도': 11464, '넘길': 11465, '막으신': 11466, '490': 11467, '답답하네요': 11468, '서둘렀던': 11469, '그럴거': 11470, '사오백': 11471, '쓰실려고': 11472, '있으셨으면은': 11473, '넘어갔': 11474, '목금': 11475, '구십이': 11476, '쓰셨대': 11477, '낫잖아요': 11478, '전화하셔': 11479, '갖구요': 11480, '막으셔야': 11481, '꼬입니다': 11482, '들에게': 11483, '비영리': 11484, '아니란': 11485, '들으셨을': 11486, '괜찮으시겠냐': 11487, '꾸셔야': 11488, '대찰': 11489, '주셨으면은': 11490, '전화하셔가지구요': 11491, '모른': 11492, '들어가자는': 11493, '계셨을': 11494, '괜찮으': 11495, '편하신가요': 11496, '사십오만': 11497, '천구백구십육': 11498, '기일': 11499, '넘기지': 11500, '이십칠일': 11501, '해주신거거든요': 11502, '6500': 11503, '줄수가': 11504, '말씀드렸었거든요': 11505, '받은거고': 11506, '쓰던지': 11507, '하는거였잖아요': 11508, '가는데요': 11509, '하셨더라고요': 11510, '시키더라고요': 11511, '시킨거': 11512, '말씀드렸었는데': 11513, '말씀드리고서': 11514, '넘기는거였거든요': 11515, '해보시라고': 11516, '해보겠다고': 11517, '이럼': 11518, '리드코프': 11519, '흐음': 11520, '모르겠고요': 11521, '좋겠지만은': 11522, '들지만': 11523, '죄송하고요': 11524, '때기': 11525, '일르고': 11526, '전화했다': 11527, '까하고': 11528, '되시는건데': 11529, '보냐면': 11530, '서구': 11531, '12-04': 11532, '00283': 11533, '싶으실': 11534, '있으며': 11535, '돼있을수도': 11536, '하셨네요': 11537, '하시는구나': 11538, '대문자': 11539, '하겠어': 11540, '없더라도': 11541, '신거구요': 11542, '들어가시잖아요': 11543, '월드': 11544, '오시잖아요': 11545, '나빠서': 11546, '괜찮은지': 11547, '괜찮으시겠죠': 11548, '받으시더라도': 11549, '받으시도록': 11550, '택일': 11551, '시말서': 11552, '아실지': 11553, '모르시겠지만': 11554, '어떡': 11555, '버리더라고요': 11556, '주겠다고': 11557, '드리는거거든요': 11558, '많으시니까': 11559, '줬다는': 11560, '세종': 11561, '있는데에요': 11562, '불가능하죠': 11563, '많아서요': 11564, '1611-1421': 11565, '왔던거랑': 11566, '동일하시죠': 11567, '분데': 11568, '유성우': 11569, '7000만': 11570, '2.5%': 11571, '적합하셔서': 11572, '유명우': 11573, '올려주셨어요': 11574, '분되': 11575, '같으시네요': 11576, '그러셨나요': 11577, '60일': 11578, '늘리': 11579, '와를': 11580, '46만원': 11581, '떨어지시는': 11582, '검다리란': 11583, '하여간': 11584, '탄다': 11585, '전산실': 11586, '확약': 11587, '지랄': 11588, '없어졌단': 11589, '다시금': 11590, '살릴라고': 11591, '있다가는': 11592, '만큼의': 11593, '1000': 11594, '갈아타기를': 11595, '떨어지거나': 11596, '바꾼다': 11597, '떨어지시겠죠': 11598, '당연한거고': 11599, '해보죠': 11600, '들어가도록': 11601, '갈아타기': 11602, '물어보실거에요': 11603, '알고계셔야': 11604, '중요하신데요': 11605, '소비자금융': 11606, '차부터': 11607, '걸리시거든요': 11608, '버릴': 11609, '아니시냐고': 11610, '맞냐고': 11611, 'lh': 11612, '들어가시고요': 11613, '나셨다고': 11614, '나가신다거든요': 11615, '끝내셨어요': 11616, '할래요': 11617, '전성환': 11618, '잡혀있는': 11619, '뱅크시': 11620, '만지아세요': 11621, '21시': 11622, '까지인데': 11623, '늦어지면은': 11624, '익일': 11625, '부되': 11626, '어려우시니까': 11627, '양지': 11628, '송부되실': 11629, '나셨고': 11630, '녹취해': 11631, '되시며': 11632, '이시며': 11633, '떨어졌잖아요': 11634, '떨어지기': 11635, '나왔나요': 11636, '나왔다니': 11637, '불안하세요': 11638, '아니면요': 11639, '그러든': 11640, '받으시려는': 11641, '넘어요': 11642, '웃기는': 11643, '이시면': 11644, '올라갔다가': 11645, '올라가신': 11646, '이런다니까': 11647, '물으셨잖아요': 11648, '보내셨잖아요': 11649, '1577-4400': 11650, '뻔했어요': 11651, '됬는가': 11652, '끊어가셨는데요': 11653, '갔나요': 11654, '1,841,652원': 11655, '똑같구요': 11656, '집어넣고': 11657, '전화하셨죠': 11658, '돌려준다고': 11659, '돌려준다': 11660, '돌려주잖아요': 11661, '받는지를': 11662, '아니던데요': 11663, '1670-7000': 11664, '보내라고': 11665, '시켰다고요': 11666, '신다니까': 11667, '한다네요': 11668, '서준다고': 11669, '이왕': 11670, '떼고요': 11671, '떴으니까': 11672, '올라가면은': 11673, '295523': 11674, '29': 11675, '판촉': 11676, '불리': 11677, '편하시게': 11678, '기혼': 11679, '되있으신': 11680, '되있으시고': 11681, '도시면은': 11682, '44': 11683, '훈': 11684, '된건': 11685, '자간': 11686, '해보셔도': 11687, '소외': 11688, '28000원': 11689, '나오십': 11690, '쳐야': 11691, '이루어져요': 11692, '빠르시면은': 11693, '불필요하게': 11694, '접수전에': 11695, '2.5': 11696, '2.8%': 11697, '알려주시니까': 11698, '보내셔야': 11699, '보내주시는데': 11700, '94만원': 11701, '해드렸다가': 11702, '김하은': 11703, '앤유': 11704, '시키셨다': 11705, '입금자': 11706, '해놓으셨다가': 11707, '쓰는거에요': 11708, '연마': 11709, '된지는': 11710, '4.3%': 11711, '던': 11712, '가율': 11713, '낮은거에요': 11714, '안되시기': 11715, '하고있는데': 11716, '잡혀': 11717, '쓰는거죠': 11718, '시킬려고': 11719, '돌리게': 11720, '되는거잖아요': 11721, '이라기보다는': 11722, '넘어와서': 11723, '전자지갑': 11724, '넘어오잖아요': 11725, '꺼나': 11726, '친지': 11727, '꺼를': 11728, '안되냐고': 11729, '꺼다': 11730, '비트코인': 11731, '사세요': 11732, '그러고서는': 11733, '곤란하고': 11734, '곤란한': 11735, '묻': 11736, '끼친': 11737, '명백히': 11738, '화폐': 11739, '들어갈려면': 11740, '가셔야만': 11741, '중국말': 11742, '한국말': 11743, '들어오시게': 11744, '갔다하실': 11745, '모르는거': 11746, '인터뷰': 11747, '저렴하거든요': 11748, '2550만': 11749, '8.6%': 11750, '다루는거기': 11751, '보내서요': 11752, '환전소': 11753, '찍힌다거나': 11754, '고안': 11755, '오래되긴': 11756, '해주거든요': 11757, '하시러': 11758, '밀지': 11759, '기다리다': 11760, '빼도': 11761, '박도': 11762, '냈던': 11763, '노하우': 11764, '불안하시다': 11765, '없는건': 11766, '오진': 11767, '대출받았다고': 11768, '튀었어요': 11769, '터지면': 11770, '80만': 11771, '필요없는': 11772, '주는거밖에': 11773, '천오백': 11774, '있다는데요': 11775, '정문': 11776, '있데요': 11777, '메고': 11778, '맞다는데요': 11779, '495만원': 11780, '직영': 11781, '6000만': 11782, '가주셔야': 11783, '불러가지고': 11784, '리스': 11785, '뽑으면': 11786, '영업직': 11787, '내려갑니다': 11788, '비울': 11789, '잡으시면': 11790, '식목일': 11791, '대에서': 11792, '4억': 11793, '건내줄': 11794, '보내주시면은': 11795, '있야': 11796, '가능하신단': 11797, '놓구요': 11798, '쌌드': 11799, '즈그': 11800, '들어가자고요': 11801, '대위변제': 11802, '하실거면': 11803, '그렇겠지만': 11804, '동그랗게': 11805, '남김없이': 11806, '지우신': 11807, '늦으면은': 11808, '들이는': 11809, '넘어간다는': 11810, '보구': 11811, '일해': 11812, '권오준': 11813, '보내주셨을': 11814, '이변': 11815, '갚으시라고': 11816, '급하시면': 11817, '갚거나': 11818, '없애는': 11819, '환하시는': 11820, '맞춰주시기': 11821, '온다는거죠': 11822, '들어오': 11823, '들어온다고요': 11824, '쓸데없이': 11825, '곤란': 11826, '역할': 11827, '끝난거지': 11828, '들어오는거죠': 11829, '보냈다': 11830, '보내주셔가지고': 11831, '마무': 11832, '합쳐가지고': 11833, '마냐구요': 11834, '받는건데': 11835, '올거니까': 11836, '물어봤잖아요': 11837, '드리는거에요': 11838, '송선미': 11839, '장한테도': 11840, '들었다': 11841, '잔데': 11842, '듣는게': 11843, '연성': 11844, '길어지다': 11845, '가주': 11846, '주시려니까': 11847, '시원하게': 11848, '맞춰주시면': 11849, '드렸던데로': 11850, '보실게': 11851, '간략하게만': 11852, '들어가시다': 11853, '곤란하시잖아요': 11854, '맞춰지니까': 11855, '앞서는': 11856, '대출받는거에요': 11857, '갚는다고': 11858, '보신거잖아요': 11859, '빌려주셨겠죠': 11860, '맞되': 11861, '그치만': 11862, '끝나신': 11863, '들어오시는게': 11864, '하다는거에요': 11865, '변수': 11866, '헷갈릴': 11867, '끝나셔야지만': 11868, '렸': 11869, '배정은': 11870, '최헌': 11871, '되시냐': 11872, '환할거다': 11873, '규직': 11874, '받으셨냐': 11875, '묻는거에': 11876, '겠다': 11877, '어오': 11878, '해놨단': 11879, '들어가시되': 11880, '끝나셨구요': 11881, '홍성미': 11882, '들어갈거에요': 11883, '2400만': 11884, '차있는': 11885, '이세요': 11886, '2400만원': 11887, '나가시잖': 11888, '아요': 11889, '2300': 11890, '이신데': 11891, 'nr': 11892, '힘든데': 11893, '어떡하냐': 11894, '줄여주시고': 11895, '낮춰서': 11896, '괜찮게': 11897, '안고': 11898, '필요없으시기': 11899, '힘들겠네': 11900, '힘드시구요': 11901, '가능하신거니까': 11902, '힘드시지만': 11903, '주세': 11904, '틀립니까': 11905, '갖고있잖아요': 11906, '알려주면': 11907, '알려주는': 11908, '어쩌시게': 11909, '하시게요': 11910, '가져갔잖아요': 11911, '내주신거잖아요': 11912, '놓으셨나요': 11913, '돼있으셔야지': 11914, '주시는거죠': 11915, '일손': 11916, '준다면서요': 11917, '해주시는거에요': 11918, '와로': 11919, '보셨지만': 11920, '미비하시다': 11921, '다행히도': 11922, '‘': 11923, '’': 11924, '말씀드리는거고요': 11925, '나는지를': 11926, '남겨놓기': 11927, '놓는거고': 11928, '씀': 11929, '3.6%': 11930, '해줬냐': 11931, '좋': 11932, '드려놓을거에요': 11933, '생이니까요': 11934, '남겨놓을': 11935, '전화하시고': 11936, '해드리려면': 11937, '중요해요': 11938, '17.56%': 11939, '56': 11940, '도와주고있다': 11941, '도와주고': 11942, '그럴려고요': 11943, '바쁠': 11944, '깜빵': 11945, '찾아갈게': 11946, '전화한건': 11947, '시킨대로': 11948, '죽인다': 11949, '돌았나': 11950, '알았지': 11951, '신고하거나': 11952, '떼지': 11953, '쑤셔': 11954, '버립니다': 11955, '이희': 11956, '이뤄지고': 11957, '있으시니': 11958, '진실로': 11959, '설하셨습니까': 11960, '공주': 11961, '설하셨을': 11962, '만들었던거': 11963, '묶어': 11964, '빠지는': 11965, '알고있는데': 11966, '약용': 11967, '있었던걸': 11968, '그럴거에요': 11969, '만들었던거는': 11970, '2000년': 11971, '도거나': 11972, '2005년': 11973, '청년': 11974, '농협껀': 11975, '은행껀': 11976, '입각': 11977, '받았지': 11978, '취직': 11979, '만들수가': 11980, '받았던거': 11981, '오차벙위': 11982, '들면은': 11983, '팔원': 11984, '들어있어요': 11985, '0원': 11986, '61원': 11987, '재해': 11988, '있으시다고면': 11989, '마쳐놨는데': 11990, '잡으실': 11991, '지는거죠': 11992, '해주신거요': 11993, '않으셨나요': 11994, '이시라고요': 11995, '십대': 11996, '시켰단': 11997, '그중': 11998, '이뤄': 11999, '칠세': 12000, '이냐면': 12001, '일제': 12002, '않았거든요': 12003, '말았거든요': 12004, '돼있으시고요': 12005, '시킨단': 12006, '해서고요': 12007, '당고': 12008, '크시': 12009, '가십니다': 12010, '으로서는': 12011, '주셨다가': 12012, '세네': 12013, '달전': 12014, '쓰신다고': 12015, '어눌': 12016, '김은정': 12017, '구십만원': 12018, '이었냐': 12019, '상품권': 12020, '보내주겠다고': 12021, '챘고': 12022, '않았던': 12023, '사겠다고': 12024, '사기죄': 12025, '정확하게만': 12026, '계략': 12027, '맞으면은': 12028, '않아야': 12029, '태어났고요': 12030, '삼동': 12031, '챈': 12032, '당하시고': 12033, '합쳐': 12034, '18': 12035, '남겨가지고': 12036, '지위': 12037, '가능했던건데': 12038, '그럴게요': 12039, '이상하셔가지고': 12040, '불확실하거나': 12041, '불확실한': 12042, '양단': 12043, '들어있던': 12044, '많으셨어요': 12045, '했다는거': 12046, '아니야요': 12047, '버리긴': 12048, '자시다면': 12049, '녹취로': 12050, '좋겠죠': 12051, '하신지만': 12052, '쓰는거요': 12053, '나십니까': 12054, '자시': 12055, '되겠다고': 12056, '연결했습니다': 12057, '가능하시면은': 12058, '정우성': 12059, '나와있네요': 12060, '바쁘셔서': 12061, '팝': 12062, '14조': 12063, '취후': 12064, '최후': 12065, '들어갔는지는': 12066, '없었고': 12067, '당해': 12068, '해야지만이': 12069, '바쁘고': 12070, '지거든요': 12071, '사향': 12072, '받고는': 12073, '455조': 12074, '붙여야': 12075, '넘게가': 12076, '하는는': 12077, '62': 12078, '황인철': 12079, '21': 12080, '합리화': 12081, '변호인': 12082, '드렸냐': 12083, '인물': 12084, '이렇다면': 12085, '세법': 12086, '켜줄': 12087, '02월': 12088, '오십오': 12089, '오십육분': 12090, '됬으면': 12091, 'oooooooo': 12092, '육분': 12093, '하소연': 12094, '하기라고': 12095, '끊는다는게': 12096, '쉬어야': 12097, '보셨고요': 12098, '만의': 12099, '여분': 12100, '아시는대로': 12101, '시끄러울': 12102, '재녹': 12103, '멸죄': 12104, '이기철': 12105, '간호': 12106, '당하셨던': 12107, '나가셨다': 12108, '당하셔': 12109, '많으셔': 12110, '이천오백만원': 12111, '여원': 12112, '안전할': 12113, '조을': 12114, '27,722,695원': 12115, '될라면': 12116, '농협껍': 12117, '5,600만원': 12118, '550만원': 12119, '맞겠죠': 12120, '불가능하시게': 12121, '기다려주면': 12122, '되니까는': 12123, '삽니다': 12124, '됐을까요': 12125, '같으시면은': 12126, '스매싱': 12127, '갖추시고': 12128, '많아도': 12129, '갖춰야': 12130, '해드린게요': 12131, '녹취본': 12132, '가까우셔서': 12133, '가시겠네요': 12134, '만나기로': 12135, '김자': 12136, '출이나': 12137, '입히고': 12138, '저지르고': 12139, '됨에': 12140, '잡히지': 12141, '뚜렷한': 12142, '은밀': 12143, '취합니': 12144, '개시': 12145, '모르셨나': 12146, '160만원': 12147, '560만원': 12148, '72만원': 12149, '28만원': 12150, '679,872원': 12151, '443,230원': 12152, '생명보험': 12153, '보셨나': 12154, '사고팔고': 12155, '않고서는': 12156, '유시': 12157, '수감자': 12158, '하달': 12159, '해드릴게': 12160, '1.160': 12161, '엔터': 12162, '식별': 12163, '써있어': 12164, '너무나': 12165, '엄중한': 12166, '아까건': 12167, '였': 12168, '적을게요': 12169, '주시겟어요': 12170, '30001.160': 12171, '알수가': 12172, '켜주시면': 12173, '어리고': 12174, '남기': 12175, '무서우세요': 12176, '싫은데': 12177, '무서운지': 12178, '끄라고': 12179, '타시고': 12180, '온다는': 12181, '책임질까': 12182, '사구': 12183, '들어오려고': 12184, '남겨야': 12185, '무서': 12186, '우시다는': 12187, '괜찮지만': 12188, '나빠질': 12189, '나쁘셨을거': 12190, '꺼려지네요': 12191, '들이어': 12192, '드리는데도': 12193, '하겠네요': 12194, '바라는': 12195, '하시라': 12196, '갖추고': 12197, '필요없으시고': 12198, '연행': 12199, '수산': 12200, '최대로': 12201, '남으실': 12202, '꺼요': 12203, '나빠요': 12204, '어린데': 12205, '신경질': 12206, '올데가': 12207, '받으시는데요': 12208, '철사': 12209, '필요하실데': 12210, '쓰실까': 12211, '기억나는게': 12212, '둔거였고': 12213, '준거랑': 12214, '퇴': 12215, '나오신다면': 12216, '어렵겠죠': 12217, '가있는': 12218, '180만원': 12219, '안가지고': 12220, '잇어서': 12221, '쓰거나': 12222, '없으시단': 12223, '그러시면어': 12224, '5017': 12225, '최민지': 12226, '였고요': 12227, '맡고있는': 12228, '놀라셨을텐데': 12229, '만들었졌다고': 12230, '받으시는지': 12231, '000': 12232, '김영희': 12233, '들었을거에요': 12234, '흠집': 12235, '미미': 12236, '부당한': 12237, '살펴보고': 12238, '당했을': 12239, '커뮤니티': 12240, '벌어졌었어요': 12241, '됐었어요': 12242, '나왔었는데': 12243, '대다수': 12244, '조은': 12245, '난데': 12246, '김영': 12247, '발포': 12248, '됬나': 12249, '보내주면은': 12250, '쉽다': 12251, '。。': 12252, '하시겟어요': 12253, '해드렸으면은': 12254, '줄이고자': 12255, '들어갔는지': 12256, '끊겼어요': 12257, '저지른': 12258, '빼고요': 12259, '들렸는데': 12260, '당하거나': 12261, '빠져나가거나': 12262, '돼야만': 12263, '영창': 12264, '나쁘고': 12265, '밝혀주시기': 12266, '풀리는': 12267, '풀려나지': 12268, '쓰는거': 12269, '나는게': 12270, '일거': 12271, '궁금하실': 12272, '나오셔야지만이': 12273, '해시겠어요': 12274, '백십팔': 12275, '사십이': 12276, '져있습니다': 12277, '읽으실': 12278, '읽으시면': 12279, '읽으면': 12280, '읽으세요': 12281, '........': 12282, '하시겠냐고': 12283, '해드리냐면': 12284, '났습니다': 12285, '끊기시나': 12286, '불편하시고': 12287, '드신데': 12288, '들리시면은': 12289, '추측': 12290, '느끼신': 12291, '쓰셔도': 12292, '없었습니다': 12293, '받았으며': 12294, '있으시다면은': 12295, '식인': 12296, '신체검사': 12297, '특혜': 12298, '넘어가지고': 12299, '십삼만원': 12300, '큽니다': 12301, '놓치지': 12302, '삽': 12303, '놓으셨고': 12304, '요시': 12305, '걸리시겠어요': 12306, '걸리실거': 12307, '팔분': 12308, '드리겠고': 12309, '듭니': 12310, '버린게': 12311, '트린적': 12312, '제주도': 12313, '나본': 12314, '편쪽': 12315, '명찰': 12316, '여직원': 12317, '있었겠죠': 12318, '이었다는': 12319, '확실하시니까': 12320, '완한하': 12321, '살인데요': 12322, '봤다거나': 12323, '쓴거에요': 12324, '채우고': 12325, '안되서': 12326, '길들여져': 12327, '어색해서': 12328, '나가려던': 12329, '참이였어요': 12330, '주부': 12331, '이였나': 12332, '쓰는건': 12333, '됐단': 12334, '이라면은': 12335, '집이가': 12336, '근심': 12337, '받았다는데': 12338, '내려왔습니다': 12339, '하시는대로': 12340, '썼는지': 12341, '의심스러운거에요': 12342, '띄워서': 12343, '당할지도': 12344, '따라야': 12345, '들어가셨다고': 12346, '눌러주면': 12347, '그러라는': 12348, '알아보도록': 12349, '받아라': 12350, '안치': 12351, '편찮으셔서': 12352, '참에': 12353, '보내는지': 12354, '돼있을': 12355, '가서는': 12356, '불쾌하네요': 12357, '법치': 12358, '훑어': 12359, '주나요': 12360, '붙혀': 12361, '봤겠죠': 12362, '유심': 12363, '보내면은': 12364, '올지': 12365, '내려가니까': 12366, '왔으면은': 12367, '가져다': 12368, '주던지': 12369, '나오니': 12370, '깨진': 12371, '해봐라': 12372, '내주는': 12373, '수습': 12374, '돼있으니깐': 12375, '중에': 12376, '지을': 12377, '두면': 12378, '쓴다는거죠': 12379, '받겠다고': 12380, '나옵니까': 12381, '경도': 12382, '했다는거에요': 12383, '얻은': 12384, '상관없다고': 12385, '단소': 12386, '35분': 12387, '주워져': 12388, '없니': 12389, '업은': 12390, '확장자': 12391, '문이': 12392, '아니겠지': 12393, '하기겠습니다': 12394, '인단': 12395, '안남았어도': 12396, '안남았는데': 12397, '나오는거죠': 12398, '오래됬는데': 12399, '됬는데요': 12400, '근저당': 12401, '채권자': 12402, '오래되가지고': 12403, '법워': 12404, '풀었어요': 12405, '찰나': 12406, '이러게': 12407, '폐쇠': 12408, '어떤다고요': 12409, '남겨놓으니까': 12410, '들어있고': 12411, '266만원': 12412, '260만원': 12413, '육십만원': 12414, '대출받은': 12415, '들었으면은': 12416, '들어가신거에요': 12417, '2009년': 12418, '2009': 12419, '되시겠네': 12420, '나왔으면은': 12421, '걸리는지': 12422, '오십삼': 12423, '오십삼분': 12424, '물어봐라': 12425, '걸리나': 12426, '전화하셔서요': 12427, '채게': 12428, '불러야죠': 12429, '안되야': 12430, '누르셔': 12431, '모르겠습니까': 12432, '충분': 12433, '끊습니다': 12434, '떠났다고': 12435, '쉬실': 12436, '들어가시면요': 12437, '아프다고': 12438, '계실게요': 12439, '아프다': 12440, '무섭다고': 12441, '무서워': 12442, '안좋고': 12443, '적으라고': 12444, '였나': 12445, '건사': 12446, '싫으세요': 12447, '조그맣게': 12448, '하셨어': 12449, '까지밖에': 12450, '해주던데': 12451, '찾으면은': 12452, '찾으세요': 12453, '안남아요': 12454, '있었으면은': 12455, '진작': 12456, '파이팅': 12457, '말라고요': 12458, '나오실래요': 12459, '받으실래요': 12460, '있는데가': 12461, '해는데': 12462, '짓자고': 12463, '걸리면은': 12464, '밤새': 12465, '내려가면': 12466, '금호': 12467, '찾아요': 12468, '가신다면서': 12469, '바꾼다고': 12470, '바꿀수': 12471, '바꾸는': 12472, '갈러랑': 12473, '넣으셨고': 12474, '들리냐고': 12475, '죄송할건': 12476, '말아요': 12477, '불편하네': 12478, '힘들어도': 12479, '이나마': 12480, '내자': 12481, '바꾸시면': 12482, '쳐다': 12483, '범일': 12484, '높으니까': 12485, '된다는데요': 12486, '안된답니까': 12487, '던가요': 12488, '된데요': 12489, '문젭': 12490, '느껴지나': 12491, '잘해주고': 12492, '끝냅시다': 12493, '타운': 12494, '갔죠': 12495, '뜸': 12496, '들여요': 12497, '차분하게': 12498, '있으실래요': 12499, '마시라고': 12500, '말아주세요': 12501, '않을게요': 12502, '끝나잖아': 12503, '시켜야지만': 12504, '이어질수': 12505, '짓게': 12506, '찾을수': 12507, '걸렸네요': 12508, '숨': 12509, '간데': 12510, '오번': 12511, '중요하니까': 12512, '받았나요': 12513, '들리던데': 12514, '받다가': 12515, '써있었어요': 12516, '물어보던데요': 12517, '안나는건': 12518, '찾으신': 12519, '걸어가면서': 12520, '큼': 12521, '했을거': 12522, '바꿨다는': 12523, '김진우': 12524, '오목교역': 12525, '추우시면은': 12526, '한잔': 12527, '넣으셨죠': 12528, '메는': 12529, '메는건': 12530, '메는거에요': 12531, '드는거에요': 12532, '비싼거': 12533, '갔지만': 12534, '힘내자고요': 12535, '냈나요': 12536, '힘든거': 12537, '토닥여': 12538, '내자고요': 12539, '밝힐': 12540, '바꿔줘요': 12541, '바꿀거에요': 12542, '바꿨잖아요': 12543, '바꿔다': 12544, '알았고': 12545, '네가지': 12546, '갈거예요': 12547, '밝혀지고': 12548, '밧데리': 12549, '당한다거나': 12550, '가라고요': 12551, '나가요': 12552, '비하신': 12553, '들고가요': 12554, '시키던지': 12555, '웃어요': 12556, '어쩝': 12557, '솔직한': 12558, '냉정하게': 12559, '따지다': 12560, '다녀와서': 12561, '외우세요': 12562, '알려줘도': 12563, '털털': 12564, '간직': 12565, '왔는지': 12566, '힘들었죠': 12567, '만나셔가지고': 12568, '삼십오': 12569, '놨으': 12570, '따지세요': 12571, '따지라고요': 12572, '끝났다': 12573, '뵙죠': 12574, '달라질게': 12575, '여기서요': 12576, '권이요': 12577, '만나셔야': 12578, '불안하단': 12579, '끝날거': 12580, '그러시지': 12581, '보냈으니까': 12582, '믿냐고요': 12583, '있을거거든요': 12584, '생활고': 12585, '해야하기': 12586, '빠졌다고': 12587, '가져간거면': 12588, '가져간': 12589, '아닐거': 12590, '있다는거네요': 12591, '700억': 12592, '없었더라도': 12593, '알려주시나요': 12594, '가시게끔': 12595, '묻겠습니다': 12596, '듣는데': 12597, '태어나긴': 12598, '했었냐': 12599, '뭐라하셨죠': 12600, '스럽다고': 12601, '이었었는데': 12602, '보자로': 12603, '운영자': 12604, '들어가있고': 12605, '들어왔단': 12606, '나고나': 12607, '이왕이면': 12608, '전화하셨으니까': 12609, '최하': 12610, '꺼잖아요': 12611, '기다렸는데': 12612, '풍경': 12613, '솔직히도': 12614, '이십구': 12615, '쉽지는': 12616, '죽일': 12617, '이십팔일': 12618, '필요하는': 12619, '남았습니다': 12620, '쓰거든요': 12621, '모르시겠다는': 12622, '떻': 12623, '김경희': 12624, '하시기에': 12625, '드린데': 12626, '드렸겠죠': 12627, '당선': 12628, '영원': 12629, '백팔일': 12630, '기다려던가': 12631, '간사': 12632, '솔직히라고': 12633, '패밀리': 12634, '|': 12635, '감면을': 12636, '칠십사': 12637, '칠십칠': 12638, '두신가요': 12639, '아서': 12640, '김지용': 12641, '구조조': 12642, '3924': 12643, '이현수': 12644, '팔십만원': 12645, '권사': 12646, '기다려주시면은': 12647, '김기현': 12648, '심한데': 12649, '많있으신': 12650, '하셨던데': 12651, '보셨던데': 12652, '마이크': 12653, '어놨어': 12654, '김씨': 12655, '없어지실거고요': 12656, '한빛': 12657, '미스': 12658, 'ytn': 12659, 'mbn': 12660, '재수술': 12661, '스카이': 12662, '지워져': 12663, '지웠어요': 12664, '이십삼': 12665, '백육십구': 12666, '아다가': 12667, '꺼는': 12668, '이현석': 12669, '나타나네': 12670, '탔어요': 12671, '346': 12672, '14': 12673, '백칠십만원': 12674, '서해': 12675, '명성': 12676, '아으로': 12677, '가까': 12678, '나왔듯이': 12679, '억울하시겠어요': 12680, '아냐게': 12681, '쓰니까': 12682, '달리': 12683, '들어가셨나요': 12684, '나와있지': 12685, '불러주셔가지고': 12686, '12': 12687, '뒷모습': 12688, '후드': 12689, '날아가고': 12690, '스펙': 12691, '청바지': 12692, '다시거나': 12693, '돌아가기라고': 12694, '돌아가셨나요': 12695, '줄게요': 12696, '천백': 12697, '법대': 12698, '칼텍스': 12699, '비씨': 12700, '참인': 12701, '놈이요': 12702, '예인': 12703, '정보라': 12704, '알아보신다': 12705, '들어가셨다는': 12706, '천사백': 12707, '시켜놓고': 12708, '팔이구': 12709, '삼백원': 12710, '238': 12711, '보내셔': 12712, '나오게끔': 12713, '하얀': 12714, '해드렸듯이': 12715, '나오신다': 12716, '천팔백': 12717, '구사': 12718, '나구요': 12719, '5800': 12720, '사하나': 12721, '알려주시고': 12722, '하시잖': 12723, '넘어가셨는지': 12724, '지법': 12725, '내려가셨는데요': 12726, '찾아가지': 12727, '만나셔도': 12728, '삼일사일': 12729, '만나시고': 12730, '최지연': 12731, '했다가요': 12732, '가셨다': 12733, '키세': 12734, '다른기': 12735, '장롱': 12736, '돌아가시면서': 12737, '불안해가지고요': 12738, '돌아가실': 12739, '끊으시고': 12740, '무지': 12741, '고맙겠구요': 12742, '찾을려고': 12743, '되셔도': 12744, '시적': 12745, '깁니까': 12746, '가고있는데요': 12747, '가지고있어요': 12748, '계신다고요': 12749, '뽑은거죠': 12750, '뽑으셨어요': 12751, '뽑으란': 12752, '하셨잖습니까': 12753, '해보겠단': 12754, '어짜피': 12755, '상관없는거': 12756, '돼나요': 12757, '나오더니': 12758, '뽑았는데': 12759, '와도': 12760, '드렸겠습니까': 12761, '김덕제': 12762, '알겟습니다': 12763, '있는지에': 12764, '복잡해줄': 12765, '되냐를': 12766, '책임질': 12767, '했냐에': 12768, '하잖습니까': 12769, '봤더라면': 12770, '책임져': 12771, '털어서': 12772, '않았잖아요': 12773, '편치는': 12774, '불편하기': 12775, '가야겠네요': 12776, '불과하라는': 12777, '빼야': 12778, '안되게': 12779, '보겠는데에': 12780, '그럴만': 12781, '드리더라도': 12782, '나오겠다': 12783, '다녀와야겠다': 12784, '검찰조사': 12785, '번거로울': 12786, '별거': 12787, '챙기는게': 12788, '갈아입으려고': 12789, '작업복': 12790, '갈아입고': 12791, '걸어서': 12792, '뛰어가시진': 12793, '할거': 12794, '있고어': 12795, '돌발': 12796, '있는거기': 12797, '오셨고': 12798, '넘어가는지': 12799, '밝혀졌을': 12800, '넣으셔야': 12801, '보겠다는': 12802, '이성민': 12803, '오셨냐': 12804, '있다라면': 12805, '드리면되': 12806, '뚫린': 12807, '범법': 12808, '검은줄로': 12809, '검은': 12810, '넘버': 12811, '비유': 12812, '하자면': 12813, '찬가': 12814, '올라와있어요': 12815, '받아가실': 12816, '놓으셔야': 12817, '놓으셔서': 12818, '밝힌지': 12819, '불가능하지만은': 12820, '밝히시게': 12821, '안하시더라': 12822, '의하면은': 12823, '찍혀있을': 12824, '결탁': 12825, '뭐라도': 12826, '필요해가지고': 12827, '빠져나가고': 12828, '느냐든지': 12829, '사냐고': 12830, '되있습니까': 12831, '명석': 12832, '김도영': 12833, '김희선': 12834, '십육일': 12835, '동점': 12836, '달라구요': 12837, '교통카드': 12838, '모르시어': 12839, '걸릴거': 12840, '8만': 12841, '7천원': 12842, '했다면': 12843, '않다면': 12844, '짓도록': 12845, '하였어요': 12846, '하였고요': 12847, '사와': 12848, '나오시던지': 12849, '만들려면은': 12850, '사라던지': 12851, '송취': 12852, '나간거에요': 12853, '됐다는거에요': 12854, '했다든지': 12855, '가야하나요': 12856, '이었구요': 12857, '되오니': 12858, '들린다거나': 12859, '안되는거구요': 12860, '받으시든지': 12861, '말소리': 12862, '형범': 12863, '132': 12864, '되므로': 12865, '김태훈': 12866, '몰래': 12867, '맥락': 12868, '850만원': 12869, '도합': 12870, '3350만': 12871, '밖엔': 12872, '도와주셔야': 12873, '치과': 12874, '했어야': 12875, '이치': 12876, '뺐다': 12877, '다른해': 12878, '필요한거잖아요': 12879, '아니시는': 12880, '해주셨는지': 12881, '시켜놓겠습니다': 12882, '자살': 12883, '이니까요': 12884, '아버': 12885, '오백일': 12886, '사라지는': 12887, '관권': 12888, '갚아서': 12889, '1405': 12890, '팔팔한': 12891, '매치': 12892, '아니아': 12893, '제사': 12894, '김주혁': 12895, '시원하는': 12896, '솔직히는': 12897, '들어오니까': 12898, '김태호': 12899, '김형': 12900, '건강한': 12901, '된이': 12902, '되셨다거나': 12903, '쓰시잖아요': 12904, '놀라고': 12905, '불안하신': 12906, '넘어간다고': 12907, '하게는': 12908, '드렸다는': 12909, '던지도': 12910, '중요한거예요': 12911, '김찬희': 12912, '살리': 12913, '김태': 12914, '백오십만': 12915, '보입니다': 12916, '만들어라': 12917, '정확하게밖에': 12918, '모르시더라도': 12919, '시아': 12920, '다가오고': 12921, '치매': 12922, '자치': 12923, '아니고어': 12924, '갈지': 12925, '애자': 12926, '백삼십이': 12927, '가능하시게': 12928, '나시더라도': 12929, '산점': 12930, '드렸었죠': 12931, '지켜주시겠어요': 12932, '하아': 12933, '누르지': 12934, '불입': 12935, '랭크': 12936, '미트': 12937, '길어': 12938, '영상법': 12939, '갤럭신데': 12940, '호환': 12941, '기다리': 12942, '쓰려면': 12943, '후안': 12944, '그럼을': 12945, '안자': 12946, '있으리': 12947, '오케': 12948, '가지고라도': 12949, '천당': 12950, '하실려면은': 12951, '아프셔서': 12952, '싫으시다': 12953, '놓으셔야죠': 12954, '초구': 12955, '드려야지만': 12956, '은경': 12957, '드렸었잖아': 12958, '동일하기': 12959, '뜨던데': 12960, '이다해': 12961, '스팸': 12962, '버리시고': 12963, '걸게요': 12964, '김준혁': 12965, '013': 12966, '억울하게': 12967, '해줄게요': 12968, '바쁘니까': 12969, '곤란하시고': 12970, '만나셨고': 12971, '서에는': 12972, '꾸려져서': 12973, '이동명': 12974, '알려주시게': 12975, '필요없다는': 12976, '팬': 12977, '문구점': 12978, '모닝': 12979, '글로리': 12980, '시켜야겠죠': 12981, '어렵진': 12982, '단순해요': 12983, '골뱅이': 12984, '보내지고요': 12985, '놓으세요': 12986, '까먹으시면': 12987, '붙이신': 12988, '접아': 12989, '하시라니까요': 12990, '받다': 12991, '됐겠죠': 12992, '걸리네요': 12993, '웃으시면서': 12994, '황민': 12995, '보여주러': 12996, '적혀있고요': 12997, '지휘': 12998, '섞여있다': 12999, '내려지는': 13000, '+': 13001, '생소하실': 13002, '대외': 13003, '막는': 13004, '은희': 13005, '내려지고': 13006, '받게되': 13007, '내려지면': 13008, '가능하단': 13009, '주셔야되': 13010, '힘들지만': 13011, '위안': 13012, '꺼내주시고': 13013, '장만': 13014, '활짝': 13015, '펼쳐': 13016, '좌우': 13017, '섞여서': 13018, '접어서': 13019, '생긴다': 13020, '맡기시거나': 13021, '2억': 13022, '드리는거요': 13023, '늦어져도': 13024, '남겨놓는': 13025, '해주시라고요': 13026, '보내도': 13027, '된다는거죠': 13028, '나볼': 13029, '움직여주세요': 13030, '빼주세요': 13031, '일어나기': 13032, '빼주시고': 13033, '82%': 13034, '카페나': 13035, '만나도': 13036, '바꿔줄': 13037, '만났다': 13038, '만났습니다': 13039, '가만히': 13040, '받으셨으면은': 13041, '읽었다': 13042, '적지': 13043, '틀리지': 13044, '적고': 13045, '쓰나요': 13046, '쓰셨으면': 13047, '나오신다라고': 13048, '시킬거에요': 13049, '오겠죠': 13050, '해드려야지': 13051, '째로': 13052, '해드릴라고': 13053, '바꿔주시면': 13054, '들어왔고': 13055, '불안하실': 13056, '있어서만': 13057, '불과해요': 13058, '시키라고': 13059, '챙기셨다는': 13060, '꺼내셔서': 13061, '섞어서': 13062, '수하': 13063, '박현욱': 13064, '적었습니다': 13065, '아자': 13066, '노란': 13067, '챙긴': 13068, '적혀있어요': 13069, '가위': 13070, '린다': 13071, '파쇄기': 13072, '태운다든지': 13073, '잘못을한': 13074, '5천만원': 13075, '맞다는': 13076, '수표로': 13077, '걸리다': 13078, '시킨다는': 13079, '되겠다면은': 13080, '알고있으면은': 13081, '가능해': 13082, '하시겠죠': 13083, '달려있는': 13084, '넣는다면은': 13085, '달려있어요': 13086, '가버립': 13087, '가버리고': 13088, '갇히겠죠': 13089, '있겠지만은': 13090, '되있다고': 13091, '모르겠죠': 13092, '끊어져': 13093, '갈거고': 13094, '놔요': 13095, '채운다는': 13096, '티엠기': 13097, '가둬가지고': 13098, '그러려고': 13099, '계실지는': 13100, '바꾸시고': 13101, '당할까봐': 13102, '가서까지': 13103, '아닌게': 13104, '코치': 13105, '꺼내셨나요': 13106, '없어졌더라고요': 13107, '막았거든요': 13108, '적어요': 13109, '불가능했습니다': 13110, '불가능했는데': 13111, '확실해요': 13112, '내려놨거든요': 13113, '조력자': 13114, '1968년': 13115, '김미화': 13116, '뇌물': 13117, '조선족': 13118, '왔었어요': 13119, '왔었다': 13120, '올려가지고': 13121, '줬다든지': 13122, '찍으신': 13123, '찍은거': 13124, '였을거': 13125, '파산하기': 13126, '올려셨다': 13127, '란걸': 13128, '아실지는': 13129, '찍잖아요': 13130, '오르니까': 13131, '당했거든요': 13132, '어려워지는데': 13133, '다니는게': 13134, '냈었던': 13135, '넘겨준': 13136, '보내거든요': 13137, '보냈다는': 13138, '가렸어요': 13139, '가렸다': 13140, '치더라도': 13141, '올렸다': 13142, '보여주면': 13143, '남기시거든요': 13144, '좋지가': 13145, '돌아다니다가': 13146, '올리는거요': 13147, '오셨습니까': 13148, '오셨는데요': 13149, '티켓팅': 13150, '들어갔습니까': 13151, '주긴': 13152, '불러주시고': 13153, '투어': 13154, '없었고요': 13155, '보여주고': 13156, '까먹었나': 13157, '좋아했어요': 13158, '곤란해요': 13159, '머릿': 13160, '속이': 13161, '해보셔야지': 13162, '몰랐던': 13163, '생각난거죠': 13164, '물어보셔서': 13165, '초행길': 13166, '나가셔가지고': 13167, '이어져야': 13168, '챙기세요': 13169, '불감증': 13170, '챙기실': 13171, '챙기시고요': 13172, '맞이': 13173, '뵙기': 13174, '비추는': 13175, '투썸플레이스': 13176, '만나셨어요': 13177, '넘겨주시면서': 13178, '만나셨죠': 13179, '읊어': 13180, '적혀있죠': 13181, '찍혀있다는': 13182, '분한': 13183, '1568만': 13184, '일천': 13185, '36분': 13186, '암기': 13187, '찍혀있어요': 13188, '맡겨야': 13189, '찍혀있습니다': 13190, '가신건데': 13191, '면전': 13192, '주셨죠': 13193, '그럴텐데': 13194, '됬잖아요': 13195, '속일': 13196, '어지러워': 13197, '들리시는데': 13198, '끝나는대로': 13199, '드립': 13200, '크면': 13201, '떠나서': 13202, '들리는시데': 13203, '가셨죠': 13204, '갔잖아요': 13205, '있으시잖아': 13206, '하신거는요': 13207, '분인지만': 13208, '프린터기': 13209, '뽑은': 13210, '따라가서': 13211, '보복': 13212, '가시진': 13213, '보신거': 13214, '털이범': 13215, '있는데서': 13216, '봐주세요': 13217, '착석': 13218, '들고가신': 13219, '갔습니까': 13220, '불안해': 13221, '받았다시피': 13222, '분한데': 13223, '받지말고': 13224, '내셔': 13225, '넘겨주라고': 13226, '추운데': 13227, '들어갈게요': 13228, '추워요': 13229, '들어가신다고요': 13230, '빨랐다는': 13231, '가능했기': 13232, '됐냐': 13233, '가져가도': 13234, '가능하냐라고': 13235, '피나': 13236, '자이': 13237, '김재': 13238, '김재원': 13239, '일행': 13240, '나와줘야지': 13241, '액티브': 13242, '한자': 13243, '되더라': 13244, '해봤다고': 13245, '보여주신': 13246, '십구일': 13247, '길어지게': 13248, '괴롭히라': 13249, '지게': 13250, '십오일': 13251, '도와주는': 13252, '차비': 13253, '편하시겠어요': 13254, '가능하실려면': 13255, '좋대': 13256, '고해': 13257, '불가능하시면': 13258, '다시피': 13259, '솔직히를': 13260, '하시겠다든지': 13261, '협상': 13262, '모른체': 13263, '억울하잖아요': 13264, '하란': 13265, '되지도': 13266, '지켜보셔야': 13267, '듣고요': 13268, '중랑': 13269, '오래됬거든요': 13270, '대다수세요': 13271, '봤다는': 13272, '막으시니까': 13273, '모르셨고': 13274, '조용한데서': 13275, '가능하냐고요': 13276, '조용한데요': 13277, '마산시': 13278, '잘은': 13279, '끝입': 13280, '째는요': 13281, '되있네요': 13282, '않을거에요': 13283, '메모장': 13284, '끄시면': 13285, '담고': 13286, '들었었죠': 13287, '파는데': 13288, '당했다는거겠죠': 13289, '안일한': 13290, '느끼지': 13291, '안팎': 13292, '지셔야': 13293, '되었으며': 13294, '알겠나요': 13295, '해보시겠습니다': 13296, '아닌지에': 13297, '어렵단': 13298, '들리는데': 13299, '되시는가요': 13300, '주실건데': 13301, '지신': 13302, '48시간': 13303, '5회': 13304, '중대한': 13305, '끊어진다거나': 13306, '계신다': 13307, '넣어놓고': 13308, '쓴지가': 13309, '철저히': 13310, '돌아오는': 13311, '47회': 13312, '끄라구요': 13313, '껐어요': 13314, '끄셨나요': 13315, '입으시고': 13316, '될거고요': 13317, '돌아다니면서': 13318, '불편하니까': 13319, '성하는': 13320, '걸어가면': 13321, '가까운가요': 13322, '걸어가주시겠어요': 13323, '걸어가니까': 13324, '보시나요': 13325, '찾는다든지': 13326, '사냐라고': 13327, '외우시고': 13328, '걸려가지고': 13329, '끄지': 13330, '버리세요': 13331, '을요': 13332, '들어오셨나요': 13333, '아시는가요': 13334, '넣으셔서': 13335, '된거고요': 13336, '되셨더라구요': 13337, '해놨구요': 13338, '살아오시면서': 13339, '맡기셨다': 13340, '빌려주셨다': 13341, '부팅': 13342, '아니였던': 13343, '그랬을거에요': 13344, '됐더라고요': 13345, '되냐면요': 13346, '서두': 13347, '출한': 13348, '5295': 13349, '만들어졌다고': 13350, '들릴': 13351, '육아': 13352, '조민철': 13353, '반론': 13354, '부럽': 13355, '국민연금': 13356, '있는지요': 13357, '290만원': 13358, '헷갈리': 13359, '긴한데': 13360, '나는거죠': 13361, '조사만': 13362, '16': 13363, '들리': 13364, '말씀드리겠구요': 13365, '있다하면은': 13366, '졌었어요': 13367, '받으셨겠지만': 13368, '들리니까': 13369, '달란': 13370, '하혈': 13371, '역이거든요': 13372, '만들었습니다': 13373, '지하철': 13374, '사가정역': 13375, '아니었었던거': 13376, '아니었던거': 13377, '경제권': 13378, '미뤄도': 13379, '한창': 13380, '남았지': 13381, '사라진거까지': 13382, '해야하는': 13383, '친분': 13384, '찾으시고': 13385, '말씀드려가지고': 13386, '돼있으': 13387, '주시되': 13388, '않게만': 13389, '이상일': 13390, '쌓여있을걸': 13391, '경조사': 13392, '넣는데': 13393, '만들었으니까': 13394, '있었던거': 13395, '자잘한': 13396, '들일': 13397, '되있고': 13398, '맞지요': 13399, '몰랐다': 13400, '떳떳하신': 13401, '52': 13402, '519': 13403, '529': 13404, '하신거는': 13405, '강재혁': 13406, '혁이': 13407, '어가': 13408, '만들어졌는데': 13409, '모르시는거에요': 13410, '몰랐나요': 13411, '무서운': 13412, '도와줬다던가': 13413, '전자거래': 13414, '아니었어요': 13415, '짊어질': 13416, '떳떳하고': 13417, '도까지': 13418, '자였고': 13419, '어떤데인진': 13420, '흔': 13421, '하디': 13422, '흔한': 13423, '안일하게': 13424, '적인데요': 13425, '불리하게': 13426, '모르는거는': 13427, '하신다는거죠': 13428, '지워주신': 13429, '09년': 13430, '말씀드린거': 13431, '5280': 13432, 'abc': 13433, '나가기로': 13434, '말씀드린거에요': 13435, '임신': 13436, '살았기': 13437, '나오셨을텐데': 13438, '되셨다던가': 13439, '범로': 13440, '청와대': 13441, '해있는': 13442, '해놓게': 13443, '문맥': 13444, '받아들이게': 13445, '들어나게': 13446, '하다고': 13447, '갔고': 13448, '안타깝게': 13449, '무책임한': 13450, '찌라시': 13451, '이어질': 13452, '중요하다고': 13453, '의해서도': 13454, '멸': 13455, '야기': 13456, '가하는': 13457, '실효': 13458, '불가능할까': 13459, '유포자': 13460, '들어가있죠': 13461, '다분합니다': 13462, '올리': 13463, '정의': 13464, '무분별': 13465, '의한': 13466, '지냈고': 13467, '프리랜서': 13468, '빈번': 13469, '냈으니까': 13470, '쌓여있나': 13471, '울타리': 13472, '오래되': 13473, '0.01%': 13474, '둬야': 13475, '시켰던': 13476, '원일': 13477, '말씀드리지는': 13478, '나쁠': 13479, '다니면': 13480, '지겠고': 13481, '가할': 13482, '할애': 13483, '만들었었': 13484, '바라구요': 13485, '가보는': 13486, '죄송스러운데': 13487, '징조': 13488, '나를': 13489, '맡아야': 13490, '괜찮겠죠': 13491, '괜찮을거': 13492, '평상': 13493, '쯤이나': 13494, '올렸고요': 13495, '잡히': 13496, '눈물': 13497, '흘리면서': 13498, '여럿': 13499, '받아들이는': 13500, '몸조리': 13501, '용돈': 13502, '당할': 13503, '앞수': 13504, '가능하시면요': 13505, '만나지': 13506, '들하고요': 13507, '부터요': 13508, '요구사항': 13509, '섞여요': 13510, '잃어버리셔서': 13511, '하시거나도': 13512, '앨범': 13513, '잃어버렸어요': 13514, '하신지는': 13515, '자동화': 13516, '비해': 13517, '영화관': 13518, '흔들어서': 13519, '분이시라고': 13520, '연다': 13521, '청구인': 13522, '자라는게요': 13523, '바쁘시다고': 13524, '하실래요': 13525, '잔데요': 13526, '하실거에요': 13527, '김태영': 13528, '없냐': 13529, '않냐': 13530, '소문': 13531, '해드린다면': 13532, '같은거나': 13533, '나가시는데요': 13534, '넘으셨고': 13535, '들어가셨어요': 13536, '당했어요': 13537, '떼진': 13538, '원하시니까': 13539, '거액': 13540, '골프채': 13541, '으로부터만': 13542, '알잖아요': 13543, '잡다한': 13544, '당하면': 13545, '소수': 13546, '한두': 13547, '했었죠': 13548, '않겠습니까': 13549, '하셨네': 13550, '웬만하시면': 13551, '만들겠죠': 13552, '들어서요': 13553, '만든거겠죠': 13554, '빠져가는': 13555, '시간표': 13556, '켜준다거나': 13557, '놓으셨어요': 13558, '쓸게요': 13559, '쯤엔가': 13560, '넘었어요': 13561, '잃어버리셨어요': 13562, '놓거나': 13563, '바꿔치기': 13564, '무사하냐': 13565, '800만원': 13566, '드릴려면': 13567, '지켜주셔야지': 13568, '안되셨죠': 13569, '4시간': 13570, '받으실거에요': 13571, '날이죠': 13572, '수상해서': 13573, '분있으세요': 13574, '없으셨나요': 13575, '출소': 13576, '돼다': 13577, '쳐요': 13578, '뜨시죠': 13579, '참작': 13580, '찾아갈건데': 13581, '적힌다면서요': 13582, '비우신다거나': 13583, '아시냐': 13584, '모르지': 13585, '빌려주셨다는게': 13586, '뽑아놨었는데': 13587, '인지는': 13588, '사고파는': 13589, '팔겠다는': 13590, '버리시니까': 13591, '불안감': 13592, '알면서도': 13593, '몰고': 13594, '없으셨기': 13595, '말아주시구요': 13596, '명확하게만': 13597, '헷갈리시는데': 13598, '되있습니다': 13599, '고인': 13600, '인권': 13601, '녹취자료': 13602, '없으시겠네요': 13603, '않으시게끔': 13604, '삼가를': 13605, '있을만한': 13606, '매스컴': 13607, '일어났던': 13608, '일텐데': 13609, '닉네임': 13610, '남겼었던': 13611, '계셨었는데': 13612, '남겨져있었던건': 13613, '됬었다': 13614, '자고요': 13615, '살면서': 13616, '대전광역시': 13617, '대덕구': 13618, '충북': 13619, '계시다는': 13620, '갔다하면서': 13621, '집이고요': 13622, '되어계십니다': 13623, '쓴다는': 13624, '내려졌다는': 13625, '진솔한': 13626, '또다른': 13627, '유무': 13628, '한거긴': 13629, '넣어놨어요': 13630, '대우': 13631, '만들었다가': 13632, '바뀌어가지고': 13633, '잠기': 13634, '데이트비용': 13635, '넣어놓는': 13636, '모으': 13637, '여행가': 13638, '모으는': 13639, '깨가지고': 13640, '개다': 13641, '모으려고': 13642, '계신거네요': 13643, '받으시겠습니까': 13644, '250만': 13645, '없을거고': 13646, '동일하시지': 13647, '이하라고만': 13648, '정확하신': 13649, '이하일': 13650, '이다하라고': 13651, '우리카드': 13652, '만들었고요': 13653, '썼던거는': 13654, '담았고': 13655, '하신다던지': 13656, '순수하게': 13657, '합계': 13658, '나와있다는': 13659, '받아주시고요': 13660, '드린거는요': 13661, '나오시겠어요': 13662, '나오셔도': 13663, '나오시겠다고': 13664, '드려야지': 13665, '와야지': 13666, '들어오셔야지': 13667, '열리고': 13668, '나오시겠다': 13669, '녹취할게': 13670, '하였다는': 13671, '보내시라고요': 13672, '/': 13673, '만들었기': 13674, '아니시겠네요': 13675, '오시더라도': 13676, '최태규': 13677, '하는거요': 13678, '들으셔야': 13679, '사신다고요': 13680, '않으시겠습니까': 13681, '시켜야되': 13682, '본거고요': 13683, '본거고': 13684, '궁금하신거': 13685, '호구': 13686, '보셨다는': 13687, '야말로': 13688, '김진섭': 13689, '김광': 13690, '녹취파일': 13691, '박진석': 13692, '아니시라고요': 13693, '만들었긴': 13694, '문상': 13695, '고향이': 13696, '이준': 13697, '힘드십니까': 13698, '박진섭': 13699, '거셨어': 13700, '돼있던': 13701, '나오다': 13702, '전화하셨냐': 13703, '하셨냐': 13704, '이영남': 13705, '소지품': 13706, '되셨던데': 13707, '설하셨던': 13708, '전국구': 13709, '일부분': 13710, '설하시고': 13711, '있으셨고요': 13712, '송출된': 13713, '알고계셨던': 13714, '있던게': 13715, '김인': 13716, '가신다는': 13717, '떴지만은': 13718, '열립니다': 13719, '유리하게': 13720, '하면서도': 13721, '이상할게': 13722, '깨지': 13723, '알고있다는게': 13724, '있냐는거죠': 13725, '모르시는대로': 13726, '솔직히만': 13727, '봤기': 13728, '잡혀있는데': 13729, '궁금하신다거나': 13730, '하면되': 13731, '들릴만': 13732, '어리면은': 13733, '안된다면': 13734, '서있어서': 13735, '이재홍': 13736, '검어디': 13737, '왔겠죠': 13738, '최태호': 13739, '다니던': 13740, '모르시구요': 13741, '하셨다든지': 13742, '상탠데': 13743, '해서구요': 13744, '괜찮으실': 13745, '독립': 13746, '돌고': 13747, '돼겠고요': 13748, '녹취록': 13749, '할테니': 13750, '안다': 13751, '분명하게': 13752, '밝혀졌고': 13753, '말라는거에요': 13754, '당했습니다': 13755, '맞다면은': 13756, '신재영': 13757, '받았습니까': 13758, '설하였고': 13759, '신거': 13760, '높고요': 13761, '되있어야지': 13762, '계신지를': 13763, '끝나지만': 13764, '됬단': 13765, '넘긴거도': 13766, '당연한건데': 13767, '달려있기': 13768, '이러진': 13769, '취중': 13770, '갠데': 13771, '개네요': 13772, '보나': 13773, '해드렸기': 13774, '개있는데': 13775, '맞을거에요': 13776, '해드리는거에요': 13777, '보여주는': 13778, '없을거에요': 13779, '저금': 13780, '적혀있어야': 13781, '좌는요': 13782, '끝났고요': 13783, '끝났는데': 13784, '이러실': 13785, '야하시는': 13786, '연식': 13787, '모르시는지': 13788, '찾아오시는': 13789, '하는거고요': 13790, '반경': 13791, '60~70': 13792, '120~130': 13793, '주점': 13794, '순희': 13795, '틀리나': 13796, '이프': 13797, '계신거죠': 13798, '보냈네': 13799, '떔누': 13800, '시키시는': 13801, '흘러가는지': 13802, '대출받고': 13803, '클래': 13804, '환할': 13805, '되실거거든요': 13806, '되시겠고요': 13807, '확실해서': 13808, '되셨거든요': 13809, '그떄문': 13810, '김유진': 13811, '걸려있기': 13812, '올라가지거든요': 13813, '나온신': 13814, '신용정보': 13815, '걸면은': 13816, '지났더라도': 13817, '시켜주는게': 13818, '받겠': 13819, '1:1': 13820, '남으셔야': 13821, '남는게': 13822, '돼셨다면': 13823, '갑으시는': 13824, '주실거에요': 13825, '마자': 13826, '묶여있는': 13827, '드릴거고요': 13828, '묶여있던': 13829, '세면': 13830, '났고요': 13831, '나가던지': 13832, '괜찮다고': 13833, '수원지방검찰청': 13834, '운용': 13835, '김용': 13836, '수란': 13837, '제보': 13838, '없다라는': 13839, '해보았을': 13840, '없을건데': 13841, '확실하여서': 13842, '쓰여졌으며': 13843, '하게요': 13844, '경제범죄': 13845, '김범수': 13846, '경장': 13847, '말씀드렸고요': 13848, '81년': 13849, '관악구': 13850, '18일': 13851, '간에': 13852, '4,500만': 13853, '놓지는': 13854, '우신다고': 13855, '답사': 13856, '정국': 13857, '나오는게': 13858, '지쳐': 13859, '해줬으니까': 13860, '25%': 13861, '받냐': 13862, '동구': 13863, '넣어주라고': 13864, '찾아셔가지고': 13865, '찾아주세요': 13866, '않겠어요': 13867, '률': 13868, '피셔': 13869, '받고있는데': 13870, '미요': 13871, '대출받으면': 13872, '까다로운': 13873, '하냐면요': 13874, '대거': 13875, '4200만원': 13876, '김재열': 13877, '18분': 13878, 'g': 13879, '마켓': 13880, '들리시거나': 13881, '시켰고요': 13882, '3,600만': 13883, '870만원': 13884, '이로인해': 13885, '가깝다고': 13886, '김장': 13887, '지내시고요': 13888, '34': 13889, '22': 13890, '갚으시잖아요': 13891, '그리셔도': 13892, '내리죠': 13893, '가시고요': 13894, '없으니깐': 13895, '아이유': 13896, '400만': 13897, '밀리셨어요': 13898, '당위': 13899, '끊으실': 13900, '내셔도': 13901, '중주': 13902, '가능하셔서요': 13903, '드릴꺼고요': 13904, '전남': 13905, '이성규': 13906, '아는거에요': 13907, '있었고요': 13908, '해커': 13909, '유츌': 13910, '우산': 13911, '160': 13912, '봤죠': 13913, '챙겨주시고요': 13914, '걸리지는': 13915, '불가능하십니다': 13916, '불가능하다고요': 13917, '하지면': 13918, '범자': 13919, '아까보다': 13920, '시끄럽네요': 13921, '있는데라서': 13922, '받으시면요': 13923, '감당': 13924, '하실거면요': 13925, '분한테는': 13926, '끊기면': 13927, '비운다고': 13928, '박현일': 13929, '가해': 13930, '저지르신': 13931, '불분명': 13932, '일정하지': 13933, '부들': 13934, '맞다라는': 13935, '도치': 13936, '받아놓고': 13937, '생기기': 13938, '쌓이시면서요': 13939, '평청': 13940, '떨어지셨더라고요': 13941, '아니더라고요': 13942, '리베이트': 13943, '컨택': 13944, '맞춰놓고': 13945, '하셨었던': 13946, '남겨가며': 13947, '부수': 13948, '머니하고': 13949, '높더라고요': 13950, '33만원': 13951, '133만원': 13952, '4천': 13953, '대호': 13954, '틀리다는': 13955, '떼는': 13956, '선인': 13957, '알아보지': 13958, '빼는': 13959, '김동수': 13960, '건거': 13961, '대주': 13962, '바랄게요': 13963, '명물': 13964, '주시길': 13965, '있으시군요': 13966, '농약': 13967, '주십시요': 13968, '보이면은': 13969, '된다면요': 13970, '해주셔야만이': 13971, '나신다면': 13972, '검이구요': 13973, '버니': 13974, '드리오는': 13975, '76년': 13976, '의류': 13977, '껀데': 13978, '금융기관': 13979, '묻지도': 13980, '유해': 13981, '버젓이': 13982, '만들어놓고': 13983, '찍어가지고': 13984, '했었기': 13985, '은행업': 13986, '불가능하거든요': 13987, '용평': 13988, '받아가려고': 13989, '급해서': 13990, '급해가지고': 13991, '평증': 13992, '올라가시거든요': 13993, '복잡하네': 13994, '걸치면': 13995, '갚으시라는': 13996, '시켜가지고': 13997, '갚으시면은': 13998, '없으시지': 13999, '나온다면은': 14000, '모자라서': 14001, '54년': 14002, '생이면': 14003, '그러시기': 14004, 'nhc': 14005, '어떻시겠어요': 14006, '세라': 14007, '내시고요': 14008, '갚아야죠': 14009, '34%': 14010, '29%': 14011, '나가시고요': 14012, '김동현': 14013, '받았고요': 14014, '여쭈지': 14015, '그만해도': 14016, '아시면서': 14017, '역관': 14018, '만들라고': 14019, '만들어요': 14020, '벌려고요': 14021, '넘기시거나': 14022, '7만': 14023, '해와요': 14024, '쓰였느냐에': 14025, '차별': 14026, '의수': 14027, '배설': 14028, '해갈': 14029, '널럴': 14030, '전자상거래': 14031, '줄이': 14032, '뺏어': 14033, '들어왔냐고': 14034, '물어보시게': 14035, '세게': 14036, '오래되셨어요': 14037, '일사': 14038, '불러주려고': 14039, '없을걸': 14040, '렇': 14041, '있다고요': 14042, '많다구요': 14043, '인출금': 14044, '쏴주시는': 14045, '정해준': 14046, '수만': 14047, '나오셨다가': 14048, '건네주시고': 14049, '해줬다고': 14050, '칠분': 14051, '연지': 14052, '대완': 14053, '케살롱': 14054, '갚았고': 14055, '2800만': 14056, '갚았어요': 14057, '남았는가': 14058, '미치시고': 14059, '살롱': 14060, '다니시나요': 14061, '다니는데요': 14062, '넘습니다': 14063, '이천만': 14064, '않으셔가지고': 14065, '본론': 14066, '말씀드리지만': 14067, '어렸을': 14068, '상관없으시구요': 14069, '김상수': 14070, '김태헌': 14071, '이민자': 14072, '접니다': 14073, '바빠가지고': 14074, '유통': 14075, '받아가셔야': 14076, '막대': 14077, '교지': 14078, '해지면은': 14079, '된다면서요': 14080, '대까지': 14081, '돌리지': 14082, '해드리죠': 14083, '298만': 14084, '27만': 14085, '주겠다': 14086, '가서도': 14087, '51만': 14088, '300원': 14089, '명부': 14090, '박탈': 14091, '끊어지면': 14092, 'm': 14093, '우냐면은': 14094, '보여주시면': 14095, '허가증': 14096, '타시면은': 14097, '부족해요': 14098, '벨소리': 14099, '삼십육만': 14100, '나오셨고요': 14101, '받으시니까': 14102, '된다는세': 14103, '김민재': 14104, '맥심': 14105, '상무': 14106, '어떻겠어요': 14107, '해야하잔': 14108, '이상해야지고': 14109, '교수': 14110, '넣으라는데': 14111, '불러주면서': 14112, '넣으라고': 14113, '8천만': 14114, '알아보시면서': 14115, '남기시면': 14116, '들으셨으면': 14117, '하셨겠지만': 14118, '후불': 14119, '그나마': 14120, '들려줄려고': 14121, '깨져서': 14122, '하는데엔': 14123, '붙으면': 14124, '풀으시잖아요': 14125, '담기가': 14126, '담아주라고': 14127, '했었는데이': 14128, '담아까': 14129, '담겨진': 14130, '있으셨거든요': 14131, '아이거': 14132, '빠지나요': 14133, '되는지가': 14134, '들어오지가': 14135, '걸려있어네': 14136, '양흥': 14137, '달라진다는': 14138, '해면': 14139, '들었는지도': 14140, '들었냐에': 14141, '주내로': 14142, '로예': 14143, '해볼게': 14144, '볼려면요': 14145, '메가패스': 14146, '신거죠': 14147, '말삼': 14148, '루시': 14149, '남는데': 14150, '어그': 14151, '보셔야지만': 14152, '되어요': 14153, '같죠': 14154, '동일하시이란': 14155, '되는걸': 14156, '되는아': 14157, '올라와있는지는': 14158, '편하신지': 14159, '남아있어요': 14160, '학종': 14161, '되어있더라고요': 14162, '싶은데어': 14163, '있으셨단': 14164, '써있': 14165, '부몇': 14166, '칠판': 14167, '특보': 14168, '다루겠다': 14169, '나누어진': 14170, '없으시면오': 14171, '되어있었던걸': 14172, '바뀌었거든요': 14173, '거쳤는데': 14174, '거쳐가지고': 14175, '내주시고': 14176, '락준': 14177, '되시는아': 14178, '들어있는데': 14179, '하셨었다': 14180, '돼있는게': 14181, '시킨거죠': 14182, '달반': 14183, '끝날즘': 14184, '물어보려고요': 14185, '데앞': 14186, '있으실아': 14187, '들어오게': 14188, '나가는게': 14189, '안음': 14190, '보잖아요': 14191, '보셨다시피': 14192, '들어오셨을': 14193, '떡': 14194, '나와있기': 14195, '인증샷': 14196, '썼으면': 14197, '남겨주셔서': 14198, '해야겠죠': 14199, '보셨다고': 14200, '모르겠어가지고요': 14201, '보시면사': 14202, '보이시는거': 14203, '써있는데요': 14204, '되어아': 14205, '누르셨어요': 14206, '고르셔가지고': 14207, '보실수': 14208, '하셔가지고음': 14209, '전화했었는데요': 14210, '없고네': 14211, '이루어지기': 14212, '들어오음': 14213, '그러면이': 14214, '가셨으면': 14215, '뜹니까': 14216, '되실거음': 14217, '됐는지만': 14218, '안되어있죠': 14219, '떼서': 14220, '보냈던': 14221, '나거든요': 14222, '올리신': 14223, '올렸': 14224, '올렸어요': 14225, '써놓을': 14226, '돼있으면은': 14227, '호로도': 14228, '접수이거는': 14229, '해드리자면요': 14230, '해주시고아': 14231, '담아가지고아': 14232, '필요하시잖아요': 14233, '이도': 14234, '만드시는': 14235, '물어보시는지가': 14236, '애매하기보다는': 14237, '바뀐다던가': 14238, '받았어야': 14239, '출아': 14240, '몰르': 14241, '몰르거든요': 14242, '받았으면은': 14243, '해주셨어야네': 14244, '레벨': 14245, '하시면고': 14246, '전강': 14247, '속결': 14248, '역사': 14249, '삭강좌': 14250, '달라지실': 14251, '남으셨는데': 14252, '나누는': 14253, '짧으니까': 14254, '다르겠지만': 14255, '러면': 14256, '불안하시면은': 14257, '올라가지는': 14258, '매하': 14259, '오꺼': 14260, '저렴하실': 14261, '저렴하지': 14262, '동일하긴': 14263, '섣불리': 14264, '넣어주고': 14265, '프로모션': 14266, '품은': 14267, '큐브': 14268, '오셨나요': 14269, '종합정보시스템': 14270, '학굔가': 14271, '해보니고': 14272, '하신가요': 14273, '넘어가게': 14274, '좌지만은': 14275, '기다려주시구요': 14276, '확실하게는': 14277, '들어올까': 14278, '되어있으시고요': 14279, '끝났고': 14280, '기다려주시기만': 14281, '틀리거든요': 14282, '해주시면음': 14283, '해보실게요': 14284, '남길': 14285, '하시는거세요': 14286, '남기라는': 14287, '들어가실텐데': 14288, '맞긴': 14289, '싶은데주실': 14290, '있으록': 14291, '남기실': 14292, '계시면네': 14293, '나있습니다': 14294, '다니십니까': 14295, '첫날': 14296, '언뜻': 14297, '강연': 14298, '해주시려면': 14299, '떼고': 14300, '기다네': 14301, '찾겠는데': 14302, '늦어요': 14303, '떠어': 14304, '어째': 14305, '조그마하게': 14306, '되었더라도': 14307, '됐어야지': 14308, '꽨찮': 14309, '할려는데': 14310, '여으': 14311, '모르는데네': 14312, '안되셔서요': 14313, '신입생': 14314, '됐어도': 14315, '해달라는네': 14316, '받았었거든요': 14317, '올바르게': 14318, '주는데': 14319, '여름방학': 14320, '워드': 14321, '어드': 14322, '필요하시구요': 14323, '나오': 14324, '그랬었거든요': 14325, '정확해요': 14326, '알아가야': 14327, '그렇다고요': 14328, '안되시는데요': 14329, '여기는요': 14330, '다르고요': 14331, '물리': 14332, '아앙': 14333, '형강': 14334, '기화': 14335, '아인': 14336, '찾겠는데요': 14337, '찾으려고': 14338, '맞아가지고요': 14339, '바람소리': 14340, '맞추지': 14341, '벗어나서': 14342, '똑같을': 14343, '들어주신다고': 14344, '좌기': 14345, '어강': 14346, '똑같다는거죠': 14347, '좋을만한': 14348, '열려있는데요': 14349, '라오나': 14350, '않으세': 14351, '내려오시면은': 14352, '맑을': 14353, '원요': 14354, '듣는다면요': 14355, '되어있나': 14356, '거치시면은': 14357, '넣으시면은': 14358, '넣으셨을': 14359, '고이': 14360, '안내서': 14361, '아까워가지고': 14362, '아깝다': 14363, '하시려': 14364, '하시거': 14365, '환긍': 14366, '가지시고': 14367, '많으시다고': 14368, '어려우실수도': 14369, '다니': 14370, '몰아서': 14371, '상관없나요': 14372, '기둥': 14373, '지켜주시면': 14374, '부르면': 14375, '감사하고요': 14376, '들어가셨을': 14377, '없으셨구나': 14378, '감사하구요': 14379, '듣겠다고': 14380, '이명': 14381, '듯이': 14382, '아니면이': 14383, '눌러주시면요': 14384, '아니고다': 14385, '말구요': 14386, '넣어주신': 14387, '만들거나': 14388, '찾아봤는데': 14389, '부탁드리게': 14390, '하겠거든요': 14391, '돼있으시면': 14392, '해보시': 14393, '가르쳐주시면': 14394, '해볼건데': 14395, '도제': 14396, '전상': 14397, '개개': 14398, '될수도': 14399, '들어있어서': 14400, 'i': 14401, '대도시권': 14402, '제해': 14403, '셨었': 14404, '.???': 14405, '미사': 14406, '일주': 14407, '찮으': 14408, '없거나': 14409, '세아': 14410, '지나셨을': 14411, '많으시면은': 14412, '받았으니깐': 14413, '해네': 14414, '인쇄소': 14415, '찍어내는': 14416, '시라고만': 14417, '끊었더니': 14418, '부탁드린다고': 14419, '한글파일': 14420, '쩌번': 14421, '보내셨고요': 14422, '생생': 14423, '육군사관학교': 14424, '가봤더니': 14425, '돼있더라고요': 14426, '느껴져서': 14427, '떴는지': 14428, '되길래': 14429, '넘어갔다': 14430, '돼있지': 14431, '묶어졌을': 14432, '헷갈리실': 14433, '정확하세요': 14434, '묶였던': 14435, '코너': 14436, '고산': 14437, '나는거네요': 14438, '듣다': 14439, '가해서': 14440, '적으실수록': 14441, '받기를': 14442, '타로': 14443, '원해서요': 14444, '원하신다고요': 14445, '다양해서': 14446, '재학생': 14447, '휴학생': 14448, '되셨단': 14449, '이셔도': 14450, '해볼려': 14451, '담아주셨어요': 14452, '으응': 14453, '다노는': 14454, '찍어놓신': 14455, '복잡한지': 14456, '만들어야': 14457, '올려도': 14458, '써주고': 14459, '아씨': 14460, '물어보시는': 14461, '없으셨거든요': 14462, '보내주셔요': 14463, '으로선': 14464, '써주시고': 14465, '안내받았다': 14466, '해봤고': 14467, '서일': 14468, '입학처': 14469, '하려는데': 14470, '내도': 14471, '썼어도': 14472, '이렇게는': 14473, '들어가질': 14474, '입역': 14475, '불러줄': 14476, '쪼그': 14477, '나오시면서': 14478, '숏컷': 14479, '명그': 14480, '내려오시다': 14481, '아랫': 14482, '내려가시다': 14483, '아니어가지고': 14484, '뽑아져서요': 14485, '부를게요': 14486, '해주셨죠': 14487, '나와있더라구요': 14488, '보려구': 14489, '보이시면': 14490, '까지구요': 14491, '나와있으시죠': 14492, '교명': 14493, '들어가셨는지': 14494, '가려서': 14495, '써있거든요': 14496, '그러나요': 14497, '괜찮으시기': 14498, '놔둬도': 14499, '중요하세요': 14500, '다르시니까': 14501, '달르지': 14502, '올려주셔야': 14503, '알아봤거든요': 14504, '해서아까': 14505, '이월드': 14506, '상관없으시고': 14507, '찜찜하다': 14508, '올려주셨는지만': 14509, '올리시는': 14510, '증도': 14511, '올리라는': 14512, '아니냐고요': 14513, '나와있어서': 14514, '해주시고네': 14515, '마이크로소프트': 14516, '담아있는거를': 14517, '담길': 14518, '아실까': 14519, '있는거는': 14520, '들으시려는': 14521, '끊었어야': 14522, '건네요': 14523, '담기시는': 14524, '킬게': 14525, '설강': 14526, '들어가라는': 14527, '들어오셨어요': 14528, '없는데내': 14529, '담으신': 14530, '담기는데': 14531, '넣어주실': 14532, '통헤': 14533, '보입니까': 14534, '드릴려는데요': 14535, '품이세요': 14536, '본건': 14537, '비싸진': 14538, '이었던걸': 14539, '명도': 14540, '텐데오': 14541, '찾겠어서요': 14542, '가군': 14543, '들어가져서요': 14544, '눌르는': 14545, '핵싱': 14546, '해서나와': 14547, '찾았냐': 14548, '찾었어': 14549, '내시거나': 14550, '갖춰졌는지': 14551, '보거나': 14552, '현역': 14553, '부족하다거나': 14554, '거인': 14555, '가지고네': 14556, '눌러주셨는데': 14557, '뜨셨을까요': 14558, '열린다고': 14559, '어딨죠': 14560, '해주신고': 14561, '죄송하다': 14562, '들어가졌는데': 14563, '떠가': 14564, '그만한': 14565, '소문자': 14566, '눌러요': 14567, '눌러주셔야': 14568, '플리': 14569, '돼있어': 14570, '꺼주시고요': 14571, '꺼주시고네': 14572, '고급': 14573, '들어가주신': 14574, '누르시고요': 14575, '눌': 14576, '걸리죠': 14577, '불편함': 14578, '길니다': 14579, '변한': 14580, '없어지는구나': 14581, '올라오잖아요': 14582, '풀으신': 14583, '아무렇게': 14584, '냈거': 14585, '있길래': 14586, '하신거잖아요': 14587, '들어와요': 14588, '유그': 14589, '입원': 14590, '올라오시잖아요': 14591, '끊어가지고': 14592, '않았다': 14593, '세우기의': 14594, '똑바로': 14595, '세우기': 14596, '찾아서요': 14597, '되시는거': 14598, '가서요': 14599, '되어있으면서': 14600, '되냐구요': 14601, '없다고요': 14602, '하시아': 14603, '목푠데': 14604, '꼭안': 14605, '지나면서': 14606, '해셔야': 14607, '만족하시고': 14608, '열려서': 14609, '월건': 14610, '낳게': 14611, '쭈르륵': 14612, '초보': 14613, '누르시고어': 14614, '들어갈네': 14615, '되고수시를': 14616, '되고거기': 14617, '되는거아': 14618, '열이시라는': 14619, '할거고요': 14620, '데이타': 14621, '오류로': 14622, '엉뚱': 14623, '뚱하게': 14624, '어학': 14625, '습지': 14626, '되나수': 14627, '주신거죠': 14628, '순수': 14629, '났어요': 14630, '돼있는데요': 14631, '띄워': 14632, '신소재공학': 14633, '돼있거든': 14634, '건축학': 14635, '열고': 14636, '년제': 14637, '토목': 14638, '게예': 14639, '보시면어': 14640, '화학공학': 14641, '기선': 14642, '되었는단': 14643, '없어야': 14644, '강전': 14645, '소프트웨어': 14646, '레저': 14647, '조형': 14648, '드뎌': 14649, '일본어': 14650, '간호학': 14651, '방사선': 14652, '소강': 14653, '되어야지에서는': 14654, '식품': 14655, '광학': 14656, '응급': 14657, '치료': 14658, '극영화': 14659, '검정고시': 14660, '하는지에': 14661, '남았는데': 14662, '좋을지': 14663, '필요한지를': 14664, '찾아다': 14665, '필요하시단': 14666, '가능하시나요': 14667, '끊어만': 14668, '뜨기': 14669, '엑셀': 14670, '맞추어': 14671, '바뀌진': 14672, '교육과정': 14673, '봐주시는': 14674, '집어서': 14675, '목평': 14676, '나눠지는': 14677, '봐야되': 14678, '되어있어서요': 14679, '보시겠다': 14680, '해보': 14681, '상관없는지': 14682, '눌렀다': 14683, '돼있거든요': 14684, '해서같이': 14685, '되어서아': 14686, '됐건': 14687, '화할': 14688, '가져가서': 14689, '아니군요': 14690, '받아서요': 14691, '셨던': 14692, '없겠네요': 14693, '하셨어서': 14694, '생기셔서': 14695, '교조': 14696, '담을려고': 14697, '했었다고': 14698, '어려우질': 14699, '드릴텐데요': 14700, '차이나': 14701, '보내신다': 14702, '올리셨길래': 14703, '와가지구': 14704, '해놨더라구요': 14705, '했더라구요': 14706, '해놨니': 14707, '안되셨을': 14708, '맞으세': 14709, '성함이세요': 14710, '조카': 14711, '제실': 14712, '맞으세아': 14713, '이었는데요': 14714, '있다가네': 14715, '해주셔야지만': 14716, '올라오시고': 14717, '눌렀거든요': 14718, '해보게': 14719, '살걸': 14720, '사라진': 14721, '강좐': 14722, '남아있던': 14723, '만들어졌는지': 14724, '주신거라서': 14725, '가지고만': 14726, '됐으니아': 14727, '주신다길래': 14728, '성별': 14729, '보았는데요': 14730, '되었으나': 14731, '않냐고': 14732, '많구요': 14733, '되가': 14734, '들여지기': 14735, '받으시지만': 14736, '없으시거': 14737, '떴거든요': 14738, '샀었는데': 14739, '내주신다고': 14740, '하였을': 14741, '하였을까요': 14742, '했는데아': 14743, '됐었다고': 14744, '했으나': 14745, '드릴려': 14746, '했었는데수': 14747, '사라졌어요': 14748, '들어갔었는데': 14749, '사라져서': 14750, '지리는': 14751, '가능하셨거든요': 14752, '하셨는데한': 14753, '내력': 14754, '기다려주겠어요': 14755, '녹취됩니': 14756, '고도화': 14757, '거디': 14758, '싸에서': 14759, '치고는': 14760, '푸셨더라고요': 14761, '좋으시던데요': 14762, '없구나': 14763, '짧다': 14764, '만났을': 14765, '밝고': 14766, '호감': 14767, '나누다': 14768, '얘길': 14769, '푸셨죠': 14770, '내리셨고': 14771, '뒤집는다거나': 14772, '내리셨던': 14773, '뒤집': 14774, '깎이는': 14775, '뒤집고': 14776, '성공할': 14777, '있겠': 14778, '적극': 14779, '활용형': 14780, '본능': 14781, '물어봤던': 14782, '내리셨다': 14783, '익숙하게': 14784, '정확성': 14785, '맞혀주시는': 14786, '올라갔죠': 14787, '끝나거나': 14788, '중후': 14789, '높에': 14790, '우수할': 14791, '올라갔기': 14792, '푸신': 14793, '않으셨던': 14794, '푸셨을': 14795, '활기차다는': 14796, '사고방식': 14797, '유사하지': 14798, '빗대어서': 14799, '극단': 14800, '컨설팅했던': 14801, '싶었던': 14802, '떨어지고': 14803, '찬스': 14804, '공정하다': 14805, '부와': 14806, '해서라면': 14807, '예스': 14808, '내포': 14809, '뚝': 14810, '긴다거나': 14811, '고럴': 14812, '나열해': 14813, '특징': 14814, '해놨다고': 14815, '알아채는이라고': 14816, '들으셨던': 14817, '상호작용': 14818, '민감한이라고': 14819, '주어졌을': 14820, '싶어진다': 14821, '동기부여': 14822, '될려고': 14823, '기꺼이': 14824, '있어라고': 14825, '쓰던': 14826, '이었는데아': 14827, '받아들이고': 14828, '일어났을': 14829, '좁아져': 14830, '됐네': 14831, '핑계': 14832, '그려져': 14833, '좋으셨다고': 14834, '자만하는이라고': 14835, '우월하다고': 14836, '하는가아니면': 14837, '평범한': 14838, '때남': 14839, '우월하다': 14840, '잘난': 14841, '겸손하지': 14842, '엔지니어': 14843, '하면어': 14844, '주어': 14845, '일어나게': 14846, '때좀': 14847, '친다고': 14848, '맞추는': 14849, '약점': 14850, '시켜요': 14851, '유사하면': 14852, '유사할수록': 14853, '올라간다': 14854, '지니': 14855, '민감하게': 14856, '고기랑': 14857, '지향': 14858, '받아들이지': 14859, '불평': 14860, '향상': 14861, '푸셨나': 14862, '산만해지거나': 14863, '많아질': 14864, '추론': 14865, '고랑': 14866, '가져와서': 14867, '강타': 14868, '읽고': 14869, '명확하고': 14870, '해보셨죠': 14871, '즐거워요': 14872, '힘들었지만': 14873, '해내는': 14874, '쿵짝': 14875, '다시는': 14876, '프로젝트': 14877, '극복': 14878, '불안해하거나': 14879, '우울한지': 14880, '우울한': 14881, '하셨느냐': 14882, '취준생들': 14883, '기쁘면': 14884, '기쁘다든지': 14885, '슬프면': 14886, '슬프다든지': 14887, '과감': 14888, '치명': 14889, '적이거든요': 14890, '우울해져': 14891, '유사하게': 14892, '바라볼': 14893, '영지': 14894, '적으세요': 14895, '배려': 14896, '나쁘다고': 14897, '컨트롤': 14898, '매칭': 14899, '커스터': 14900, '나오지는': 14901, '심해': 14902, '내는어': 14903, '직분': 14904, '핏': 14905, '피스': 14906, '나왔으니까': 14907, '없느냐': 14908, '바라봤을': 14909, '않으셨다면': 14910, '있었을까': 14911, '밀렸을': 14912, '당하셨': 14913, '당하셨거나': 14914, '보셨는데': 14915, '드네': 14916, '지나기는': 14917, '채워야': 14918, '좋으셨는데': 14919, '그리고어': 14920, '좋으셨고': 14921, '들어오기': 14922, '포상': 14923, '친절함과': 14924, '미소': 14925, '따뜻함을': 14926, '전하': 14927, '따뜻하다': 14928, '친절하고': 14929, '따뜻한이란': 14930, '챌': 14931, '떼려야': 14932, '딱이라고': 14933, '매뉴얼': 14934, '쌓는': 14935, '쌓게': 14936, '맞기는': 14937, '거를': 14938, '쌓지': 14939, '않았나라고': 14940, '부족함': 14941, '쌓아야': 14942, '느껴질': 14943, '딱이에요': 14944, '맡았을': 14945, '완벽히': 14946, '해내려는': 14947, '완벽한': 14948, '욕심': 14949, '되는가를': 14950, '부어주고': 14951, '과중': 14952, '않았': 14953, '잘한': 14954, '챙기는': 14955, '머릿속': 14956, '보느냐': 14957, '앞두게': 14958, '좋은지': 14959, '표창': 14960, '친절함이': 14961, 'n': 14962, '회복하기': 14963, '드러나지': 14964, '잘라야': 14965, '느껴지지': 14966, '되셨으길': 14967, '느끼고': 14968, '바쁘시지': 14969, '보냈었는데': 14970, '맞았었거든요': 14971, '가능하셔': 14972, '편리하실까': 14973, '필요하시다는': 14974, '인차': 14975, '되셨길': 14976, '화로': 14977, '컨설팅인데': 14978, '막막합니다': 14979, '괜찮네요': 14980, '같나요': 14981, '속보': 14982, '총괄': 14983, '계시네요': 14984, '길어서': 14985, '물어봤어요': 14986, '트렌디': 14987, '자자한': 14988, '들으러': 14989, '있다던데': 14990, '가깝거든요': 14991, '쳐서요': 14992, '이군': 14993, '잊었던': 14994, '해내야': 14995, '따라가기': 14996, '응용': 14997, '나아가': 14998, '가상공간': 14999, '유익': 15000, '부고용': 15001, '찌를': 15002, '본으로': 15003, '유튜버': 15004, '땡땡': 15005, '찍으려고': 15006, '그랜': 15007, '장면': 15008, '궁금합니다': 15009, '되겠군요': 15010, '신발': 15011, '감각': 15012, '그림책': 15013, '홍보물': 15014, '등장': 15015, '모션': 15016, '있는지와': 15017, '하필': 15018, '열렸네요': 15019, '가르치더라고요': 15020, '싶은데이게': 15021, '늘려주실': 15022, '늘려': 15023, '한광고': 15024, '적절한': 15025, '물의': 15026, '진두': 15027, '휘하는': 15028, '기획사': 15029, '고투': 15030, '배워야겠어요': 15031, '보았습니다': 15032, '받겠네요': 15033, '알차게': 15034, '먹어': 15035, '졸음': 15036, '성숙': 15037, '묘기': 15038, '플랫폼': 15039, '모르겠는': 15040, '물어보시면': 15041, '오디오': 15042, '뛰기': 15043, '관중': 15044, '환상': 15045, '곡예사': 15046, '사다리': 15047, '뜀틀': 15048, '뛰어넘기': 15049, '곡예': 15050, '균형': 15051, '둘러봤습니다': 15052, '마술사': 15053, '커리어': 15054, '비슷해서': 15055, '감동': 15056, '창작': 15057, '설레네요': 15058, '까지인지': 15059, '싫고': 15060, '화분': 15061, '가꾸는': 15062, '좋아해서': 15063, '연제구': 15064, '제동': 15065, '대산': 15066, '전문학교': 15067, '반년': 15068, '수목': 15069, '화초': 15070, '재배': 15071, '초대형': 15072, '교육장': 15073, '북부': 15074, '계산동': 15075, '등산': 15076, '동호회': 15077, '나가겠네요': 15078, '그러시겠네요': 15079, '납입액': 15080, '도와주셔서': 15081, '끊겠습니다': 15082, '찾아보는': 15083, '읽기': 15084, '종로구': 15085, '결식': 15086, '총무': 15087, '세우고': 15088, '경쟁': 15089, '이오니': 15090, '알아봐야겠네요': 15091, '의주': 15092, '덕천': 15093, '애펙': 15094, '구직': 15095, '자형': 15096, '들어가려고': 15097, '하려구요': 15098, '서천': 15099, '유턴': 15100, '주셔서요': 15101, '나가셨거든요': 15102, '나갔다고': 15103, '나뉘어': 15104, '진혜': 15105, '포지': 15106, '줘야지': 15107, '그래가지고요': 15108, '평화': 15109, '드려서요': 15110, '정류': 15111, '건너가시면': 15112, '올라가면': 15113, '분율': 15114, '방문자': 15115, '틀려지나요': 15116, '쳤을': 15117, '의하실': 15118, '내려오고': 15119, '불가하고': 15120, '돌려주면': 15121, '바꾸려고요': 15122, '이라던데네': 15123, '들어왔었거든요': 15124, '빠지려고': 15125, '돌아가셨기': 15126, '돌아가셨을': 15127, '상속권': 15128, '두셨지': 15129, '계시던': 15130, '승계': 15131, '가능한지는': 15132, '화재': 15133, '흩어져가': 15134, '식구': 15135, '받으십시오': 15136, '쪼록': 15137, '많은데요': 15138, '일렬': 15139, '불편하시겠습니다': 15140, '내려오는': 15141, '역세': 15142, '않으시더라고요': 15143, '댕겨': 15144, '빠진': 15145, '그리하고': 15146, '유차': 15147, '대성': 15148, '오시려고': 15149, '어렵긴': 15150, '트럭': 15151, '축구': 15152, '시외': 15153, '뿌사져': 15154, '지나가다': 15155, '다니지': 15156, '젊은': 15157, '불편해': 15158, '앉아요': 15159, '싸지지가': 15160, '쓰게끔': 15161, '풀어진': 15162, '놔놓고': 15163, '오잖아요': 15164, '오거든요': 15165, '갔으면': 15166, '좋겠단': 15167, '열어놨고': 15168, '글귀': 15169, '옮겨지게': 15170, '받아오면': 15171, '들어있다고': 15172, '이거는아': 15173, '하시는지에': 15174, '참하지': 15175, '넘기실': 15176, '증산': 15177, '지하실': 15178, '필요하기': 15179, '누비자': 15180, '괍니': 15181, '알려주시죠': 15182, '앞입': 15183, '천주교': 15184, '상동': 15185, '경로당': 15186, '웅': 15187, '시흥': 15188, '헤어': 15189, '칼라': 15190, '미용실': 15191, '오키': 15192, '생겼거든': 15193, '공터': 15194, '지어지고': 15195, '러버': 15196, '배기가스': 15197, '미는지': 15198, '모르지만은': 15199, '찾게요': 15200, '집주인': 15201, '청가': 15202, '해달라면': 15203, '되는데안내를': 15204, '시라는데': 15205, '선데': 15206, '드리진': 15207, '아셔야지': 15208, '모르면은': 15209, '마친': 15210, '막도장': 15211, '오시고요': 15212, '거든아': 15213, '오시면요': 15214, '되는네': 15215, '합쳐져서': 15216, '싶었어요': 15217, '계시다면': 15218, '워령': 15219, '하시는거라면': 15220, '욜': 15221, '해놓으니까': 15222, '기다려요': 15223, '골로': 15224, '지나갈': 15225, '주택지': 15226, '주르르': 15227, '르륵': 15228, '몬해': 15229, '건너기': 15230, '시키지든지': 15231, '상시': 15232, '왕복': 15233, '할라카': 15234, '국민신문고': 15235, '싶어가지고': 15236, '물어봅시다': 15237, '하차': 15238, '걸어가시면': 15239, '옵니까': 15240, '벽사': 15241, '타네': 15242, '김해': 15243, '솔렌트': 15244, '경유': 15245, '다릅니다': 15246, '아니네': 15247, '렌트': 15248, '음마': 15249, '귀찮아요': 15250, '부사': 15251, '모르겠데요': 15252, '인저': 15253, '늦어': 15254, '놓쳤다': 15255, '기다리야지': 15256, '녹손': 15257, '녹용': 15258, '백산': 15259, '스믈': 15260, '술램': 15261, '센가': 15262, '가차': 15263, '놓칬': 15264, '삼이십': 15265, '빠': 15266, '급행버스': 15267, '급행': 15268, '한식': 15269, '불편하나요': 15270, '차세': 15271, '많더라고': 15272, '어딥': 15273, '대강': 15274, '입어도': 15275, '괘': 15276, '아지': 15277, '빠져나가거든요': 15278, '길이거든요': 15279, '다닙니다': 15280, '마리': 15281, '아픕니다': 15282, '범칙': 15283, '낍니다': 15284, '걸려서': 15285, '부르면은': 15286, '마나': 15287, '서다': 15288, '관장': 15289, '같지도': 15290, '전화했거든요': 15291, '뿐이지어': 15292, '해서여서': 15293, '교부': 15294, '어려우면': 15295, '얇은': 15296, '똑같고요': 15297, '가시면가실': 15298, '억울해서': 15299, '석전동': 15300, '서천동': 15301, '도시가스': 15302, '댔는데': 15303, '빈자리': 15304, '댄단': 15305, '스티커': 15306, '끊기면은': 15307, '고통': 15308, '마는': 15309, '제입': 15310, '펜대': 15311, '모르잖아': 15312, '끊어가': 15313, '어뜩하라는': 15314, '억울하다는': 15315, '불친절해게': 15316, '억울하다고': 15317, '바꿔줘': 15318, '물을라': 15319, '참하시거나': 15320, '키로': 15321, '수용': 15322, '넘어오니까': 15323, '상관없다': 15324, '가져오셔도': 15325, '불가할': 15326, '대이': 15327, '싶으': 15328, '있다라': 15329, '없다라': 15330, '찾으시는데': 15331, '계신데요': 15332, '하십시오네': 15333, '조성하': 15334, '바꿔주시오어': 15335, '재개발': 15336, '현안': 15337, '관예': 15338, '같아아': 15339, '도매': 15340, '학급': 15341, '대용': 15342, '선점': 15343, '강서': 15344, '괜찮': 15345, '왔던데': 15346, '놔나': 15347, '어렵다면': 15348, '부족하고': 15349, '아이템': 15350, '였습니까': 15351, '써놨는데': 15352, '드라이브': 15353, '베르': 15354, '테리': 15355, '디젠': 15356, '내놓는': 15357, '기득권': 15358, '고기술': 15359, '순이': 15360, '익금': 15361, '가져가야': 15362, '받아가고': 15363, '설문지': 15364, '보낼까': 15365, '말까': 15366, '망설이다가': 15367, '보낼라고': 15368, '당기': 15369, '앉아가지고': 15370, '해놓도록': 15371, '압': 15372, '복잡하고거기': 15373, '모임': 15374, '상도': 15375, '쓰러': 15376, '구경': 15377, '가봤습니까': 15378, '티엘': 15379, '지형': 15380, '싫어요': 15381, '맞지가': 15382, '그렇지는': 15383, '넣으시': 15384, '바쁘시면': 15385, '연구기관': 15386, '비워놓도록': 15387, '성취': 15388, '있으시겠습니까': 15389, '기업체': 15390, '해놓구요': 15391, '불화': 15392, '생긱': 15393, '하기거나': 15394, '퍼센': 15395, '비워놓고요': 15396, '그런네': 15397, '하고아': 15398, '해서전기': 15399, '방한': 15400, '봐가면서': 15401, '굉장히아': 15402, '하겠십니': 15403, '좋겠다': 15404, '드렸었는데요': 15405, '유라': 15406, '계이': 15407, '않는다요': 15408, '왔길래': 15409, '주시면네': 15410, '칬는데': 15411, '칫는데': 15412, '세우더라고요': 15413, '도망가': 15414, '도로교통법': 15415, '하겠구요': 15416, '지나가면서': 15417, '운전자': 15418, '도망갔어요': 15419, '깔리삣소': 15420, '자를': 15421, '잡아가지고': 15422, '아닙니꺼': 15423, '터질': 15424, '가본다니까': 15425, '뵈어주세요': 15426, '엄습': 15427, '성함인데요': 15428, '관계도': 15429, '눕니까': 15430, '오어': 15431, '이니라': 15432, '맞는지어': 15433, '밴데': 15434, '뱁': 15435, '지와': 15436, '됐잖': 15437, '해보소': 15438, '돌리': 15439, '의원님': 15440, '해드렸는데요': 15441, '까가주세요': 15442, '아니고네': 15443, '사국': 15444, '그럼아': 15445, '친절히': 15446, '모시겠': 15447, '댐목': 15448, '종량제': 15449, '바꿔주십시요': 15450, '들리지': 15451, '잃어버려가지고': 15452, '쳐가지고': 15453, '조종사': 15454, '쓸라고': 15455, '찾겠어': 15456, '무신': 15457, '몰라고': 15458, '핸건': 15459, '돕': 15460, '주더': 15461, '왔': 15462, '끌린': 15463, '나왔어': 15464, '무선': 15465, '대방동': 15466, '찜틀': 15467, '트럼플린': 15468, '무허가': 15469, '트니까': 15470, '시끄럽다고': 15471, '불경기': 15472, '교육청': 15473, '평수': 15474, '드린다요': 15475, '관광부': 15476, '있잖': 15477, '비실': 15478, '하그': 15479, '비시': 15480, '조국': 15481, '해줄래요': 15482, '말씀드릴전': 15483, '해줄게': 15484, '하주': 15485, '오십이': 15486, '지내고': 15487, '있십니다': 15488, '이리저리': 15489, '국회의원': 15490, '세거든': 15491, '낳았으': 15492, '낳았으면': 15493, '될긴': 15494, '청문': 15495, '핀대': 15496, '저런': 15497, '했잖아': 15498, '내무': 15499, '찾아가': 15500, '나삤는데예': 15501, '가만있어': 15502, '들리겠다고': 15503, '국장': 15504, '그러는데이라는': 15505, '사기구나': 15506, '회원구': 15507, '시킨데아': 15508, '나현': 15509, '갔나': 15510, '동도': 15511, '성함을아': 15512, '가셨구나': 15513, '건축가': 15514, '허가가에': 15515, '갔나아니시면': 15516, '계신지': 15517, '급하시는': 15518, '원하신다면': 15519, '라구요': 15520, '참하시는': 15521, '대인데': 15522, '군내': 15523, '안노': 15524, '자는요': 15525, '재작년': 15526, '같은데네': 15527, '가까우실': 15528, '뿌리': 15529, '민방위': 15530, '그러시는가요': 15531, '혜원': 15532, '해원': 15533, '이혜원': 15534, '노점': 15535, '끊으므': 15536, '가지고서': 15537, '끊을라요': 15538, '가씨': 15539, '아파가내': 15540, '팔도': 15541, '아픈데': 15542, '나쁘죠': 15543, '됐지요': 15544, '부원동': 15545, '목재': 15546, '이러는데내가': 15547, '한무': 15548, '보러': 15549, '아파가': 15550, '죽을라고': 15551, '불면': 15552, '죽으라': 15553, '죽었다': 15554, '휴정': 15555, '버린데이': 15556, '오래되셨거나': 15557, '되이는': 15558, '번수': 15559, '되시려': 15560, '이루어지면은': 15561, '썼다가': 15562, '되었': 15563, '샀는': 15564, '필요하지': 15565, '가능하십니': 15566, '지울': 15567, '가능해서요': 15568, '옮겼거든요': 15569, '갔거든요': 15570, '지워졌어요': 15571, '했는지는': 15572, '채워지면': 15573, '옮겨놓으면': 15574, '옮기면': 15575, '어기': 15576, '불편하시더라도': 15577, '형광': 15578, '차마': 15579, '재질': 15580, '싫으신': 15581, '져어': 15582, '해야만': 15583, '생윤': 15584, '받아놓으신': 15585, '바꾸시게': 15586, '드리지는': 15587, '이용도': 15588, '막혔는데': 15589, '해려고': 15590, '어젯밤': 15591, '주셨었거든요': 15592, '윈': 15593, '넘었다': 15594, '궁금하네요': 15595, '아니시지만': 15596, '카운터': 15597, '두신': 15598, '옮기면은': 15599, '용무': 15600, '끼칠': 15601, '불합리': 15602, '걸지': 15603, '일어나는': 15604, '버린다고': 15605, '시례': 15606, '나타나시는': 15607, '삼이라면서': 15608, '틀어지는': 15609, '켜주시겠어요': 15610, '켰어요': 15611, '바꿔가지고': 15612, '팔이': 15613, '됐지': 15614, '실패해서': 15615, '화주': 15616, '봤다가': 15617, '아니실까': 15618, '투라': 15619, '잠겼다고': 15620, '하시실': 15621, '기길': 15622, '말씀드렸더니': 15623, '기억나시는': 15624, '나오실까': 15625, '나오신단': 15626, '해봤네요': 15627, '바뀌었는데': 15628, '들렸': 15629, '끊겨가지고': 15630, '율도': 15631, '들어갔더니': 15632, '으이': 15633, '다르신': 15634, '인덱스': 15635, '피신': 15636, '보여지실': 15637, '크롤': 15638, '뜨면서': 15639, '세모': 15640, '열리면서': 15641, '풀어주시는': 15642, '풀을까요': 15643, '풀어주시고': 15644, '누르셔서요': 15645, '호원': 15646, '참이': 15647, '터넷': 15648, '열리는데': 15649, '찍어주시고': 15650, '검증': 15651, '풀려': 15652, '티티피': 15653, '지워주세요': 15654, '지우나요': 15655, '지우시면': 15656, '찍히시잖아요': 15657, '닫아주시고': 15658, '누르셔서': 15659, '낮음': 15660, '어딨어': 15661, '닫으시고': 15662, '방패': 15663, '쳐주시구요': 15664, '윈더': 15665, '누르셨을': 15666, '윈도우스': 15667, '맞으셨고': 15668, '열어주시구요': 15669, '있으셨던': 15670, '끼고요': 15671, '먹어하면': 15672, '센서': 15673, '쓰려고': 15674, '뜬다네요': 15675, '까만': 15676, '제어판': 15677, '나올까': 15678, '작일': 15679, '설치하셨을까요': 15680, '켜고': 15681, '그러지만': 15682, '소트': 15683, '열리는지': 15684, '산지': 15685, '싶거는': 15686, '시키는데': 15687, '그렇거든요': 15688, '아니시겠지만': 15689, '같으시구': 15690, '넘어가지시거': 15691, '알려주셔가지고': 15692, '나와서요': 15693, '하는데도': 15694, '어미': 15695, '바꾸게': 15696, '많아졌어요': 15697, '쓰다가': 15698, '없애주셔도': 15699, '말씀드린것처럼': 15700, '않아가지구요': 15701, '풀어주셔야지만': 15702, '닿으셔야': 15703, '풀어줘가지고': 15704, '물어봐주실': 15705, '몰랐다네': 15706, '열린다는': 15707, '맡겨서': 15708, '났었어요': 15709, '모른다고요': 15710, '옮기면서': 15711, '거쪽': 15712, '들었나': 15713, '어려우세': 15714, '풀릴지는': 15715, '하루하루': 15716, '같으세': 15717, '가능하듯이': 15718, '닿으셔서': 15719, '없으니': 15720, '탭에서': 15721, '레노버': 15722, '부족하시거나': 15723, '이튼': 15724, '엠티': 15725, '표준': 15726, '없어가지고요': 15727, '플레': 15728, '닫치거든요': 15729, '가보실게요': 15730, '풀었다': 15731, '한국어': 15732, '쓰긴': 15733, '어렵네': 15734, '갔더라': 15735, '깔으란': 15736, '높으실': 15737, '깔은': 15738, '아니시다': 15739, '이상하지': 15740, '청대': 15741, '뚫어가지고': 15742, '깔아': 15743, '쓰셨다던지': 15744, '옮겼던': 15745, '옮기셨으면요': 15746, '가져오거든요': 15747, '알아야지': 15748, '되어있었던': 15749, '빌려주셨다던지': 15750, '화하시는': 15751, '찾아보시는': 15752, '깔아서': 15753, '갈아엎긴': 15754, '인했어요': 15755, '끊겨서요': 15756, '들리셨거든요': 15757, '들어가면서': 15758, '바꿨거든요': 15759, '포로': 15760, '쓰는시는': 15761, '그렇만': 15762, '바뀌어가지고요': 15763, '그럼은': 15764, '화이': 15765, '작아가지고': 15766, '가능하십': 15767, '받듯이': 15768, '없냐고요': 15769, '떤': 15770, '캐스트': 15771, '지웠다가': 15772, '들어오기도': 15773, '받아진': 15774, '트북이': 15775, '그러시긴': 15776, '드리려면': 15777, '자판': 15778, '횐님': 15779, '은진': 15780, '놔가': 15781, '받았는': 15782, '시켰는데요': 15783, '해가지고네': 15784, '전일': 15785, '가버렸어요': 15786, '싶은데다시': 15787, '하는진': 15788, '해보셨습니까': 15789, '애매하': 15790, '버리시는': 15791, '건들': 15792, '바꿔주실': 15793, '작대기': 15794, '물어보셔': 15795, '구한': 15796, '하는지어': 15797, '입고였다': 15798, '지한': 15799, '해놓시면': 15800, '드시거든요': 15801, '해보셔': 15802, '롭니': 15803, '나오기를': 15804, '점토': 15805, '찾으러': 15806, '않으시니까': 15807, '모이': 15808, '만치': 15809, '지세': 15810, '회분': 15811, '정표': 15812, '달아주거나': 15813, '되시겠': 15814, '응대': 15815, '받았었고': 15816, '코멘트': 15817, '외국인': 15818, '받더라고요': 15819, '버렸을': 15820, '만추': 15821, '그러고서': 15822, '알아본': 15823, '보내셨던': 15824, '해놓으셨으니까': 15825, '기다리다가': 15826, '되거': 15827, '패슨가': 15828, '당분간': 15829, '가능하시네요': 15830, '되어있어야지': 15831, '알겠슴': 15832, '가죠': 15833, '잊어버려서': 15834, '주시던데': 15835, '트는아': 15836, '빠르시죠': 15837, '되어있다면': 15838, '넘기시면': 15839, '쓰시더라도': 15840, '들어올지도': 15841, '되어있어아': 15842, '알벨': 15843, '풀었는데': 15844, '낙서': 15845, '그랬': 15846, '불편해서': 15847, '사다주겠다고': 15848, '잃어버렸다고': 15849, '복잡하더라고요': 15850, '있도': 15851, '가만': 15852, '하시거나요': 15853, '된다고네': 15854, '상크스': 15855, '사려': 15856, '샀으면': 15857, '잃어버려서': 15858, '어려우니': 15859, '습관': 15860, '홈페': 15861, '포탈': 15862, '알라': 15863, '미술': 15864, '낼까': 15865, '물어볼라고요': 15866, '음악회': 15867, '갔어': 15868, '옮겼어': 15869, '기다려줘서': 15870, '같구여': 15871, '체험학습': 15872, '꼬치': 15873, '바꿔주시겠어요': 15874, '좋아하시는데': 15875, '허이': 15876, '패기': 15877, '어떠십니까': 15878, '걸렸는데': 15879, '여쭈려고': 15880, '해가지고에': 15881, '해드릴텐데요': 15882, '우신데요': 15883, '되어가지고': 15884, '친선': 15885, '애예': 15886, '해주도록': 15887, '있더': 15888, '가우리': 15889, '되었다던지': 15890, '집으': 15891, '로이': 15892, '붙어있어서': 15893, '오십니다': 15894, '무룐가': 15895, '유룐가': 15896, '해드릴만': 15897, '전시관': 15898, '이라고도': 15899, '해보았는데': 15900, '생육': 15901, '째는두': 15902, '의천': 15903, '기다리시겠': 15904, '좋겠고아니면': 15905, '받길래': 15906, '받는거죠': 15907, '광화문': 15908, '헷갈려하던데': 15909, '들었는데아': 15910, '인해서요': 15911, '작았거든요': 15912, '똑같은지': 15913, '옮겨가면서': 15914, '미루고': 15915, '들으셨다': 15916, '들어오거나': 15917, '어려우시네요': 15918, '데미': 15919, '걸어놓고': 15920, '선결': 15921, '되려': 15922, '옮겨라고': 15923, '가깝고': 15924, '옮기': 15925, '드렸는데도': 15926, '제자리': 15927, '옮기시면': 15928, '음식물': 15929, '상탠데그쪽': 15930, '옮기지': 15931, '오토': 15932, '캠핑장': 15933, '해놓으셨는데요': 15934, '않으셨었는데': 15935, '주셨나': 15936, '불편하다': 15937, '걸려져있고': 15938, '야시장': 15939, '전야': 15940, '의처': 15941, '노래자는': 15942, '짧아요': 15943, '이루어지지': 15944, '되어지시는데요': 15945, '제창': 15946, '주시기로': 15947, '가능하셨을': 15948, '떠있더라고요': 15949, '감좌': 15950, '떠있던': 15951, '떠있는': 15952, '보려': 15953, '들어서네': 15954, '들어오시겠어요': 15955, '내려가다': 15956, '인게': 15957, '모자란': 15958, '앞서가는': 15959, '하시는아': 15960, '그럼면': 15961, '들으려': 15962, '하만': 15963, '나뉘어지는데요': 15964, '그러구나': 15965, '해내다': 15966, '인했는데': 15967, '쌌던': 15968, '같은데어': 15969, '경희대': 15970, '해주셨구요': 15971, '지리네요': 15972, '해주시면네': 15973, '있으십이게': 15974, '똑같은데': 15975, '비싸구나': 15976, '원아': 15977, '있었로': 15978, '싸구나': 15979, '싹': 15980, '현명하게': 15981, '벌초': 15982, '할매': 15983, '팻말': 15984, '카대': 15985, '들어온다': 15986, '붙어가': 15987, '이드': 15988, '알아보라': 15989, '모릅': 15990, '정확해야지': 15991, '됐는지를': 15992, '물어보라는': 15993, '주셨다': 15994, '아동': 15995, '원활히': 15996, '궁금해가지고요': 15997, '교사': 15998, '회관': 15999, '늦어지나': 16000, '자라': 16001, '정해지지': 16002, '돼서도': 16003, '미뤄지고': 16004, '준공': 16005, '감계리': 16006, '어쩌나': 16007, '다녔는데': 16008, '이화선': 16009, '종양': 16010, '거길': 16011, '다녔거든요': 16012, '낫는다고': 16013, '재택': 16014, '치려고': 16015, '저대로': 16016, '알아내': 16017, '보겠는데': 16018, '메다': 16019, '붙여져': 16020, '내놔': 16021, '피거든요': 16022, '구구': 16023, '흡연': 16024, '전동': 16025, '피시는데': 16026, '피우거든요': 16027, '밝혀지나요': 16028, '킥': 16029, '박다': 16030, '버리기': 16031, '버리실': 16032, '많으십니까': 16033, '나을까': 16034, '동쪽': 16035, '가음정동': 16036, '고라': 16037, '어려우십니다': 16038, '나누어서': 16039, '나뉘어서': 16040, '받았었는데': 16041, '다양합니다': 16042, '뉴욕': 16043, '이화': 16044, '아파서': 16045, '휠체어': 16046, '맡겨놓고': 16047, '물어봐서': 16048, '아닌지만': 16049, '여어놨어요': 16050, '안되는데요': 16051, '거린': 16052, '지내셨어요': 16053, '끝났겠네요': 16054, '보시는데요': 16055, '좋아하시나': 16056, '블랙': 16057, '프림': 16058, '봉지': 16059, '먹는다': 16060, '오던데': 16061, '노세요': 16062, '다가와서': 16063, '카는고': 16064, '쌀쌀하죠': 16065, '않으시죠': 16066, '쌀쌀하니까': 16067, '챙기시구요': 16068, '더워': 16069, '주스': 16070, '근해': 16071, '더버': 16072, '고마워': 16073, '보고십니다': 16074, '씨러': 16075, '하네': 16076, '건강하신': 16077, '아프긴': 16078, '무리하지': 16079, '아르신': 16080, '낫는': 16081, '아니거든': 16082, '하모': 16083, '아프지': 16084, '건강하시구요': 16085, '다녀오세요': 16086, '돌봄에': 16087, '돌보는': 16088, '집합': 16089, '하시더라구요': 16090, '좋겠거든요': 16091, '세우는': 16092, '대줘': 16093, '걸고자': 16094, '그러실까': 16095, '선가요': 16096, '누워': 16097, '기운': 16098, '불안하고': 16099, '가보셨어요': 16100, '좋아졌다가': 16101, '좋아지시니까': 16102, '좋으네요': 16103, '짜장면': 16104, '가신다': 16105, '밥맛': 16106, '힘내시구요': 16107, '선선해졌는데요': 16108, '살폈더니': 16109, '처서': 16110, '한결': 16111, '시원해': 16112, '살펴내가': 16113, '죽겄어': 16114, '열어두': 16115, '북동': 16116, '점차': 16117, '송구': 16118, '스럽죠': 16119, '따가워': 16120, '죽겄다': 16121, '제법': 16122, '불어가지고요': 16123, '덥': 16124, '지근': 16125, '덜하더라고요': 16126, '올라가구요': 16127, '비슷할': 16128, '접어': 16129, '높아지': 16130, '놀까': 16131, '변덕': 16132, '스러워': 16133, '심하잖아요': 16134, '드시고요': 16135, '서늘해졌어요': 16136, '시원해졌는': 16137, '괜찮을게요': 16138, '한동안': 16139, '더웠는데': 16140, '어떠셨던': 16141, '나았어요': 16142, '오도': 16143, '나가셨겠네요': 16144, '나왔구먼': 16145, '나가시려고요': 16146, '계셔요': 16147, '있구만': 16148, '다녀오셨어요': 16149, '처방전': 16150, '오셨네요': 16151, '많으셨구요': 16152, '덮고': 16153, '주무시구요': 16154, '심하니까': 16155, '건강하시고': 16156, '조심하세요': 16157, '뵐게요': 16158, '하선정': 16159, '보셨단': 16160, '가전': 16161, '짧게': 16162, '가전제품': 16163, '떴다가': 16164, '만질': 16165, '살려서': 16166, '아닌지를': 16167, '정확한가요': 16168, '안즉': 16169, '납니다': 16170, '멀었단': 16171, '까지라서': 16172, '말씀드렸지': 16173, '돌리가': 16174, '적어야지': 16175, '있으시': 16176, '해보았는데요': 16177, '장수원': 16178, '요리': 16179, '지냅니다': 16180, '그랬냐': 16181, '음량': 16182, '지냈어요': 16183, '살기': 16184, '건강하게': 16185, '람니': 16186, '심터': 16187, '그쳤구나': 16188, '왔어': 16189, '다니기': 16190, '더워서': 16191, '시원해진다고는': 16192, '시원해지겠다': 16193, '커져서': 16194, '미툽니': 16195, '하더': 16196, '알려고': 16197, '수라': 16198, '인화': 16199, '필요하시고요': 16200, '로라': 16201, '감면이': 16202, '내긴': 16203, '바꿀려': 16204, '바꿀게요': 16205, '수돗물': 16206, '생겼다는': 16207, '고치야죠': 16208, '막혀서': 16209, '뚫었는데': 16210, '막혔단': 16211, '받네': 16212, '전화했어요': 16213, '진흙': 16214, '바닷가': 16215, '진흙탕': 16216, '내보냈거든': 16217, '하자고요': 16218, '주셨거든요': 16219, '말씨': 16220, '빠르다': 16221, '이사해': 16222, '부를까': 16223, '빈집': 16224, '지났거든요': 16225, '터졌던': 16226, '쫄쫄': 16227, '가르쳐주시겠습니까': 16228, '세탁기': 16229, '돌리는데': 16230, '보시길': 16231, '소하': 16232, '도급': 16233, '하도급': 16234, '않겠구요': 16235, '적자': 16236, '마치시길': 16237, '알아볼라': 16238, '시국': 16239, '알아보려': 16240, '배수': 16241, '소의': 16242, '모시겠습니다': 16243, '인분': 16244, '돌아가셔': 16245, '같거든': 16246, '사망자': 16247, '철철': 16248, '사방': 16249, '났거든': 16250, '물난리': 16251, '난거든': 16252, '하길래': 16253, '모르시나요': 16254, '연결하면': 16255, '죄송합': 16256, '까지와': 16257, '가리켜': 16258, '줄라': 16259, '틀려': 16260, '대에': 16261, '새서': 16262, '포크레인': 16263, '도기': 16264, '주셔야겠는데요': 16265, '도로로': 16266, '보내는지는': 16267, '정화조': 16268, '공산': 16269, '모르구요': 16270, '펌프': 16271, '보내던데': 16272, '놀이터': 16273, '있는지아': 16274, '수소': 16275, '소일': 16276, '나갔나': 16277, '올리겠습니다': 16278, '해드렸거든요': 16279, '들어가지가': 16280, '멀어요': 16281, '아니고아': 16282, '도부': 16283, '관로': 16284, '우수관': 16285, '뿌여니': 16286, '넘치거든': 16287, '밸브': 16288, '녀일': 16289, '골목길': 16290, '하천': 16291, '넘쳐서': 16292, '나더라': 16293, '넘친다고': 16294, '삼거': 16295, '가지고아주': 16296, '들어오면서': 16297, '되겠던데': 16298, '가서아': 16299, '함함': 16300, '순찰': 16301, '가시던지': 16302, '움직이질': 16303, '맞으십니네': 16304, '쪼끄만': 16305, '실내': 16306, '들으셔서': 16307, '남겨주셨는데': 16308, '도비': 16309, '물어봤는데': 16310, '내는데': 16311, '가이거': 16312, '받고자': 16313, '물어보셨나요': 16314, '물어보고요': 16315, '물어봤거든요': 16316, '되는지까지는': 16317, '즉답': 16318, '같은데안': 16319, '바꿨나': 16320, '듣겠어요': 16321, '바꿨을': 16322, '텐데언제': 16323, '봐주실래요': 16324, '싶은데네': 16325, '부금': 16326, '새고': 16327, '올라오고': 16328, '올라오는': 16329, '보호센턴': 16330, '있을는진': 16331, '수거': 16332, '유기견': 16333, '축산': 16334, '뻔하고': 16335, '뭐저': 16336, '뻔하셨다고': 16337, '모릅니까': 16338, '내동': 16339, '달라꼬': 16340, '익명': 16341, '귀찮습니다': 16342, '물인지는': 16343, '원하셨거든요': 16344, '의창동': 16345, '힘들다고': 16346, '칩이요': 16347, '애완동물': 16348, '말합': 16349, '입점해': 16350, '.?': 16351, '직진': 16352, '넘어져': 16353, '다쳤거든요': 16354, '부러져': 16355, '용호동': 16356, '가로수길': 16357, '보냈었거든요': 16358, '시츄': 16359, '놔뒀었는데': 16360, '오길래': 16361, '내버려': 16362, '뒀거든요': 16363, '할지는': 16364, '모여': 16365, '청산': 16366, '나왔나': 16367, '유니': 16368, '공론': 16369, '궁금해지고': 16370, '입점': 16371, '궁금해': 16372, '보시긴': 16373, '계신가': 16374, '원하시는데': 16375, '맞시고요': 16376, '송산': 16377, '정다운': 16378, '행복하고': 16379, '진화': 16380, '착공': 16381, '되셨다면': 16382, '되는지와': 16383, '송부하': 16384, '애견': 16385, '넘어져요': 16386, '파여가지고': 16387, '넘어지는데이게': 16388, '쳐다보고': 16389, '답답하고': 16390, '넘어진다고': 16391, '있더니': 16392, '넘어지는': 16393, '안타까웠다고': 16394, '건축물': 16395, '허가이': 16396, '입니': 16397, '드렸었거든요': 16398, '봉림동': 16399, '배부를': 16400, '백구': 16401, '여좌동': 16402, '친환경': 16403, '나는지': 16404, '게재': 16405, '거쳐야': 16406, '지저분하고': 16407, '지저분하거든요': 16408, '점점': 16409, '생겼거든요': 16410, '교차로': 16411, '대교': 16412, '횡단보도': 16413, '전단지': 16414, '에서나': 16415, '끊겼더라고요': 16416, '끊어져서': 16417, '되었는데여': 16418, '명절': 16419, '쉬소': 16420, '본께네': 16421, '살았거든요': 16422, '노가다': 16423, '주더라고요': 16424, '묵고': 16425, '커데': 16426, '친다': 16427, '죽기': 16428, '갖': 16429, '마누라': 16430, '유명한': 16431, '옛말': 16432, '덟': 16433, '이루리': 16434, '허고': 16435, '속마음': 16436, '갑더라': 16437, '있어가': 16438, '소관': 16439, '시바': 16440, '했소': 16441, '장려': 16442, '살아가다': 16443, '죽어야': 16444, '좋아야': 16445, '아나운서': 16446, '쑥': 16447, '미안하이': 16448, '피곤하다': 16449, '미안하다': 16450, '하이고': 16451, '단비': 16452, '단디': 16453, '소이': 16454, '들어오지를': 16455, '다고': 16456, '필요하구여': 16457, '나가있는': 16458, '않으면은': 16459, '위힘': 16460, '밭': 16461, '괜찮아여': 16462, '하실진': 16463, '가능한지에': 16464, '되세여': 16465, '핸드': 16466, '캐고': 16467, '말구여': 16468, '않구여': 16469, '달으라고': 16470, '내준다': 16471, '드렸는데여': 16472, '담자': 16473, '계셔가지구여': 16474, '보았는데여': 16475, '하시구여': 16476, '보거든': 16477, '세운다': 16478, '해보아도': 16479, '해주시던가요': 16480, '가능한다라고': 16481, '세울': 16482, '세워진다는': 16483, '세워놨는데': 16484, '조그마한': 16485, '들어서더만': 16486, '철판': 16487, '세워져가': 16488, '내각': 16489, '꽂아': 16490, '있더라': 16491, '그래가': 16492, '파이브': 16493, '모르겠지마는': 16494, '무진장': 16495, '그러니께는': 16496, '서가': 16497, '전봇대': 16498, '울퉁불퉁': 16499, '솟아있는': 16500, '지방자치단체': 16501, '행정기관': 16502, '되시네': 16503, '세목': 16504, '뀐': 16505, '꼈는데': 16506, '그러거든': 16507, '찾으실까': 16508, '맞나여': 16509, '시행일': 16510, '소라': 16511, '씀으십니까': 16512, '떼러': 16513, '맞아여': 16514, '물어볼라': 16515, '같더라고': 16516, '푸는지': 16517, '돌아가셨고': 16518, '긴가': 16519, '가지다가': 16520, '시켰거든': 16521, '시침': 16522, '궁금해가지고': 16523, '치유': 16524, '그렇다는데': 16525, '해보라': 16526, '되냐고': 16527, '균': 16528, '가산금': 16529, '붙어서': 16530, '연결해야': 16531, '갔던데요': 16532, '갔다는': 16533, '해놨더라고요': 16534, '갔더라구요': 16535, '땅입': 16536, '갔다고': 16537, '보시러': 16538, '해오셔야': 16539, '센티미터': 16540, '색상': 16541, '동일하구요': 16542, '외교부': 16543, '길어질': 16544, '적어가야': 16545, '오시는가요': 16546, '달라지나요': 16547, '찍으셔도': 16548, '긋고': 16549, '찍었다고': 16550, '적으셔도': 16551, '간편': 16552, '연결하신': 16553, '필리핀인': 16554, '판견물': 16555, '참하시구요': 16556, '신고서는': 16557, '그람': 16558, '본관': 16559, '기다리시게': 16560, '보내게': 16561, '난한': 16562, '카거든': 16563, '어려우시면': 16564, '달라지는데요': 16565, '깜빡': 16566, '지났기': 16567, '만들러': 16568, '화요': 16569, '봐야지만': 16570, '되는지요': 16571, '며느님': 16572, '하신다는데요': 16573, '에두': 16574, '똑같습니까': 16575, '돌려주세요': 16576, '아기': 16577, '되고아': 16578, '많냐': 16579, '적으냐에': 16580, '가능하니': 16581, '되는데이': 16582, '급하지': 16583, '않으시다면': 16584, '할아버지': 16585, '남았다는': 16586, '급하고자': 16587, '복무': 16588, '마치신': 16589, '분해': 16590, '바라보고': 16591, '연결하기': 16592, '가르쳐주세요': 16593, '드시면': 16594, '필요합니까': 16595, '받아야지': 16596, '생긴다는데': 16597, '지해': 16598, '그랬다고': 16599, '불가능한거죠': 16600, '되어있는지부터': 16601, '되어져야아니': 16602, '받은데': 16603, '튕': 16604, '긴다는데': 16605, '보이긴': 16606, '담아주신': 16607, '다예': 16608, '들어오면있는': 16609, '92022': 16610, '좌고': 16611, '넣던': 16612, '고전': 16613, '체적': 16614, '끝난다고': 16615, '천차만별': 16616, '되고거기에': 16617, '충남': 16618, '돼셨어요': 16619, '더니': 16620, '고만': 16621, '삭케': 16622, '눌렀고요': 16623, '눌르기만': 16624, '나오는가': 16625, '나오는가요': 16626, '물어봤는데요': 16627, '좌가내신': 16628, '투도': 16629, '들으라는': 16630, '맞는지부터': 16631, '묶여져있는': 16632, '책값': 16633, '되이게': 16634, '뭐그': 16635, '담기': 16636, '담기셨거든요': 16637, '있어가지고네': 16638, '불가해요': 16639, '보냈죠': 16640, '356960원': 16641, '였었어요': 16642, '가진데': 16643, '몰라가지고아': 16644, '신규가입': 16645, '비슷했고요': 16646, '동일했고요': 16647, '대로가': 16648, '까지고': 16649, '비싸지는': 16650, '안남으셔가지고': 16651, '정확하': 16652, '분는': 16653, '안하셔도': 16654, '힘드네': 16655, '쪼그마': 16656, '갖다주더라고요': 16657, '뜨시는데': 16658, '들리는건': 16659, '된가': 16660, '늦네요': 16661, '랩': 16662, '뜯었는데도': 16663, '불가해서아': 16664, '아들내미': 16665, '되어있다고': 16666, '적어주신': 16667, '해볼라고': 16668, '강해': 16669, '드르는': 16670, '나을지': 16671, '유리합니다': 16672, '해놨기': 16673, '유리하세요': 16674, '하고의': 16675, '듭': 16676, '프로미': 16677, '말이네요': 16678, '궁금하면': 16679, '되겠지만': 16680, '고를': 16681, '하실수가': 16682, '있이게': 16683, '달별': 16684, '너무나도': 16685, '다르아': 16686, '달짜': 16687, '리일': 16688, '감사합니': 16689, '누르기': 16690, '눌러주시고아래': 16691, '떠있으신': 16692, '내려와': 16693, '좋다고': 16694, '알아보는': 16695, '무방': 16696, '내내': 16697, '문자메시지': 16698, '나와지시는': 16699, '바뀌셨을': 16700, '가인': 16701, '해주시던데아': 16702, '듣는다면': 16703, '말씀드릴께요': 16704, '직사각형': 16705, '넘어가시면서': 16706, '도와주세요': 16707, '420000원': 16708, '의하기': 16709, '돕기': 16710, '맞는데네': 16711, '땁': 16712, '아니라네': 16713, '풀린': 16714, '따라가야': 16715, '안되니깐': 16716, '썼잖아요': 16717, '올려주셨고': 16718, '나갔어요': 16719, '팔던지': 16720, '답답해하시고': 16721, '건지도': 16722, '가능하겠지만': 16723, '봤구요': 16724, '써라': 16725, '그케': 16726, '불가능하다': 16727, '드리겠다': 16728, '남긴': 16729, '드려놨습니다': 16730, '쓰래': 16731, '연결하는': 16732, '받길': 16733, '물어봐가지고': 16734, '다르다': 16735, '되어졌는데': 16736, '해답': 16737, '였지만': 16738, '미답지': 16739, '불편할': 16740, '남겼잖아요': 16741, '달라졌다': 16742, '불편하': 16743, '덥고': 16744, '올렸다가': 16745, '느리면': 16746, '놓고서': 16747, '쓰라는': 16748, '답답': 16749, '올려라': 16750, '느린': 16751, '불편해하시고': 16752, '괜찮으시다고': 16753, '끊겠어요': 16754, '하길': 16755, '원한다': 16756, '상관없고음': 16757, '가긴': 16758, '있던데요': 16759, '준가': 16760, '원하셔': 16761, '누나': 16762, '바뀌어': 16763, '했어도': 16764, '되어있느냐': 16765, '안되어있느냐': 16766, '원더': 16767, '받으시거든요': 16768, '많겠네요': 16769, '편안한': 16770, '억울할': 16771, '같아가지고요': 16772, '중료': 16773, '하더래도': 16774, '이렇게나': 16775, '이랬던': 16776, '뜨지는': 16777, '바뀐다던지': 16778, '식이었는데': 16779, '이러지만': 16780, '웬만하면은': 16781, '해주신다는': 16782, '불러주시겠아': 16783, '들었었던': 16784, '그래듀에이티드': 16785, '대학원': 16786, '부터만': 16787, '심리학': 16788, '차이니즈': 16789, '높다면': 16790, '있으시고아': 16791, '기면': 16792, '끝나겠네요': 16793, '있는데죠': 16794, '들으시는지': 16795, '듣나요': 16796, '저렴한가요': 16797, '과반': 16798, '올려와': 16799, '가능하실아': 16800, '찍었다가': 16801, '해주시는데요': 16802, '가능하시다는': 16803, '비싸잖아요': 16804, '치도': 16805, '그랬고': 16806, '토플': 16807, '쉬웠더라고요': 16808, '저렴할': 16809, '정확하게는아': 16810, '아닐': 16811, '좌당': 16812, '쉬워서': 16813, '하실수': 16814, '과외': 16815, '편하더라고요': 16816, '열어져': 16817, '바뀔지': 16818, '불가능해서': 16819, '이루어지': 16820, '된다던지': 16821, '그러겠지': 16822, '줄어든다는': 16823, '되어지기': 16824, '지난다면': 16825, '줄어들면서': 16826, '칠이': 16827, '등수': 16828, '쭈우욱': 16829, '강중인': 16830, '끝나든': 16831, '맨뒤': 16832, '빠뜨린': 16833, '기다려주세두': 16834, '되어있으세아': 16835, '없는데아': 16836, '불러주시겠': 16837, '넣어진': 16838, '빤을': 16839, '넣': 16840, '담기신': 16841, '딸려오고내신': 16842, '들어가던가요': 16843, '알았드': 16844, '패키': 16845, '바고': 16846, '사하': 16847, '쁘': 16848, '라스': 16849, '책안': 16850, '같음': 16851, '많아지잖아요': 16852, '서강': 16853, '듣고는': 16854, '해주시거든요': 16855, '하시면아': 16856, '대부터': 16857, '얼맙': 16858, '난다고요': 16859, '있는거세요': 16860, '년입': 16861, '위약금': 16862, '원하신다': 16863, '각각으로': 16864, '끝났나요': 16865, '되던데요': 16866, '모자라신': 16867, '짜여져있는': 16868, '들으면요': 16869, '알아보긴': 16870, '때액': 16871, '쎈': 16872, '모아서': 16873, '싸지고': 16874, '동일한데요': 16875, '동일한데': 16876, '되어져서': 16877, '탭인데': 16878, '수험생': 16879, '에게만': 16880, '들었구요': 16881, '상관없이수': 16882, '들으시다가': 16883, '눌러가지고': 16884, '물어봤더니': 16885, '애도': 16886, '들으시도록': 16887, '올려져': 16888, '그만두시는': 16889, '그럴쿤': 16890, '헷갈려가지고': 16891, '그러구': 16892, '걸렸어요': 16893, '빠른가요': 16894, '해소': 16895, '몰려있을': 16896, '잡히잖아요': 16897, '사게끔': 16898, '돼있잖아요': 16899, '세이': 16900, '먼은': 16901, '하는구나': 16902, '차이세요': 16903, '되어있진': 16904, '다양하세요': 16905, '들어가서도': 16906, '통강': 16907, '가볍게': 16908, '원하고': 16909, '보려는데': 16910, '있네': 16911, '듣잖아요': 16912, '써져있는데': 16913, '단일': 16914, '텀': 16915, '다르시구요': 16916, '달라가지고': 16917, '상관없을': 16918, '사이만': 16919, '하시는거에': 16920, '나으': 16921, '캐시고요': 16922, '똑같으시고': 16923, '해주시냐': 16924, '하시듯': 16925, '그셨던': 16926, '보니까': 16927, '없어져': 16928, '됐어야': 16929, '남았었다': 16930, '해주셨어야아': 16931, '떠있었는데': 16932, '타이머': 16933, '이었지': 16934, '떠있었거든요': 16935, '넘기면': 16936, '없어졌다니까': 16937, '나갔기': 16938, '남았었고': 16939, '떠있어': 16940, '없어졌는데요': 16941, '가능하셨던': 16942, '봤었거든요': 16943, '이루어졌던': 16944, '나와진': 16945, '듣긴': 16946, '지워졌던지': 16947, '찾아주셨어요': 16948, '써있는데': 16949, '시커멓게': 16950, '아니어서요': 16951, '띄': 16952, '비슷해요': 16953, '들으실수록': 16954, '자유로': 16955, '들으시잖아요': 16956, '달라셔': 16957, '띄우셔': 16958, '해가지고어': 16959, '준다는데': 16960, '주는게': 16961, '누르시는': 16962, '누르셔야지': 16963, '실업계': 16964, '끊겨서': 16965, '계셨을까요': 16966, '삼십이': 16967, '해주셔서요': 16968, '룐': 16969, '친하면': 16970, '나는데요': 16971, '불편함은': 16972, '대를': 16973, '이로운': 16974, '따라가는': 16975, '수음': 16976, '듣는다고': 16977, '편하시고': 16978, '해놓으면은': 16979, '깅까': 16980, '들으실려고': 16981, '믿어': 16982, '해볼네': 16983, '월금': 16984, '뜬다': 16985, '예스원': 16986, '미적': 16987, '받았는데거기에': 16988, '북북': 16989, '십수': 16990, '하셨고아니': 16991, '있는데이사': 16992, '찍혀있긴': 16993, '왔을까': 16994, '올리가': 16995, '껄': 16996, '올라오면': 16997, '들으시': 16998, '들으시길': 16999, '이상하잖아요': 17000, '하신지까지는': 17001, '안되세': 17002, '떴다고': 17003, '홀린': 17004, '같네': 17005, '따르는': 17006, '나왔었나요': 17007, '느렸거든요': 17008, '오느라': 17009, '되나보다': 17010, '비닐': 17011, '뜯어지지': 17012, '하냐는': 17013, '해보려고': 17014, '스킬': 17015, '좌세요': 17016, '막아요': 17017, '쉬었거든요': 17018, '들을까': 17019, '낫던데': 17020, '건지에': 17021, '골라': 17022, '저리': 17023, '유리할': 17024, '필요하': 17025, '돼있지만': 17026, '해주셨듯이': 17027, '나타나도': 17028, '그란': 17029, '유효하고요': 17030, '피드': 17031, '해주시나요': 17032, '된지': 17033, '게릴라': 17034, '되겠': 17035, '바뀌었고': 17036, '비싸졌구나': 17037, '싶': 17038, '괜찮았나요': 17039, '하셨었고': 17040, '삼원': 17041, '않으셨기': 17042, '될텐데': 17043, '되는줄': 17044, '갯': 17045, '열흘': 17046, '식이': 17047, '더그': 17048, '담으시려고': 17049, '헷갈리시지': 17050, '하실려다': 17051, '원로': 17052, '해주시음': 17053, '유기': 17054, '맛보시게': 17055, '용해': 17056, '수아': 17057, '어트': 17058, '돋보기': 17059, '대화방': 17060, '누를까': 17061, '하기요': 17062, '들어가시며': 17063, '되었네': 17064, '드렸네': 17065, '보내겠습니다': 17066, '들어가고요': 17067, '대거든요': 17068, '사겠다': 17069, '덮을려고': 17070, '줄어드니까': 17071, '지사': 17072, '보내주셨다는데': 17073, '그래놓고': 17074, '갔네': 17075, '적혀있으면': 17076, '적혀있다': 17077, '있으면요': 17078, '기능기': 17079, '하시거나네': 17080, '이루어지면': 17081, '사회과학': 17082, '눌르시면': 17083, '스타일': 17084, '좋아하시는지에': 17085, '좋아하시고': 17086, '고르기': 17087, '입성': 17088, '유리하겠네요': 17089, '나다': 17090, '들어오면어': 17091, '사위': 17092, '들어간단': 17093, '찾겠네요': 17094, '여기있네': 17095, '열리시거든요': 17096, '음음': 17097, '멈추려고': 17098, '멈춘': 17099, '나눠놓은': 17100, '줄어들어요': 17101, '없지요': 17102, '원하시는거세요': 17103, '들었잖아': 17104, '들었어': 17105, '노배': 17106, '들으셨고': 17107, '탭을': 17108, '봐야에': 17109, '짜리요': 17110, '하셨었죠': 17111, '따르게': 17112, '려': 17113, '넘어가거든요': 17114, '넘어가지': 17115, '보겠': 17116, '물어보셔야': 17117, '빼거나': 17118, '다양하잖아요': 17119, '나눠지거든요': 17120, '크진': 17121, '달일지': 17122, '달일지는': 17123, '하실수록': 17124, '익': 17125, '배우지': 17126, '게전': 17127, '이그리': 17128, '삼채': 17129, '들마다': 17130, '달라지니까': 17131, '치를': 17132, '수로': 17133, '가능하시단': 17134, '까지음': 17135, '하시고는': 17136, '장품': 17137, '일꺼': 17138, '더라구요': 17139, '신형': 17140, '째꺼에는': 17141, '모르겠더라구요': 17142, '똑같죠': 17143, '같더라구요': 17144, '비슷하긴': 17145, '깊게': 17146, '되져': 17147, '이용기': 17148, '소유권': 17149, '예여': 17150, '없어여': 17151, '탭가지': 17152, '바뀌면이요': 17153, '톱': 17154, '누를게요': 17155, '스폿': 17156, '포트': 17157, '불안정하신': 17158, '닫기라고': 17159, '공공장소': 17160, '쌓여있거든요': 17161, '가깝게': 17162, '다다닥': 17163, '누르시다': 17164, '타입': 17165, '안되는데네': 17166, '열리지는': 17167, '않더라고요': 17168, '속도': 17169, '늦추셔도': 17170, '보이거든요': 17171, '래그': 17172, '보이시거든요': 17173, '눌리': 17174, '켜지면은': 17175, '적혀있나요': 17176, '되고고': 17177, '들을라면': 17178, '좌는아': 17179, '끓으면': 17180, '보내주시는': 17181, '맘대로': 17182, '틀리게': 17183, '탭으': 17184, '들에': 17185, '풀다': 17186, '눌르면': 17187, '하시느냐에': 17188, '꺼내서': 17189, '돼아': 17190, '저렴하긴': 17191, '빠지시고요': 17192, '빠지시고': 17193, '내리면': 17194, '나와있으면': 17195, '이랬나요': 17196, '나누어': 17197, '나와있잖아': 17198, '해주셨다': 17199, '해있고': 17200, '제수': 17201, '있는데우리': 17202, '있니': 17203, '어쨌': 17204, '지아': 17205, '낮다고': 17206, '떨어졌거나': 17207, '지켜주시면은': 17208, '이어야': 17209, '읽었거든요': 17210, '놓셨어요': 17211, '다르네요': 17212, '허어': 17213, '오를거요': 17214, '팔는': 17215, '수록': 17216, '외웠는지': 17217, '알려주셔도': 17218, '풀으시는건': 17219, '돼있어도': 17220, '인기': 17221, '그럴러': 17222, '앞두고': 17223, '더해서': 17224, '상관없이요': 17225, '들어가셔서요': 17226, '여기가고': 17227, '끊으면고': 17228, '드나': 17229, '짧고요': 17230, '부진한': 17231, '투편': 17232, '서수': 17233, '온다고요': 17234, '해놓고지': 17235, '원할려고': 17236, '불가능한지': 17237, '부탁드리려고요': 17238, '안되어있으세요': 17239, '얻어서': 17240, '같은데이게': 17241, '안될지': 17242, '독한': 17243, '게탭': 17244, '런쳐': 17245, '깔려있는': 17246, '회하': 17247, '해주시면어': 17248, '묶여져서': 17249, '적성': 17250, '삭이': 17251, '지났는데도': 17252, '겨울방학': 17253, '았': 17254, '비싸니까': 17255, '물어보셔가지고요': 17256, '물어봤다': 17257, '유리하고': 17258, '차이시잖아요': 17259, '실패': 17260, '들만': 17261, '세팅된': 17262, '하실어': 17263, '삽십': 17264, '많을수록': 17265, '따지는': 17266, '깎히거나': 17267, '건지요': 17268, '이백삼십': 17269, '돼있으셔서': 17270, '지나시면': 17271, '팍팍': 17272, '듣고있는': 17273, '끊었나요': 17274, '끊으셨어요': 17275, '하시려던': 17276, '방학': 17277, '닿고': 17278, '싶었는데': 17279, '올라오지를': 17280, '달라고만': 17281, '그만둬야': 17282, '해주시는거': 17283, '들어주셔야': 17284, '하려면은': 17285, '끝나던데': 17286, '끊는다면': 17287, '끊었다는데': 17288, '팩': 17289, '세이브': 17290, '날아가는': 17291, '이진행': 17292, '이쯤': 17293, '같으네요': 17294, '껴가지고': 17295, '좋겠어서': 17296, '불러주신': 17297, '건이셔': 17298, '안되겠네요': 17299, '안타깝네요': 17300, '드렸었습니다': 17301, '할지도': 17302, '안타깝다': 17303, '똑같지만': 17304, '해주셨다는': 17305, '인하는': 17306, '복잡해서': 17307, '모르겠더라고요': 17308, '주시면아': 17309, '나으시긴': 17310, '아니든': 17311, '안되더라구요': 17312, '들었다던': 17313, '없던데요': 17314, '넘기면서': 17315, '되어있구요': 17316, '만들면서': 17317, '리라': 17318, '방정식': 17319, '없었지': 17320, '라기': 17321, '샅샅이': 17322, '개였나': 17323, '쉽진': 17324, '받지는': 17325, '했었고요': 17326, '어려운가요': 17327, '없는가요': 17328, '껀': 17329, '받았다는게': 17330, '없었나요': 17331, '하시고나서': 17332, '들어가셨던': 17333, '그럽니다': 17334, '해주셨었거든요': 17335, '좌시고': 17336, '슈퍼': 17337, '원하더라고요': 17338, '원하더라고': 17339, '해보겠다': 17340, '어떤가': 17341, '그깐': 17342, '해주셨는지까지': 17343, '해보셨을까요': 17344, '불안정하거나': 17345, '있었을까요': 17346, '필독': 17347, '불안정했다거나': 17348, '없었을까요': 17349, '주셨다는': 17350, '모인데요': 17351, '받으셨이거': 17352, '될것': 17353, '났나요': 17354, '에까지': 17355, '들었는데요': 17356, '이딴': 17357, '끊겨': 17358, '보내죠': 17359, '기다리셔서': 17360, '말씀드릴려고': 17361, '보일거예요': 17362, '내려와주시면': 17363, '밑쪽': 17364, '쓰인다고': 17365, '말씀드리가': 17366, '나오거든': 17367, '끊어놓고': 17368, '되겠구나': 17369, '안하': 17370, '그리면': 17371, '별루': 17372, '그렇다는': 17373, '보내십': 17374, '알아볼께요': 17375, '거기껄': 17376, '된다면서': 17377, '생기시잖아요': 17378, '용액': 17379, '정함': 17380, '않았지만': 17381, '가아': 17382, '연결하셔서': 17383, '크리': 17384, '크리티컬': 17385, '스케일': 17386, '듯': 17387, '뉴': 17388, '커밍': 17389, '오시면서': 17390, '바뀌나': 17391, '있으시겠지만': 17392, '가실까': 17393, '분이시긴': 17394, '여려': 17395, '만족하시면': 17396, '신정': 17397, '적히': 17398, '징정': 17399, '신데로': 17400, '이렇다는': 17401, '있다고나오는데': 17402, '봐주고': 17403, '내도와': 17404, '태블': 17405, '들어진다고': 17406, '여쭈는': 17407, '여쭈시는': 17408, '멤버': 17409, '쉽을': 17410, '해실': 17411, '유의사항': 17412, '철자': 17413, '옙': 17414, '까만색': 17415, '나오구요': 17416, '되어있으시면': 17417, '아니면가': 17418, '들어가지거든요': 17419, '로거': 17420, '높아지거나': 17421, '해봐서요': 17422, '잰데': 17423, '드는지': 17424, '된다고만': 17425, '팩터': 17426, '나왔잖아요': 17427, '끝낸다면': 17428, '많으셔가지고': 17429, '많으셔가지구': 17430, '저렴하고': 17431, '지다': 17432, '저렴해': 17433, '질려나': 17434, '기다렸다고': 17435, '번하시고': 17436, '예비고사': 17437, '장학생': 17438, '의조': 17439, '만족하신': 17440, '나오지도': 17441, '동동': 17442, '굴러': 17443, '헌법': 17444, '아니고이게': 17445, '가보다': 17446, '갤럭시탭': 17447, '타면': 17448, '해봤는데다': 17449, '초등': 17450, '중등': 17451, '올라가요': 17452, '푸스': 17453, '해서하는': 17454, '보고선': 17455, '불편한거': 17456, '에야': 17457, '기념': 17458, '런치': 17459, '돼야지만이': 17460, '똑같으니까': 17461, '알아보겠습니다': 17462, '그저께': 17463, '주십시오': 17464, '짧': 17465, '좌라고요': 17466, '구성은': 17467, '예정아': 17468, '동일해서': 17469, '듣는데는': 17470, '뜨던데요': 17471, '없을까': 17472, '되시긴': 17473, '잃어버렸다는': 17474, '가능하거나': 17475, '올라요': 17476, '베이지': 17477, '올랐었어요': 17478, '하는데이': 17479, '막막': 17480, '크셔야': 17481, '우와': 17482, '건지아': 17483, '이었어서': 17484, '받으셨었어요': 17485, '많았는지': 17486, '재는': 17487, '하신다든지': 17488, '뜨는가요': 17489, '좋다고는': 17490, '삼도': 17491, '좀쪼금씩': 17492, '짧아지는': 17493, '놔두시고': 17494, '드시면은': 17495, '계시면서': 17496, '써셔': 17497, '흐별': 17498, '해보면아아아': 17499, '남아도': 17500, '적으면': 17501, '어안': 17502, '기록부': 17503, '나와있나요': 17504, '스캔': 17505, '받아가지고요': 17506, '컬렉션': 17507, '해봤거든요': 17508, '곤란해서': 17509, '댓글': 17510, '굿': 17511, '되셔가지고요': 17512, '뭐제': 17513, '했는데어': 17514, '마냥': 17515, '어려우시다면네': 17516, '가추': 17517, '닫으시구요': 17518, '적어주시고요': 17519, '면열': 17520, '사가지구요': 17521, '되시고네': 17522, '보내셨을까요': 17523, '부탁드리겠고요': 17524, '찢어진': 17525, '찢어짐이': 17526, '괜찮으시고': 17527, '휴일': 17528, '높거든요': 17529, '밀려있으면': 17530, '해봐가지고': 17531, '끊었다는': 17532, '사야는': 17533, '받으셨군요': 17534, '몰랐어가지고': 17535, '잊어버리고': 17536, '걸로': 17537, '풀려고아': 17538, '하얀색': 17539, '뜯었어요': 17540, '하고수': 17541, '강도': 17542, '하고다시': 17543, '않았으니까': 17544, '오겠네요': 17545, '준다고요': 17546, '주셨었는데': 17547, '있어가지구요': 17548, '지에': 17549, '쪽지': 17550, '자셔': 17551, '신하': 17552, '샤워': 17553, '바빠가': 17554, '버려가지고아': 17555, '분이어가지고': 17556, '보내셨다는': 17557, '해서이': 17558, '됐냐고': 17559, '보셔가지고': 17560, '빠져나가셨다고': 17561, '코지': 17562, '건어': 17563, '핑퐁': 17564, '치시더라고요': 17565, '해주셨으면은': 17566, '내셔야': 17567, '부탁드린': 17568, '되었다면은': 17569, '되니까지': 17570, '나갔고': 17571, '재기': 17572, '초도': 17573, '해주셔고': 17574, '나서야': 17575, '폭주': 17576, '밀리': 17577, '할려니까': 17578, '피시': 17579, '말인지를': 17580, '담으셨더라고요': 17581, '들어가지던데': 17582, '만들어놨어요': 17583, '켤게요': 17584, '장바구': 17585, '해놓으니까는': 17586, '통화량': 17587, '는가': 17588, '찾아가지고': 17589, '봐주시겠어요': 17590, '붙어있어요': 17591, '해주시는건': 17592, '와이': 17593, '구겨져서': 17594, '송이': 17595, '메': 17596, '자셔서요': 17597, '바꾸고': 17598, '되지요': 17599, '보여지지가': 17600, '현금영수증': 17601, '알려주던데': 17602, '알아오라': 17603, '보여지긴': 17604, '알아볼라고': 17605, '하는지까지는': 17606, '들어오는대로': 17607, '해서거기': 17608, '똑같다고': 17609, '몰라가지고네': 17610, '있어네': 17611, '뜨지': 17612, '이상해요': 17613, '들어가시면아': 17614, '나오는구나': 17615, '그럼네': 17616, '가능하실지': 17617, '보내기는': 17618, '었': 17619, '는데이게': 17620, '뜯어서': 17621, '표지': 17622, '뜯어': 17623, '이상하다고': 17624, '이제야': 17625, '갈라진': 17626, '실주소': 17627, '옮겨야': 17628, '절취': 17629, '어책': 17630, '알려주시는': 17631, '고자': 17632, '가지후': 17633, '받았는데아': 17634, '본이실까': 17635, '보냈요': 17636, '시인': 17637, '에까진': 17638, '말고네': 17639, '들어갔거든요': 17640, '가지어': 17641, '받았다고아': 17642, '보겠다고': 17643, '들어갔으니까': 17644, '모아놓는': 17645, '가져가잖아요': 17646, '분께도': 17647, '할이': 17648, '도와주세': 17649, '동일하실까': 17650, '온다고': 17651, '까고': 17652, '놔두실': 17653, '달라졌어요': 17654, '시킨다고요': 17655, '해주셔야되': 17656, '숨기시거나': 17657, '오인': 17658, '않는가요': 17659, '단정': 17660, '휴게실': 17661, '들어있었어요': 17662, '시라면은': 17663, '나셔도': 17664, '나누셔야': 17665, '55만': 17666, '누르라': 17667, '보내시고': 17668, '마치시면': 17669, '의문': 17670, '알아봤더니': 17671, '칠천칠백십육': 17672, '백팔십육만': 17673, '가져가셨는데': 17674, '받아가셨는데': 17675, '삼십팔만': 17676, '오백육십': 17677, '정확히도': 17678, '찾아가지는': 17679, '2%': 17680, '5%': 17681, '따가': 17682, '풀리든지': 17683, '했었잖아요': 17684, '김나영': 17685, '호차': 17686, '참하고': 17687, '하였다구요': 17688, '김현성': 17689, '들거나': 17690, '김경식': 17691, '팔았다거나': 17692, '갔던': 17693, '백이만': 17694, '7.8%': 17695, '야해요': 17696, '받으셔야겠는데': 17697, '속이시면': 17698, '동양': 17699, '김태원': 17700, '산동': 17701, '김성철': 17702, '두었다는': 17703, '지지도': 17704, '되시는거세요': 17705, '한서': 17706, '까진데': 17707, '벗기': 17708, '말씀드렸잖습니까': 17709, '되었을시': 17710, '이깐': 17711, '법쪽': 17712, '되었다는거': 17713, '받으셔사': 17714, '하실건': 17715, '보는게': 17716, '검쪽': 17717, '괜찮으시냐': 17718, '김종현': 17719, '032-291': 17720, '9489': 17721, '품은요': 17722, '겸': 17723, '9%': 17724, '급이하인고객님들께는': 17725, '받은건데': 17726, '오르긴': 17727, '남으시잖아요': 17728, '어딘지': 17729, '받고있어요': 17730, '앤캐': 17731, '돕니다': 17732, '바보': 17733, '40~50%': 17734, '인대': 17735, '모을': 17736, '돌려주시면': 17737, '불안한': 17738, '15~20분': 17739, '150만원': 17740, '믿으세요': 17741, '되실것': 17742, '하시는것처럼': 17743, '여의': 17744, '좌을': 17745, '보내는거냐': 17746, '6713': 17747, '안하구요': 17748, '받아줘요': 17749, '해드리라': 17750, '김재상': 17751, '왔구요': 17752, '동선': 17753, '났더라구요': 17754, '높이시려면은': 17755, '내주냐면': 17756, '안될거': 17757, '쉬시면서': 17758, '걸레': 17759, '내용물': 17760, '다세대': 17761, '보여주기': 17762, '칭칭': 17763, '사태': 17764, '답답할거': 17765, '치겠습니까': 17766, '답답하십니다': 17767, '받겠죠': 17768, '병신': 17769, '되있': 17770, '보내준다고': 17771, '들어주세요': 17772, '되시는거잖아요': 17773, '태자': 17774, '이슬': 17775, '앙': 17776, 'v': 17777, '물어본거에요': 17778, '편해가지고': 17779, '열리구요': 17780, '되실텐데': 17781, '누르시게': 17782, '뜨시잖아요': 17783, '깔면': 17784, '틀리면': 17785, '서신다고': 17786, '그나저나': 17787, '겠지만은': 17788, '다니세요': 17789, '삼백이': 17790, '90년': 17791, '생이요': 17792, '나오시는거': 17793, '보내주셨던': 17794, '강현': 17795, '하실거고요': 17796, '팔백만': 17797, '보내주셔야지': 17798, '몰르지': 17799, '십오만': 17800, '타면은': 17801, '줬는지': 17802, '바꾸시지': 17803, '남기니까': 17804, '빼겠다': 17805, '오시던지': 17806, '어일': 17807, '선거': 17808, '송급': 17809, '주시던가': 17810, '힘들고요': 17811, '쌓다': 17812, '기다리시고': 17813, '지를라고': 17814, '상관없으세요': 17815, '옥': 17816, '린데': 17817, '버리면요': 17818, '있으면서도': 17819, '해주실려면은': 17820, '드리던가': 17821, '안내받으셨다고': 17822, '올라가서요': 17823, '나오신게': 17824, '다를게': 17825, '연말정산': 17826, '급이고요': 17827, '환하려고': 17828, '했던거죠': 17829, '하셧': 17830, '내려갔어요': 17831, '싶지만': 17832, '있던거': 17833, '줬기': 17834, '십팔이': 17835, '잡니다': 17836, '1회': 17837, '건진': 17838, '신입': 17839, '찼을': 17840, '바꿔놓을': 17841, '그럴려면은': 17842, '잔하요': 17843, '전건': 17844, '묶이거든요': 17845, '삼촌': 17846, '빈도': 17847, '띄어서': 17848, '해드린거죠': 17849, '소위': 17850, '모르시거든요': 17851, '늦었기': 17852, '허튼': 17853, '수작': 17854, '바꿔주면': 17855, '다치지': 17856, '똑똑하게만': 17857, '올라가기': 17858, '차도': 17859, '있으시냐고': 17860, '해봤죠': 17861, '물어보잖아요': 17862, '월납': 17863, '칠십팔': 17864, '칠십삼만': 17865, '편히': 17866, '완불': 17867, '나가시잖아요': 17868, '팔백삼십': 17869, '많으셨고': 17870, '매크로': 17871, '한거고': 17872, '김형태': 17873, '막판': 17874, '준다는게': 17875, '달라졌네요': 17876, '가있잖아요': 17877, '채우라고': 17878, '오른다고': 17879, '났던': 17880, '시키세요': 17881, '넘냐': 17882, '드렸잖습니까': 17883, '나셔': 17884, '알려주면서': 17885, '해보는': 17886, '해드렸죠': 17887, '보십': 17888, '오르신': 17889, '들어갔잖아요': 17890, '받겠다': 17891, '모자란거니까': 17892, '신기하고': 17893, '맞춰주세요': 17894, '내줄': 17895, '하셨었으면': 17896, '그러셨으면': 17897, '마치겠습니다': 17898, '어겨': 17899, '필요한건': 17900, '4400원': 17901, '틀려셨을을': 17902, '23조': 17903, '상실': 17904, '돼있으시지': 17905, '옮겨놓으니까': 17906, '받기도': 17907, '나올거에요': 17908, '뒷골목': 17909, '그런거잖아요': 17910, '올라가잖아요': 17911, '띄우자는': 17912, '쓰고서는': 17913, '1억원': 17914, 'sbi': 17915, '묻고': 17916, '캐피달': 17917, '받죠': 17918, '보내가지고': 17919, '놨거든': 17920, '날라가셨잖아요': 17921, '주거지': 17922, '2.7%': 17923, '3.7%': 17924, '만기일': 17925, '아파': 17926, '튼가요': 17927, '있어야되': 17928, '쓴다는데': 17929, '들자면요': 17930, '친한': 17931, '뭡니까': 17932, '넘겨주신': 17933, '먹겠죠': 17934, '받고서': 17935, '내려주시고': 17936, '똘똘': 17937, '뭉친데가': 17938, '와주시면': 17939, '가주시면': 17940, '되있지만': 17941, '해준대': 17942, '높으시고': 17943, '가는구만': 17944, '넘어가나요': 17945, '되고있어서': 17946, '넘어가긴': 17947, '넘어간다고요': 17948, '믿': 17949, '내드': 17950, '받냐는거지': 17951, '짜증나는게': 17952, '두루': 17953, '뭉실': 17954, '궁금': 17955, '해놓고서': 17956, '잡히시는': 17957, '보내주셔야지만': 17958, '홍성민': 17959, '주셨냐': 17960, '남겨놓': 17961, '불려가가지고': 17962, '늦기': 17963, '해봤자': 17964, '갚으라는': 17965, '냈다가': 17966, '경고': 17967, '각하': 17968, '만든건': 17969, '틀림': 17970, '11년': 17971, '얹어서': 17972, '봤으니까': 17973, '봤잖아요': 17974, '됨': 17975, '달린거요': 17976, '4318': 17977, '없으시겠습니까': 17978, '했을시': 17979, '달부터': 17980, '밀렸다': 17981, '올려져서': 17982, '소견': 17983, '김광석': 17984, '드린거였는데': 17985, '01일': 17986, '오십사분': 17987, '사파리': 17988, '만드셨습니까': 17989, '찍습니다': 17990, '오십오분': 17991, '증언': 17992, '기다리십시오': 17993, '팔백오십만원': 17994, '중요합니다': 17995, '지키셔가지고': 17996, '월경': 17997, '그러셨다고': 17998, '어딨나': 17999, '5084': 18000, '안거': 18001, '조폭': 18002, '길면은': 18003, '드렸으면': 18004, '물정': 18005, '닫아요': 18006, '속이게': 18007, '본인는': 18008, '없으시': 18009, '그런거였고': 18010, '들어가있어도': 18011, '어려울거': 18012, '하신거랑': 18013, '법죄': 18014, '기업인': 18015, '글쎄': 18016, '연쇄': 18017, '올립니다': 18018, '이였는데': 18019, '걸다': 18020, '억원': 18021, '받았을거고': 18022, '나쁘실': 18023, '풀려나진': 18024, '졌는지': 18025, '백육십': 18026, '밝혔어요': 18027, '아니예요': 18028, '따지지': 18029, '동아리': 18030, '완결': 18031, '도보': 18032, '십팔분': 18033, '버리거나': 18034, '각지': 18035, '바꾸니까': 18036, '받았었을': 18037, '대출받았으면': 18038, '붙이던지': 18039, '믿음성': 18040, '.....': 18041, '따지': 18042, '남으신': 18043, '깔면은': 18044, '김기동': 18045, '갔겠죠': 18046, '사십오세': 18047, '쉽다는': 18048, '없고가': 18049, '라니': 18050, '아니라고요': 18051, '되는거면': 18052, '아이디어': 18053, '돼있다는': 18054, '내려가거든요': 18055, '발음': 18056, '막힌다는': 18057, '불편하네요': 18058, '모순': 18059, '사십만원': 18060, '불러야': 18061, '부르시는': 18062, '치게끔': 18063, '끊자마자': 18064, '끊십시오': 18065, '버린다거나': 18066, '늦춰질': 18067, '쉬다가': 18068, '바꾸셔도': 18069, '냈으면은': 18070, '걸리겠어': 18071, '좀있다가': 18072, '바꾸라는': 18073, '받을려면': 18074, '묻는거죠': 18075, '짜증나도': 18076, '죄송할': 18077, '그럴리': 18078, '뭐라던가요': 18079, '평상시': 18080, '돌아가야지': 18081, '만나시면': 18082, '있는데까지': 18083, '죽을거': 18084, '나가잖아요': 18085, '55%': 18086, '훔쳐가거나': 18087, '하시고어': 18088, '침': 18089, '이상한가요': 18090, '이쁘면': 18091, '놨': 18092, '7천': 18093, '인했죠': 18094, '하실거고': 18095, '당하는거면': 18096, '하고있습니까': 18097, '한다면서요': 18098, '믿으라고요': 18099, '지는데': 18100, '가져갔으면': 18101, '선유도': 18102, '십이만원': 18103, '있으시나': 18104, '기다리시라고': 18105, '계시지만은': 18106, '회장': 18107, '김기원': 18108, '시끄러우면': 18109, '나왔': 18110, '감자': 18111, '다닌지': 18112, '식당': 18113, '대위': 18114, '파해': 18115, '그친게': 18116, '가져갔다': 18117, '남긴다고': 18118, '김희영': 18119, '하나님': 18120, '않지만은': 18121, '칠만원': 18122, '6일': 18123, '모르시겠고': 18124, '알아는': 18125, '에스케이텔레콤': 18126, '삼사': 18127, '끝나요': 18128, '해주시면서': 18129, '줘야겠죠': 18130, '기다리라는': 18131, '하이힐': 18132, '되냐아라': 18133, '나오느냐': 18134, '내려가셨어요': 18135, '스럽고': 18136, '어떻습니까': 18137, '보셨다면': 18138, '받았는데도': 18139, '자라는': 18140, '해드리겠단': 18141, '따라가는지': 18142, '기다리겠습니다': 18143, '묻거나': 18144, '한어': 18145, '밝히시더라도': 18146, '밝히는지에': 18147, '해주셨다가': 18148, '하는데에': 18149, '하겠고요': 18150, '놓으시면되': 18151, '수천만': 18152, '탈취': 18153, '신중하고': 18154, '집안': 18155, '회사원': 18156, '정중하게': 18157, '자세하게는': 18158, '구백오십원': 18159, '천오십': 18160, '서나': 18161, '대출받는다거나': 18162, '양반': 18163, '있오십': 18164, '서는어': 18165, '해보셨는데도': 18166, '걸면': 18167, '드문': 18168, '많은건': 18169, '음료': 18170, '모금': 18171, '따르': 18172, '생긴다라고': 18173, '밀려있나요': 18174, '삼으시고': 18175, '위원장': 18176, '빼셨고': 18177, '받더라도': 18178, '띄시고': 18179, '일십삼만이': 18180, '불안하시는': 18181, '3억': 18182, '적힌': 18183, '공직자': 18184, '해본거': 18185, '엄청나죠': 18186, '놓으려고': 18187, '없잖아': 18188, '성합': 18189, '없어지신': 18190, '변장': 18191, '보더라고요': 18192, '주게': 18193, '올라갔고': 18194, '개통': 18195, '하얘져서': 18196, '찾아가거나': 18197, '-)\\\\': 18198, '한다면요': 18199, '가능한거': 18200, '불가능해요': 18201, '때려': 18202, '치워요': 18203, '할테니까': 18204, '미란다': 18205, '썼습니다': 18206, '적으시고요': 18207, '되있거든요': 18208, '그리고도': 18209, '하는데만': 18210, '출하실려는': 18211, '일어났잖아요': 18212, '가렸거든요': 18213, '적이잖아요': 18214, '만들려고': 18215, '살해': 18216, '하나투어': 18217, '드셨잖아요': 18218, '지우지': 18219, '챙길거': 18220, '일어난다': 18221, '된다니까': 18222, '가능했다는': 18223, '돼있기': 18224, '진다는': 18225, '나와줘야': 18226, '구만원': 18227, '2분': 18228, '송환': 18229, '전화하다가': 18230, '되든지': 18231, '피는': 18232, '되시에는': 18233, '하실려다가': 18234, '꺼주시면': 18235, '걸려있다': 18236, '3300만': 18237, '계시는가요': 18238, '들린다든지': 18239, '다녔으니까': 18240, '벗어나신': 18241, '분이시죠': 18242, '만든거고요': 18243, '연예인': 18244, '하는거만': 18245, '기사화': 18246, '많았던': 18247, '중만': 18248, '띄웠거든요': 18249, '꼼꼼하게': 18250, '안되거나': 18251, '언론보도': 18252, '변론': 18253, '인멸': 18254, '일어나서': 18255, '남긴게': 18256, '인의': 18257, '되어있었다는': 18258, '주하': 18259, '70만원': 18260, '치다': 18261, '17년': 18262, '합이요': 18263, '마쳐지면은': 18264, '끊으시거나': 18265, '올라서': 18266, '살지도': 18267, '불편하세요': 18268, '아시는거에요': 18269, '챠타드': 18270, '특대': 18271, '작으셔서': 18272, '철도': 18273, '9분': 18274, '살인': 18275, '없는지에': 18276, '어리진': 18277, '주셨던데로': 18278, '가봤어요': 18279, '알아볼게요': 18280, '김현식': 18281, '였구요': 18282, '됬거나': 18283, '근사치': 18284, '간료': 18285, '알고계십니까': 18286, '나오라고': 18287, '진거': 18288, '인당': 18289, '개약': 18290, '개도': 18291, '없으시면요': 18292, '막히셨는데': 18293, '풀리던지': 18294, '쓰여지면서': 18295, '놓았기': 18296, '금년': 18297, '그렇겠지요': 18298, '경위서': 18299, '시키나요': 18300, '올려요': 18301, '알파': 18302, '가져가요': 18303, '가리고자': 18304, '버팀으로': 18305, '트입니다': 18306, '4470만원': 18307, '크신': 18308, '갚을라면': 18309, '저질러': 18310, '하신것': 18311, '남아있기': 18312, '잡히면요': 18313, '먹으러': 18314, '고소하는': 18315, '알아보시기': 18316, '책임자': 18317, '프랑': 18318, '틀려져요': 18319, '크네요': 18320, '텔레': 18321, '상호권': 18322, '모르네요': 18323, '하셨다거나': 18324, '당했다거나': 18325, '11': 18326, '버리시잖아요': 18327, '빌려주시는': 18328, '건네주시게': 18329, '틀렸나': 18330, '동거': 18331, '이연주': 18332, '높': 18333, '돼죠': 18334, '하겠지만': 18335, '빠졌어요': 18336, '돌려주겠다': 18337, '7403': 18338, '동조': 18339, '뜬다거나': 18340, '기각': 18341, '자라고만': 18342, '삼천이백오십': 18343, '성금': 18344, '천적': 18345, '계시는거': 18346, '장바': 18347, '는데이거': 18348, '광좌': 18349, '지났고': 18350, '부턴': 18351, '다니는지': 18352, '되어있는아': 18353, '지나갔고': 18354, '알아보고자': 18355, '하면거기에': 18356, '풀는': 18357, '아쉽더라고요': 18358, '냥': 18359, '변종': 18360, '부터가': 18361, '살펴보면은': 18362, '써있던데요': 18363, '아니었': 18364, '해주신어': 18365, '되어있잖아요': 18366, '보시더라도': 18367, '적어놓': 18368, '다르시기': 18369, '넘어갔는지가': 18370, '된다던가': 18371, '그러시더라고요': 18372, '있었더라고요': 18373, '저렴하진': 18374, '높아지는': 18375, '짧아서': 18376, '받으셔네': 18377, '월거': 18378, '잊지': 18379, '남기는': 18380, '남기시던': 18381, '들어갔는데아': 18382, '내리시면아': 18383, '당연하다': 18384, '없으면네': 18385, '정작': 18386, '빠르긴': 18387, '대치': 18388, '걸리시고': 18389, '좌시니까': 18390, '된고': 18391, '없구여': 18392, '벗어나질': 18393, '들어주시는': 18394, '같기': 18395, '본바탕': 18396, '저작권': 18397, '쓰는게': 18398, '끊게': 18399, '할거니깐': 18400, '하신다던가': 18401, '라미': 18402, '해보셨나요': 18403, '해주고요': 18404, '끝나진': 18405, '나눴었는데': 18406, '안내받으시고': 18407, '지났나요': 18408, '끊잖아요': 18409, '불가해': 18410, '돼있긴': 18411, '긴장감': 18412, '보실수가': 18413, '되어있지만': 18414, '되는지네': 18415, '원하는데': 18416, '그렇다면요': 18417, '떼어서': 18418, '셔서': 18419, '남색': 18420, '오거': 18421, '증사': 18422, '찝찝하다': 18423, '서에다': 18424, '낙인': 18425, '보고있어요': 18426, '가보실게': 18427, '가보실': 18428, '들어오셨죠': 18429, '있었네요': 18430, '찾아가서': 18431, '2022': 18432, '다르시긴': 18433, '될거예요': 18434, '원해': 18435, '서강대': 18436, '어딨어요': 18437, '나온네': 18438, '바퀴': 18439, '누르라고요': 18440, '뜨시는지': 18441, '하시진': 18442, '아니면거나': 18443, '년학': 18444, '평이': 18445, '이십이십': 18446, '넣더라도': 18447, '삼까': 18448, '정확한안내를': 18449, '바꾸나요': 18450, '춘천': 18451, '에너지공학': 18452, '물리치료': 18453, '카운팅': 18454, '고구': 18455, '찾았거든요': 18456, '돼있는데이거는': 18457, '어려습니다': 18458, '자회사': 18459, '막혀있는': 18460, '해주시려고': 18461, '나눠주는': 18462, '알람': 18463, '샀었어요': 18464, '있는안': 18465, '주신다고요': 18466, '하구': 18467, '들어주시지': 18468, '권익': 18469, '초창': 18470, '소질': 18471, '맡기면': 18472, '뒤집다': 18473, '직관': 18474, '푸셨다는': 18475, '뽑으려고': 18476, '듣는다라고': 18477, '실력': 18478, '미치기': 18479, '어떤어': 18480, '나열하는': 18481, '긴장': 18482, '느껴졌다': 18483, '겪을': 18484, '적합한가': 18485, '하는가어': 18486, '나오셨으니까': 18487, '친절한': 18488, '정확하고': 18489, '완벽하지': 18490, '어떠': 18491, '몰': 18492, '억양': 18493, '쌓은': 18494, '프로세스': 18495, '떠오르는': 18496, '남아있고요': 18497, '까먹어가지고': 18498, '군데군데': 18499, '끝냈는데': 18500, '신촌': 18501, '가르치니까': 18502, '어려울까': 18503, '키울': 18504, '용이하게': 18505, '있을지': 18506, '거듭': 18507, '관악': 18508, '선약': 18509, '놀이': 18510, '마루': 18511, '본원': 18512, '주얼': 18513, '풍': 18514, '조명': 18515, '컬': 18516, '마술': 18517, '재빠른': 18518, '쌓을': 18519, '칠십만': 18520, '드을': 18521, '산포': 18522, '않으십니까': 18523, '필요하나요': 18524, '조서': 18525, '소유자': 18526, '부부': 18527, '한필수': 18528, '자네': 18529, '앉는': 18530, '찬데': 18531, '들어간게': 18532, '보이더라고요': 18533, '내렸습니다': 18534, '내리게': 18535, '닙': 18536, '많으': 18537, '홍': 18538, '천동': 18539, '목욕탕': 18540, '타는': 18541, '진해긴': 18542, '진구': 18543, '봐주시나요': 18544, '달라집니다': 18545, '살거든요': 18546, '이르케': 18547, '참하시면': 18548, '아니시더라도': 18549, '탄력': 18550, '진해서': 18551, '싶단': 18552, '둬야겠다': 18553, '기다리면은': 18554, '옛': 18555, '달아주시던지': 18556, '약자': 18557, '편리해지게': 18558, '모일': 18559, '실버': 18560, '굴리지': 18561, '불친절하다': 18562, '고차': 18563, '넘겨주시는': 18564, '가져오셔야': 18565, '생략': 18566, '공작': 18567, '베어링': 18568, '있다네': 18569, '반입': 18570, '신도시': 18571, '걸리나요': 18572, '들려': 18573, '철관': 18574, '정도전': 18575, '걸립니까': 18576, '구려': 18577, '주시겠어': 18578, '비워야': 18579, '내주실': 18580, '한아': 18581, '리더': 18582, '디아': 18583, '제이엔': 18584, '있다이시구요': 18585, '매핑': 18586, '귀하는': 18587, '출전': 18588, '친거는': 18589, '콜센텁니': 18590, '가꼬': 18591, '버렸어': 18592, '해달': 18593, '분담': 18594, '구명': 18595, '보신다라는': 18596, '찾으셨는데': 18597, '조달': 18598, '됐더니': 18599, '조달청': 18600, '굴착기': 18601, '뚜': 18602, '보머': 18603, '용접': 18604, '성훈': 18605, '신세계': 18606, '트램': 18607, '기지': 18608, '되것나내는': 18609, '가집': 18610, '디다': 18611, '본부': 18612, '하는거라': 18613, '배어': 18614, '어려웠습니다': 18615, '했나음': 18616, '분이시라면': 18617, '신기한데': 18618, '아프': 18619, '하소': 18620, '바꿨다고': 18621, '넘으셔서': 18622, '바꾸셔서': 18623, '옮겨져': 18624, '현주소': 18625, '옮겼다가': 18626, '겉면': 18627, '바꾸시면은': 18628, '뜨는지': 18629, '가능하시겠지만': 18630, '없애면': 18631, '깜': 18632, '시끄러워가지고': 18633, '바꾼': 18634, '웬만해서는': 18635, '했을까요': 18636, '설치는': 18637, '멘트': 18638, '해보시겠니다': 18639, '멈췄거든요': 18640, '어딨더라': 18641, '바꾸셨던': 18642, '세대': 18643, '에어로': 18644, '해주실지는': 18645, '동작': 18646, '읽어줘': 18647, '열리실': 18648, '풀리나요': 18649, '받아주셔가지고': 18650, '필요하잖아요': 18651, '버려요': 18652, '이즈': 18653, '만도': 18654, '해놓으신': 18655, '적중': 18656, '힘드신가요': 18657, '챙길게요': 18658, '숙제': 18659, '어회': 18660, '되어있던데': 18661, '기적': 18662, '살려고요': 18663, '되시더라도': 18664, '하여서': 18665, '축가': 18666, '전시': 18667, '노래': 18668, '계시듯이': 18669, '강한': 18670, '와는': 18671, '체육관': 18672, '좋고요': 18673, '먼지': 18674, '하던데네': 18675, '걸어놓은': 18676, '계시다며': 18677, '아님에도': 18678, '옮기시던지': 18679, '예진': 18680, '가요제': 18681, '달라지시죠': 18682, '시정': 18683, '지라던지': 18684, '이루어지는데': 18685, '친가': 18686, '일건': 18687, '올라오는데': 18688, '나와있으시구요': 18689, '해놓으셨으면': 18690, '주교': 18691, '해서이게': 18692, '때선': 18693, '삼십이십': 18694, '다루고': 18695, '이었다고요': 18696, '가니까': 18697, '보입시다': 18698, '보내고자': 18699, '아동복': 18700, '가는지': 18701, '알던': 18702, '벤치': 18703, '테라스': 18704, '많거든': 18705, '쪽입': 18706, '이었다가': 18707, '신세': 18708, '뽑히': 18709, '묵었나': 18710, '설거지': 18711, '묶는다': 18712, '좋으니까': 18713, '안녕하셨어요': 18714, '비오도': 18715, '갈라고': 18716, '않으셔야': 18717, '돌봄': 18718, '있는가요': 18719, '좋았다고요': 18720, '좋았다': 18721, '소화도': 18722, '먹는': 18723, '걸르': 18724, '영양가': 18725, '잦은': 18726, '춥지': 18727, '더웠어요': 18728, '만지니까': 18729, '안구': 18730, '사철': 18731, '지냈는데': 18732, '오가': 18733, '배운다고': 18734, '씩씩하고': 18735, '불편하셨겠다': 18736, '고치러': 18737, '찍으셔야': 18738, '엽서': 18739, '지침': 18740, '막혔거든': 18741, '전화하셨습니까': 18742, '수압': 18743, '대주세요': 18744, '물어볼라구요': 18745, '빠져나가나요': 18746, '더해': 18747, '나오네': 18748, '오다': 18749, '보호대': 18750, '검침': 18751, '쇠': 18752, '태풍': 18753, '넘쳐': 18754, '음식': 18755, '넘치던데아': 18756, '넘친다는': 18757, '나더': 18758, '심하시고요': 18759, '주셨더라고요': 18760, '위험하다고': 18761, '들었다고': 18762, '세대주': 18763, '하는데이게': 18764, '뭐라는지': 18765, '년일': 18766, '올라와요': 18767, '몽정': 18768, '뼈': 18769, '튀어나와서': 18770, '둬도': 18771, '행정시': 18772, '가에': 18773, '가길': 18774, '키우고': 18775, '지나가면서도': 18776, '불어가지고': 18777, '청원시': 18778, '회원동': 18779, '해주시더라': 18780, '밀려가지고': 18781, '건강검진': 18782, '패줄': 18783, '임대주택': 18784, '끝났': 18785, '나는요': 18786, '콘센트': 18787, '선심': 18788, '곰': 18789, '헤어지기': 18790, '끊으라고': 18791, '싫으면': 18792, '할란다': 18793, '있으세여': 18794, '들었거든': 18795, '돌아가시고': 18796, '되나여': 18797, '편백': 18798, '지가를': 18799, '통지': 18800, '뵙겠습니다': 18801, '버리는지': 18802, '끄으시면': 18803, '오신다': 18804, '풀려져': 18805, '만들어도': 18806, '배우': 18807, '어보': 18808, '불가하구요': 18809, '해볼라': 18810, '다르고만': 18811, '회용': 18812, '착불': 18813, '없어졌기': 18814, '남았을': 18815, '거치기': 18816, '종륜데': 18817, '쓰기': 18818, '담아놓으니까': 18819, '눌러주셨어요': 18820, '지워주시고요': 18821, '놔두고': 18822, '되어지지': 18823, '긴인': 18824, '편리한': 18825, '출하셔서': 18826, '여쭐게요': 18827, '줄어서': 18828, '치시는': 18829, '간단할': 18830, '해볼텐데요': 18831, '해주세': 18832, '문학작품': 18833, '불가능하구요': 18834, '같으세아니': 18835, '뭐예': 18836, '돌아온': 18837, '기다리냐': 18838, '썼다고': 18839, '올려주시나요': 18840, '받으란': 18841, '똑같은걸': 18842, '달이잖아요': 18843, '올라오신': 18844, '했었어서': 18845, '들였지만': 18846, '좋더라고요': 18847, '지피': 18848, '탐을': 18849, '독학': 18850, '부족하실': 18851, '다라기': 18852, '최신껄': 18853, '들으면은': 18854, '불렀는데요': 18855, '좌구요': 18856, '들어가란': 18857, '되어있으시죠': 18858, '담았거든요': 18859, '원하시기': 18860, '하면전': 18861, '무기한': 18862, '헷갈려': 18863, '사라지고': 18864, '안되시고아': 18865, '나타내려고': 18866, '보여주시는': 18867, '불가하다고': 18868, '받으셨어도': 18869, '떠있었는데요': 18870, '떠있었고': 18871, '보이시는': 18872, '저렴해지겠네요': 18873, '묻어가지고': 18874, '묵음': 18875, '낫겠네요': 18876, '있으시지만': 18877, '초보자': 18878, '조그만': 18879, '나누기': 18880, '겠네': 18881, '왔죠': 18882, '했으면요': 18883, '내셨어요': 18884, '심도': 18885, '끊었다고': 18886, '낮았던': 18887, '비싸다': 18888, '그렇십니까': 18889, '남겼다': 18890, '하는네': 18891, '보아': 18892, '여실': 18893, '조각': 18894, '사는데요': 18895, '딸려있잖아요': 18896, '커리': 18897, '택밴': 18898, '나타나있는': 18899, '됐으면은': 18900, '갖는': 18901, '박자': 18902, '시계': 18903, '뜰거에요': 18904, '꺼졌다가': 18905, '받는거란': 18906, '올라갔거나': 18907, '까지로': 18908, '편는': 18909, '운문': 18910, '어려우시고아': 18911, '주시긴': 18912, '똑같게': 18913, '따지면': 18914, '끊었던': 18915, '되시면아': 18916, '물어봤죠': 18917, '년마': 18918, '해드리긴': 18919, '없군요': 18920, '해서음': 18921, '원활한가요': 18922, '직후': 18923, '나뉘어질': 18924, '확통': 18925, '드리세요': 18926, '내시면은': 18927, '해보고서': 18928, '들었었다가': 18929, '붙임': 18930, '들어오셨을까요': 18931, '스텝': 18932, '끊었든지': 18933, '똑': 18934, '해야겠다고': 18935, '이용만': 18936, '달라져': 18937, '가능한거요': 18938, '가능한거예요': 18939, '올라가신다는': 18940, '벨트': 18941, '이럴까봐': 18942, '문법': 18943, '들어오셔야': 18944, '미니세요': 18945, '찾겠거든요': 18946, '길잖아요': 18947, '일진': 18948, '없고아': 18949, '보이기만': 18950, '불가하고요': 18951, '퀄': 18952, '빼면': 18953, '선물': 18954, '줘도': 18955, '있으셨으면': 18956, '둘게요': 18957, '선착순': 18958, '뜯으': 18959, '주시겠으': 18960, '읽으셔': 18961, '됐는데네': 18962, '가고있': 18963, '이야긴': 18964, '봤네요': 18965, '절제': 18966, '되시는데아': 18967, '갔을까요': 18968, '끊겨요': 18969, '됐는데이게': 18970, '쓰셨을까요': 18971, '말해': 18972, '서단': 18973, '담으셔서': 18974, '고쳤으면': 18975, '알겠어': 18976, '고쳐': 18977, '놓는': 18978, '가나': 18979, '어처구니': 18980, '쉬우실': 18981, '판독': 18982, '듣고있습니다': 18983, '들어갈거냐': 18984, '연료': 18985, '주셔요': 18986, '220만원': 18987, '전화했더니': 18988, '부교': 18989, '소비': 18990, '수량': 18991, '오겠습니다': 18992, '김민': 18993, '위약': 18994, '져야': 18995, '였나요': 18996, '비워주셔도': 18997, '요원': 18998, '외삼촌': 18999, '훼방': 19000, '승낙': 19001, '돌려서': 19002, '빌렸던거': 19003, '군산': 19004, '쓰던거라': 19005, '조태수': 19006, '나타내': 19007, '비행기': 19008, '불어': 19009, '사행': 19010, '2014': 19011, '수상': 19012, '보라고요': 19013, '끝내면': 19014, '풀리면': 19015, '나오는지만': 19016, '복잡하진': 19017, '공직': 19018, '수차': 19019, '명태': 19020, '복면': 19021, '가리고': 19022, '박상철': 19023, '으로의': 19024, '소취하': 19025, '여진': 19026, '여깄구': 19027, '뫼': 19028, '소신': 19029, '빠른은': 19030, '송출하': 19031, '의상': 19032, '녹색': 19033, '성용': 19034, '톤': 19035, '이재': 19036, '간선': 19037, '카니발': 19038, '연필': 19039, '의장': 19040, '볼트': 19041, '발전기': 19042, '소방차': 19043, '정확': 19044, '계정은': 19045, '비어': 19046, '센스': 19047, '낮아서': 19048, '파랑': 19049, '용인': 19050, '미술관': 19051, '협약': 19052, '주신면은': 19053, '캠핑': 19054, '사이클': 19055, '보육': 19056, '맞은': 19057, '해보실래요': 19058, '가봤습니다': 19059, '일기': 19060, '이불': 19061, '지나가': 19062, '홀': 19063, '불가하시다고': 19064, '성원': 19065, '석탄': 19066, '짙은': 19067, '동아': 19068, '담아놨어요': 19069, '학비': 19070, '중학': 19071, '찾나': 19072, '알기로': 19073, '페이스': 19074, '장문': 19075, '아니시': 19076, '소급': 19077, '사양': 19078, '보냈고': 19079, '짝': 19080, '존칭': 19081, '징계': 19082, '곤': 19083, '락': 19084, '재정': 19085, '괄': 19086, '본체': 19087, '재미': 19088, '개혁': 19089, '신축': 19090, '빙': 19091, '협': 19092, '털': 19093, '퓨': 19094, '낙': 19095, '촌': 19096, '색': 19097, '팽': 19098, '츠': 19099, '칭': 19100, '훼': 19101, '뢰': 19102, '렁': 19103, '궐': 19104, '션': 19105, '촬': 19106, '롬': 19107, '컵': 19108, '찻': 19109, '씹': 19110, '탄': 19111, '떨': 19112, '벗': 19113, '셈': 19114, '칙': 19115, '붓': 19116, '닥': 19117, '숙': 19118, '퀴': 19119, '젖': 19120, '덤': 19121, '깃': 19122, '덩': 19123, '염': 19124, '핑': 19125, '늙': 19126, '템': 19127, '촉': 19128, '꾸': 19129}\n",
      "19129\n"
     ]
    }
   ],
   "source": [
    "#어휘사전 만들기\n",
    "t = Tokenizer()\n",
    "tqdm(t.fit_on_texts(stop_body))\n",
    "print(t.word_index)\n",
    "print(len(t.word_index))"
   ]
  },
  {
   "cell_type": "code",
   "execution_count": 33,
   "metadata": {
    "colab": {
     "base_uri": "https://localhost:8080/"
    },
    "id": "bt8NOZDS5uDn",
    "outputId": "b75d7298-7e49-4878-c21f-984c772ea97a"
   },
   "outputs": [
    {
     "name": "stdout",
     "output_type": "stream",
     "text": [
      "sequence_data[0] [285, 2749, 9807, 13, 2219, 5864, 9808, 2203, 455, 3127, 31, 651, 56, 5, 13, 2219, 5864, 9809, 4, 43, 4183, 4, 222, 1956, 332, 9104, 905, 3749, 3989, 246, 3989, 212, 17, 462, 542, 1353, 861, 38, 70, 1211, 212, 70, 1211, 3358, 4, 9810, 3602]\n"
     ]
    }
   ],
   "source": [
    "#transform\n",
    "sequence_data = t.texts_to_sequences(stop_body) #transform = 숫자화 \n",
    "print('sequence_data[0]',sequence_data[0])"
   ]
  },
  {
   "cell_type": "code",
   "execution_count": 25,
   "metadata": {
    "id": "eJPFjmHR5uA3"
   },
   "outputs": [],
   "source": []
  },
  {
   "cell_type": "code",
   "execution_count": 36,
   "metadata": {
    "colab": {
     "base_uri": "https://localhost:8080/"
    },
    "id": "HTkWcqDSWdfz",
    "outputId": "39f55c31-caec-4568-ef86-3c845aa54f71"
   },
   "outputs": [
    {
     "name": "stdout",
     "output_type": "stream",
     "text": [
      "[285. 499. 499.  13. 499. 499. 499. 499. 455. 499.  31. 499.  56.   5.\n",
      "  13. 499. 499. 499.   4.  43. 499.   4. 222. 499. 332. 499. 499. 499.\n",
      " 499. 246. 499. 212.  17. 462. 499. 499. 499.  38.  70. 499. 212.  70.\n",
      " 499. 499.   4. 499. 499.]\n",
      "9870\n"
     ]
    },
    {
     "name": "stderr",
     "output_type": "stream",
     "text": [
      "C:\\Users\\Bell\\AppData\\Local\\Temp\\ipykernel_3736\\1208438711.py:18: VisibleDeprecationWarning: Creating an ndarray from ragged nested sequences (which is a list-or-tuple of lists-or-tuples-or ndarrays with different lengths or shapes) is deprecated. If you meant to do this, you must specify 'dtype=object' when creating the ndarray.\n",
      "  dicList=np.array(dicList)\n"
     ]
    }
   ],
   "source": [
    "#단어사전 줄이기 \n",
    "dicList = []\n",
    "\n",
    "for sequenceSet in sequence_data:\n",
    "    \n",
    "#  temp = []\n",
    "    temp=np.array([])\n",
    "    for sequence in sequenceSet:\n",
    "        if sequence > 499:\n",
    "            sequence = 499\n",
    "        temp=np.append(temp,sequence)\n",
    "#    temp.append(sequence)\n",
    "    dicList.append(temp)\n",
    "\n",
    "print(dicList[0])\n",
    "#print(len(t.word_index))\n",
    "print(len(dicList))\n",
    "dicList=np.array(dicList)"
   ]
  },
  {
   "cell_type": "code",
   "execution_count": 37,
   "metadata": {
    "colab": {
     "base_uri": "https://localhost:8080/"
    },
    "id": "zrCOfnUr5t3C",
    "outputId": "a23818a0-aa71-4730-f38b-a5f850925da5"
   },
   "outputs": [
    {
     "name": "stdout",
     "output_type": "stream",
     "text": [
      "(9870, 500)\n"
     ]
    }
   ],
   "source": [
    "#Padding\n",
    "padded = pad_sequences(dicList, truncating = 'post', maxlen = 500)\n",
    "#print(padded[0])\n",
    "print(padded.shape)"
   ]
  },
  {
   "cell_type": "code",
   "execution_count": 38,
   "metadata": {
    "colab": {
     "base_uri": "https://localhost:8080/"
    },
    "id": "hiF-jNpqMyTA",
    "outputId": "e16ede4b-a650-4e01-e14f-c2218736150f"
   },
   "outputs": [
    {
     "name": "stdout",
     "output_type": "stream",
     "text": [
      "9870\n"
     ]
    }
   ],
   "source": [
    "print(len(tokenize))"
   ]
  },
  {
   "cell_type": "code",
   "execution_count": 39,
   "metadata": {
    "id": "7PGEnKnok0iI"
   },
   "outputs": [],
   "source": [
    "allTextDataFinal=padded"
   ]
  },
  {
   "cell_type": "markdown",
   "metadata": {
    "id": "Me459YuP_n_Q"
   },
   "source": [
    "#**5. 훈련/검증/테스트 데이터셋분할 (Train/Valid/Test)**"
   ]
  },
  {
   "cell_type": "code",
   "execution_count": 40,
   "metadata": {
    "id": "Dz6nQwre_plh"
   },
   "outputs": [],
   "source": [
    "x = allTextDataFinal\n",
    "y = allTargetData"
   ]
  },
  {
   "cell_type": "code",
   "execution_count": 41,
   "metadata": {
    "id": "EfnVZcdi_pia"
   },
   "outputs": [],
   "source": [
    "#훈련데이터셋 분할\n",
    "from sklearn.model_selection import train_test_split\n",
    "\n",
    "#dataset 자체는 order가 깔끔히 정렬된 상태이기 때문에 반드시 dataset을 shuffle 해주어야 한다.\n",
    "#sklearn에서 제공해주는 train_test_split을 활용하면 매우 쉽게 shuffle과 split을 할 수 있다."
   ]
  },
  {
   "cell_type": "code",
   "execution_count": 42,
   "metadata": {
    "id": "ZSeTWnwa_pco"
   },
   "outputs": [],
   "source": [
    "x_train, x_test, y_train, y_test = train_test_split(x, y, test_size=0.2)\n",
    "\n",
    "#x_train= Train훈련데이터 \n",
    "#x_test= Train테스트데이터 \n",
    "#y_train= Target훈련데이터 \n",
    "#y_test= Target테스트데이터 \n",
    "\n",
    "#train_test_split()은 기본적으로 훈련데이터 세트를 75:25의 비율로 나눔 \n",
    "#이 비율을 조정하고 싶을 때는 test_size 매개변수에 테스트 세트의 비율을 전달하면 조절할 수 있음 \n",
    "#여기서는 입력된 데이터 세트의 30%를 테스트 세트로 나누기 위해 0.3를 전달"
   ]
  },
  {
   "cell_type": "code",
   "execution_count": 43,
   "metadata": {
    "id": "P8mmOQg6_pY_"
   },
   "outputs": [],
   "source": [
    "x_train, x_val, y_train, y_val = train_test_split(x_train, y_train, test_size=0.375)\n",
    "#여기서는 입력된 데이터 세트의 30%를 테스트 세트로 나누기 위해 0.2를 전달"
   ]
  },
  {
   "cell_type": "code",
   "execution_count": 44,
   "metadata": {
    "colab": {
     "base_uri": "https://localhost:8080/"
    },
    "id": "E_gpmXPI_pSI",
    "outputId": "8ce2a077-875a-44f4-9003-a14a690104d9"
   },
   "outputs": [
    {
     "name": "stdout",
     "output_type": "stream",
     "text": [
      "전체데이터=> 9870 \n",
      "\n",
      "학습데이터(Text)=> 4935\n",
      "학습데이터(Target)=> 4935 \n",
      "\n",
      "검증데이터(Text)=> 2961\n",
      "검증데이터(Target)=> 2961 \n",
      "\n",
      "테스트데이터(Text)=> 1974\n",
      "테스트데이터(Target)=> 1974 \n",
      "\n"
     ]
    }
   ],
   "source": [
    "print(\"전체데이터=>\",len(dicList),\"\\n\")\n",
    "\n",
    "print(\"학습데이터(Text)=>\",len(x_train))\n",
    "print(\"학습데이터(Target)=>\",len(y_train),\"\\n\")\n",
    "\n",
    "print(\"검증데이터(Text)=>\",len(x_val))\n",
    "print(\"검증데이터(Target)=>\",len(y_val),\"\\n\")\n",
    "\n",
    "print(\"테스트데이터(Text)=>\",len(x_test))\n",
    "print(\"테스트데이터(Target)=>\",len(y_test),\"\\n\")\n"
   ]
  },
  {
   "cell_type": "code",
   "execution_count": 45,
   "metadata": {
    "colab": {
     "base_uri": "https://localhost:8080/"
    },
    "id": "V3ml_tshYceS",
    "outputId": "bb8ba249-fa86-4607-e361-5e9e4b1f587c"
   },
   "outputs": [
    {
     "name": "stdout",
     "output_type": "stream",
     "text": [
      "<class 'numpy.ndarray'>\n",
      "<class 'numpy.ndarray'>\n",
      "<class 'numpy.ndarray'>\n",
      "[[  0   0   0   0   0   0   0   0   0   0   0   0   0   0   0   0   0   0\n",
      "    0   0   0   0   0   0   0   0   0   0   0   0   0   0   0   0   0   0\n",
      "    0   0   0   0   0   0   0   0   0   0   0   0   0   0   0   0   0   0\n",
      "    0   0   0   0   0   0   0   0   0   0   0   0   0   0   0   0   0   0\n",
      "    0   0   0   0   0   0   0   0   0   0   0   0   0   0   0   0   0   0\n",
      "    0   0   0   0   0   0   0   0   0   0   0   0   0   0   0   0   0   0\n",
      "    0   0   0   0   0   0   0   0   0   0   0   0   0   0   0   0   0   0\n",
      "    0   0   0   0   0   0   0   0   0   0   0   0   0   0   0   0   0   0\n",
      "    0   0   0   0   0   0   0   0   0   0   0   0   0   0   0   0   0   0\n",
      "    0   0   0   0   0   0   0   0   0   0   0   0   0   0   0   0   0   0\n",
      "    0   0   0   0   0   0   0   0   0   0   0   0   0   0   0   0   0   0\n",
      "    0   0   0   0   0   0   0   0   0   0   0   0   0   0   0   0   0   0\n",
      "    0   0   0   0   0   0   0   0   0   0   0   0   0   0   0   0   0   0\n",
      "    0   0   0   0   0   0   0   0   0   0   0   0   0   0   0   0   0   0\n",
      "    0   0   0   0   0   0   0   0   0   0   0   0   0   0   0   0   0   0\n",
      "    0   0   0   0   0   0   0   0   0   0   0   0   0   0   0   0   0   0\n",
      "    0   0   0   0   0   0   0   0   0   0   0   0   0   0   0   0   0   0\n",
      "    0   0   0   0   0   0   0   0   0   0   0   0   0   0   0   0   0   0\n",
      "    0   0   0   0   0   0   0   0   0   0   0   0   0   0   0   0   0   0\n",
      "    0   0   0   0   0   0   0   0   0   0   0   0   0   0   0   0   0   0\n",
      "    0   0   0   0   0   0   0   0   0   0   0   0   0   0   0   0   0   0\n",
      "    0   0   0   0   0   0   0   0   0   0   0   0   0   0   0   0   0   0\n",
      "    0   0   0   0   0   0   0   0   0   0   0   0   0   0   0   0   0   0\n",
      "    0   0   0   0   0   0   0   0   0   0   0   0   0   0   0   0   0   0\n",
      "    0   0   0   0   0   0   0   0   0   0   0   0   0   0   0 499  10 499\n",
      "   38 165 499 205  11 210  41 156 499  10 428 120  10  12  13 235  38 165\n",
      "  499   4 180 499 499  10 499 499 499 225 499 499   4  46 196 120  88 196\n",
      "   11 499 499 142   6   9 499  31 499  91 200 499  25  92]]\n"
     ]
    }
   ],
   "source": [
    "print(type(x_train))\n",
    "print(type(x_val))\n",
    "\n",
    "xTrain = np.array(x_train)\n",
    "print(type(xTrain))\n",
    "print(xTrain[0:1])"
   ]
  },
  {
   "cell_type": "code",
   "execution_count": 46,
   "metadata": {
    "colab": {
     "base_uri": "https://localhost:8080/"
    },
    "id": "LWRr3dJxJjlq",
    "outputId": "d67d17ea-9a95-4038-bb22-bbd6cb2a03d0"
   },
   "outputs": [
    {
     "name": "stdout",
     "output_type": "stream",
     "text": [
      "[array([285., 499., 499.,  13., 499., 499., 499., 499., 455., 499.,  31.,\n",
      "        499.,  56.,   5.,  13., 499., 499., 499.,   4.,  43., 499.,   4.,\n",
      "        222., 499., 332., 499., 499., 499., 499., 246., 499., 212.,  17.,\n",
      "        462., 499., 499., 499.,  38.,  70., 499., 212.,  70., 499., 499.,\n",
      "          4., 499., 499.])\n",
      " array([ 38.,   4., 499., 499.,  13., 499., 499., 499., 499., 455., 499.,\n",
      "         31., 499.,  56.,   5.,  13., 499., 499., 499., 285.,  43., 207.,\n",
      "        456., 499.,   4., 222., 499., 332., 499., 499., 499., 499., 246.,\n",
      "        499., 212.,  17., 462., 499., 499.,  70., 499., 499., 499.,  78.,\n",
      "        499.,  70., 499., 212., 499.,   4., 499., 251.,   7., 499.])\n",
      " array([285., 499., 499.,  13., 499., 499., 499., 499., 455., 499.,  31.,\n",
      "        499.,  56.,   5.,  13., 499., 499., 499.,   4.,  43., 207., 456.,\n",
      "        499.,   4., 222., 499., 332., 499., 499., 499., 499., 246., 499.,\n",
      "        212.,  17., 462., 499., 499., 499., 499., 499.,  78.,  38.,  70.,\n",
      "        499., 212.,  70., 499., 499.,   4., 499., 251.,   7., 499.])\n",
      " array([285., 499., 499.,  13., 499., 499., 499., 499., 455., 499.,  31.,\n",
      "        499.,  56.,   5.,  13., 499., 499., 499.,   4.,  43., 207., 456.,\n",
      "        499.,   4., 222., 499., 332., 499., 499., 499., 499., 246., 499.,\n",
      "        212.,  17., 462., 499., 499., 499., 499., 499.,  78.,  38.,  70.,\n",
      "        499., 212.,  70., 499., 499.,   4., 499., 251.,   7., 499.])\n",
      " array([285., 499., 499.,  13., 499., 499., 499., 499., 455., 499.,  31.,\n",
      "        499.,  56.,   5.,  13., 499., 499., 499.,   4.,  43., 207., 456.,\n",
      "        499.,   4., 222., 499., 332., 499., 499., 499., 499., 246., 499.,\n",
      "        212.,  17., 462., 499., 499., 499., 499., 499.,  78.,  38.,  70.,\n",
      "        499., 212.,  70., 499., 499.,   4., 499., 251.,   7., 499.])\n",
      " array([285., 499., 499.,  13., 499., 499., 499., 499., 455., 499.,  31.,\n",
      "        499.,  56.,   5.,  13., 499., 499., 499.,   4.,  43., 207., 456.,\n",
      "        499.,   4., 222., 499., 332., 499., 499., 499., 499., 246., 499.,\n",
      "        212.,  17., 462., 499., 499., 499., 499., 499.,  78.,  38.,  70.,\n",
      "        499., 212.,  70., 499., 499.,   4., 499., 251.,   7., 499.])\n",
      " array([285., 499., 499.,  13., 499., 499., 499., 499., 455., 499.,  31.,\n",
      "        499.,  56.,   5.,  13., 499., 499., 499.,   4.,  43., 207., 456.,\n",
      "        499.,   4., 222., 499., 332., 499., 499., 499., 499., 246., 499.,\n",
      "        212.,  17., 462., 499., 499., 499., 499., 499.,  78.,  38.,  70.,\n",
      "        499., 212.,  70., 499., 499.,   4., 499., 251.,   7., 499.])\n",
      " array([  4.,  11., 463.,  72.,  26., 499., 113., 499.,  30., 499.,  25.,\n",
      "        423., 499.,  85., 200.,  29., 125.,   4.,  10., 123., 217., 499.,\n",
      "        217., 111., 113., 116., 499.,   4.,  21.,  37.,   7.,   4., 499.,\n",
      "         31., 499., 145.,   3., 499.,  37.,   7.,   4., 499., 225., 499.,\n",
      "        146.,  22.,   2.])\n",
      " array([ 11., 463.,  72.,  26., 499., 499., 113., 499.,  30., 499.,   4.,\n",
      "        499.,  85., 200.,  29.,  25., 423.,   4.,  10., 123., 217., 499.,\n",
      "        217., 111., 113., 116., 499.,  37.,   7., 125., 499.,  31.,  21.,\n",
      "        145.,   3., 499.,  37.,   7.,   4., 499., 225., 499.,  22.,   2.])\n",
      " array([  4.,  11., 463.,  72.,  26., 499., 499., 113., 499.,  30., 499.,\n",
      "          4., 499.,  85.,  11.,  29.,  25., 423.,   4.,  10., 123., 217.,\n",
      "        499., 217., 111., 113., 116.,   4., 499.,  37.,   7., 125., 499.,\n",
      "         31.,  21., 145.,   3., 499.,  37.,   7.,   4., 499., 225., 499.,\n",
      "        146.,  22.,   2.])                                               ]\n",
      "<class 'numpy.ndarray'>\n"
     ]
    }
   ],
   "source": [
    "dict1 = np.array(dicList)\n",
    "print(dict1[:10])\n",
    "print(type(dict1))"
   ]
  },
  {
   "cell_type": "code",
   "execution_count": 47,
   "metadata": {
    "colab": {
     "base_uri": "https://localhost:8080/"
    },
    "id": "2-SMUi9-YQJG",
    "outputId": "f8fc2336-c228-471c-bf2c-386cc18c475c"
   },
   "outputs": [
    {
     "name": "stdout",
     "output_type": "stream",
     "text": [
      "<class 'numpy.ndarray'>\n"
     ]
    }
   ],
   "source": [
    "print(type(x_val))"
   ]
  },
  {
   "cell_type": "markdown",
   "metadata": {
    "id": "m5GoUWMs97Tc"
   },
   "source": [
    "#**6. 엔진**"
   ]
  },
  {
   "cell_type": "code",
   "execution_count": 48,
   "metadata": {
    "id": "AZxznHxU9_DT"
   },
   "outputs": [],
   "source": [
    "from tensorflow import keras\n",
    "model = keras.Sequential()\n",
    "model.add(keras.layers.Embedding(500, 16, input_length=500))\n",
    "model.add(keras.layers.LSTM(8, dropout=0.3, return_sequences=True)) \n",
    "model.add(keras.layers.LSTM(8, dropout=0.3))\n",
    "model.add(keras.layers.Dense(1, activation='sigmoid'))\n",
    "rmsprop = keras.optimizers.RMSprop(learning_rate=1e-4)"
   ]
  },
  {
   "cell_type": "code",
   "execution_count": 49,
   "metadata": {
    "colab": {
     "base_uri": "https://localhost:8080/"
    },
    "id": "VFU9xPvJ24ND",
    "outputId": "e314ad32-7722-4a93-9ef0-07e42dd01df1"
   },
   "outputs": [
    {
     "name": "stdout",
     "output_type": "stream",
     "text": [
      "<class 'numpy.ndarray'>\n",
      "4935\n"
     ]
    }
   ],
   "source": [
    "print(type(x_train))\n",
    "print(len(x_train))\n",
    "#x_train1=x_train.astype(float)\n",
    "#x_val=x_val.astype(float)"
   ]
  },
  {
   "cell_type": "code",
   "execution_count": 50,
   "metadata": {
    "colab": {
     "base_uri": "https://localhost:8080/"
    },
    "id": "3N_Sf8t5-Ba2",
    "outputId": "9269154a-f04d-4de7-ee81-b009821905f0"
   },
   "outputs": [
    {
     "name": "stdout",
     "output_type": "stream",
     "text": [
      "Epoch 1/50\n",
      "78/78 [==============================] - 21s 211ms/step - loss: 0.6918 - accuracy: 0.6332 - val_loss: 0.6909 - val_accuracy: 0.7538\n",
      "Epoch 2/50\n",
      "78/78 [==============================] - 16s 200ms/step - loss: 0.6893 - accuracy: 0.7684 - val_loss: 0.6878 - val_accuracy: 0.8254\n",
      "Epoch 3/50\n",
      "78/78 [==============================] - 16s 203ms/step - loss: 0.6851 - accuracy: 0.8326 - val_loss: 0.6825 - val_accuracy: 0.8443\n",
      "Epoch 4/50\n",
      "78/78 [==============================] - 15s 199ms/step - loss: 0.6777 - accuracy: 0.8424 - val_loss: 0.6733 - val_accuracy: 0.8571\n",
      "Epoch 5/50\n",
      "78/78 [==============================] - 15s 198ms/step - loss: 0.6644 - accuracy: 0.8598 - val_loss: 0.6564 - val_accuracy: 0.8558\n",
      "Epoch 6/50\n",
      "78/78 [==============================] - 15s 198ms/step - loss: 0.6411 - accuracy: 0.8616 - val_loss: 0.6263 - val_accuracy: 0.8788\n",
      "Epoch 7/50\n",
      "78/78 [==============================] - 15s 198ms/step - loss: 0.6009 - accuracy: 0.8967 - val_loss: 0.5776 - val_accuracy: 0.9027\n",
      "Epoch 8/50\n",
      "78/78 [==============================] - 15s 197ms/step - loss: 0.5438 - accuracy: 0.9281 - val_loss: 0.5145 - val_accuracy: 0.9392\n",
      "Epoch 9/50\n",
      "78/78 [==============================] - 16s 201ms/step - loss: 0.4797 - accuracy: 0.9483 - val_loss: 0.4496 - val_accuracy: 0.9601\n",
      "Epoch 10/50\n",
      "78/78 [==============================] - 15s 197ms/step - loss: 0.4187 - accuracy: 0.9621 - val_loss: 0.3962 - val_accuracy: 0.9659\n",
      "Epoch 11/50\n",
      "78/78 [==============================] - 15s 198ms/step - loss: 0.3740 - accuracy: 0.9664 - val_loss: 0.3575 - val_accuracy: 0.9635\n",
      "Epoch 12/50\n",
      "78/78 [==============================] - 15s 197ms/step - loss: 0.3311 - accuracy: 0.9690 - val_loss: 0.3094 - val_accuracy: 0.9699\n",
      "Epoch 13/50\n",
      "78/78 [==============================] - 15s 198ms/step - loss: 0.2910 - accuracy: 0.9716 - val_loss: 0.2751 - val_accuracy: 0.9713\n",
      "Epoch 14/50\n",
      "78/78 [==============================] - 16s 199ms/step - loss: 0.2618 - accuracy: 0.9724 - val_loss: 0.2535 - val_accuracy: 0.9726\n",
      "Epoch 15/50\n",
      "78/78 [==============================] - 15s 198ms/step - loss: 0.2399 - accuracy: 0.9777 - val_loss: 0.2331 - val_accuracy: 0.9757\n",
      "Epoch 16/50\n",
      "78/78 [==============================] - 15s 197ms/step - loss: 0.2257 - accuracy: 0.9785 - val_loss: 0.2200 - val_accuracy: 0.9797\n",
      "Epoch 17/50\n",
      "78/78 [==============================] - 15s 198ms/step - loss: 0.2156 - accuracy: 0.9781 - val_loss: 0.2102 - val_accuracy: 0.9801\n",
      "Epoch 18/50\n",
      "78/78 [==============================] - 15s 198ms/step - loss: 0.2010 - accuracy: 0.9832 - val_loss: 0.2025 - val_accuracy: 0.9770\n",
      "Epoch 19/50\n",
      "78/78 [==============================] - 16s 200ms/step - loss: 0.1882 - accuracy: 0.9854 - val_loss: 0.1889 - val_accuracy: 0.9804\n",
      "Epoch 20/50\n",
      "78/78 [==============================] - 15s 197ms/step - loss: 0.1771 - accuracy: 0.9856 - val_loss: 0.1771 - val_accuracy: 0.9807\n",
      "Epoch 21/50\n",
      "78/78 [==============================] - 16s 199ms/step - loss: 0.1642 - accuracy: 0.9870 - val_loss: 0.1618 - val_accuracy: 0.9872\n",
      "Epoch 22/50\n",
      "78/78 [==============================] - 15s 197ms/step - loss: 0.1554 - accuracy: 0.9878 - val_loss: 0.1545 - val_accuracy: 0.9851\n",
      "Epoch 23/50\n",
      "78/78 [==============================] - 15s 197ms/step - loss: 0.1452 - accuracy: 0.9893 - val_loss: 0.1484 - val_accuracy: 0.9838\n",
      "Epoch 24/50\n",
      "78/78 [==============================] - 15s 197ms/step - loss: 0.1454 - accuracy: 0.9852 - val_loss: 0.1448 - val_accuracy: 0.9831\n",
      "Epoch 25/50\n",
      "78/78 [==============================] - 15s 197ms/step - loss: 0.1313 - accuracy: 0.9907 - val_loss: 0.1360 - val_accuracy: 0.9841\n",
      "Epoch 26/50\n",
      "78/78 [==============================] - 15s 197ms/step - loss: 0.1257 - accuracy: 0.9901 - val_loss: 0.1254 - val_accuracy: 0.9882\n",
      "Epoch 27/50\n",
      "78/78 [==============================] - 15s 197ms/step - loss: 0.1167 - accuracy: 0.9921 - val_loss: 0.1159 - val_accuracy: 0.9892\n",
      "Epoch 28/50\n",
      "78/78 [==============================] - 15s 197ms/step - loss: 0.1088 - accuracy: 0.9935 - val_loss: 0.1106 - val_accuracy: 0.9895\n",
      "Epoch 29/50\n",
      "78/78 [==============================] - 15s 198ms/step - loss: 0.1041 - accuracy: 0.9931 - val_loss: 0.1004 - val_accuracy: 0.9946\n",
      "Epoch 30/50\n",
      "78/78 [==============================] - 15s 198ms/step - loss: 0.0981 - accuracy: 0.9937 - val_loss: 0.1048 - val_accuracy: 0.9885\n",
      "Epoch 31/50\n",
      "78/78 [==============================] - 15s 198ms/step - loss: 0.0925 - accuracy: 0.9937 - val_loss: 0.0883 - val_accuracy: 0.9966\n",
      "Epoch 32/50\n",
      "78/78 [==============================] - 15s 197ms/step - loss: 0.0876 - accuracy: 0.9949 - val_loss: 0.0883 - val_accuracy: 0.9932\n",
      "Epoch 33/50\n",
      "78/78 [==============================] - 15s 197ms/step - loss: 0.0837 - accuracy: 0.9945 - val_loss: 0.0862 - val_accuracy: 0.9912\n",
      "Epoch 34/50\n",
      "78/78 [==============================] - 15s 198ms/step - loss: 0.0782 - accuracy: 0.9955 - val_loss: 0.0813 - val_accuracy: 0.9912\n",
      "Epoch 35/50\n",
      "78/78 [==============================] - 15s 199ms/step - loss: 0.0745 - accuracy: 0.9957 - val_loss: 0.0776 - val_accuracy: 0.9919\n",
      "Epoch 36/50\n",
      "78/78 [==============================] - 16s 201ms/step - loss: 0.0691 - accuracy: 0.9959 - val_loss: 0.0663 - val_accuracy: 0.9983\n",
      "Epoch 37/50\n",
      "78/78 [==============================] - 15s 198ms/step - loss: 0.0655 - accuracy: 0.9968 - val_loss: 0.0721 - val_accuracy: 0.9919\n",
      "Epoch 38/50\n",
      "78/78 [==============================] - 15s 198ms/step - loss: 0.0619 - accuracy: 0.9972 - val_loss: 0.0691 - val_accuracy: 0.9919\n",
      "Epoch 39/50\n",
      "78/78 [==============================] - 15s 198ms/step - loss: 0.0584 - accuracy: 0.9968 - val_loss: 0.0653 - val_accuracy: 0.9922\n",
      "Epoch 40/50\n",
      "78/78 [==============================] - 15s 198ms/step - loss: 0.0564 - accuracy: 0.9970 - val_loss: 0.0521 - val_accuracy: 0.9990\n",
      "Epoch 41/50\n",
      "78/78 [==============================] - 15s 199ms/step - loss: 0.0525 - accuracy: 0.9978 - val_loss: 0.0494 - val_accuracy: 0.9990\n",
      "Epoch 42/50\n",
      "78/78 [==============================] - 15s 198ms/step - loss: 0.0493 - accuracy: 0.9974 - val_loss: 0.0533 - val_accuracy: 0.9953\n",
      "Epoch 43/50\n",
      "78/78 [==============================] - 15s 198ms/step - loss: 0.0464 - accuracy: 0.9986 - val_loss: 0.0517 - val_accuracy: 0.9949\n",
      "Epoch 44/50\n",
      "78/78 [==============================] - 15s 198ms/step - loss: 0.0444 - accuracy: 0.9974 - val_loss: 0.0519 - val_accuracy: 0.9939\n"
     ]
    }
   ],
   "source": [
    "model.compile(optimizer=rmsprop, loss='binary_crossentropy', metrics=['accuracy'])\n",
    "checkpoint_cb = keras.callbacks.ModelCheckpoint('best-model.h5')\n",
    "early_stopping_cb = keras.callbacks.EarlyStopping(patience=3, restore_best_weights=True)\n",
    "history = model.fit(x_train, y_train, epochs=50, batch_size=64, validation_data=(x_val, y_val), callbacks=[checkpoint_cb, early_stopping_cb])"
   ]
  },
  {
   "cell_type": "code",
   "execution_count": 51,
   "metadata": {
    "colab": {
     "base_uri": "https://localhost:8080/",
     "height": 279
    },
    "id": "m9RCkwlu-BTH",
    "outputId": "48fba0b5-a6fb-48ea-fb8c-8b7fa072962a"
   },
   "outputs": [
    {
     "data": {
      "image/png": "[encoded data removed]",
      "text/plain": [
       "<Figure size 640x480 with 1 Axes>"
      ]
     },
     "metadata": {},
     "output_type": "display_data"
    }
   ],
   "source": [
    "import matplotlib.pyplot as plt\n",
    "plt.plot(history.history['loss'])\n",
    "plt.plot(history.history['val_loss'])\n",
    "plt.xlabel('epoch')\n",
    "plt.ylabel('loss')\n",
    "plt.legend(['train','val'])\n",
    "plt.show()"
   ]
  },
  {
   "cell_type": "code",
   "execution_count": 53,
   "metadata": {},
   "outputs": [],
   "source": [
    "model.save('vpmodel1.h5')"
   ]
  },
  {
   "cell_type": "code",
   "execution_count": 55,
   "metadata": {
    "colab": {
     "base_uri": "https://localhost:8080/"
    },
    "id": "AGLl_Q08A7D_",
    "outputId": "03eae8f3-02e9-48fd-8f7a-8686e4ff2d55"
   },
   "outputs": [
    {
     "name": "stdout",
     "output_type": "stream",
     "text": [
      "62/62 [==============================] - 3s 39ms/step - loss: 0.0509 - accuracy: 0.9985\n"
     ]
    },
    {
     "data": {
      "text/plain": [
       "[0.050917476415634155, 0.9984802603721619]"
      ]
     },
     "execution_count": 55,
     "metadata": {},
     "output_type": "execute_result"
    }
   ],
   "source": [
    "rnn_model = keras.models.load_model('vpmodel1.h5')\n",
    "rnn_model.evaluate(x_test, y_test)"
   ]
  },
  {
   "cell_type": "code",
   "execution_count": 79,
   "metadata": {
    "scrolled": true
   },
   "outputs": [
    {
     "name": "stdout",
     "output_type": "stream",
     "text": [
      "62/62 [==============================] - 2s 39ms/step - loss: 0.0509 - accuracy: 0.9985\n",
      "\n",
      " 테스트 정확도: 0.9985\n"
     ]
    }
   ],
   "source": [
    "print(\"\\n 테스트 정확도: %.4f\" % (rnn_model.evaluate(x_test, y_test)[1]))"
   ]
  },
  {
   "cell_type": "code",
   "execution_count": 85,
   "metadata": {
    "id": "hzJ3aKjzA68R"
   },
   "outputs": [
    {
     "name": "stdout",
     "output_type": "stream",
     "text": [
      "1/1 [==============================] - 0s 38ms/step\n"
     ]
    }
   ],
   "source": [
    "preds = rnn_model.predict(x_test[0:1])"
   ]
  },
  {
   "cell_type": "code",
   "execution_count": 86,
   "metadata": {
    "colab": {
     "base_uri": "https://localhost:8080/"
    },
    "id": "FEzbK9yqiHmc",
    "outputId": "2a2acc42-ec28-497d-9b6a-118b7badb87b"
   },
   "outputs": [
    {
     "name": "stdout",
     "output_type": "stream",
     "text": [
      "0.0\n"
     ]
    }
   ],
   "source": [
    "print(y_test[1])"
   ]
  },
  {
   "cell_type": "code",
   "execution_count": 87,
   "metadata": {
    "colab": {
     "base_uri": "https://localhost:8080/"
    },
    "id": "yiB8IYK-A60J",
    "outputId": "11d99e8b-38a5-4089-e50b-dcc2c7260c20"
   },
   "outputs": [
    {
     "name": "stdout",
     "output_type": "stream",
     "text": [
      "[[0.05843782]]\n"
     ]
    }
   ],
   "source": [
    "print(preds)"
   ]
  },
  {
   "cell_type": "code",
   "execution_count": 88,
   "metadata": {
    "id": "jUSmVNAciErf"
   },
   "outputs": [
    {
     "name": "stdout",
     "output_type": "stream",
     "text": [
      "보이스피싱이 아닙니다. 보이스피싱일 확률 : [[5.8437824]]%\n"
     ]
    }
   ],
   "source": [
    "if(preds>=0.5):\n",
    "    print(f\"보이스피싱입니다. 주의하세요. 보이스피싱일 확률 : {preds*100}%\")\n",
    "else:\n",
    "    print(f\"보이스피싱이 아닙니다. 보이스피싱일 확률 : {preds*100}%\")"
   ]
  },
  {
   "cell_type": "markdown",
   "metadata": {
    "id": "VHeni6TIzYu_"
   },
   "source": [
    "#**vptest**"
   ]
  },
  {
   "cell_type": "code",
   "execution_count": 59,
   "metadata": {
    "id": "RrQUuKHVzaGI"
   },
   "outputs": [
    {
     "ename": "NameError",
     "evalue": "name 'padded2' is not defined",
     "output_type": "error",
     "traceback": [
      "\u001b[1;31m---------------------------------------------------------------------------\u001b[0m",
      "\u001b[1;31mNameError\u001b[0m                                 Traceback (most recent call last)",
      "Input \u001b[1;32mIn [59]\u001b[0m, in \u001b[0;36m<cell line: 1>\u001b[1;34m()\u001b[0m\n\u001b[1;32m----> 1\u001b[0m preds2 \u001b[38;5;241m=\u001b[39m rnn_model\u001b[38;5;241m.\u001b[39mpredict(\u001b[43mpadded2\u001b[49m[\u001b[38;5;241m0\u001b[39m:\u001b[38;5;241m1\u001b[39m])\n",
      "\u001b[1;31mNameError\u001b[0m: name 'padded2' is not defined"
     ]
    }
   ],
   "source": [
    "preds2 = rnn_model.predict(padded2[0:1])"
   ]
  },
  {
   "cell_type": "code",
   "execution_count": 60,
   "metadata": {
    "colab": {
     "base_uri": "https://localhost:8080/"
    },
    "id": "pYQyAvD7zcNA",
    "outputId": "dac171ee-cab8-4b4e-c93a-97753ffb56b9"
   },
   "outputs": [
    {
     "ename": "NameError",
     "evalue": "name 'preds2' is not defined",
     "output_type": "error",
     "traceback": [
      "\u001b[1;31m---------------------------------------------------------------------------\u001b[0m",
      "\u001b[1;31mNameError\u001b[0m                                 Traceback (most recent call last)",
      "Input \u001b[1;32mIn [60]\u001b[0m, in \u001b[0;36m<cell line: 1>\u001b[1;34m()\u001b[0m\n\u001b[1;32m----> 1\u001b[0m \u001b[38;5;28mprint\u001b[39m(\u001b[43mpreds2\u001b[49m)\n",
      "\u001b[1;31mNameError\u001b[0m: name 'preds2' is not defined"
     ]
    }
   ],
   "source": [
    "print(preds2)"
   ]
  },
  {
   "cell_type": "code",
   "execution_count": 107,
   "metadata": {
    "colab": {
     "base_uri": "https://localhost:8080/"
    },
    "id": "fBqT__DlxkC3",
    "outputId": "44731cc2-22c4-408f-92b1-37c7f1118285"
   },
   "outputs": [
    {
     "name": "stdout",
     "output_type": "stream",
     "text": [
      "보이스피싱이 아닙니다.\n"
     ]
    }
   ],
   "source": [
    "if(preds2>=0.5):\n",
    "  print(\"보이스피싱입니다. 주의하세요\")\n",
    "else:\n",
    "  print(\"보이스피싱이 아닙니다.\")"
   ]
  },
  {
   "cell_type": "code",
   "execution_count": 107,
   "metadata": {
    "id": "vOUeoX42xznl"
   },
   "outputs": [],
   "source": []
  }
 ],
 "metadata": {
  "accelerator": "GPU",
  "colab": {
   "authorship_tag": "ABX9TyP/yW4a4u+gn4lIW9RsP+Mt",
   "collapsed_sections": [],
   "name": "AllEdit2.ipynb",
   "provenance": []
  },
  "kernelspec": {
   "display_name": "Python 3 (ipykernel)",
   "language": "python",
   "name": "python3"
  },
  "language_info": {
   "codemirror_mode": {
    "name": "ipython",
    "version": 3
   },
   "file_extension": ".py",
   "mimetype": "text/x-python",
   "name": "python",
   "nbconvert_exporter": "python",
   "pygments_lexer": "ipython3",
   "version": "3.9.13"
  }
 },
 "nbformat": 4,
 "nbformat_minor": 1
}
